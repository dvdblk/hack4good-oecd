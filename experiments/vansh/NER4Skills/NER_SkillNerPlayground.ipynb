{
 "cells": [
  {
   "cell_type": "markdown",
   "metadata": {},
   "source": [
    "### Installations"
   ]
  },
  {
   "cell_type": "code",
   "execution_count": 1,
   "metadata": {},
   "outputs": [],
   "source": [
    "# pip install skillNer\n",
    "# python -m spacy download en_core_web_lg\n",
    "# Reference: https://github.com/AnasAito/SkillNER"
   ]
  },
  {
   "cell_type": "markdown",
   "metadata": {},
   "source": [
    "### Imports"
   ]
  },
  {
   "cell_type": "code",
   "execution_count": 22,
   "metadata": {},
   "outputs": [
    {
     "name": "stdout",
     "output_type": "stream",
     "text": [
      "loading full_matcher ...\n",
      "loading abv_matcher ...\n",
      "loading full_uni_matcher ...\n",
      "loading low_form_matcher ...\n",
      "loading token_matcher ...\n"
     ]
    }
   ],
   "source": [
    "# imports\n",
    "import spacy\n",
    "from spacy.matcher import PhraseMatcher\n",
    "\n",
    "# load default skills data base\n",
    "from skillNer.general_params import SKILL_DB\n",
    "# import skill extractor\n",
    "from skillNer.skill_extractor_class import SkillExtractor\n",
    "\n",
    "# import library to make dictionary look pretty\n",
    "import pprint\n",
    "\n",
    "# init params of skill extractor\n",
    "nlp = spacy.load(\"en_core_web_lg\")\n",
    "# init skill extractor\n",
    "skill_extractor = SkillExtractor(nlp, SKILL_DB, PhraseMatcher)\n",
    "\n",
    "# NOTE: Need to download skills_processed.json and keep it in the same directory\n",
    "with open('skills_processed.json', 'r+') as f:\n",
    "    SKILL_DB = json.load(f)\n",
    "\n",
    "import json\n",
    "\n",
    "import os"
   ]
  },
  {
   "cell_type": "markdown",
   "metadata": {},
   "source": [
    "### Skill Extraction"
   ]
  },
  {
   "cell_type": "markdown",
   "metadata": {},
   "source": [
    "#### Testing on toy text"
   ]
  },
  {
   "cell_type": "code",
   "execution_count": 3,
   "metadata": {},
   "outputs": [],
   "source": [
    "# # extract skills from job_description\n",
    "# job_description = \"\"\"\n",
    "# You are a Python developer with a solid experience in web development\n",
    "# and can manage projects. You quickly adapt to new environments\n",
    "# and speak fluently English and French\n",
    "# \"\"\"\n",
    "\n",
    "# annotations = skill_extractor.annotate(job_description)\n",
    "# # pprint.pprint(annotations)"
   ]
  },
  {
   "cell_type": "code",
   "execution_count": 14,
   "metadata": {},
   "outputs": [
    {
     "name": "stdout",
     "output_type": "stream",
     "text": [
      "JSON data saved to hard_skills.json\n"
     ]
    }
   ],
   "source": [
    "# hard_skill_data = {}\n",
    "\n",
    "# for type_matching, arr_skills in annotations[\"results\"].items():\n",
    "#             for skill in arr_skills:\n",
    "#                 skillType = SKILL_DB[skill[\"skill_id\"]][\"skill_type\"]\n",
    "\n",
    "#                 # Check if skillType is \"Hard Skill\"\n",
    "#                 if skillType == \"Hard Skill\":\n",
    "#                     skillNameInDoc = skill[\"doc_node_value\"]\n",
    "#                     skillNameInDB = SKILL_DB[skill[\"skill_id\"]][\"skill_name\"]\n",
    "#                     SkillScore = str(skill[\"score\"])\n",
    "                \n",
    "#                 # Create a nested dictionary for the current skill\n",
    "#                 skill_entry = {\n",
    "#                     \"skillNameInDoc\": skillNameInDoc,\n",
    "#                     \"SkillScore\": SkillScore\n",
    "#                 }\n",
    "                \n",
    "#                 # Add the skill entry to the hard_skill_data dictionary\n",
    "#                 hard_skill_data[skillNameInDB] = skill_entry\n",
    "\n",
    "# # Specify the file path to save the JSON data\n",
    "# json_file_path = \"hard_skills.json\"\n",
    "\n",
    "# # Save the hard_skill_data dictionary to the JSON file\n",
    "# with open(json_file_path, \"w\") as json_file:\n",
    "#     json.dump(hard_skill_data, json_file, indent=4)\n",
    "\n",
    "# print(f\"JSON data saved to {json_file_path}\")"
   ]
  },
  {
   "cell_type": "markdown",
   "metadata": {},
   "source": [
    "#### Testing on Docs"
   ]
  },
  {
   "cell_type": "markdown",
   "metadata": {},
   "source": [
    "##### Helper Functions"
   ]
  },
  {
   "cell_type": "code",
   "execution_count": 26,
   "metadata": {},
   "outputs": [],
   "source": [
    "def text_from_mmd(folder_path: str) -> (list, list):\n",
    "    # Create an empty list to store the file contents as strings\n",
    "    file_contents = []\n",
    "    file_names = []\n",
    "\n",
    "    # Iterate through all files in the folder\n",
    "    for filename in os.listdir(folder_path):\n",
    "        if filename.endswith(\".mmd\") and filename.startswith(\"UK\"):\n",
    "            file_names.append(filename)\n",
    "            file_path = os.path.join(folder_path, filename)\n",
    "            # Open and read the file as a string\n",
    "            with open(file_path, 'r', encoding='utf-8') as file:\n",
    "                file_content = file.read()\n",
    "                file_contents.append(file_content)\n",
    "\n",
    "    return (file_contents, file_names)\n",
    "\n",
    "def text_to_annotations(text: str) -> dict:\n",
    "    annotations = skill_extractor.annotate(text)\n",
    "    return annotations\n",
    "\n",
    "def annotation_to_dict(annotation: dict, skills_db: dict = SKILL_DB) -> dict:\n",
    "\n",
    "    hard_skill_data = {}\n",
    "    for type_matching, arr_skills in annotation[\"results\"].items():\n",
    "                for skill in arr_skills:\n",
    "                    skill_type = skills_db[skill[\"skill_id\"]][\"skill_type\"]\n",
    "\n",
    "                    # Check if skillType is \"Hard Skill\"\n",
    "                    if skill_type == \"Hard Skill\":\n",
    "                        skill_name_in_doc = skill[\"doc_node_value\"]\n",
    "                        skill_name_in_db = skills_db[skill[\"skill_id\"]][\"skill_name\"]\n",
    "                        skill_score = str(skill[\"score\"])\n",
    "                    \n",
    "                    if skill_name_in_db not in hard_skill_data:\n",
    "                         hard_skill_data[skill_name_in_db] = {}\n",
    "                    \n",
    "                    # Add the skill entry to the hard_skill_data dictionary\n",
    "                    hard_skill_data[skill_name_in_db][skill_name_in_doc] = skill_score\n",
    "\n",
    "    return hard_skill_data\n",
    "\n",
    "def save_as_json(dict_object: dict, json_file_path: str):\n",
    "    # Save the dictionary to the JSON file\n",
    "    with open(json_file_path, \"w\") as json_file:\n",
    "        json.dump(dict_object, json_file, indent=4)\n",
    "    # print(f\"JSON data saved to {json_file_path}\")"
   ]
  },
  {
   "cell_type": "markdown",
   "metadata": {},
   "source": [
    "##### Main"
   ]
  },
  {
   "cell_type": "code",
   "execution_count": 27,
   "metadata": {},
   "outputs": [],
   "source": [
    "# Specify the directory where the .mmd files are located\n",
    "input_folder_path = \"..\\\\..\\\\..\\\\data\\\\interim\\\\00-pdf2text\\\\nougat\\\\0.1.0-small\"\n",
    "output_folder_path = \"..\\\\..\\\\..\\\\experiments\\\\vansh\\\\skills\\\\\"\n",
    "\n",
    "print(\"Converting mmd to text\")\n",
    "(all_pdf_text, all_pdf_names) = text_from_mmd(input_folder_path)\n",
    "print(\"List of pdf texts generated\")\n",
    "for pdfs, names in zip(all_pdf_text, all_pdf_names):\n",
    "    print(\"Creating anotation for\", names)\n",
    "    annotation = text_to_annotations(pdfs)\n",
    "    print(\"Annotation created\")\n",
    "    print(\"Converting annotation to dictionary for hard skills\")\n",
    "    hard_skill_data = annotation_to_dict(annotation)\n",
    "    print(\"Converted to dictionary\")\n",
    "    print(\"Dumping as json file\")\n",
    "    output_file_path = output_folder_path+names+\".json\"\n",
    "    save_as_json(hard_skill_data, output_file_path)\n",
    "    print(output_file_path, \" created\")\n",
    "    print(\"##########################################\")"
   ]
  },
  {
   "cell_type": "code",
   "execution_count": null,
   "metadata": {},
   "outputs": [],
   "source": []
  }
 ],
 "metadata": {
  "kernelspec": {
   "display_name": "Python 3",
   "language": "python",
   "name": "python3"
  },
  "language_info": {
   "codemirror_mode": {
    "name": "ipython",
    "version": 3
   },
   "file_extension": ".py",
   "mimetype": "text/x-python",
   "name": "python",
   "nbconvert_exporter": "python",
   "pygments_lexer": "ipython3",
   "version": "3.11.4"
  }
 },
 "nbformat": 4,
 "nbformat_minor": 2
}
