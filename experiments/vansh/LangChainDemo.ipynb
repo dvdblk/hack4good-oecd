{
  "cells": [
    {
      "cell_type": "markdown",
      "metadata": {
        "id": "YdfV75P8P7Fy"
      },
      "source": [
        "# Installations\n",
        "This cells installs the relevant libraries required to run the analysis"
      ]
    },
    {
      "cell_type": "code",
      "execution_count": 1,
      "metadata": {
        "id": "Yq1wrbOLwR8w"
      },
      "outputs": [
        {
          "name": "stdout",
          "output_type": "stream",
          "text": [
            "Requirement already satisfied: langchain in /home/vgspec/miniconda3/envs/hack4good/lib/python3.11/site-packages (0.0.329)\n",
            "Requirement already satisfied: chromadb in /home/vgspec/miniconda3/envs/hack4good/lib/python3.11/site-packages (0.4.15)\n",
            "Requirement already satisfied: openai in /home/vgspec/miniconda3/envs/hack4good/lib/python3.11/site-packages (0.28.1)\n",
            "Requirement already satisfied: tiktoken in /home/vgspec/miniconda3/envs/hack4good/lib/python3.11/site-packages (0.5.1)\n",
            "Requirement already satisfied: lark in /home/vgspec/miniconda3/envs/hack4good/lib/python3.11/site-packages (1.1.8)\n",
            "Requirement already satisfied: faiss-cpu in /home/vgspec/miniconda3/envs/hack4good/lib/python3.11/site-packages (1.7.4)\n",
            "Requirement already satisfied: PyYAML>=5.3 in /home/vgspec/miniconda3/envs/hack4good/lib/python3.11/site-packages (from langchain) (6.0.1)\n",
            "Requirement already satisfied: SQLAlchemy<3,>=1.4 in /home/vgspec/miniconda3/envs/hack4good/lib/python3.11/site-packages (from langchain) (2.0.23)\n",
            "Requirement already satisfied: aiohttp<4.0.0,>=3.8.3 in /home/vgspec/miniconda3/envs/hack4good/lib/python3.11/site-packages (from langchain) (3.8.6)\n",
            "Requirement already satisfied: anyio<4.0 in /home/vgspec/miniconda3/envs/hack4good/lib/python3.11/site-packages (from langchain) (3.7.1)\n",
            "Requirement already satisfied: dataclasses-json<0.7,>=0.5.7 in /home/vgspec/miniconda3/envs/hack4good/lib/python3.11/site-packages (from langchain) (0.6.1)\n",
            "Requirement already satisfied: jsonpatch<2.0,>=1.33 in /home/vgspec/miniconda3/envs/hack4good/lib/python3.11/site-packages (from langchain) (1.33)\n",
            "Requirement already satisfied: langsmith<0.1.0,>=0.0.52 in /home/vgspec/miniconda3/envs/hack4good/lib/python3.11/site-packages (from langchain) (0.0.56)\n",
            "Requirement already satisfied: numpy<2,>=1 in /home/vgspec/miniconda3/envs/hack4good/lib/python3.11/site-packages (from langchain) (1.26.1)\n",
            "Requirement already satisfied: pydantic<3,>=1 in /home/vgspec/miniconda3/envs/hack4good/lib/python3.11/site-packages (from langchain) (2.4.2)\n",
            "Requirement already satisfied: requests<3,>=2 in /home/vgspec/miniconda3/envs/hack4good/lib/python3.11/site-packages (from langchain) (2.31.0)\n",
            "Requirement already satisfied: tenacity<9.0.0,>=8.1.0 in /home/vgspec/miniconda3/envs/hack4good/lib/python3.11/site-packages (from langchain) (8.2.3)\n",
            "Requirement already satisfied: chroma-hnswlib==0.7.3 in /home/vgspec/miniconda3/envs/hack4good/lib/python3.11/site-packages (from chromadb) (0.7.3)\n",
            "Requirement already satisfied: fastapi>=0.95.2 in /home/vgspec/miniconda3/envs/hack4good/lib/python3.11/site-packages (from chromadb) (0.104.1)\n",
            "Requirement already satisfied: uvicorn[standard]>=0.18.3 in /home/vgspec/miniconda3/envs/hack4good/lib/python3.11/site-packages (from chromadb) (0.23.2)\n",
            "Requirement already satisfied: posthog>=2.4.0 in /home/vgspec/miniconda3/envs/hack4good/lib/python3.11/site-packages (from chromadb) (3.0.2)\n",
            "Requirement already satisfied: typing-extensions>=4.5.0 in /home/vgspec/miniconda3/envs/hack4good/lib/python3.11/site-packages (from chromadb) (4.8.0)\n",
            "Requirement already satisfied: pulsar-client>=3.1.0 in /home/vgspec/miniconda3/envs/hack4good/lib/python3.11/site-packages (from chromadb) (3.3.0)\n",
            "Requirement already satisfied: onnxruntime>=1.14.1 in /home/vgspec/miniconda3/envs/hack4good/lib/python3.11/site-packages (from chromadb) (1.16.1)\n",
            "Requirement already satisfied: opentelemetry-api>=1.2.0 in /home/vgspec/miniconda3/envs/hack4good/lib/python3.11/site-packages (from chromadb) (1.20.0)\n",
            "Requirement already satisfied: opentelemetry-exporter-otlp-proto-grpc>=1.2.0 in /home/vgspec/miniconda3/envs/hack4good/lib/python3.11/site-packages (from chromadb) (1.20.0)\n",
            "Requirement already satisfied: opentelemetry-sdk>=1.2.0 in /home/vgspec/miniconda3/envs/hack4good/lib/python3.11/site-packages (from chromadb) (1.20.0)\n",
            "Requirement already satisfied: tokenizers>=0.13.2 in /home/vgspec/miniconda3/envs/hack4good/lib/python3.11/site-packages (from chromadb) (0.14.1)\n",
            "Requirement already satisfied: pypika>=0.48.9 in /home/vgspec/miniconda3/envs/hack4good/lib/python3.11/site-packages (from chromadb) (0.48.9)\n",
            "Requirement already satisfied: tqdm>=4.65.0 in /home/vgspec/miniconda3/envs/hack4good/lib/python3.11/site-packages (from chromadb) (4.66.1)\n",
            "Requirement already satisfied: overrides>=7.3.1 in /home/vgspec/miniconda3/envs/hack4good/lib/python3.11/site-packages (from chromadb) (7.4.0)\n",
            "Requirement already satisfied: importlib-resources in /home/vgspec/miniconda3/envs/hack4good/lib/python3.11/site-packages (from chromadb) (6.1.0)\n",
            "Requirement already satisfied: grpcio>=1.58.0 in /home/vgspec/miniconda3/envs/hack4good/lib/python3.11/site-packages (from chromadb) (1.59.2)\n",
            "Requirement already satisfied: bcrypt>=4.0.1 in /home/vgspec/miniconda3/envs/hack4good/lib/python3.11/site-packages (from chromadb) (4.0.1)\n",
            "Requirement already satisfied: typer>=0.9.0 in /home/vgspec/miniconda3/envs/hack4good/lib/python3.11/site-packages (from chromadb) (0.9.0)\n",
            "Requirement already satisfied: kubernetes>=28.1.0 in /home/vgspec/miniconda3/envs/hack4good/lib/python3.11/site-packages (from chromadb) (28.1.0)\n",
            "Requirement already satisfied: regex>=2022.1.18 in /home/vgspec/miniconda3/envs/hack4good/lib/python3.11/site-packages (from tiktoken) (2023.10.3)\n",
            "Requirement already satisfied: attrs>=17.3.0 in /home/vgspec/miniconda3/envs/hack4good/lib/python3.11/site-packages (from aiohttp<4.0.0,>=3.8.3->langchain) (23.1.0)\n",
            "Requirement already satisfied: charset-normalizer<4.0,>=2.0 in /home/vgspec/miniconda3/envs/hack4good/lib/python3.11/site-packages (from aiohttp<4.0.0,>=3.8.3->langchain) (3.3.2)\n",
            "Requirement already satisfied: multidict<7.0,>=4.5 in /home/vgspec/miniconda3/envs/hack4good/lib/python3.11/site-packages (from aiohttp<4.0.0,>=3.8.3->langchain) (6.0.4)\n",
            "Requirement already satisfied: async-timeout<5.0,>=4.0.0a3 in /home/vgspec/miniconda3/envs/hack4good/lib/python3.11/site-packages (from aiohttp<4.0.0,>=3.8.3->langchain) (4.0.3)\n",
            "Requirement already satisfied: yarl<2.0,>=1.0 in /home/vgspec/miniconda3/envs/hack4good/lib/python3.11/site-packages (from aiohttp<4.0.0,>=3.8.3->langchain) (1.9.2)\n",
            "Requirement already satisfied: frozenlist>=1.1.1 in /home/vgspec/miniconda3/envs/hack4good/lib/python3.11/site-packages (from aiohttp<4.0.0,>=3.8.3->langchain) (1.4.0)\n",
            "Requirement already satisfied: aiosignal>=1.1.2 in /home/vgspec/miniconda3/envs/hack4good/lib/python3.11/site-packages (from aiohttp<4.0.0,>=3.8.3->langchain) (1.3.1)\n",
            "Requirement already satisfied: idna>=2.8 in /home/vgspec/miniconda3/envs/hack4good/lib/python3.11/site-packages (from anyio<4.0->langchain) (3.4)\n",
            "Requirement already satisfied: sniffio>=1.1 in /home/vgspec/miniconda3/envs/hack4good/lib/python3.11/site-packages (from anyio<4.0->langchain) (1.3.0)\n",
            "Requirement already satisfied: marshmallow<4.0.0,>=3.18.0 in /home/vgspec/miniconda3/envs/hack4good/lib/python3.11/site-packages (from dataclasses-json<0.7,>=0.5.7->langchain) (3.20.1)\n",
            "Requirement already satisfied: typing-inspect<1,>=0.4.0 in /home/vgspec/miniconda3/envs/hack4good/lib/python3.11/site-packages (from dataclasses-json<0.7,>=0.5.7->langchain) (0.9.0)\n",
            "Requirement already satisfied: starlette<0.28.0,>=0.27.0 in /home/vgspec/miniconda3/envs/hack4good/lib/python3.11/site-packages (from fastapi>=0.95.2->chromadb) (0.27.0)\n",
            "Requirement already satisfied: jsonpointer>=1.9 in /home/vgspec/miniconda3/envs/hack4good/lib/python3.11/site-packages (from jsonpatch<2.0,>=1.33->langchain) (2.4)\n",
            "Requirement already satisfied: certifi>=14.05.14 in /home/vgspec/miniconda3/envs/hack4good/lib/python3.11/site-packages (from kubernetes>=28.1.0->chromadb) (2023.7.22)\n",
            "Requirement already satisfied: six>=1.9.0 in /home/vgspec/miniconda3/envs/hack4good/lib/python3.11/site-packages (from kubernetes>=28.1.0->chromadb) (1.16.0)\n",
            "Requirement already satisfied: python-dateutil>=2.5.3 in /home/vgspec/miniconda3/envs/hack4good/lib/python3.11/site-packages (from kubernetes>=28.1.0->chromadb) (2.8.2)\n",
            "Requirement already satisfied: google-auth>=1.0.1 in /home/vgspec/miniconda3/envs/hack4good/lib/python3.11/site-packages (from kubernetes>=28.1.0->chromadb) (2.23.4)\n",
            "Requirement already satisfied: websocket-client!=0.40.0,!=0.41.*,!=0.42.*,>=0.32.0 in /home/vgspec/miniconda3/envs/hack4good/lib/python3.11/site-packages (from kubernetes>=28.1.0->chromadb) (1.6.4)\n",
            "Requirement already satisfied: requests-oauthlib in /home/vgspec/miniconda3/envs/hack4good/lib/python3.11/site-packages (from kubernetes>=28.1.0->chromadb) (1.3.1)\n",
            "Requirement already satisfied: oauthlib>=3.2.2 in /home/vgspec/miniconda3/envs/hack4good/lib/python3.11/site-packages (from kubernetes>=28.1.0->chromadb) (3.2.2)\n",
            "Requirement already satisfied: urllib3<2.0,>=1.24.2 in /home/vgspec/miniconda3/envs/hack4good/lib/python3.11/site-packages (from kubernetes>=28.1.0->chromadb) (1.26.18)\n",
            "Requirement already satisfied: coloredlogs in /home/vgspec/miniconda3/envs/hack4good/lib/python3.11/site-packages (from onnxruntime>=1.14.1->chromadb) (15.0.1)\n",
            "Requirement already satisfied: flatbuffers in /home/vgspec/miniconda3/envs/hack4good/lib/python3.11/site-packages (from onnxruntime>=1.14.1->chromadb) (23.5.26)\n",
            "Requirement already satisfied: packaging in /home/vgspec/miniconda3/envs/hack4good/lib/python3.11/site-packages (from onnxruntime>=1.14.1->chromadb) (23.2)\n",
            "Requirement already satisfied: protobuf in /home/vgspec/miniconda3/envs/hack4good/lib/python3.11/site-packages (from onnxruntime>=1.14.1->chromadb) (4.25.0)\n",
            "Requirement already satisfied: sympy in /home/vgspec/miniconda3/envs/hack4good/lib/python3.11/site-packages (from onnxruntime>=1.14.1->chromadb) (1.12)\n",
            "Requirement already satisfied: deprecated>=1.2.6 in /home/vgspec/miniconda3/envs/hack4good/lib/python3.11/site-packages (from opentelemetry-api>=1.2.0->chromadb) (1.2.14)\n",
            "Requirement already satisfied: importlib-metadata<7.0,>=6.0 in /home/vgspec/miniconda3/envs/hack4good/lib/python3.11/site-packages (from opentelemetry-api>=1.2.0->chromadb) (6.8.0)\n",
            "Requirement already satisfied: backoff<3.0.0,>=1.10.0 in /home/vgspec/miniconda3/envs/hack4good/lib/python3.11/site-packages (from opentelemetry-exporter-otlp-proto-grpc>=1.2.0->chromadb) (2.2.1)\n",
            "Requirement already satisfied: googleapis-common-protos~=1.52 in /home/vgspec/miniconda3/envs/hack4good/lib/python3.11/site-packages (from opentelemetry-exporter-otlp-proto-grpc>=1.2.0->chromadb) (1.61.0)\n",
            "Requirement already satisfied: opentelemetry-exporter-otlp-proto-common==1.20.0 in /home/vgspec/miniconda3/envs/hack4good/lib/python3.11/site-packages (from opentelemetry-exporter-otlp-proto-grpc>=1.2.0->chromadb) (1.20.0)\n",
            "Requirement already satisfied: opentelemetry-proto==1.20.0 in /home/vgspec/miniconda3/envs/hack4good/lib/python3.11/site-packages (from opentelemetry-exporter-otlp-proto-grpc>=1.2.0->chromadb) (1.20.0)\n",
            "Requirement already satisfied: opentelemetry-semantic-conventions==0.41b0 in /home/vgspec/miniconda3/envs/hack4good/lib/python3.11/site-packages (from opentelemetry-sdk>=1.2.0->chromadb) (0.41b0)\n",
            "Requirement already satisfied: monotonic>=1.5 in /home/vgspec/miniconda3/envs/hack4good/lib/python3.11/site-packages (from posthog>=2.4.0->chromadb) (1.6)\n",
            "Requirement already satisfied: annotated-types>=0.4.0 in /home/vgspec/miniconda3/envs/hack4good/lib/python3.11/site-packages (from pydantic<3,>=1->langchain) (0.6.0)\n",
            "Requirement already satisfied: pydantic-core==2.10.1 in /home/vgspec/miniconda3/envs/hack4good/lib/python3.11/site-packages (from pydantic<3,>=1->langchain) (2.10.1)\n",
            "Requirement already satisfied: greenlet!=0.4.17 in /home/vgspec/miniconda3/envs/hack4good/lib/python3.11/site-packages (from SQLAlchemy<3,>=1.4->langchain) (3.0.1)\n",
            "Requirement already satisfied: huggingface_hub<0.18,>=0.16.4 in /home/vgspec/miniconda3/envs/hack4good/lib/python3.11/site-packages (from tokenizers>=0.13.2->chromadb) (0.17.3)\n",
            "Requirement already satisfied: click<9.0.0,>=7.1.1 in /home/vgspec/miniconda3/envs/hack4good/lib/python3.11/site-packages (from typer>=0.9.0->chromadb) (8.1.7)\n",
            "Requirement already satisfied: h11>=0.8 in /home/vgspec/miniconda3/envs/hack4good/lib/python3.11/site-packages (from uvicorn[standard]>=0.18.3->chromadb) (0.14.0)\n",
            "Requirement already satisfied: httptools>=0.5.0 in /home/vgspec/miniconda3/envs/hack4good/lib/python3.11/site-packages (from uvicorn[standard]>=0.18.3->chromadb) (0.6.1)\n",
            "Requirement already satisfied: python-dotenv>=0.13 in /home/vgspec/miniconda3/envs/hack4good/lib/python3.11/site-packages (from uvicorn[standard]>=0.18.3->chromadb) (1.0.0)\n",
            "Requirement already satisfied: uvloop!=0.15.0,!=0.15.1,>=0.14.0 in /home/vgspec/miniconda3/envs/hack4good/lib/python3.11/site-packages (from uvicorn[standard]>=0.18.3->chromadb) (0.19.0)\n",
            "Requirement already satisfied: watchfiles>=0.13 in /home/vgspec/miniconda3/envs/hack4good/lib/python3.11/site-packages (from uvicorn[standard]>=0.18.3->chromadb) (0.21.0)\n",
            "Requirement already satisfied: websockets>=10.4 in /home/vgspec/miniconda3/envs/hack4good/lib/python3.11/site-packages (from uvicorn[standard]>=0.18.3->chromadb) (12.0)\n",
            "Requirement already satisfied: wrapt<2,>=1.10 in /home/vgspec/miniconda3/envs/hack4good/lib/python3.11/site-packages (from deprecated>=1.2.6->opentelemetry-api>=1.2.0->chromadb) (1.15.0)\n",
            "Requirement already satisfied: cachetools<6.0,>=2.0.0 in /home/vgspec/miniconda3/envs/hack4good/lib/python3.11/site-packages (from google-auth>=1.0.1->kubernetes>=28.1.0->chromadb) (5.3.2)\n",
            "Requirement already satisfied: pyasn1-modules>=0.2.1 in /home/vgspec/miniconda3/envs/hack4good/lib/python3.11/site-packages (from google-auth>=1.0.1->kubernetes>=28.1.0->chromadb) (0.3.0)\n",
            "Requirement already satisfied: rsa<5,>=3.1.4 in /home/vgspec/miniconda3/envs/hack4good/lib/python3.11/site-packages (from google-auth>=1.0.1->kubernetes>=28.1.0->chromadb) (4.9)\n",
            "Requirement already satisfied: filelock in /home/vgspec/miniconda3/envs/hack4good/lib/python3.11/site-packages (from huggingface_hub<0.18,>=0.16.4->tokenizers>=0.13.2->chromadb) (3.13.1)\n",
            "Requirement already satisfied: fsspec in /home/vgspec/miniconda3/envs/hack4good/lib/python3.11/site-packages (from huggingface_hub<0.18,>=0.16.4->tokenizers>=0.13.2->chromadb) (2023.10.0)\n",
            "Requirement already satisfied: zipp>=0.5 in /home/vgspec/miniconda3/envs/hack4good/lib/python3.11/site-packages (from importlib-metadata<7.0,>=6.0->opentelemetry-api>=1.2.0->chromadb) (3.17.0)\n",
            "Requirement already satisfied: mypy-extensions>=0.3.0 in /home/vgspec/miniconda3/envs/hack4good/lib/python3.11/site-packages (from typing-inspect<1,>=0.4.0->dataclasses-json<0.7,>=0.5.7->langchain) (1.0.0)\n",
            "Requirement already satisfied: humanfriendly>=9.1 in /home/vgspec/miniconda3/envs/hack4good/lib/python3.11/site-packages (from coloredlogs->onnxruntime>=1.14.1->chromadb) (10.0)\n",
            "Requirement already satisfied: mpmath>=0.19 in /home/vgspec/miniconda3/envs/hack4good/lib/python3.11/site-packages (from sympy->onnxruntime>=1.14.1->chromadb) (1.3.0)\n",
            "Requirement already satisfied: pyasn1<0.6.0,>=0.4.6 in /home/vgspec/miniconda3/envs/hack4good/lib/python3.11/site-packages (from pyasn1-modules>=0.2.1->google-auth>=1.0.1->kubernetes>=28.1.0->chromadb) (0.5.0)\n"
          ]
        }
      ],
      "source": [
        "!pip install langchain chromadb openai tiktoken lark faiss-cpu"
      ]
    },
    {
      "cell_type": "markdown",
      "metadata": {
        "id": "XRU69muMwPXy"
      },
      "source": [
        "# Imports\n",
        "Now we import all the required libraries to our notebook. These are essentially functions that will be used throughout our code to run different parts of the analysis"
      ]
    },
    {
      "cell_type": "code",
      "execution_count": 2,
      "metadata": {
        "id": "a6OmYGTaxGNK"
      },
      "outputs": [
        {
          "name": "stderr",
          "output_type": "stream",
          "text": [
            "/home/vgspec/miniconda3/envs/hack4good/lib/python3.11/site-packages/tqdm/auto.py:21: TqdmWarning: IProgress not found. Please update jupyter and ipywidgets. See https://ipywidgets.readthedocs.io/en/stable/user_install.html\n",
            "  from .autonotebook import tqdm as notebook_tqdm\n"
          ]
        }
      ],
      "source": [
        "# from google.colab import files\n",
        "from langchain.text_splitter import RecursiveCharacterTextSplitter\n",
        "from langchain.llms import OpenAI, Ollama\n",
        "from langchain.retrievers.self_query.base import SelfQueryRetriever\n",
        "from langchain.chains.query_constructor.base import AttributeInfo\n",
        "from langchain.chains import RetrievalQA\n",
        "from langchain.chat_models import ChatOpenAI\n",
        "from langchain.embeddings import OpenAIEmbeddings\n",
        "from langchain.vectorstores import Chroma\n",
        "import re, os\n",
        "import openai, lark\n",
        "from langchain.document_loaders import TextLoader\n",
        "\n",
        "from operator import itemgetter\n",
        "from langchain.prompts import ChatPromptTemplate\n",
        "from langchain.schema.output_parser import StrOutputParser\n",
        "from langchain.schema.runnable import RunnablePassthrough, RunnableLambda\n",
        "from langchain.vectorstores import FAISS\n",
        "\n",
        "from transformers import XLMTokenizer, XLMWithLMHeadModel, AutoTokenizer, AutoModel\n",
        "from sentence_transformers import SentenceTransformer\n",
        "from torch import Tensor"
      ]
    },
    {
      "cell_type": "markdown",
      "metadata": {
        "id": "CNuKTP-pR8Zs"
      },
      "source": [
        "# File Upload\n",
        "Running this cell will allow you to upload a file from your local system to Colab for further analysis\n",
        "\n",
        "Click on `Choose Files` and find your file locally\n",
        "\n",
        "If you have multiple files, hold `ctrl`/`cmd` while selecting 2nd file and onwards"
      ]
    },
    {
      "cell_type": "code",
      "execution_count": null,
      "metadata": {
        "colab": {
          "base_uri": "https://localhost:8080/",
          "height": 90
        },
        "id": "MUBpmEF-xXyB",
        "outputId": "40101c33-056e-4192-aff8-7da89d158b81"
      },
      "outputs": [
        {
          "data": {
            "text/html": [
              "\n",
              "     <input type=\"file\" id=\"files-dee92d01-15a8-49e7-afe2-51cb714bcea0\" name=\"files[]\" multiple disabled\n",
              "        style=\"border:none\" />\n",
              "     <output id=\"result-dee92d01-15a8-49e7-afe2-51cb714bcea0\">\n",
              "      Upload widget is only available when the cell has been executed in the\n",
              "      current browser session. Please rerun this cell to enable.\n",
              "      </output>\n",
              "      <script>// Copyright 2017 Google LLC\n",
              "//\n",
              "// Licensed under the Apache License, Version 2.0 (the \"License\");\n",
              "// you may not use this file except in compliance with the License.\n",
              "// You may obtain a copy of the License at\n",
              "//\n",
              "//      http://www.apache.org/licenses/LICENSE-2.0\n",
              "//\n",
              "// Unless required by applicable law or agreed to in writing, software\n",
              "// distributed under the License is distributed on an \"AS IS\" BASIS,\n",
              "// WITHOUT WARRANTIES OR CONDITIONS OF ANY KIND, either express or implied.\n",
              "// See the License for the specific language governing permissions and\n",
              "// limitations under the License.\n",
              "\n",
              "/**\n",
              " * @fileoverview Helpers for google.colab Python module.\n",
              " */\n",
              "(function(scope) {\n",
              "function span(text, styleAttributes = {}) {\n",
              "  const element = document.createElement('span');\n",
              "  element.textContent = text;\n",
              "  for (const key of Object.keys(styleAttributes)) {\n",
              "    element.style[key] = styleAttributes[key];\n",
              "  }\n",
              "  return element;\n",
              "}\n",
              "\n",
              "// Max number of bytes which will be uploaded at a time.\n",
              "const MAX_PAYLOAD_SIZE = 100 * 1024;\n",
              "\n",
              "function _uploadFiles(inputId, outputId) {\n",
              "  const steps = uploadFilesStep(inputId, outputId);\n",
              "  const outputElement = document.getElementById(outputId);\n",
              "  // Cache steps on the outputElement to make it available for the next call\n",
              "  // to uploadFilesContinue from Python.\n",
              "  outputElement.steps = steps;\n",
              "\n",
              "  return _uploadFilesContinue(outputId);\n",
              "}\n",
              "\n",
              "// This is roughly an async generator (not supported in the browser yet),\n",
              "// where there are multiple asynchronous steps and the Python side is going\n",
              "// to poll for completion of each step.\n",
              "// This uses a Promise to block the python side on completion of each step,\n",
              "// then passes the result of the previous step as the input to the next step.\n",
              "function _uploadFilesContinue(outputId) {\n",
              "  const outputElement = document.getElementById(outputId);\n",
              "  const steps = outputElement.steps;\n",
              "\n",
              "  const next = steps.next(outputElement.lastPromiseValue);\n",
              "  return Promise.resolve(next.value.promise).then((value) => {\n",
              "    // Cache the last promise value to make it available to the next\n",
              "    // step of the generator.\n",
              "    outputElement.lastPromiseValue = value;\n",
              "    return next.value.response;\n",
              "  });\n",
              "}\n",
              "\n",
              "/**\n",
              " * Generator function which is called between each async step of the upload\n",
              " * process.\n",
              " * @param {string} inputId Element ID of the input file picker element.\n",
              " * @param {string} outputId Element ID of the output display.\n",
              " * @return {!Iterable<!Object>} Iterable of next steps.\n",
              " */\n",
              "function* uploadFilesStep(inputId, outputId) {\n",
              "  const inputElement = document.getElementById(inputId);\n",
              "  inputElement.disabled = false;\n",
              "\n",
              "  const outputElement = document.getElementById(outputId);\n",
              "  outputElement.innerHTML = '';\n",
              "\n",
              "  const pickedPromise = new Promise((resolve) => {\n",
              "    inputElement.addEventListener('change', (e) => {\n",
              "      resolve(e.target.files);\n",
              "    });\n",
              "  });\n",
              "\n",
              "  const cancel = document.createElement('button');\n",
              "  inputElement.parentElement.appendChild(cancel);\n",
              "  cancel.textContent = 'Cancel upload';\n",
              "  const cancelPromise = new Promise((resolve) => {\n",
              "    cancel.onclick = () => {\n",
              "      resolve(null);\n",
              "    };\n",
              "  });\n",
              "\n",
              "  // Wait for the user to pick the files.\n",
              "  const files = yield {\n",
              "    promise: Promise.race([pickedPromise, cancelPromise]),\n",
              "    response: {\n",
              "      action: 'starting',\n",
              "    }\n",
              "  };\n",
              "\n",
              "  cancel.remove();\n",
              "\n",
              "  // Disable the input element since further picks are not allowed.\n",
              "  inputElement.disabled = true;\n",
              "\n",
              "  if (!files) {\n",
              "    return {\n",
              "      response: {\n",
              "        action: 'complete',\n",
              "      }\n",
              "    };\n",
              "  }\n",
              "\n",
              "  for (const file of files) {\n",
              "    const li = document.createElement('li');\n",
              "    li.append(span(file.name, {fontWeight: 'bold'}));\n",
              "    li.append(span(\n",
              "        `(${file.type || 'n/a'}) - ${file.size} bytes, ` +\n",
              "        `last modified: ${\n",
              "            file.lastModifiedDate ? file.lastModifiedDate.toLocaleDateString() :\n",
              "                                    'n/a'} - `));\n",
              "    const percent = span('0% done');\n",
              "    li.appendChild(percent);\n",
              "\n",
              "    outputElement.appendChild(li);\n",
              "\n",
              "    const fileDataPromise = new Promise((resolve) => {\n",
              "      const reader = new FileReader();\n",
              "      reader.onload = (e) => {\n",
              "        resolve(e.target.result);\n",
              "      };\n",
              "      reader.readAsArrayBuffer(file);\n",
              "    });\n",
              "    // Wait for the data to be ready.\n",
              "    let fileData = yield {\n",
              "      promise: fileDataPromise,\n",
              "      response: {\n",
              "        action: 'continue',\n",
              "      }\n",
              "    };\n",
              "\n",
              "    // Use a chunked sending to avoid message size limits. See b/62115660.\n",
              "    let position = 0;\n",
              "    do {\n",
              "      const length = Math.min(fileData.byteLength - position, MAX_PAYLOAD_SIZE);\n",
              "      const chunk = new Uint8Array(fileData, position, length);\n",
              "      position += length;\n",
              "\n",
              "      const base64 = btoa(String.fromCharCode.apply(null, chunk));\n",
              "      yield {\n",
              "        response: {\n",
              "          action: 'append',\n",
              "          file: file.name,\n",
              "          data: base64,\n",
              "        },\n",
              "      };\n",
              "\n",
              "      let percentDone = fileData.byteLength === 0 ?\n",
              "          100 :\n",
              "          Math.round((position / fileData.byteLength) * 100);\n",
              "      percent.textContent = `${percentDone}% done`;\n",
              "\n",
              "    } while (position < fileData.byteLength);\n",
              "  }\n",
              "\n",
              "  // All done.\n",
              "  yield {\n",
              "    response: {\n",
              "      action: 'complete',\n",
              "    }\n",
              "  };\n",
              "}\n",
              "\n",
              "scope.google = scope.google || {};\n",
              "scope.google.colab = scope.google.colab || {};\n",
              "scope.google.colab._files = {\n",
              "  _uploadFiles,\n",
              "  _uploadFilesContinue,\n",
              "};\n",
              "})(self);\n",
              "</script> "
            ],
            "text/plain": [
              "<IPython.core.display.HTML object>"
            ]
          },
          "metadata": {},
          "output_type": "display_data"
        },
        {
          "name": "stdout",
          "output_type": "stream",
          "text": [
            "Saving UK_08.txt to UK_08.txt\n",
            "User uploaded file \"UK_08.txt\" with length 35668 bytes\n"
          ]
        }
      ],
      "source": [
        "uploaded = files.upload()\n",
        "\n",
        "for fn in uploaded.keys():\n",
        "  print('User uploaded file \"{name}\" with length {length} bytes'.format(\n",
        "      name=fn, length=len(uploaded[fn])))"
      ]
    },
    {
      "cell_type": "markdown",
      "metadata": {
        "id": "7rvunhzZUCPa"
      },
      "source": [
        "# OpenAI API Key\n",
        "Enter your private OpenAI API Key. Be sure to not make these public"
      ]
    },
    {
      "cell_type": "code",
      "execution_count": 4,
      "metadata": {
        "id": "oIGTys4P4JQu"
      },
      "outputs": [],
      "source": [
        "OPENAI_API_KEY = \"sk-************************************************\"\n",
        "openai.api_key = OPENAI_API_KEY\n",
        "os.environ[\"OPENAI_API_KEY\"] = OPENAI_API_KEY"
      ]
    },
    {
      "cell_type": "markdown",
      "metadata": {
        "id": "r1RJ1FCYwSVq"
      },
      "source": [
        "# Set Up\n",
        "This is where we specify the chunk size (i.e. how much context from the document would go into _chatGPT_ that is similar to your query)"
      ]
    },
    {
      "cell_type": "markdown",
      "metadata": {
        "id": "L9QpuSKMUxkF"
      },
      "source": [
        "## Define our text splitter"
      ]
    },
    {
      "cell_type": "code",
      "execution_count": 3,
      "metadata": {
        "id": "m94CwGUjuywy"
      },
      "outputs": [],
      "source": [
        "# # Update this for multiple files (Only works on Colab)\n",
        "# for fn in uploaded.keys():\n",
        "#     loader = TextLoader(fn)\n",
        "\n",
        "# loader = TextLoader(\"./../../data/interim/01-clean/UK_01.txt\")\n",
        "loader = TextLoader(\"../../data/interim/00-pdf2text/nougat/0.1.0-small/UK_01.mmd\")\n",
        "\n",
        "documents = loader.load()\n",
        "\n",
        "chunk_size = 2000\n",
        "chunk_overlap = 50\n",
        "text_splitter = RecursiveCharacterTextSplitter(\n",
        "    chunk_size=chunk_size, chunk_overlap=chunk_overlap\n",
        ")\n",
        "all_splits = text_splitter.split_documents(documents)"
      ]
    },
    {
      "cell_type": "markdown",
      "metadata": {
        "id": "3DpAosVJ8-5B"
      },
      "source": [
        "# Simplest Implementation"
      ]
    },
    {
      "cell_type": "markdown",
      "metadata": {},
      "source": [
        "## Multi-lingual Embeddings\n",
        "From HuggingFace (Instead of OpenAI's)"
      ]
    },
    {
      "cell_type": "code",
      "execution_count": 5,
      "metadata": {},
      "outputs": [
        {
          "name": "stderr",
          "output_type": "stream",
          "text": [
            "Downloading model.safetensors: 100%|██████████| 471M/471M [00:53<00:00, 8.83MB/s]\n"
          ]
        },
        {
          "ename": "",
          "evalue": "",
          "output_type": "error",
          "traceback": [
            "\u001b[1;31mThe Kernel crashed while executing code in the the current cell or a previous cell. Please review the code in the cell(s) to identify a possible cause of the failure. Click <a href='https://aka.ms/vscodeJupyterKernelCrash'>here</a> for more info. View Jupyter <a href='command:jupyter.viewOutput'>log</a> for further details."
          ]
        }
      ],
      "source": [
        "#### Use Hf for embeddings instead of hkunlp instructor large\n",
        "\n",
        "input_texts = [all_splits[i].page_content for i in range(len(all_splits))]\n",
        "\n",
        "### intfloat/multilingual-e5\n",
        "def average_pool(last_hidden_states: Tensor,\n",
        "                 attention_mask: Tensor) -> Tensor:\n",
        "    last_hidden = last_hidden_states.masked_fill(~attention_mask[..., None].bool(), 0.0)\n",
        "    return last_hidden.sum(dim=1) / attention_mask.sum(dim=1)[..., None]\n",
        "\n",
        "# ## large\n",
        "# tokenizer = AutoTokenizer.from_pretrained('intfloat/multilingual-e5-large')\n",
        "# model = AutoModel.from_pretrained('intfloat/multilingual-e5-large')\n",
        "\n",
        "# ## base\n",
        "# tokenizer = AutoTokenizer.from_pretrained('intfloat/multilingual-e5-base')\n",
        "# model = AutoModel.from_pretrained('intfloat/multilingual-e5-base')\n",
        "\n",
        "## small\n",
        "tokenizer = AutoTokenizer.from_pretrained('intfloat/multilingual-e5-small')\n",
        "model = AutoModel.from_pretrained('intfloat/multilingual-e5-small')\n",
        "\n",
        "# ### sentence-transformers/paraphrase-multilingual-MiniLM-L12-v2\n",
        "# model = SentenceTransformer('sentence-transformers/paraphrase-multilingual-MiniLM-L12-v2')\n",
        "# embeddings = model.encode(input_texts)\n",
        "\n",
        "\n",
        "batch_dict = tokenizer(input_texts, max_length=512, padding=True, truncation=True, return_tensors='pt')\n",
        "outputs = model(**batch_dict)\n",
        "embeddings = average_pool(outputs.last_hidden_state, batch_dict['attention_mask'])\n",
        "embeddings = F.normalize(embeddings, p=2, dim=1)"
      ]
    },
    {
      "cell_type": "markdown",
      "metadata": {},
      "source": [
        "## Hkunlp Embeddings\n",
        "Instructor-large (Instead of OpenAI's)"
      ]
    },
    {
      "cell_type": "code",
      "execution_count": null,
      "metadata": {},
      "outputs": [],
      "source": [
        "embeddings = HuggingFaceInstructEmbeddings(model_name=\"hkunlp/instructor-large\")"
      ]
    },
    {
      "cell_type": "markdown",
      "metadata": {},
      "source": [
        "## Rest of the pipeline"
      ]
    },
    {
      "cell_type": "code",
      "execution_count": null,
      "metadata": {
        "id": "yBTiHZJ69Dm1"
      },
      "outputs": [],
      "source": [
        "vectorstore = FAISS.from_documents(all_splits, embedding=OpenAIEmbeddings())\n",
        "retriever = vectorstore.as_retriever(search_kwargs={\"k\": 10})\n",
        "llm = ChatOpenAI(model_name=\"gpt-3.5-turbo\", temperature=0)"
      ]
    },
    {
      "cell_type": "code",
      "execution_count": null,
      "metadata": {
        "id": "Arnb-ITj-HRE"
      },
      "outputs": [],
      "source": [
        "query = \"Create a list of all policy initiatives or programs mentioned in the document\""
      ]
    },
    {
      "cell_type": "code",
      "execution_count": null,
      "metadata": {
        "colab": {
          "base_uri": "https://localhost:8080/",
          "height": 88
        },
        "id": "rnM9-1y09Nej",
        "outputId": "b436e6e3-577a-497c-d0ad-a121ba37e8f7"
      },
      "outputs": [
        {
          "data": {
            "application/vnd.google.colaboratory.intrinsic+json": {
              "type": "string"
            },
            "text/plain": [
              "\"1. Action to improve basic skills\\n2. Creation of a new system of technical education\\n3. Addressing STEM shortages\\n4. Identifying and addressing sector-specific skills shortages\\n5. High quality careers information, advice, and guidance\\n6. Testing new approaches to lifelong learning\\n7. Institute for Apprenticeships and Technical Education\\n8. Development of an Industrial Strategy\\n9. British Council's support for skills development\\n10. UK Skills Partnership\\n11. Funding mechanisms for TVET\\n12. '15 Routes' for technical and vocational education\""
            ]
          },
          "execution_count": 25,
          "metadata": {},
          "output_type": "execute_result"
        }
      ],
      "source": [
        "qa_chain = RetrievalQA.from_chain_type(llm, retriever=retriever)\n",
        "qa_chain.run(query)"
      ]
    },
    {
      "cell_type": "code",
      "execution_count": null,
      "metadata": {
        "id": "mteygVE-edY0"
      },
      "outputs": [],
      "source": []
    }
  ],
  "metadata": {
    "colab": {
      "gpuType": "T4",
      "provenance": []
    },
    "kernelspec": {
      "display_name": "Python 3",
      "name": "python3"
    },
    "language_info": {
      "codemirror_mode": {
        "name": "ipython",
        "version": 3
      },
      "file_extension": ".py",
      "mimetype": "text/x-python",
      "name": "python",
      "nbconvert_exporter": "python",
      "pygments_lexer": "ipython3",
      "version": "3.11.5"
    }
  },
  "nbformat": 4,
  "nbformat_minor": 0
}
