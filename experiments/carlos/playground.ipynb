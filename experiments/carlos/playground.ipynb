{
 "cells": [
  {
   "cell_type": "code",
   "execution_count": 1,
   "metadata": {},
   "outputs": [],
   "source": [
    "import pypdf\n",
    "import numpy as np\n",
    "import os\n",
    "from tqdm import tqdm\n",
    "import json"
   ]
  },
  {
   "cell_type": "code",
   "execution_count": 8,
   "metadata": {},
   "outputs": [
    {
     "name": "stdout",
     "output_type": "stream",
     "text": [
      "Done with file: DEU_01.pdf\n",
      "Done with file: DEU_02.pdf\n",
      "Done with file: DEU_03.pdf\n",
      "Done with file: DEU_04.pdf\n",
      "Done with file: DEU_05.pdf\n",
      "Done with file: DEU_06.pdf\n",
      "Done with file: DEU_07.pdf\n",
      "Done with file: DEU_08.pdf\n",
      "Done with file: DEU_09.pdf\n",
      "Done with file: DEU_10.pdf\n",
      "Done with file: DEU_11.pdf\n",
      "Done with file: DEU_12.pdf\n"
     ]
    },
    {
     "name": "stderr",
     "output_type": "stream",
     "text": [
      "EOF marker not found\n"
     ]
    },
    {
     "name": "stdout",
     "output_type": "stream",
     "text": [
      "Error loading file: DEU_13.pdf\n",
      "Done with file: DEU_14.pdf\n",
      "Done with file: DEU_15.pdf\n",
      "Done with file: DEU_16.pdf\n",
      "Done with file: DEU_17.pdf\n",
      "Done with file: DEU_18.pdf\n",
      "Done with file: DEU_20.pdf\n",
      "Done with file: DEU_21.pdf\n",
      "Error loading file: DEU_22.pdf\n",
      "Done with file: DEU_23.pdf\n"
     ]
    },
    {
     "name": "stderr",
     "output_type": "stream",
     "text": [
      "Invalid parent xref., rebuild xref\n"
     ]
    },
    {
     "name": "stdout",
     "output_type": "stream",
     "text": [
      "Done with file: DEU_24.pdf\n"
     ]
    },
    {
     "name": "stderr",
     "output_type": "stream",
     "text": [
      "EOF marker not found\n"
     ]
    },
    {
     "name": "stdout",
     "output_type": "stream",
     "text": [
      "Error loading file: DEU_25.pdf\n",
      "Done with file: DEU_26.pdf\n",
      "Done with file: DEU_27.pdf\n",
      "Done with file: DEU_28.pdf\n",
      "Done with file: DEU_29.pdf\n",
      "Done with file: DEU_30.pdf\n",
      "Done with file: DEU_31.pdf\n",
      "Done with file: DEU_32.pdf\n",
      "Done with file: DEU_33.pdf\n",
      "Done with file: DEU_34.pdf\n",
      "Done with file: DEU_35.pdf\n",
      "Done with file: DEU_36.pdf\n",
      "Done with file: DEU_37.pdf\n",
      "Done with file: DEU_38.pdf\n",
      "Done with file: DEU_39.pdf\n",
      "Done with file: DEU_40.pdf\n"
     ]
    },
    {
     "name": "stderr",
     "output_type": "stream",
     "text": [
      "Invalid parent xref., rebuild xref\n"
     ]
    },
    {
     "name": "stdout",
     "output_type": "stream",
     "text": [
      "Done with file: DEU_41.pdf\n",
      "Done with file: DEU_42.pdf\n",
      "Done with file: DEU_43.pdf\n",
      "Done with file: DEU_44.pdf\n",
      "Done with file: DEU_45.pdf\n",
      "Done with file: UK_01.pdf\n",
      "Done with file: UK_02.pdf\n",
      "Done with file: UK_03.pdf\n",
      "Done with file: UK_04.pdf\n",
      "Error loading file: UK_05.pdf\n",
      "Done with file: UK_07.pdf\n",
      "Done with file: UK_08.pdf\n",
      "Done with file: UK_09.pdf\n",
      "Done with file: UK_10.pdf\n",
      "Done with file: UK_100.pdf\n",
      "Done with file: UK_101.pdf\n",
      "Done with file: UK_102.pdf\n",
      "Done with file: UK_106.pdf\n",
      "Done with file: UK_11.pdf\n",
      "Done with file: UK_112.pdf\n",
      "Done with file: UK_113.pdf\n",
      "Done with file: UK_116.pdf\n",
      "Done with file: UK_117.pdf\n",
      "Done with file: UK_118.pdf\n",
      "Done with file: UK_119.pdf\n",
      "Done with file: UK_12.pdf\n",
      "Done with file: UK_120.pdf\n",
      "Done with file: UK_121.pdf\n",
      "Done with file: UK_122.pdf\n",
      "Done with file: UK_123.pdf\n"
     ]
    },
    {
     "name": "stderr",
     "output_type": "stream",
     "text": [
      "Invalid parent xref., rebuild xref\n"
     ]
    },
    {
     "name": "stdout",
     "output_type": "stream",
     "text": [
      "Done with file: UK_124.pdf\n",
      "Done with file: UK_13.pdf\n",
      "Done with file: UK_14.pdf\n",
      "Done with file: UK_15.pdf\n",
      "Done with file: UK_16.pdf\n",
      "Done with file: UK_17.pdf\n",
      "Done with file: UK_18.pdf\n",
      "Done with file: UK_19.pdf\n",
      "Done with file: UK_20.pdf\n",
      "Done with file: UK_21.pdf\n",
      "Done with file: UK_22.pdf\n",
      "Done with file: UK_23.pdf\n",
      "Done with file: UK_24.pdf\n",
      "Done with file: UK_25.pdf\n",
      "Done with file: UK_26.pdf\n",
      "Done with file: UK_27.pdf\n",
      "Done with file: UK_28.pdf\n"
     ]
    },
    {
     "name": "stderr",
     "output_type": "stream",
     "text": [
      "Invalid parent xref., rebuild xref\n"
     ]
    },
    {
     "name": "stdout",
     "output_type": "stream",
     "text": [
      "Done with file: UK_29.pdf\n",
      "Done with file: UK_30.pdf\n",
      "Done with file: UK_31.pdf\n",
      "Done with file: UK_32.pdf\n",
      "Error loading file: UK_33.pdf\n",
      "Done with file: UK_34.pdf\n",
      "Done with file: UK_35.pdf\n",
      "Done with file: UK_36.pdf\n"
     ]
    },
    {
     "name": "stderr",
     "output_type": "stream",
     "text": [
      "EOF marker not found\n",
      "Invalid parent xref., rebuild xref\n"
     ]
    },
    {
     "name": "stdout",
     "output_type": "stream",
     "text": [
      "Error loading file: UK_37.pdf\n",
      "Done with file: UK_38.pdf\n",
      "Done with file: UK_39.pdf\n",
      "Done with file: UK_40.pdf\n",
      "Done with file: UK_41.pdf\n",
      "Done with file: UK_42.pdf\n",
      "Done with file: UK_43.pdf\n",
      "Done with file: UK_44.pdf\n",
      "Done with file: UK_45.pdf\n",
      "Done with file: UK_46.pdf\n",
      "Done with file: UK_47.pdf\n",
      "Done with file: UK_48.pdf\n",
      "Done with file: UK_49.pdf\n",
      "Done with file: UK_50.pdf\n"
     ]
    },
    {
     "name": "stderr",
     "output_type": "stream",
     "text": [
      "Invalid parent xref., rebuild xref\n"
     ]
    },
    {
     "name": "stdout",
     "output_type": "stream",
     "text": [
      "Done with file: UK_51.pdf\n",
      "Done with file: UK_52.pdf\n",
      "Done with file: UK_53.pdf\n",
      "Done with file: UK_54.pdf\n",
      "Done with file: UK_55.pdf\n",
      "Done with file: UK_56.pdf\n",
      "Done with file: UK_57.pdf\n",
      "Done with file: UK_58.pdf\n",
      "Done with file: UK_59.pdf\n",
      "Done with file: UK_60.pdf\n",
      "Done with file: UK_61.pdf\n",
      "Done with file: UK_62.pdf\n",
      "Done with file: UK_63.pdf\n",
      "Done with file: UK_64.pdf\n",
      "Done with file: UK_65.pdf\n",
      "Done with file: UK_66.pdf\n"
     ]
    },
    {
     "name": "stderr",
     "output_type": "stream",
     "text": [
      "Invalid parent xref., rebuild xref\n"
     ]
    },
    {
     "name": "stdout",
     "output_type": "stream",
     "text": [
      "Done with file: UK_67.pdf\n",
      "Done with file: UK_68.pdf\n",
      "Done with file: UK_69.pdf\n",
      "Done with file: UK_70.pdf\n",
      "Done with file: UK_71.pdf\n",
      "Done with file: UK_72.pdf\n",
      "Done with file: UK_73.pdf\n",
      "Done with file: UK_74.pdf\n",
      "Done with file: UK_78.pdf\n",
      "Done with file: UK_79.pdf\n",
      "Done with file: UK_81.pdf\n",
      "Done with file: UK_82.pdf\n",
      "Done with file: UK_83.pdf\n",
      "Done with file: UK_84.pdf\n"
     ]
    },
    {
     "name": "stderr",
     "output_type": "stream",
     "text": [
      "Invalid parent xref., rebuild xref\n"
     ]
    },
    {
     "name": "stdout",
     "output_type": "stream",
     "text": [
      "Done with file: UK_85.pdf\n",
      "Done with file: UK_86.pdf\n",
      "Done with file: UK_87.pdf\n",
      "Done with file: UK_88.pdf\n",
      "Done with file: UK_89.pdf\n",
      "Done with file: UK_90.pdf\n",
      "Done with file: UK_91.pdf\n",
      "Done with file: UK_92.pdf\n",
      "Done with file: UK_93.pdf\n",
      "Done with file: UK_94.pdf\n",
      "Done with file: UK_97.pdf\n",
      "Done with file: UK_99.pdf\n"
     ]
    }
   ],
   "source": [
    "files = os.listdir(\"./OECD/data/pdf_files\")\n",
    "\n",
    "word_count = []\n",
    "working_files = []\n",
    "broken_files = []\n",
    "\n",
    "for f in files:\n",
    "    try:\n",
    "        reader = pypdf.PdfReader(\"./OECD/data/pdf_files/\" + f)\n",
    "        # print(\"Loaded file: \" + f, end=\"\\r\", flush=True)\n",
    "\n",
    "        # page_text = \"\"\n",
    "        # for page in reader.pages:\n",
    "        #     page_text += page.extract_text()\n",
    "\n",
    "        working_files.append(f)\n",
    "        print(\"Done with file: \" + f)\n",
    "        \n",
    "    except:\n",
    "        print(\"Error loading file: \" + f)\n",
    "        word_count.append(np.nan)\n",
    "        broken_files.append(f)\n",
    "        continue\n",
    "    \n",
    "    # word_count.append(len(page_text.split()))\n"
   ]
  },
  {
   "cell_type": "code",
   "execution_count": 7,
   "metadata": {},
   "outputs": [],
   "source": [
    "with open(\"working_files.json\", 'w') as file:\n",
    "    json.dump(working_files, file)\n",
    "\n",
    "with open(\"broken_files.json\", 'w') as file:\n",
    "    json.dump(broken_files, file)"
   ]
  },
  {
   "cell_type": "code",
   "execution_count": 5,
   "metadata": {},
   "outputs": [
    {
     "ename": "PDFInfoNotInstalledError",
     "evalue": "Unable to get page count. Is poppler installed and in PATH?",
     "output_type": "error",
     "traceback": [
      "\u001b[1;31m---------------------------------------------------------------------------\u001b[0m",
      "\u001b[1;31mFileNotFoundError\u001b[0m                         Traceback (most recent call last)",
      "File \u001b[1;32mc:\\Users\\Carlos\\miniconda3\\envs\\h4g\\Lib\\site-packages\\pdf2image\\pdf2image.py:568\u001b[0m, in \u001b[0;36mpdfinfo_from_path\u001b[1;34m(pdf_path, userpw, ownerpw, poppler_path, rawdates, timeout)\u001b[0m\n\u001b[0;32m    567\u001b[0m     env[\u001b[39m\"\u001b[39m\u001b[39mLD_LIBRARY_PATH\u001b[39m\u001b[39m\"\u001b[39m] \u001b[39m=\u001b[39m poppler_path \u001b[39m+\u001b[39m \u001b[39m\"\u001b[39m\u001b[39m:\u001b[39m\u001b[39m\"\u001b[39m \u001b[39m+\u001b[39m env\u001b[39m.\u001b[39mget(\u001b[39m\"\u001b[39m\u001b[39mLD_LIBRARY_PATH\u001b[39m\u001b[39m\"\u001b[39m, \u001b[39m\"\u001b[39m\u001b[39m\"\u001b[39m)\n\u001b[1;32m--> 568\u001b[0m proc \u001b[39m=\u001b[39m Popen(command, env\u001b[39m=\u001b[39;49menv, stdout\u001b[39m=\u001b[39;49mPIPE, stderr\u001b[39m=\u001b[39;49mPIPE)\n\u001b[0;32m    570\u001b[0m \u001b[39mtry\u001b[39;00m:\n",
      "File \u001b[1;32mc:\\Users\\Carlos\\miniconda3\\envs\\h4g\\Lib\\subprocess.py:1026\u001b[0m, in \u001b[0;36mPopen.__init__\u001b[1;34m(self, args, bufsize, executable, stdin, stdout, stderr, preexec_fn, close_fds, shell, cwd, env, universal_newlines, startupinfo, creationflags, restore_signals, start_new_session, pass_fds, user, group, extra_groups, encoding, errors, text, umask, pipesize, process_group)\u001b[0m\n\u001b[0;32m   1023\u001b[0m             \u001b[39mself\u001b[39m\u001b[39m.\u001b[39mstderr \u001b[39m=\u001b[39m io\u001b[39m.\u001b[39mTextIOWrapper(\u001b[39mself\u001b[39m\u001b[39m.\u001b[39mstderr,\n\u001b[0;32m   1024\u001b[0m                     encoding\u001b[39m=\u001b[39mencoding, errors\u001b[39m=\u001b[39merrors)\n\u001b[1;32m-> 1026\u001b[0m     \u001b[39mself\u001b[39;49m\u001b[39m.\u001b[39;49m_execute_child(args, executable, preexec_fn, close_fds,\n\u001b[0;32m   1027\u001b[0m                         pass_fds, cwd, env,\n\u001b[0;32m   1028\u001b[0m                         startupinfo, creationflags, shell,\n\u001b[0;32m   1029\u001b[0m                         p2cread, p2cwrite,\n\u001b[0;32m   1030\u001b[0m                         c2pread, c2pwrite,\n\u001b[0;32m   1031\u001b[0m                         errread, errwrite,\n\u001b[0;32m   1032\u001b[0m                         restore_signals,\n\u001b[0;32m   1033\u001b[0m                         gid, gids, uid, umask,\n\u001b[0;32m   1034\u001b[0m                         start_new_session, process_group)\n\u001b[0;32m   1035\u001b[0m \u001b[39mexcept\u001b[39;00m:\n\u001b[0;32m   1036\u001b[0m     \u001b[39m# Cleanup if the child failed starting.\u001b[39;00m\n",
      "File \u001b[1;32mc:\\Users\\Carlos\\miniconda3\\envs\\h4g\\Lib\\subprocess.py:1538\u001b[0m, in \u001b[0;36mPopen._execute_child\u001b[1;34m(self, args, executable, preexec_fn, close_fds, pass_fds, cwd, env, startupinfo, creationflags, shell, p2cread, p2cwrite, c2pread, c2pwrite, errread, errwrite, unused_restore_signals, unused_gid, unused_gids, unused_uid, unused_umask, unused_start_new_session, unused_process_group)\u001b[0m\n\u001b[0;32m   1537\u001b[0m \u001b[39mtry\u001b[39;00m:\n\u001b[1;32m-> 1538\u001b[0m     hp, ht, pid, tid \u001b[39m=\u001b[39m _winapi\u001b[39m.\u001b[39;49mCreateProcess(executable, args,\n\u001b[0;32m   1539\u001b[0m                              \u001b[39m# no special security\u001b[39;49;00m\n\u001b[0;32m   1540\u001b[0m                              \u001b[39mNone\u001b[39;49;00m, \u001b[39mNone\u001b[39;49;00m,\n\u001b[0;32m   1541\u001b[0m                              \u001b[39mint\u001b[39;49m(\u001b[39mnot\u001b[39;49;00m close_fds),\n\u001b[0;32m   1542\u001b[0m                              creationflags,\n\u001b[0;32m   1543\u001b[0m                              env,\n\u001b[0;32m   1544\u001b[0m                              cwd,\n\u001b[0;32m   1545\u001b[0m                              startupinfo)\n\u001b[0;32m   1546\u001b[0m \u001b[39mfinally\u001b[39;00m:\n\u001b[0;32m   1547\u001b[0m     \u001b[39m# Child is launched. Close the parent's copy of those pipe\u001b[39;00m\n\u001b[0;32m   1548\u001b[0m     \u001b[39m# handles that only the child should have open.  You need\u001b[39;00m\n\u001b[1;32m   (...)\u001b[0m\n\u001b[0;32m   1551\u001b[0m     \u001b[39m# pipe will not close when the child process exits and the\u001b[39;00m\n\u001b[0;32m   1552\u001b[0m     \u001b[39m# ReadFile will hang.\u001b[39;00m\n",
      "\u001b[1;31mFileNotFoundError\u001b[0m: [WinError 2] Das System kann die angegebene Datei nicht finden",
      "\nDuring handling of the above exception, another exception occurred:\n",
      "\u001b[1;31mPDFInfoNotInstalledError\u001b[0m                  Traceback (most recent call last)",
      "\u001b[1;32md:\\A - ETH\\3. Semester\\Hack4Good\\playground.ipynb Cell 5\u001b[0m line \u001b[0;36m7\n\u001b[0;32m      <a href='vscode-notebook-cell:/d%3A/A%20-%20ETH/3.%20Semester/Hack4Good/playground.ipynb#W3sZmlsZQ%3D%3D?line=3'>4</a>\u001b[0m \u001b[39mimport\u001b[39;00m \u001b[39mpytesseract\u001b[39;00m\n\u001b[0;32m      <a href='vscode-notebook-cell:/d%3A/A%20-%20ETH/3.%20Semester/Hack4Good/playground.ipynb#W3sZmlsZQ%3D%3D?line=5'>6</a>\u001b[0m filePath \u001b[39m=\u001b[39m \u001b[39m'\u001b[39m\u001b[39mOECD/data/pdf_files/UK_11.pdf\u001b[39m\u001b[39m'\u001b[39m\n\u001b[1;32m----> <a href='vscode-notebook-cell:/d%3A/A%20-%20ETH/3.%20Semester/Hack4Good/playground.ipynb#W3sZmlsZQ%3D%3D?line=6'>7</a>\u001b[0m doc \u001b[39m=\u001b[39m convert_from_path(filePath)\n\u001b[0;32m      <a href='vscode-notebook-cell:/d%3A/A%20-%20ETH/3.%20Semester/Hack4Good/playground.ipynb#W3sZmlsZQ%3D%3D?line=7'>8</a>\u001b[0m path, fileName \u001b[39m=\u001b[39m os\u001b[39m.\u001b[39mpath\u001b[39m.\u001b[39msplit(filePath)\n\u001b[0;32m      <a href='vscode-notebook-cell:/d%3A/A%20-%20ETH/3.%20Semester/Hack4Good/playground.ipynb#W3sZmlsZQ%3D%3D?line=8'>9</a>\u001b[0m fileBaseName, fileExtension \u001b[39m=\u001b[39m os\u001b[39m.\u001b[39mpath\u001b[39m.\u001b[39msplitext(fileName)\n",
      "File \u001b[1;32mc:\\Users\\Carlos\\miniconda3\\envs\\h4g\\Lib\\site-packages\\pdf2image\\pdf2image.py:127\u001b[0m, in \u001b[0;36mconvert_from_path\u001b[1;34m(pdf_path, dpi, output_folder, first_page, last_page, fmt, jpegopt, thread_count, userpw, ownerpw, use_cropbox, strict, transparent, single_file, output_file, poppler_path, grayscale, size, paths_only, use_pdftocairo, timeout, hide_annotations)\u001b[0m\n\u001b[0;32m    124\u001b[0m \u001b[39mif\u001b[39;00m \u001b[39misinstance\u001b[39m(poppler_path, PurePath):\n\u001b[0;32m    125\u001b[0m     poppler_path \u001b[39m=\u001b[39m poppler_path\u001b[39m.\u001b[39mas_posix()\n\u001b[1;32m--> 127\u001b[0m page_count \u001b[39m=\u001b[39m pdfinfo_from_path(\n\u001b[0;32m    128\u001b[0m     pdf_path, userpw, ownerpw, poppler_path\u001b[39m=\u001b[39;49mpoppler_path\n\u001b[0;32m    129\u001b[0m )[\u001b[39m\"\u001b[39m\u001b[39mPages\u001b[39m\u001b[39m\"\u001b[39m]\n\u001b[0;32m    131\u001b[0m \u001b[39m# We start by getting the output format, the buffer processing function and if we need pdftocairo\u001b[39;00m\n\u001b[0;32m    132\u001b[0m parsed_fmt, final_extension, parse_buffer_func, use_pdfcairo_format \u001b[39m=\u001b[39m _parse_format(\n\u001b[0;32m    133\u001b[0m     fmt, grayscale\n\u001b[0;32m    134\u001b[0m )\n",
      "File \u001b[1;32mc:\\Users\\Carlos\\miniconda3\\envs\\h4g\\Lib\\site-packages\\pdf2image\\pdf2image.py:594\u001b[0m, in \u001b[0;36mpdfinfo_from_path\u001b[1;34m(pdf_path, userpw, ownerpw, poppler_path, rawdates, timeout)\u001b[0m\n\u001b[0;32m    591\u001b[0m     \u001b[39mreturn\u001b[39;00m d\n\u001b[0;32m    593\u001b[0m \u001b[39mexcept\u001b[39;00m \u001b[39mOSError\u001b[39;00m:\n\u001b[1;32m--> 594\u001b[0m     \u001b[39mraise\u001b[39;00m PDFInfoNotInstalledError(\n\u001b[0;32m    595\u001b[0m         \u001b[39m\"\u001b[39m\u001b[39mUnable to get page count. Is poppler installed and in PATH?\u001b[39m\u001b[39m\"\u001b[39m\n\u001b[0;32m    596\u001b[0m     )\n\u001b[0;32m    597\u001b[0m \u001b[39mexcept\u001b[39;00m \u001b[39mValueError\u001b[39;00m:\n\u001b[0;32m    598\u001b[0m     \u001b[39mraise\u001b[39;00m PDFPageCountError(\n\u001b[0;32m    599\u001b[0m         \u001b[39mf\u001b[39m\u001b[39m\"\u001b[39m\u001b[39mUnable to get page count.\u001b[39m\u001b[39m\\n\u001b[39;00m\u001b[39m{\u001b[39;00merr\u001b[39m.\u001b[39mdecode(\u001b[39m'\u001b[39m\u001b[39mutf8\u001b[39m\u001b[39m'\u001b[39m,\u001b[39m \u001b[39m\u001b[39m'\u001b[39m\u001b[39mignore\u001b[39m\u001b[39m'\u001b[39m)\u001b[39m}\u001b[39;00m\u001b[39m\"\u001b[39m\n\u001b[0;32m    600\u001b[0m     )\n",
      "\u001b[1;31mPDFInfoNotInstalledError\u001b[0m: Unable to get page count. Is poppler installed and in PATH?"
     ]
    }
   ],
   "source": [
    "import os\n",
    "from PIL import Image\n",
    "from pdf2image import convert_from_path\n",
    "import pytesseract\n",
    "\n",
    "filePath = 'OECD/data/pdf_files/UK_11.pdf'\n",
    "doc = convert_from_path(filePath)\n",
    "path, fileName = os.path.split(filePath)\n",
    "fileBaseName, fileExtension = os.path.splitext(fileName)\n",
    "\n",
    "for page_number, page_data in enumerate(doc):\n",
    "    txt = pytesseract.image_to_string(Image.fromarray(page_data)).encode(\"utf-8\")\n",
    "    print(\"Page # {} - {}\".format(str(page_number),txt))"
   ]
  },
  {
   "cell_type": "markdown",
   "metadata": {},
   "source": [
    "# pypdf pipeline"
   ]
  },
  {
   "cell_type": "code",
   "execution_count": null,
   "metadata": {},
   "outputs": [],
   "source": []
  }
 ],
 "metadata": {
  "kernelspec": {
   "display_name": "h4g",
   "language": "python",
   "name": "python3"
  },
  "language_info": {
   "codemirror_mode": {
    "name": "ipython",
    "version": 3
   },
   "file_extension": ".py",
   "mimetype": "text/x-python",
   "name": "python",
   "nbconvert_exporter": "python",
   "pygments_lexer": "ipython3",
   "version": "3.12.0"
  }
 },
 "nbformat": 4,
 "nbformat_minor": 2
}
