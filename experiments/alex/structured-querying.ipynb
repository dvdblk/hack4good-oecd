{
 "cells": [
  {
   "cell_type": "markdown",
   "metadata": {},
   "source": [
    "# Structured Chunking\n",
    "\n",
    "from https://blog.langchain.dev/a-chunk-by-any-other-name/"
   ]
  },
  {
   "cell_type": "code",
   "execution_count": 119,
   "metadata": {},
   "outputs": [
    {
     "name": "stderr",
     "output_type": "stream",
     "text": [
      "[autoreload of langchain failed: Traceback (most recent call last):\n",
      "  File \"/Users/dvdblk/miniconda/envs/hack4good/lib/python3.11/site-packages/IPython/extensions/autoreload.py\", line 276, in check\n",
      "    superreload(m, reload, self.old_objects)\n",
      "  File \"/Users/dvdblk/miniconda/envs/hack4good/lib/python3.11/site-packages/IPython/extensions/autoreload.py\", line 455, in superreload\n",
      "    if not append_obj(module, old_objects, name, obj):\n",
      "           ^^^^^^^^^^^^^^^^^^^^^^^^^^^^^^^^^^^^^^^^^^\n",
      "  File \"/Users/dvdblk/miniconda/envs/hack4good/lib/python3.11/site-packages/IPython/extensions/autoreload.py\", line 423, in append_obj\n",
      "    in_module = hasattr(obj, \"__module__\") and obj.__module__ == module.__name__\n",
      "                ^^^^^^^^^^^^^^^^^^^^^^^^^^\n",
      "  File \"/Users/dvdblk/miniconda/envs/hack4good/lib/python3.11/site-packages/langchain/agents/__init__.py\", line 93, in __getattr__\n",
      "    raise AttributeError(f\"{name} does not exist\")\n",
      "    ^^^^^^^^^^^^^^^^^^^^^^^^^^^^^^^^^^^^^^^^^^^\n",
      "ImportError: __module__ does not exist\n",
      "]\n",
      "[autoreload of langchain.schema.runnable.base failed: Traceback (most recent call last):\n",
      "  File \"/Users/dvdblk/miniconda/envs/hack4good/lib/python3.11/site-packages/IPython/extensions/autoreload.py\", line 276, in check\n",
      "    superreload(m, reload, self.old_objects)\n",
      "  File \"/Users/dvdblk/miniconda/envs/hack4good/lib/python3.11/site-packages/IPython/extensions/autoreload.py\", line 500, in superreload\n",
      "    update_generic(old_obj, new_obj)\n",
      "  File \"/Users/dvdblk/miniconda/envs/hack4good/lib/python3.11/site-packages/IPython/extensions/autoreload.py\", line 397, in update_generic\n",
      "    update(a, b)\n",
      "  File \"/Users/dvdblk/miniconda/envs/hack4good/lib/python3.11/site-packages/IPython/extensions/autoreload.py\", line 365, in update_class\n",
      "    update_instances(old, new)\n",
      "  File \"/Users/dvdblk/miniconda/envs/hack4good/lib/python3.11/site-packages/IPython/extensions/autoreload.py\", line 323, in update_instances\n",
      "    object.__setattr__(ref, \"__class__\", new)\n",
      "TypeError: __class__ assignment: 'RunnableSequence' object layout differs from 'RunnableSequence'\n",
      "]\n",
      "[autoreload of langchain.schema.output_parser failed: Traceback (most recent call last):\n",
      "  File \"/Users/dvdblk/miniconda/envs/hack4good/lib/python3.11/site-packages/IPython/extensions/autoreload.py\", line 276, in check\n",
      "    superreload(m, reload, self.old_objects)\n",
      "  File \"/Users/dvdblk/miniconda/envs/hack4good/lib/python3.11/site-packages/IPython/extensions/autoreload.py\", line 500, in superreload\n",
      "    update_generic(old_obj, new_obj)\n",
      "  File \"/Users/dvdblk/miniconda/envs/hack4good/lib/python3.11/site-packages/IPython/extensions/autoreload.py\", line 397, in update_generic\n",
      "    update(a, b)\n",
      "  File \"/Users/dvdblk/miniconda/envs/hack4good/lib/python3.11/site-packages/IPython/extensions/autoreload.py\", line 365, in update_class\n",
      "    update_instances(old, new)\n",
      "  File \"/Users/dvdblk/miniconda/envs/hack4good/lib/python3.11/site-packages/IPython/extensions/autoreload.py\", line 323, in update_instances\n",
      "    object.__setattr__(ref, \"__class__\", new)\n",
      "TypeError: __class__ assignment: 'StrOutputParser' object layout differs from 'StrOutputParser'\n",
      "]\n",
      "[autoreload of langchain.schema.vectorstore failed: Traceback (most recent call last):\n",
      "  File \"/Users/dvdblk/miniconda/envs/hack4good/lib/python3.11/site-packages/IPython/extensions/autoreload.py\", line 276, in check\n",
      "    superreload(m, reload, self.old_objects)\n",
      "  File \"/Users/dvdblk/miniconda/envs/hack4good/lib/python3.11/site-packages/IPython/extensions/autoreload.py\", line 500, in superreload\n",
      "    update_generic(old_obj, new_obj)\n",
      "  File \"/Users/dvdblk/miniconda/envs/hack4good/lib/python3.11/site-packages/IPython/extensions/autoreload.py\", line 397, in update_generic\n",
      "    update(a, b)\n",
      "  File \"/Users/dvdblk/miniconda/envs/hack4good/lib/python3.11/site-packages/IPython/extensions/autoreload.py\", line 365, in update_class\n",
      "    update_instances(old, new)\n",
      "  File \"/Users/dvdblk/miniconda/envs/hack4good/lib/python3.11/site-packages/IPython/extensions/autoreload.py\", line 323, in update_instances\n",
      "    object.__setattr__(ref, \"__class__\", new)\n",
      "TypeError: __class__ assignment: 'VectorStoreRetriever' object layout differs from 'VectorStoreRetriever'\n",
      "]\n",
      "[autoreload of langchain.prompts.prompt failed: Traceback (most recent call last):\n",
      "  File \"/Users/dvdblk/miniconda/envs/hack4good/lib/python3.11/site-packages/IPython/extensions/autoreload.py\", line 276, in check\n",
      "    superreload(m, reload, self.old_objects)\n",
      "  File \"/Users/dvdblk/miniconda/envs/hack4good/lib/python3.11/site-packages/IPython/extensions/autoreload.py\", line 500, in superreload\n",
      "    update_generic(old_obj, new_obj)\n",
      "  File \"/Users/dvdblk/miniconda/envs/hack4good/lib/python3.11/site-packages/IPython/extensions/autoreload.py\", line 397, in update_generic\n",
      "    update(a, b)\n",
      "  File \"/Users/dvdblk/miniconda/envs/hack4good/lib/python3.11/site-packages/IPython/extensions/autoreload.py\", line 365, in update_class\n",
      "    update_instances(old, new)\n",
      "  File \"/Users/dvdblk/miniconda/envs/hack4good/lib/python3.11/site-packages/IPython/extensions/autoreload.py\", line 323, in update_instances\n",
      "    object.__setattr__(ref, \"__class__\", new)\n",
      "TypeError: __class__ assignment: 'PromptTemplate' object layout differs from 'PromptTemplate'\n",
      "]\n",
      "[autoreload of langchain.prompts.chat failed: Traceback (most recent call last):\n",
      "  File \"/Users/dvdblk/miniconda/envs/hack4good/lib/python3.11/site-packages/IPython/extensions/autoreload.py\", line 276, in check\n",
      "    superreload(m, reload, self.old_objects)\n",
      "  File \"/Users/dvdblk/miniconda/envs/hack4good/lib/python3.11/site-packages/IPython/extensions/autoreload.py\", line 500, in superreload\n",
      "    update_generic(old_obj, new_obj)\n",
      "  File \"/Users/dvdblk/miniconda/envs/hack4good/lib/python3.11/site-packages/IPython/extensions/autoreload.py\", line 397, in update_generic\n",
      "    update(a, b)\n",
      "  File \"/Users/dvdblk/miniconda/envs/hack4good/lib/python3.11/site-packages/IPython/extensions/autoreload.py\", line 365, in update_class\n",
      "    update_instances(old, new)\n",
      "  File \"/Users/dvdblk/miniconda/envs/hack4good/lib/python3.11/site-packages/IPython/extensions/autoreload.py\", line 323, in update_instances\n",
      "    object.__setattr__(ref, \"__class__\", new)\n",
      "TypeError: __class__ assignment: 'ChatPromptTemplate' object layout differs from 'ChatPromptTemplate'\n",
      "]\n",
      "[autoreload of langchain.prompts.few_shot failed: Traceback (most recent call last):\n",
      "  File \"/Users/dvdblk/miniconda/envs/hack4good/lib/python3.11/site-packages/IPython/extensions/autoreload.py\", line 276, in check\n",
      "    superreload(m, reload, self.old_objects)\n",
      "  File \"/Users/dvdblk/miniconda/envs/hack4good/lib/python3.11/site-packages/IPython/extensions/autoreload.py\", line 500, in superreload\n",
      "    update_generic(old_obj, new_obj)\n",
      "  File \"/Users/dvdblk/miniconda/envs/hack4good/lib/python3.11/site-packages/IPython/extensions/autoreload.py\", line 397, in update_generic\n",
      "    update(a, b)\n",
      "  File \"/Users/dvdblk/miniconda/envs/hack4good/lib/python3.11/site-packages/IPython/extensions/autoreload.py\", line 365, in update_class\n",
      "    update_instances(old, new)\n",
      "  File \"/Users/dvdblk/miniconda/envs/hack4good/lib/python3.11/site-packages/IPython/extensions/autoreload.py\", line 323, in update_instances\n",
      "    object.__setattr__(ref, \"__class__\", new)\n",
      "TypeError: __class__ assignment: 'FewShotPromptTemplate' object layout differs from 'FewShotPromptTemplate'\n",
      "]\n",
      "[autoreload of langchain.chat_models.openai failed: Traceback (most recent call last):\n",
      "  File \"/Users/dvdblk/miniconda/envs/hack4good/lib/python3.11/site-packages/IPython/extensions/autoreload.py\", line 276, in check\n",
      "    superreload(m, reload, self.old_objects)\n",
      "  File \"/Users/dvdblk/miniconda/envs/hack4good/lib/python3.11/site-packages/IPython/extensions/autoreload.py\", line 500, in superreload\n",
      "    update_generic(old_obj, new_obj)\n",
      "  File \"/Users/dvdblk/miniconda/envs/hack4good/lib/python3.11/site-packages/IPython/extensions/autoreload.py\", line 397, in update_generic\n",
      "    update(a, b)\n",
      "  File \"/Users/dvdblk/miniconda/envs/hack4good/lib/python3.11/site-packages/IPython/extensions/autoreload.py\", line 365, in update_class\n",
      "    update_instances(old, new)\n",
      "  File \"/Users/dvdblk/miniconda/envs/hack4good/lib/python3.11/site-packages/IPython/extensions/autoreload.py\", line 323, in update_instances\n",
      "    object.__setattr__(ref, \"__class__\", new)\n",
      "TypeError: __class__ assignment: 'ChatOpenAI' object layout differs from 'ChatOpenAI'\n",
      "]\n",
      "[autoreload of langchain.chains.llm failed: Traceback (most recent call last):\n",
      "  File \"/Users/dvdblk/miniconda/envs/hack4good/lib/python3.11/site-packages/IPython/extensions/autoreload.py\", line 276, in check\n",
      "    superreload(m, reload, self.old_objects)\n",
      "  File \"/Users/dvdblk/miniconda/envs/hack4good/lib/python3.11/site-packages/IPython/extensions/autoreload.py\", line 500, in superreload\n",
      "    update_generic(old_obj, new_obj)\n",
      "  File \"/Users/dvdblk/miniconda/envs/hack4good/lib/python3.11/site-packages/IPython/extensions/autoreload.py\", line 397, in update_generic\n",
      "    update(a, b)\n",
      "  File \"/Users/dvdblk/miniconda/envs/hack4good/lib/python3.11/site-packages/IPython/extensions/autoreload.py\", line 365, in update_class\n",
      "    update_instances(old, new)\n",
      "  File \"/Users/dvdblk/miniconda/envs/hack4good/lib/python3.11/site-packages/IPython/extensions/autoreload.py\", line 323, in update_instances\n",
      "    object.__setattr__(ref, \"__class__\", new)\n",
      "TypeError: __class__ assignment: 'LLMChain' object layout differs from 'LLMChain'\n",
      "]\n",
      "[autoreload of langchain.output_parsers.list failed: Traceback (most recent call last):\n",
      "  File \"/Users/dvdblk/miniconda/envs/hack4good/lib/python3.11/site-packages/IPython/extensions/autoreload.py\", line 276, in check\n",
      "    superreload(m, reload, self.old_objects)\n",
      "  File \"/Users/dvdblk/miniconda/envs/hack4good/lib/python3.11/site-packages/IPython/extensions/autoreload.py\", line 500, in superreload\n",
      "    update_generic(old_obj, new_obj)\n",
      "  File \"/Users/dvdblk/miniconda/envs/hack4good/lib/python3.11/site-packages/IPython/extensions/autoreload.py\", line 397, in update_generic\n",
      "    update(a, b)\n",
      "  File \"/Users/dvdblk/miniconda/envs/hack4good/lib/python3.11/site-packages/IPython/extensions/autoreload.py\", line 365, in update_class\n",
      "    update_instances(old, new)\n",
      "  File \"/Users/dvdblk/miniconda/envs/hack4good/lib/python3.11/site-packages/IPython/extensions/autoreload.py\", line 323, in update_instances\n",
      "    object.__setattr__(ref, \"__class__\", new)\n",
      "TypeError: __class__ assignment: 'CommaSeparatedListOutputParser' object layout differs from 'CommaSeparatedListOutputParser'\n",
      "]\n",
      "[autoreload of langchain.output_parsers.regex failed: Traceback (most recent call last):\n",
      "  File \"/Users/dvdblk/miniconda/envs/hack4good/lib/python3.11/site-packages/IPython/extensions/autoreload.py\", line 276, in check\n",
      "    superreload(m, reload, self.old_objects)\n",
      "  File \"/Users/dvdblk/miniconda/envs/hack4good/lib/python3.11/site-packages/IPython/extensions/autoreload.py\", line 500, in superreload\n",
      "    update_generic(old_obj, new_obj)\n",
      "  File \"/Users/dvdblk/miniconda/envs/hack4good/lib/python3.11/site-packages/IPython/extensions/autoreload.py\", line 397, in update_generic\n",
      "    update(a, b)\n",
      "  File \"/Users/dvdblk/miniconda/envs/hack4good/lib/python3.11/site-packages/IPython/extensions/autoreload.py\", line 365, in update_class\n",
      "    update_instances(old, new)\n",
      "  File \"/Users/dvdblk/miniconda/envs/hack4good/lib/python3.11/site-packages/IPython/extensions/autoreload.py\", line 323, in update_instances\n",
      "    object.__setattr__(ref, \"__class__\", new)\n",
      "TypeError: __class__ assignment: 'RegexParser' object layout differs from 'RegexParser'\n",
      "]\n",
      "[autoreload of langchain.chains.combine_documents.stuff failed: Traceback (most recent call last):\n",
      "  File \"/Users/dvdblk/miniconda/envs/hack4good/lib/python3.11/site-packages/IPython/extensions/autoreload.py\", line 276, in check\n",
      "    superreload(m, reload, self.old_objects)\n",
      "  File \"/Users/dvdblk/miniconda/envs/hack4good/lib/python3.11/site-packages/IPython/extensions/autoreload.py\", line 500, in superreload\n",
      "    update_generic(old_obj, new_obj)\n",
      "  File \"/Users/dvdblk/miniconda/envs/hack4good/lib/python3.11/site-packages/IPython/extensions/autoreload.py\", line 397, in update_generic\n",
      "    update(a, b)\n",
      "  File \"/Users/dvdblk/miniconda/envs/hack4good/lib/python3.11/site-packages/IPython/extensions/autoreload.py\", line 365, in update_class\n",
      "    update_instances(old, new)\n",
      "  File \"/Users/dvdblk/miniconda/envs/hack4good/lib/python3.11/site-packages/IPython/extensions/autoreload.py\", line 323, in update_instances\n",
      "    object.__setattr__(ref, \"__class__\", new)\n",
      "TypeError: __class__ assignment: 'StuffDocumentsChain' object layout differs from 'StuffDocumentsChain'\n",
      "]\n",
      "[autoreload of langchain.chains.conversational_retrieval.base failed: Traceback (most recent call last):\n",
      "  File \"/Users/dvdblk/miniconda/envs/hack4good/lib/python3.11/site-packages/IPython/extensions/autoreload.py\", line 276, in check\n",
      "    superreload(m, reload, self.old_objects)\n",
      "  File \"/Users/dvdblk/miniconda/envs/hack4good/lib/python3.11/site-packages/IPython/extensions/autoreload.py\", line 500, in superreload\n",
      "    update_generic(old_obj, new_obj)\n",
      "  File \"/Users/dvdblk/miniconda/envs/hack4good/lib/python3.11/site-packages/IPython/extensions/autoreload.py\", line 397, in update_generic\n",
      "    update(a, b)\n",
      "  File \"/Users/dvdblk/miniconda/envs/hack4good/lib/python3.11/site-packages/IPython/extensions/autoreload.py\", line 349, in update_class\n",
      "    if update_generic(old_obj, new_obj):\n",
      "       ^^^^^^^^^^^^^^^^^^^^^^^^^^^^^^^^\n",
      "  File \"/Users/dvdblk/miniconda/envs/hack4good/lib/python3.11/site-packages/IPython/extensions/autoreload.py\", line 397, in update_generic\n",
      "    update(a, b)\n",
      "  File \"/Users/dvdblk/miniconda/envs/hack4good/lib/python3.11/site-packages/IPython/extensions/autoreload.py\", line 365, in update_class\n",
      "    update_instances(old, new)\n",
      "  File \"/Users/dvdblk/miniconda/envs/hack4good/lib/python3.11/site-packages/IPython/extensions/autoreload.py\", line 319, in update_instances\n",
      "    refs = gc.get_referrers(old)\n",
      "           ^^^^^^^^^^^^^^^^^^^^^\n",
      "KeyboardInterrupt\n",
      "]\n",
      "[autoreload of langchain.chains.retrieval_qa.base failed: Traceback (most recent call last):\n",
      "  File \"/Users/dvdblk/miniconda/envs/hack4good/lib/python3.11/site-packages/IPython/extensions/autoreload.py\", line 276, in check\n",
      "    superreload(m, reload, self.old_objects)\n",
      "  File \"/Users/dvdblk/miniconda/envs/hack4good/lib/python3.11/site-packages/IPython/extensions/autoreload.py\", line 500, in superreload\n",
      "    update_generic(old_obj, new_obj)\n",
      "  File \"/Users/dvdblk/miniconda/envs/hack4good/lib/python3.11/site-packages/IPython/extensions/autoreload.py\", line 397, in update_generic\n",
      "    update(a, b)\n",
      "  File \"/Users/dvdblk/miniconda/envs/hack4good/lib/python3.11/site-packages/IPython/extensions/autoreload.py\", line 365, in update_class\n",
      "    update_instances(old, new)\n",
      "  File \"/Users/dvdblk/miniconda/envs/hack4good/lib/python3.11/site-packages/IPython/extensions/autoreload.py\", line 323, in update_instances\n",
      "    object.__setattr__(ref, \"__class__\", new)\n",
      "TypeError: __class__ assignment: 'RetrievalQA' object layout differs from 'RetrievalQA'\n",
      "]\n",
      "[autoreload of langchain.output_parsers.openai_functions failed: Traceback (most recent call last):\n",
      "  File \"/Users/dvdblk/miniconda/envs/hack4good/lib/python3.11/site-packages/IPython/extensions/autoreload.py\", line 276, in check\n",
      "    superreload(m, reload, self.old_objects)\n",
      "  File \"/Users/dvdblk/miniconda/envs/hack4good/lib/python3.11/site-packages/IPython/extensions/autoreload.py\", line 500, in superreload\n",
      "    update_generic(old_obj, new_obj)\n",
      "  File \"/Users/dvdblk/miniconda/envs/hack4good/lib/python3.11/site-packages/IPython/extensions/autoreload.py\", line 397, in update_generic\n",
      "    update(a, b)\n",
      "  File \"/Users/dvdblk/miniconda/envs/hack4good/lib/python3.11/site-packages/IPython/extensions/autoreload.py\", line 365, in update_class\n",
      "    update_instances(old, new)\n",
      "  File \"/Users/dvdblk/miniconda/envs/hack4good/lib/python3.11/site-packages/IPython/extensions/autoreload.py\", line 323, in update_instances\n",
      "    object.__setattr__(ref, \"__class__\", new)\n",
      "TypeError: __class__ assignment: 'PydanticOutputFunctionsParser' object layout differs from 'PydanticOutputFunctionsParser'\n",
      "]\n"
     ]
    }
   ],
   "source": [
    "# Required for csv to markdown conversion\n",
    "!pip install tabulate"
   ]
  },
  {
   "cell_type": "code",
   "execution_count": 1,
   "metadata": {},
   "outputs": [],
   "source": [
    "from dotenv import load_dotenv"
   ]
  },
  {
   "cell_type": "markdown",
   "metadata": {},
   "source": [
    "### Workaround for local package imports\n",
    "\n",
    "To import from app.preprocessing package in the root of the repo we need to CD into the root.\n",
    "\n",
    "Note: this code is only necessary in a Jupyter notebook. In a regular python script, the imports work fine."
   ]
  },
  {
   "cell_type": "code",
   "execution_count": 2,
   "metadata": {},
   "outputs": [
    {
     "name": "stdout",
     "output_type": "stream",
     "text": [
      "app/ dir and/or .env not found in current working directory, changing CWD to assumed repo root.\n"
     ]
    },
    {
     "data": {
      "text/plain": [
       "True"
      ]
     },
     "execution_count": 2,
     "metadata": {},
     "output_type": "execute_result"
    }
   ],
   "source": [
    "import os\n",
    "import sys\n",
    "\n",
    "# This assumes your working directory is in the experiments/<name>/ dir\n",
    "repo_root = os.path.abspath(os.path.join(os.getcwd(), \"..\", \"..\"))\n",
    "\n",
    "# Check if app/ dir exists in current working directory along with .env (to make this cell re-runnable)\n",
    "if os.path.exists(os.path.join(os.getcwd(), \"app\")) and os.path.exists(os.path.join(os.getcwd(), \".env\")):\n",
    "    app_path = os.path.join(os.getcwd(), \"app\")\n",
    "    sys.path.append(app_path)\n",
    "    print(\"app/ dir and .env found in current working directory, keeping CWD as is.\")\n",
    "else:\n",
    "    os.chdir(repo_root)\n",
    "    print(\"app/ dir and/or .env not found in current working directory, changing CWD to assumed repo root.\")\n",
    "\n",
    "# Load .env\n",
    "load_dotenv()"
   ]
  },
  {
   "cell_type": "markdown",
   "metadata": {},
   "source": [
    "## Load structured document \n",
    "\n",
    "Steps to get `Document` object from a pdf path:\n",
    "1. create `AdobeExtractAPIManager` instance\n",
    "2. call `doc = extract_document` method with path to document\n",
    "3. call `AdobeDocumentSplitter().document_to_chunks(doc)` "
   ]
  },
  {
   "cell_type": "code",
   "execution_count": 22,
   "metadata": {},
   "outputs": [
    {
     "name": "stdout",
     "output_type": "stream",
     "text": [
      "2023-11-20 23:31:11.134 app.preprocessing.adobe.manager INFO     Initialized AdobeExtractAPIManager (with extract_dir_path=data/interim/000-adobe-extract/)\n"
     ]
    }
   ],
   "source": [
    "from app.preprocessing.adobe.manager import AdobeExtractAPIManager\n",
    "\n",
    "adobe_manager = AdobeExtractAPIManager(\n",
    "    os.getenv(\"ADOBE_CLIENT_ID\"),\n",
    "    os.getenv(\"ADOBE_CLIENT_SECRET\"),\n",
    "    extract_dir_path=\"data/interim/000-adobe-extract/\"\n",
    ")\n",
    "\n",
    "####\n",
    "# Edit the path below to point to a PDF file on your local machine\n",
    "####\n",
    "document = adobe_manager.get_document(\n",
    "    \"/Users/dvdblk/Downloads/pdf_files_complete/UK_10.pdf\"\n",
    ")"
   ]
  },
  {
   "cell_type": "markdown",
   "metadata": {},
   "source": [
    "#### Visualize the sections of the document"
   ]
  },
  {
   "cell_type": "code",
   "execution_count": 23,
   "metadata": {},
   "outputs": [
    {
     "name": "stdout",
     "output_type": "stream",
     "text": [
      " document None None \n",
      "\t H1 Skills for Jobs: Lifelong Learning for Opportunity and Growth Presented to Parliament by the Secretary of State for Education by Command of Her Majesty 2 1\n",
      "\t H1 Contents 4 2\n",
      "\t H1 Foreword by the Secretary of State for Education 6 3\n",
      "\t\t H2 Rt. Hon. Gavin Williamson CBE MP 7 3.1\n",
      "\t H1 Executive Summary 8 4\n",
      "\t\t H2 Lifetime Skills Guarantee 8 4.1\n",
      "\t\t H2 The case for change 9 4.2\n",
      "\t\t H2 Our plan for reform 11 4.3\n",
      "\t\t H2 Summary of decisions 12 4.4\n",
      "\t\t\t H3 Putting employers at the heart of post-16 skills: 12 4.4.1\n",
      "\t\t\t H3 Providing the advanced technical and higher technical skills the nation needs: 13 4.4.2\n",
      "\t\t\t H3 A flexible Lifetime Skills Guarantee: 13 4.4.3\n",
      "\t\t\t H3 Responsive providers supported by effective accountability, governance, and intervention 14 4.4.4\n",
      "\t\t\t H3 Supporting outstanding teaching 15 4.4.5\n",
      "\t H1 Chapter 1: Putting employers at the heart of post-16 skills 16 5\n",
      "\t\t H2 A tailored plan to meet local skills needs 18 5.1\n",
      "\t\t H2 Investing in local skills priorities 20 5.2\n",
      "\t\t H2 Expert advice on the labour market, from the new Skills and Productivity Board to government 21 5.3\n",
      "\t\t H2 A national system of employer-led standards by 2030 21 5.4\n",
      "\t\t H2 Apprenticeships that work for all employers 23 5.5\n",
      "\t\t H2 Improved traineeships 27 5.6\n",
      "\t\t H2 English, maths, and digital skills for everyone 28 5.7\n",
      "\t\t H2 Further education colleges as centres for business development and innovation 29 5.8\n",
      "\t H1 Chapter 2: Providing the advanced technical and higher technical skills the nation needs 31 6\n",
      "\t\t H2 The National Skills Fund will boost adult learning at advanced technical and higher technical levels 33 6.1\n",
      "\t\t H2 Institutes of Technology increasing higher level STEM skills through collaboration 35 6.2\n",
      "\t\t H2 T Levels: a prestigious technical programme 36 6.3\n",
      "\t\t H2 Reformed higher technical education (levels 4 and 5) 37 6.4\n",
      "\t\t H2 Clear progression routes for students, with more attaining the higher-level skills that employers need 39 6.5\n",
      "\t\t\t H3 Poppy – TV and Film Studies 41 6.5.1\n",
      "\t\t\t H3 In our reformed FE system this is how Poppy’s journey might look: 41 6.5.2\n",
      "\t H1 Chapter 3:  A Flexible Lifetime Skills Guarantee 42 7\n",
      "\t\t H2 The delivery of high-quality provision 44 7.1\n",
      "\t\t H2 Consulting on the changes 44 7.2\n",
      "\t\t H2 Short term progress towards the Lifelong Loan Entitlement 45 7.3\n",
      "\t\t H2 Supporting digital and remote learning 46 7.4\n",
      "\t\t H2 Clear and trusted information, advice and guidance for careers and education choices 47 7.5\n",
      "\t\t H2 Improving the delivery of careers advice in schools and colleges 49 7.6\n",
      "\t H1 Chapter 4: Responsive providers, supported by more effective accountability and funding 51 8\n",
      "\t\t H2 A new model of autonomous and accountable providers meeting local and national skills needs 53 8.1\n",
      "\t\t H2 Simplified and better targeted funding 54 8.2\n",
      "\t\t H2 Consulting on funding and accountability 56 8.3\n",
      "\t\t H2 More effective support and intervention 56 8.4\n",
      "\t\t H2 Strengthened governance for colleges89 (<>) 57 8.5\n",
      "\t\t H2 The role of Independent Training Providers in the new system 60 8.6\n",
      "\t\t H2 Capital funding to transform the college estate and enable high-quality provision 62 8.7\n",
      "\t H1 Chapter 5: Supporting outstanding teaching 63 9\n",
      "\t\t H2 An ambitious recruitment strategy with a national campaign and one-stop information platform 65 9.1\n",
      "\t\t H2 Effective initial teacher education 66 9.2\n",
      "\t\t H2 A seamless and strong relationship between further education and industry 67 9.3\n",
      "\t\t H2 Continuing professional development for teachers, to uphold quality and enable progression 68 9.4\n",
      "\t\t H2 A high-quality apprenticeships teaching workforce 70 9.5\n",
      "\t\t H2 Comprehensive workforce data collection 71 9.6\n",
      "\t H1 Annex A: Glossary 72 10\n"
     ]
    }
   ],
   "source": [
    "def print_hierarchy(section, level=0):\n",
    "    print(\"\\t\" * level, section.section_type, section.title, section.starting_page, section.id)\n",
    "    for subsection in section.subsections:\n",
    "        print_hierarchy(subsection, level + 1)\n",
    "\n",
    "# Print document section title hierarchy\n",
    "print_hierarchy(document)"
   ]
  },
  {
   "cell_type": "markdown",
   "metadata": {},
   "source": [
    "## Create chunks from sections"
   ]
  },
  {
   "cell_type": "code",
   "execution_count": 24,
   "metadata": {},
   "outputs": [],
   "source": [
    "from app.preprocessing.adobe.splitter import DocumentSplitter\n",
    "\n",
    "# Get chunks\n",
    "docs = DocumentSplitter().document_to_chunks(document)"
   ]
  },
  {
   "cell_type": "code",
   "execution_count": 25,
   "metadata": {},
   "outputs": [
    {
     "data": {
      "text/plain": [
       "2735.6481481481483"
      ]
     },
     "execution_count": 25,
     "metadata": {},
     "output_type": "execute_result"
    }
   ],
   "source": [
    "# Print avg chunk length\n",
    "avg_chunk_len = sum([len(doc.page_content) for doc in docs]) / len(docs)\n",
    "avg_chunk_len"
   ]
  },
  {
   "cell_type": "markdown",
   "metadata": {},
   "source": [
    "## Structured chunking methods below"
   ]
  },
  {
   "cell_type": "code",
   "execution_count": 26,
   "metadata": {},
   "outputs": [],
   "source": [
    "def print_result(response_obj):\n",
    "    print(\"SOURCES: \\n\")\n",
    "    cnt = 1\n",
    "    for source_doc in response_obj[\"source_documents\"]:\n",
    "        print(f\"Chunk #{cnt}\")\n",
    "        cnt += 1\n",
    "        print(\"Source Metadata: \", source_doc.metadata)\n",
    "        print(\"Source Text:\")\n",
    "        print(source_doc.page_content)\n",
    "        print(\"\\n\")\n",
    "    print(\"RESULT: \\n\")\n",
    "    print(response_obj[\"result\"] + \"\\n\\n\")"
   ]
  },
  {
   "cell_type": "code",
   "execution_count": 27,
   "metadata": {},
   "outputs": [],
   "source": [
    "from langchain.vectorstores import FAISS\n",
    "from langchain.embeddings import OpenAIEmbeddings\n",
    "from langchain.chat_models import ChatOpenAI\n",
    "from langchain.chains import RetrievalQA\n",
    "\n",
    "\n",
    "llm = ChatOpenAI(model=\"gpt-3.5-turbo-1106\", temperature=0, request_timeout=15)\n",
    "\n",
    "embeddings = OpenAIEmbeddings()\n",
    "vectorstore = FAISS.from_documents(docs, embedding=embeddings)\n",
    "retriever = RetrievalQA.from_chain_type(\n",
    "    llm=llm,\n",
    "    chain_type=\"stuff\",\n",
    "    retriever=vectorstore.as_retriever(),\n",
    "    return_source_documents=True\n",
    ")"
   ]
  },
  {
   "cell_type": "code",
   "execution_count": null,
   "metadata": {},
   "outputs": [
    {
     "name": "stdout",
     "output_type": "stream",
     "text": [
      "SOURCES: \n",
      "\n",
      "Chunk #1\n",
      "Source Metadata:  {'H1': '4. Talent and Skills'}\n",
      "Source Text:\n",
      "Vision: The UK has a large, varied base of skilled, technical and entrepreneurial talent which is agile and quickly responds to the needs of industry, academia and government. This includes talent in STEM, digital and data, commercialisation and national security.\n",
      "\n",
      "\n",
      "Chunk #2\n",
      "Source Metadata:  {'H1': '8. Access to Physical and Digital Infrastructure'}\n",
      "Source Text:\n",
      "Vision: Accessibility and coordination of infrastructure attracts talent and investment, establishes anchors for innovation clusters and enables companies to scale. The UK has diverse, agile and resilient facilities to support its technology choices and works with partners globally to deliver major science and technology projects.\n",
      "\n",
      "\n",
      "Chunk #3\n",
      "Source Metadata:  {'H2': 'Outcomes – by 2030 we will have:', 'H1': '4. Talent and Skills'}\n",
      "Source Text:\n",
      "● Created an agile and responsive skills system, which delivers the skills needed to support a world-class workforce in STEM sectors and drive economic growth. We will articulate and, where possible, forecast skills gaps in critical technologies (within academia, industry, government and the third sector) and actions needed to fill them.\n",
      "● Recruited and retained high-quality FE and school teachers in STEM-related subjects.\n",
      "● Expanded opportunities for participation in STEM and ensured that a more diverse range of people enter the science and technology workforce. We will learn from examples like AI and data science conversion courses, where we have invested up to £30 million to help people from underrepresented groups join the UK’s AI industry.\n",
      "● Established competitive advantage in attracting international talent to the UK. The UK’s offer will be attractive to the world's best talent across all career stages, with easy access through our ‘high-skilled visa system’ (Global Talent, Start Up/Innovator, High Potential Individual, Scale Up and Graduate). UK researchers will participate in exchanges which deliver international links and establish new collaborations.\n",
      "● Given people the opportunity to train, retrain and upskill throughout their lives to respond to changing needs. We will create proactive career advice programmes which establish links between STEM training or education at 16 and well-paid jobs. This includes revolutionary initiatives like the Lifelong Loan Entitlement, especially important given 80% of the 2030 workforce is already in work.\n",
      "The Department for Education is working on a cross-government action plan in collaboration with the Home Office, Department for Science, Innovation and Technology, Department for Business and Trade and the Cabinet Office. Initial work will include:\n",
      "● Developing a DfE Skills Dashboard in 2023, to understand the supply and demand of science and technology skills for the technologies that we plan to prioritise.\n",
      "● Taking forward the Prime Minister’s ambition for all young people to study Maths to 18.\n",
      "● Working across government, with educators and employers, to develop the pipeline of individuals entering priority computing and digital sectors.\n",
      "● Finding and attracting the next generation of AI leaders from around the world, showcasing our fantastic offer and matching them to specific opportunities in the UK.\n",
      "● Continuing to roll out a network of 21 employer-led Institutes of Technology (IoTs), which will offer higher level technical training. IoTs also have a remit to help widen participation at higher technical levels from disadvantaged and under-represented groups.\n",
      "\n",
      "\n",
      "Chunk #4\n",
      "Source Metadata:  {'H2': 'Actions and ongoing work - the government will:', 'H1': '1. Identifying Critical Technologies'}\n",
      "Source Text:\n",
      "● Use a robust and repeatable approach to identify the technologies that are most critical to the UK. We have assessed over fifty technologies against eight criteria:\n",
      "• Sustainable environment • Health and life sciences • Digital economy • National security and defence • International comparison • Foundational • Market potential • Threats and resilience\n",
      "Informed by this approach, we have identified a portfolio of five critical technologies:\n",
      "Artificial intelligence (AI) – Machines that perform tasks normally performed by human intelligence, especially when the machines learn from data how to do those tasks.\n",
      "Engineering biology – the application of rigorous engineering principles to the design of biological systems.\n",
      "Future telecommunications - evolutions of the infrastructure for digitised data and communications.\n",
      "Semiconductors – a class of electronic materials with unique properties that sit at the heart of the devices and technology we use every day.\n",
      "Quantum technologies – devices and systems which rely on quantum mechanics, to provide capabilities that ‘classical’ machines cannot.\n",
      "The National Science and Technology Council will review this list annually to ensure that the UK keeps pace and continues to develop global competitive advantage - although there will be a high bar to major change given the need for long-term planning.\n",
      "● Create the environment for these technologies to flourish in the UK, using the other nine levers set out in this Framework. Where necessary, the government must\n",
      "be prepared to intervene to shape markets. We will develop a cross-government plan to optimise the science and technology system for each critical technology. Plans will be informed by analysis of the UK’s strategic interests and strengths, and other nations’ postures, using an ‘Own-Collaborate-Access’ framework as a guide. We will consider where reliable and resilient supply chains are needed, with established methods for securing goods, to enable companies to grow and protect the UK from supply shocks.\n",
      "The Department for Science, Innovation and Technology is working on a cross-government action plan for each of the critical technologies. Initial work will include:\n",
      "● Developing a pro-innovation approach to regulating AI, which will be detailed in a White Paper to be published in early 2023.\n",
      "● Publishing UK strategies for semiconductors and quantum technologies in early 2023.\n",
      "● Publishing ambitious Wireless Infrastructure Strategy, which sets out our R&D priorities for future telecoms including 6G\n",
      "● Establishing a strategic approach to Engineering Biology and its applications across the economy, by mid 2023, to maximise opportunities and mitigate the risks.\n",
      "● For each critical technology, establishing a plan to protect the strategic advantage that we develop from state threats.\n",
      "● Ensuring that emerging technologies such as Large Language Models can be used to support a more innovative public sector while managing the risks.\n",
      "Note: “identifying critical technologies” is a unique strand of this Science and Technology\n",
      "Framework that is about choosing which critical technologies the UK should focus on to build strategic advantage.\n",
      "The remaining strands describe other tools that the government can use to support these choices and create the environment for success. These tools may be system-wide, such as improving science, technology, engineering and mathematics (STEM) skills across the population, or directed at a specific critical technology, for example through investment in innovative companies.\n",
      "\n",
      "\n",
      "RESULT: \n",
      "\n",
      "Yes, the provided context mentions both skills and critical technologies. It outlines the need for an agile and responsive skills system to support a world-class workforce in STEM sectors and drive economic growth. Additionally, it identifies a portfolio of five critical technologies: Artificial intelligence (AI), Engineering biology, Future telecommunications, Semiconductors, and Quantum technologies. The government is working on cross-government action plans for each of these critical technologies.\n",
      "\n",
      "\n"
     ]
    }
   ],
   "source": [
    "query = \"Are there any mentions of skills or technologies?\"\n",
    "response = retriever({\"query\": query})\n",
    "print_result(response)"
   ]
  },
  {
   "cell_type": "markdown",
   "metadata": {},
   "source": [
    "# Summarizing each section\n",
    "\n",
    "(structured chunking ends with the cell above)"
   ]
  },
  {
   "cell_type": "code",
   "execution_count": 28,
   "metadata": {},
   "outputs": [],
   "source": [
    "from langchain.prompts import PromptTemplate, ChatPromptTemplate\n",
    "from langchain.pydantic_v1 import BaseModel, Field\n",
    "from typing import Optional\n",
    "\n",
    "\"\"\"\n",
    "    Your answer will be exactly in the following format:\n",
    "    ```json\n",
    "    {{\n",
    "        \"summary\": \"<your summary here>\"\n",
    "    }}\n",
    "    ```\n",
    "\"\"\"\n",
    "\n",
    "class SectionSummaryOutput(BaseModel):\n",
    "    \"\"\"Contains summary of a given section\"\"\"\n",
    "    summary: Optional[str] = Field(None, description=\"the summary of the section\")\n",
    "\n",
    "# If we pass in a model explicitly, we need to make sure it supports the OpenAI function-calling API.\n",
    "prompt_template_structured = ChatPromptTemplate.from_messages(\n",
    "    [\n",
    "        (\n",
    "            \"system\",\n",
    "            \"\"\"\n",
    "You're an expert policy analyst that is analyzing an economic policy document. Your goal is to summarize a given section text of a document in no more than 15-20 sentences. Don't make a longer summary than the original text.\n",
    "\n",
    "The section text will be given to you in the following json format:\n",
    "```json\n",
    "{{\n",
    "    \"section\": {{\n",
    "        \"title\": \"<section title>\",\n",
    "        \"text\": \"<section text to summarize>\"\n",
    "    }}\n",
    "}}\n",
    "```\n",
    "\n",
    "Make sure to follow these rules while summarizing (as if your life depended on it):\n",
    "1. absolutely make sure that you don't skip any mentions of technologies, skills, capabilities or investments related to any of these topics: Advanced Computing, Battery Technologies, Semiconductors, Clean Energy.\n",
    "2. pay attention to the intention of the section especially with regards to sentiment towards adoption or promotion of any skills.\n",
    "3. if the text mentions or discusses policy initiatives related to inclusion, health, digital, green resilience make sure to include them in the summary.\n",
    "4. mention any discussion of funding, investments or budget allocations.\n",
    "5. in the summary, make sure to mention whether there is a certain future need for any skills or technologies\n",
    "6. mention any explicit skill needs that are mentioned in the text.\n",
    "7. if the section is a table of contents or an index, just return \"table of contents\" as the summary\n",
    "8. if the entire section contains only publication citations, don't summarize it just return \"references\" as the summary.\n",
    "            \"\"\",\n",
    "        ),\n",
    "        (\n",
    "            \"human\",\n",
    "            \"\"\"\n",
    "Here is the section json of a document to summarize:\n",
    "```json\n",
    "{{\n",
    "    \"section\": {{\n",
    "        \"title\": {section_title},\n",
    "        \"text\": {section_text}\n",
    "    }}\n",
    "}}\n",
    "```\n",
    "            \"\"\",\n",
    "        ),\n",
    "        (\"human\", \"Tip: Make sure to answer in the correct format\"),\n",
    "    ]\n",
    ")"
   ]
  },
  {
   "cell_type": "code",
   "execution_count": 29,
   "metadata": {},
   "outputs": [
    {
     "name": "stdout",
     "output_type": "stream",
     "text": [
      "H1 Skills for Jobs: Lifelong Learning for Opportunity and Growth Presented to Parliament by the Secretary of State for Education by Command of Her Majesty 2 1\n",
      "{\n",
      "  \"summary\": \"references\"\n",
      "}\n",
      "\n",
      "\n",
      "\n",
      "H1 Contents 4 2\n",
      "{\n",
      "  \"summary\": \"table of contents\"\n",
      "}\n",
      "\n",
      "\n",
      "\n",
      "H1 Foreword by the Secretary of State for Education 6 3\n",
      "{\n",
      "  \"summary\": \"The section emphasizes the need for skills development to support the nation's recovery and growth post-coronavirus pandemic and Brexit. It highlights the introduction of a Lifetime Skills Guarantee by the Prime Minister to ensure access to education and training throughout individuals' lives. The document aims to address the undervaluation of further education and technical skills, emphasizing the importance of these pathways for successful careers. There is a focus on closing the skills gap in areas such as technicians, engineers, and health and social care professionals to improve productivity and international competitiveness. The White Paper outlines plans to strengthen links between employers and education providers, with a significant investment of \\u00a31.5 billion in capital funding to improve further education colleges. Additionally, it emphasizes the need for well-managed education providers and high-quality teachers. The section also highlights the importance of further education in building an agile and adaptable workforce, especially in the face of technological change. Overall, the document aims to support individuals in retraining, updating their skills, and pursuing fulfilling and productive careers.\"\n",
      "}\n",
      "\n",
      "\n",
      "\n",
      "H2 Rt. Hon. Gavin Williamson CBE MP 7 3.1\n",
      "{\n",
      "  \"summary\": \"table of contents\"\n",
      "}\n",
      "\n",
      "\n",
      "\n"
     ]
    },
    {
     "ename": "KeyboardInterrupt",
     "evalue": "",
     "output_type": "error",
     "traceback": [
      "\u001b[0;31m---------------------------------------------------------------------------\u001b[0m",
      "\u001b[0;31mKeyboardInterrupt\u001b[0m                         Traceback (most recent call last)",
      "\u001b[1;32m/Users/dvdblk/Documents/Code/_projects/hack4good-oecd/experiments/alex/structured-querying.ipynb Cell 19\u001b[0m line \u001b[0;36m2\n\u001b[1;32m     <a href='vscode-notebook-cell:/Users/dvdblk/Documents/Code/_projects/hack4good-oecd/experiments/alex/structured-querying.ipynb#Y315sZmlsZQ%3D%3D?line=22'>23</a>\u001b[0m title, text \u001b[39m=\u001b[39m section\u001b[39m.\u001b[39mtitle, \u001b[39m\"\u001b[39m\u001b[39m\\n\u001b[39;00m\u001b[39m\"\u001b[39m\u001b[39m.\u001b[39mjoin([p\u001b[39m.\u001b[39mtext \u001b[39mfor\u001b[39;00m p \u001b[39min\u001b[39;00m section\u001b[39m.\u001b[39mparagraphs])\n\u001b[1;32m     <a href='vscode-notebook-cell:/Users/dvdblk/Documents/Code/_projects/hack4good-oecd/experiments/alex/structured-querying.ipynb#Y315sZmlsZQ%3D%3D?line=24'>25</a>\u001b[0m \u001b[39mif\u001b[39;00m \u001b[39mlen\u001b[39m(text) \u001b[39m>\u001b[39m \u001b[39m0\u001b[39m:\n\u001b[1;32m     <a href='vscode-notebook-cell:/Users/dvdblk/Documents/Code/_projects/hack4good-oecd/experiments/alex/structured-querying.ipynb#Y315sZmlsZQ%3D%3D?line=25'>26</a>\u001b[0m     \u001b[39m# Response now has no content, it's the pydantic object instead\u001b[39;00m\n\u001b[0;32m---> <a href='vscode-notebook-cell:/Users/dvdblk/Documents/Code/_projects/hack4good-oecd/experiments/alex/structured-querying.ipynb#Y315sZmlsZQ%3D%3D?line=26'>27</a>\u001b[0m     response \u001b[39m=\u001b[39m runnable\u001b[39m.\u001b[39;49minvoke({\u001b[39m\"\u001b[39;49m\u001b[39msection_title\u001b[39;49m\u001b[39m\"\u001b[39;49m: title, \u001b[39m\"\u001b[39;49m\u001b[39msection_text\u001b[39;49m\u001b[39m\"\u001b[39;49m: text})\n\u001b[1;32m     <a href='vscode-notebook-cell:/Users/dvdblk/Documents/Code/_projects/hack4good-oecd/experiments/alex/structured-querying.ipynb#Y315sZmlsZQ%3D%3D?line=27'>28</a>\u001b[0m     pretty_resp \u001b[39m=\u001b[39m json\u001b[39m.\u001b[39mdumps(response\u001b[39m.\u001b[39mdict(), indent\u001b[39m=\u001b[39m\u001b[39m2\u001b[39m)\n\u001b[1;32m     <a href='vscode-notebook-cell:/Users/dvdblk/Documents/Code/_projects/hack4good-oecd/experiments/alex/structured-querying.ipynb#Y315sZmlsZQ%3D%3D?line=29'>30</a>\u001b[0m     section_summaries\u001b[39m.\u001b[39mappend((section, response))\n",
      "File \u001b[0;32m~/miniconda/envs/hack4good/lib/python3.11/site-packages/langchain/schema/runnable/base.py:1426\u001b[0m, in \u001b[0;36mRunnableSequence.invoke\u001b[0;34m(self, input, config)\u001b[0m\n\u001b[1;32m   1424\u001b[0m \u001b[39mtry\u001b[39;00m:\n\u001b[1;32m   1425\u001b[0m     \u001b[39mfor\u001b[39;00m i, step \u001b[39min\u001b[39;00m \u001b[39menumerate\u001b[39m(\u001b[39mself\u001b[39m\u001b[39m.\u001b[39msteps):\n\u001b[0;32m-> 1426\u001b[0m         \u001b[39minput\u001b[39m \u001b[39m=\u001b[39m step\u001b[39m.\u001b[39;49minvoke(\n\u001b[1;32m   1427\u001b[0m             \u001b[39minput\u001b[39;49m,\n\u001b[1;32m   1428\u001b[0m             \u001b[39m# mark each step as a child run\u001b[39;49;00m\n\u001b[1;32m   1429\u001b[0m             patch_config(\n\u001b[1;32m   1430\u001b[0m                 config, callbacks\u001b[39m=\u001b[39;49mrun_manager\u001b[39m.\u001b[39;49mget_child(\u001b[39mf\u001b[39;49m\u001b[39m\"\u001b[39;49m\u001b[39mseq:step:\u001b[39;49m\u001b[39m{\u001b[39;49;00mi\u001b[39m+\u001b[39;49m\u001b[39m1\u001b[39;49m\u001b[39m}\u001b[39;49;00m\u001b[39m\"\u001b[39;49m)\n\u001b[1;32m   1431\u001b[0m             ),\n\u001b[1;32m   1432\u001b[0m         )\n\u001b[1;32m   1433\u001b[0m \u001b[39m# finish the root run\u001b[39;00m\n\u001b[1;32m   1434\u001b[0m \u001b[39mexcept\u001b[39;00m \u001b[39mBaseException\u001b[39;00m \u001b[39mas\u001b[39;00m e:\n",
      "File \u001b[0;32m~/miniconda/envs/hack4good/lib/python3.11/site-packages/langchain/schema/runnable/base.py:2786\u001b[0m, in \u001b[0;36mRunnableBindingBase.invoke\u001b[0;34m(self, input, config, **kwargs)\u001b[0m\n\u001b[1;32m   2780\u001b[0m \u001b[39mdef\u001b[39;00m \u001b[39minvoke\u001b[39m(\n\u001b[1;32m   2781\u001b[0m     \u001b[39mself\u001b[39m,\n\u001b[1;32m   2782\u001b[0m     \u001b[39minput\u001b[39m: Input,\n\u001b[1;32m   2783\u001b[0m     config: Optional[RunnableConfig] \u001b[39m=\u001b[39m \u001b[39mNone\u001b[39;00m,\n\u001b[1;32m   2784\u001b[0m     \u001b[39m*\u001b[39m\u001b[39m*\u001b[39mkwargs: Optional[Any],\n\u001b[1;32m   2785\u001b[0m ) \u001b[39m-\u001b[39m\u001b[39m>\u001b[39m Output:\n\u001b[0;32m-> 2786\u001b[0m     \u001b[39mreturn\u001b[39;00m \u001b[39mself\u001b[39;49m\u001b[39m.\u001b[39;49mbound\u001b[39m.\u001b[39;49minvoke(\n\u001b[1;32m   2787\u001b[0m         \u001b[39minput\u001b[39;49m,\n\u001b[1;32m   2788\u001b[0m         \u001b[39mself\u001b[39;49m\u001b[39m.\u001b[39;49m_merge_configs(config),\n\u001b[1;32m   2789\u001b[0m         \u001b[39m*\u001b[39;49m\u001b[39m*\u001b[39;49m{\u001b[39m*\u001b[39;49m\u001b[39m*\u001b[39;49m\u001b[39mself\u001b[39;49m\u001b[39m.\u001b[39;49mkwargs, \u001b[39m*\u001b[39;49m\u001b[39m*\u001b[39;49mkwargs},\n\u001b[1;32m   2790\u001b[0m     )\n",
      "File \u001b[0;32m~/miniconda/envs/hack4good/lib/python3.11/site-packages/langchain/chat_models/base.py:142\u001b[0m, in \u001b[0;36mBaseChatModel.invoke\u001b[0;34m(self, input, config, stop, **kwargs)\u001b[0m\n\u001b[1;32m    131\u001b[0m \u001b[39mdef\u001b[39;00m \u001b[39minvoke\u001b[39m(\n\u001b[1;32m    132\u001b[0m     \u001b[39mself\u001b[39m,\n\u001b[1;32m    133\u001b[0m     \u001b[39minput\u001b[39m: LanguageModelInput,\n\u001b[0;32m   (...)\u001b[0m\n\u001b[1;32m    137\u001b[0m     \u001b[39m*\u001b[39m\u001b[39m*\u001b[39mkwargs: Any,\n\u001b[1;32m    138\u001b[0m ) \u001b[39m-\u001b[39m\u001b[39m>\u001b[39m BaseMessage:\n\u001b[1;32m    139\u001b[0m     config \u001b[39m=\u001b[39m config \u001b[39mor\u001b[39;00m {}\n\u001b[1;32m    140\u001b[0m     \u001b[39mreturn\u001b[39;00m cast(\n\u001b[1;32m    141\u001b[0m         ChatGeneration,\n\u001b[0;32m--> 142\u001b[0m         \u001b[39mself\u001b[39;49m\u001b[39m.\u001b[39;49mgenerate_prompt(\n\u001b[1;32m    143\u001b[0m             [\u001b[39mself\u001b[39;49m\u001b[39m.\u001b[39;49m_convert_input(\u001b[39minput\u001b[39;49m)],\n\u001b[1;32m    144\u001b[0m             stop\u001b[39m=\u001b[39;49mstop,\n\u001b[1;32m    145\u001b[0m             callbacks\u001b[39m=\u001b[39;49mconfig\u001b[39m.\u001b[39;49mget(\u001b[39m\"\u001b[39;49m\u001b[39mcallbacks\u001b[39;49m\u001b[39m\"\u001b[39;49m),\n\u001b[1;32m    146\u001b[0m             tags\u001b[39m=\u001b[39;49mconfig\u001b[39m.\u001b[39;49mget(\u001b[39m\"\u001b[39;49m\u001b[39mtags\u001b[39;49m\u001b[39m\"\u001b[39;49m),\n\u001b[1;32m    147\u001b[0m             metadata\u001b[39m=\u001b[39;49mconfig\u001b[39m.\u001b[39;49mget(\u001b[39m\"\u001b[39;49m\u001b[39mmetadata\u001b[39;49m\u001b[39m\"\u001b[39;49m),\n\u001b[1;32m    148\u001b[0m             run_name\u001b[39m=\u001b[39;49mconfig\u001b[39m.\u001b[39;49mget(\u001b[39m\"\u001b[39;49m\u001b[39mrun_name\u001b[39;49m\u001b[39m\"\u001b[39;49m),\n\u001b[1;32m    149\u001b[0m             \u001b[39m*\u001b[39;49m\u001b[39m*\u001b[39;49mkwargs,\n\u001b[1;32m    150\u001b[0m         )\u001b[39m.\u001b[39mgenerations[\u001b[39m0\u001b[39m][\u001b[39m0\u001b[39m],\n\u001b[1;32m    151\u001b[0m     )\u001b[39m.\u001b[39mmessage\n",
      "File \u001b[0;32m~/miniconda/envs/hack4good/lib/python3.11/site-packages/langchain/chat_models/base.py:459\u001b[0m, in \u001b[0;36mBaseChatModel.generate_prompt\u001b[0;34m(self, prompts, stop, callbacks, **kwargs)\u001b[0m\n\u001b[1;32m    451\u001b[0m \u001b[39mdef\u001b[39;00m \u001b[39mgenerate_prompt\u001b[39m(\n\u001b[1;32m    452\u001b[0m     \u001b[39mself\u001b[39m,\n\u001b[1;32m    453\u001b[0m     prompts: List[PromptValue],\n\u001b[0;32m   (...)\u001b[0m\n\u001b[1;32m    456\u001b[0m     \u001b[39m*\u001b[39m\u001b[39m*\u001b[39mkwargs: Any,\n\u001b[1;32m    457\u001b[0m ) \u001b[39m-\u001b[39m\u001b[39m>\u001b[39m LLMResult:\n\u001b[1;32m    458\u001b[0m     prompt_messages \u001b[39m=\u001b[39m [p\u001b[39m.\u001b[39mto_messages() \u001b[39mfor\u001b[39;00m p \u001b[39min\u001b[39;00m prompts]\n\u001b[0;32m--> 459\u001b[0m     \u001b[39mreturn\u001b[39;00m \u001b[39mself\u001b[39;49m\u001b[39m.\u001b[39;49mgenerate(prompt_messages, stop\u001b[39m=\u001b[39;49mstop, callbacks\u001b[39m=\u001b[39;49mcallbacks, \u001b[39m*\u001b[39;49m\u001b[39m*\u001b[39;49mkwargs)\n",
      "File \u001b[0;32m~/miniconda/envs/hack4good/lib/python3.11/site-packages/langchain/chat_models/base.py:349\u001b[0m, in \u001b[0;36mBaseChatModel.generate\u001b[0;34m(self, messages, stop, callbacks, tags, metadata, run_name, **kwargs)\u001b[0m\n\u001b[1;32m    347\u001b[0m         \u001b[39mif\u001b[39;00m run_managers:\n\u001b[1;32m    348\u001b[0m             run_managers[i]\u001b[39m.\u001b[39mon_llm_error(e)\n\u001b[0;32m--> 349\u001b[0m         \u001b[39mraise\u001b[39;00m e\n\u001b[1;32m    350\u001b[0m flattened_outputs \u001b[39m=\u001b[39m [\n\u001b[1;32m    351\u001b[0m     LLMResult(generations\u001b[39m=\u001b[39m[res\u001b[39m.\u001b[39mgenerations], llm_output\u001b[39m=\u001b[39mres\u001b[39m.\u001b[39mllm_output)\n\u001b[1;32m    352\u001b[0m     \u001b[39mfor\u001b[39;00m res \u001b[39min\u001b[39;00m results\n\u001b[1;32m    353\u001b[0m ]\n\u001b[1;32m    354\u001b[0m llm_output \u001b[39m=\u001b[39m \u001b[39mself\u001b[39m\u001b[39m.\u001b[39m_combine_llm_outputs([res\u001b[39m.\u001b[39mllm_output \u001b[39mfor\u001b[39;00m res \u001b[39min\u001b[39;00m results])\n",
      "File \u001b[0;32m~/miniconda/envs/hack4good/lib/python3.11/site-packages/langchain/chat_models/base.py:339\u001b[0m, in \u001b[0;36mBaseChatModel.generate\u001b[0;34m(self, messages, stop, callbacks, tags, metadata, run_name, **kwargs)\u001b[0m\n\u001b[1;32m    336\u001b[0m \u001b[39mfor\u001b[39;00m i, m \u001b[39min\u001b[39;00m \u001b[39menumerate\u001b[39m(messages):\n\u001b[1;32m    337\u001b[0m     \u001b[39mtry\u001b[39;00m:\n\u001b[1;32m    338\u001b[0m         results\u001b[39m.\u001b[39mappend(\n\u001b[0;32m--> 339\u001b[0m             \u001b[39mself\u001b[39;49m\u001b[39m.\u001b[39;49m_generate_with_cache(\n\u001b[1;32m    340\u001b[0m                 m,\n\u001b[1;32m    341\u001b[0m                 stop\u001b[39m=\u001b[39;49mstop,\n\u001b[1;32m    342\u001b[0m                 run_manager\u001b[39m=\u001b[39;49mrun_managers[i] \u001b[39mif\u001b[39;49;00m run_managers \u001b[39melse\u001b[39;49;00m \u001b[39mNone\u001b[39;49;00m,\n\u001b[1;32m    343\u001b[0m                 \u001b[39m*\u001b[39;49m\u001b[39m*\u001b[39;49mkwargs,\n\u001b[1;32m    344\u001b[0m             )\n\u001b[1;32m    345\u001b[0m         )\n\u001b[1;32m    346\u001b[0m     \u001b[39mexcept\u001b[39;00m \u001b[39mBaseException\u001b[39;00m \u001b[39mas\u001b[39;00m e:\n\u001b[1;32m    347\u001b[0m         \u001b[39mif\u001b[39;00m run_managers:\n",
      "File \u001b[0;32m~/miniconda/envs/hack4good/lib/python3.11/site-packages/langchain/chat_models/base.py:492\u001b[0m, in \u001b[0;36mBaseChatModel._generate_with_cache\u001b[0;34m(self, messages, stop, run_manager, **kwargs)\u001b[0m\n\u001b[1;32m    488\u001b[0m     \u001b[39mraise\u001b[39;00m \u001b[39mValueError\u001b[39;00m(\n\u001b[1;32m    489\u001b[0m         \u001b[39m\"\u001b[39m\u001b[39mAsked to cache, but no cache found at `langchain.cache`.\u001b[39m\u001b[39m\"\u001b[39m\n\u001b[1;32m    490\u001b[0m     )\n\u001b[1;32m    491\u001b[0m \u001b[39mif\u001b[39;00m new_arg_supported:\n\u001b[0;32m--> 492\u001b[0m     \u001b[39mreturn\u001b[39;00m \u001b[39mself\u001b[39;49m\u001b[39m.\u001b[39;49m_generate(\n\u001b[1;32m    493\u001b[0m         messages, stop\u001b[39m=\u001b[39;49mstop, run_manager\u001b[39m=\u001b[39;49mrun_manager, \u001b[39m*\u001b[39;49m\u001b[39m*\u001b[39;49mkwargs\n\u001b[1;32m    494\u001b[0m     )\n\u001b[1;32m    495\u001b[0m \u001b[39melse\u001b[39;00m:\n\u001b[1;32m    496\u001b[0m     \u001b[39mreturn\u001b[39;00m \u001b[39mself\u001b[39m\u001b[39m.\u001b[39m_generate(messages, stop\u001b[39m=\u001b[39mstop, \u001b[39m*\u001b[39m\u001b[39m*\u001b[39mkwargs)\n",
      "File \u001b[0;32m~/miniconda/envs/hack4good/lib/python3.11/site-packages/langchain/chat_models/openai.py:422\u001b[0m, in \u001b[0;36mChatOpenAI._generate\u001b[0;34m(self, messages, stop, run_manager, stream, **kwargs)\u001b[0m\n\u001b[1;32m    420\u001b[0m message_dicts, params \u001b[39m=\u001b[39m \u001b[39mself\u001b[39m\u001b[39m.\u001b[39m_create_message_dicts(messages, stop)\n\u001b[1;32m    421\u001b[0m params \u001b[39m=\u001b[39m {\u001b[39m*\u001b[39m\u001b[39m*\u001b[39mparams, \u001b[39m*\u001b[39m\u001b[39m*\u001b[39mkwargs}\n\u001b[0;32m--> 422\u001b[0m response \u001b[39m=\u001b[39m \u001b[39mself\u001b[39;49m\u001b[39m.\u001b[39;49mcompletion_with_retry(\n\u001b[1;32m    423\u001b[0m     messages\u001b[39m=\u001b[39;49mmessage_dicts, run_manager\u001b[39m=\u001b[39;49mrun_manager, \u001b[39m*\u001b[39;49m\u001b[39m*\u001b[39;49mparams\n\u001b[1;32m    424\u001b[0m )\n\u001b[1;32m    425\u001b[0m \u001b[39mreturn\u001b[39;00m \u001b[39mself\u001b[39m\u001b[39m.\u001b[39m_create_chat_result(response)\n",
      "File \u001b[0;32m~/miniconda/envs/hack4good/lib/python3.11/site-packages/langchain/chat_models/openai.py:352\u001b[0m, in \u001b[0;36mChatOpenAI.completion_with_retry\u001b[0;34m(self, run_manager, **kwargs)\u001b[0m\n\u001b[1;32m    348\u001b[0m \u001b[39m@retry_decorator\u001b[39m\n\u001b[1;32m    349\u001b[0m \u001b[39mdef\u001b[39;00m \u001b[39m_completion_with_retry\u001b[39m(\u001b[39m*\u001b[39m\u001b[39m*\u001b[39mkwargs: Any) \u001b[39m-\u001b[39m\u001b[39m>\u001b[39m Any:\n\u001b[1;32m    350\u001b[0m     \u001b[39mreturn\u001b[39;00m \u001b[39mself\u001b[39m\u001b[39m.\u001b[39mclient\u001b[39m.\u001b[39mcreate(\u001b[39m*\u001b[39m\u001b[39m*\u001b[39mkwargs)\n\u001b[0;32m--> 352\u001b[0m \u001b[39mreturn\u001b[39;00m _completion_with_retry(\u001b[39m*\u001b[39;49m\u001b[39m*\u001b[39;49mkwargs)\n",
      "File \u001b[0;32m~/miniconda/envs/hack4good/lib/python3.11/site-packages/tenacity/__init__.py:289\u001b[0m, in \u001b[0;36mBaseRetrying.wraps.<locals>.wrapped_f\u001b[0;34m(*args, **kw)\u001b[0m\n\u001b[1;32m    287\u001b[0m \u001b[39m@functools\u001b[39m\u001b[39m.\u001b[39mwraps(f)\n\u001b[1;32m    288\u001b[0m \u001b[39mdef\u001b[39;00m \u001b[39mwrapped_f\u001b[39m(\u001b[39m*\u001b[39margs: t\u001b[39m.\u001b[39mAny, \u001b[39m*\u001b[39m\u001b[39m*\u001b[39mkw: t\u001b[39m.\u001b[39mAny) \u001b[39m-\u001b[39m\u001b[39m>\u001b[39m t\u001b[39m.\u001b[39mAny:\n\u001b[0;32m--> 289\u001b[0m     \u001b[39mreturn\u001b[39;00m \u001b[39mself\u001b[39;49m(f, \u001b[39m*\u001b[39;49margs, \u001b[39m*\u001b[39;49m\u001b[39m*\u001b[39;49mkw)\n",
      "File \u001b[0;32m~/miniconda/envs/hack4good/lib/python3.11/site-packages/tenacity/__init__.py:379\u001b[0m, in \u001b[0;36mRetrying.__call__\u001b[0;34m(self, fn, *args, **kwargs)\u001b[0m\n\u001b[1;32m    377\u001b[0m retry_state \u001b[39m=\u001b[39m RetryCallState(retry_object\u001b[39m=\u001b[39m\u001b[39mself\u001b[39m, fn\u001b[39m=\u001b[39mfn, args\u001b[39m=\u001b[39margs, kwargs\u001b[39m=\u001b[39mkwargs)\n\u001b[1;32m    378\u001b[0m \u001b[39mwhile\u001b[39;00m \u001b[39mTrue\u001b[39;00m:\n\u001b[0;32m--> 379\u001b[0m     do \u001b[39m=\u001b[39m \u001b[39mself\u001b[39;49m\u001b[39m.\u001b[39;49miter(retry_state\u001b[39m=\u001b[39;49mretry_state)\n\u001b[1;32m    380\u001b[0m     \u001b[39mif\u001b[39;00m \u001b[39misinstance\u001b[39m(do, DoAttempt):\n\u001b[1;32m    381\u001b[0m         \u001b[39mtry\u001b[39;00m:\n",
      "File \u001b[0;32m~/miniconda/envs/hack4good/lib/python3.11/site-packages/tenacity/__init__.py:314\u001b[0m, in \u001b[0;36mBaseRetrying.iter\u001b[0;34m(self, retry_state)\u001b[0m\n\u001b[1;32m    312\u001b[0m is_explicit_retry \u001b[39m=\u001b[39m fut\u001b[39m.\u001b[39mfailed \u001b[39mand\u001b[39;00m \u001b[39misinstance\u001b[39m(fut\u001b[39m.\u001b[39mexception(), TryAgain)\n\u001b[1;32m    313\u001b[0m \u001b[39mif\u001b[39;00m \u001b[39mnot\u001b[39;00m (is_explicit_retry \u001b[39mor\u001b[39;00m \u001b[39mself\u001b[39m\u001b[39m.\u001b[39mretry(retry_state)):\n\u001b[0;32m--> 314\u001b[0m     \u001b[39mreturn\u001b[39;00m fut\u001b[39m.\u001b[39;49mresult()\n\u001b[1;32m    316\u001b[0m \u001b[39mif\u001b[39;00m \u001b[39mself\u001b[39m\u001b[39m.\u001b[39mafter \u001b[39mis\u001b[39;00m \u001b[39mnot\u001b[39;00m \u001b[39mNone\u001b[39;00m:\n\u001b[1;32m    317\u001b[0m     \u001b[39mself\u001b[39m\u001b[39m.\u001b[39mafter(retry_state)\n",
      "File \u001b[0;32m~/miniconda/envs/hack4good/lib/python3.11/concurrent/futures/_base.py:449\u001b[0m, in \u001b[0;36mFuture.result\u001b[0;34m(self, timeout)\u001b[0m\n\u001b[1;32m    447\u001b[0m     \u001b[39mraise\u001b[39;00m CancelledError()\n\u001b[1;32m    448\u001b[0m \u001b[39melif\u001b[39;00m \u001b[39mself\u001b[39m\u001b[39m.\u001b[39m_state \u001b[39m==\u001b[39m FINISHED:\n\u001b[0;32m--> 449\u001b[0m     \u001b[39mreturn\u001b[39;00m \u001b[39mself\u001b[39;49m\u001b[39m.\u001b[39;49m__get_result()\n\u001b[1;32m    451\u001b[0m \u001b[39mself\u001b[39m\u001b[39m.\u001b[39m_condition\u001b[39m.\u001b[39mwait(timeout)\n\u001b[1;32m    453\u001b[0m \u001b[39mif\u001b[39;00m \u001b[39mself\u001b[39m\u001b[39m.\u001b[39m_state \u001b[39min\u001b[39;00m [CANCELLED, CANCELLED_AND_NOTIFIED]:\n",
      "File \u001b[0;32m~/miniconda/envs/hack4good/lib/python3.11/concurrent/futures/_base.py:401\u001b[0m, in \u001b[0;36mFuture.__get_result\u001b[0;34m(self)\u001b[0m\n\u001b[1;32m    399\u001b[0m \u001b[39mif\u001b[39;00m \u001b[39mself\u001b[39m\u001b[39m.\u001b[39m_exception:\n\u001b[1;32m    400\u001b[0m     \u001b[39mtry\u001b[39;00m:\n\u001b[0;32m--> 401\u001b[0m         \u001b[39mraise\u001b[39;00m \u001b[39mself\u001b[39m\u001b[39m.\u001b[39m_exception\n\u001b[1;32m    402\u001b[0m     \u001b[39mfinally\u001b[39;00m:\n\u001b[1;32m    403\u001b[0m         \u001b[39m# Break a reference cycle with the exception in self._exception\u001b[39;00m\n\u001b[1;32m    404\u001b[0m         \u001b[39mself\u001b[39m \u001b[39m=\u001b[39m \u001b[39mNone\u001b[39;00m\n",
      "File \u001b[0;32m~/miniconda/envs/hack4good/lib/python3.11/site-packages/tenacity/__init__.py:382\u001b[0m, in \u001b[0;36mRetrying.__call__\u001b[0;34m(self, fn, *args, **kwargs)\u001b[0m\n\u001b[1;32m    380\u001b[0m \u001b[39mif\u001b[39;00m \u001b[39misinstance\u001b[39m(do, DoAttempt):\n\u001b[1;32m    381\u001b[0m     \u001b[39mtry\u001b[39;00m:\n\u001b[0;32m--> 382\u001b[0m         result \u001b[39m=\u001b[39m fn(\u001b[39m*\u001b[39;49margs, \u001b[39m*\u001b[39;49m\u001b[39m*\u001b[39;49mkwargs)\n\u001b[1;32m    383\u001b[0m     \u001b[39mexcept\u001b[39;00m \u001b[39mBaseException\u001b[39;00m:  \u001b[39m# noqa: B902\u001b[39;00m\n\u001b[1;32m    384\u001b[0m         retry_state\u001b[39m.\u001b[39mset_exception(sys\u001b[39m.\u001b[39mexc_info())  \u001b[39m# type: ignore[arg-type]\u001b[39;00m\n",
      "File \u001b[0;32m~/miniconda/envs/hack4good/lib/python3.11/site-packages/langchain/chat_models/openai.py:350\u001b[0m, in \u001b[0;36mChatOpenAI.completion_with_retry.<locals>._completion_with_retry\u001b[0;34m(**kwargs)\u001b[0m\n\u001b[1;32m    348\u001b[0m \u001b[39m@retry_decorator\u001b[39m\n\u001b[1;32m    349\u001b[0m \u001b[39mdef\u001b[39;00m \u001b[39m_completion_with_retry\u001b[39m(\u001b[39m*\u001b[39m\u001b[39m*\u001b[39mkwargs: Any) \u001b[39m-\u001b[39m\u001b[39m>\u001b[39m Any:\n\u001b[0;32m--> 350\u001b[0m     \u001b[39mreturn\u001b[39;00m \u001b[39mself\u001b[39;49m\u001b[39m.\u001b[39;49mclient\u001b[39m.\u001b[39;49mcreate(\u001b[39m*\u001b[39;49m\u001b[39m*\u001b[39;49mkwargs)\n",
      "File \u001b[0;32m~/miniconda/envs/hack4good/lib/python3.11/site-packages/openai/api_resources/chat_completion.py:25\u001b[0m, in \u001b[0;36mChatCompletion.create\u001b[0;34m(cls, *args, **kwargs)\u001b[0m\n\u001b[1;32m     23\u001b[0m \u001b[39mwhile\u001b[39;00m \u001b[39mTrue\u001b[39;00m:\n\u001b[1;32m     24\u001b[0m     \u001b[39mtry\u001b[39;00m:\n\u001b[0;32m---> 25\u001b[0m         \u001b[39mreturn\u001b[39;00m \u001b[39msuper\u001b[39;49m()\u001b[39m.\u001b[39;49mcreate(\u001b[39m*\u001b[39;49margs, \u001b[39m*\u001b[39;49m\u001b[39m*\u001b[39;49mkwargs)\n\u001b[1;32m     26\u001b[0m     \u001b[39mexcept\u001b[39;00m TryAgain \u001b[39mas\u001b[39;00m e:\n\u001b[1;32m     27\u001b[0m         \u001b[39mif\u001b[39;00m timeout \u001b[39mis\u001b[39;00m \u001b[39mnot\u001b[39;00m \u001b[39mNone\u001b[39;00m \u001b[39mand\u001b[39;00m time\u001b[39m.\u001b[39mtime() \u001b[39m>\u001b[39m start \u001b[39m+\u001b[39m timeout:\n",
      "File \u001b[0;32m~/miniconda/envs/hack4good/lib/python3.11/site-packages/openai/api_resources/abstract/engine_api_resource.py:155\u001b[0m, in \u001b[0;36mEngineAPIResource.create\u001b[0;34m(cls, api_key, api_base, api_type, request_id, api_version, organization, **params)\u001b[0m\n\u001b[1;32m    129\u001b[0m \u001b[39m@classmethod\u001b[39m\n\u001b[1;32m    130\u001b[0m \u001b[39mdef\u001b[39;00m \u001b[39mcreate\u001b[39m(\n\u001b[1;32m    131\u001b[0m     \u001b[39mcls\u001b[39m,\n\u001b[0;32m   (...)\u001b[0m\n\u001b[1;32m    138\u001b[0m     \u001b[39m*\u001b[39m\u001b[39m*\u001b[39mparams,\n\u001b[1;32m    139\u001b[0m ):\n\u001b[1;32m    140\u001b[0m     (\n\u001b[1;32m    141\u001b[0m         deployment_id,\n\u001b[1;32m    142\u001b[0m         engine,\n\u001b[0;32m   (...)\u001b[0m\n\u001b[1;32m    152\u001b[0m         api_key, api_base, api_type, api_version, organization, \u001b[39m*\u001b[39m\u001b[39m*\u001b[39mparams\n\u001b[1;32m    153\u001b[0m     )\n\u001b[0;32m--> 155\u001b[0m     response, _, api_key \u001b[39m=\u001b[39m requestor\u001b[39m.\u001b[39;49mrequest(\n\u001b[1;32m    156\u001b[0m         \u001b[39m\"\u001b[39;49m\u001b[39mpost\u001b[39;49m\u001b[39m\"\u001b[39;49m,\n\u001b[1;32m    157\u001b[0m         url,\n\u001b[1;32m    158\u001b[0m         params\u001b[39m=\u001b[39;49mparams,\n\u001b[1;32m    159\u001b[0m         headers\u001b[39m=\u001b[39;49mheaders,\n\u001b[1;32m    160\u001b[0m         stream\u001b[39m=\u001b[39;49mstream,\n\u001b[1;32m    161\u001b[0m         request_id\u001b[39m=\u001b[39;49mrequest_id,\n\u001b[1;32m    162\u001b[0m         request_timeout\u001b[39m=\u001b[39;49mrequest_timeout,\n\u001b[1;32m    163\u001b[0m     )\n\u001b[1;32m    165\u001b[0m     \u001b[39mif\u001b[39;00m stream:\n\u001b[1;32m    166\u001b[0m         \u001b[39m# must be an iterator\u001b[39;00m\n\u001b[1;32m    167\u001b[0m         \u001b[39massert\u001b[39;00m \u001b[39mnot\u001b[39;00m \u001b[39misinstance\u001b[39m(response, OpenAIResponse)\n",
      "File \u001b[0;32m~/miniconda/envs/hack4good/lib/python3.11/site-packages/openai/api_requestor.py:289\u001b[0m, in \u001b[0;36mAPIRequestor.request\u001b[0;34m(self, method, url, params, headers, files, stream, request_id, request_timeout)\u001b[0m\n\u001b[1;32m    278\u001b[0m \u001b[39mdef\u001b[39;00m \u001b[39mrequest\u001b[39m(\n\u001b[1;32m    279\u001b[0m     \u001b[39mself\u001b[39m,\n\u001b[1;32m    280\u001b[0m     method,\n\u001b[0;32m   (...)\u001b[0m\n\u001b[1;32m    287\u001b[0m     request_timeout: Optional[Union[\u001b[39mfloat\u001b[39m, Tuple[\u001b[39mfloat\u001b[39m, \u001b[39mfloat\u001b[39m]]] \u001b[39m=\u001b[39m \u001b[39mNone\u001b[39;00m,\n\u001b[1;32m    288\u001b[0m ) \u001b[39m-\u001b[39m\u001b[39m>\u001b[39m Tuple[Union[OpenAIResponse, Iterator[OpenAIResponse]], \u001b[39mbool\u001b[39m, \u001b[39mstr\u001b[39m]:\n\u001b[0;32m--> 289\u001b[0m     result \u001b[39m=\u001b[39m \u001b[39mself\u001b[39;49m\u001b[39m.\u001b[39;49mrequest_raw(\n\u001b[1;32m    290\u001b[0m         method\u001b[39m.\u001b[39;49mlower(),\n\u001b[1;32m    291\u001b[0m         url,\n\u001b[1;32m    292\u001b[0m         params\u001b[39m=\u001b[39;49mparams,\n\u001b[1;32m    293\u001b[0m         supplied_headers\u001b[39m=\u001b[39;49mheaders,\n\u001b[1;32m    294\u001b[0m         files\u001b[39m=\u001b[39;49mfiles,\n\u001b[1;32m    295\u001b[0m         stream\u001b[39m=\u001b[39;49mstream,\n\u001b[1;32m    296\u001b[0m         request_id\u001b[39m=\u001b[39;49mrequest_id,\n\u001b[1;32m    297\u001b[0m         request_timeout\u001b[39m=\u001b[39;49mrequest_timeout,\n\u001b[1;32m    298\u001b[0m     )\n\u001b[1;32m    299\u001b[0m     resp, got_stream \u001b[39m=\u001b[39m \u001b[39mself\u001b[39m\u001b[39m.\u001b[39m_interpret_response(result, stream)\n\u001b[1;32m    300\u001b[0m     \u001b[39mreturn\u001b[39;00m resp, got_stream, \u001b[39mself\u001b[39m\u001b[39m.\u001b[39mapi_key\n",
      "File \u001b[0;32m~/miniconda/envs/hack4good/lib/python3.11/site-packages/openai/api_requestor.py:606\u001b[0m, in \u001b[0;36mAPIRequestor.request_raw\u001b[0;34m(self, method, url, params, supplied_headers, files, stream, request_id, request_timeout)\u001b[0m\n\u001b[1;32m    604\u001b[0m     _thread_context\u001b[39m.\u001b[39msession_create_time \u001b[39m=\u001b[39m time\u001b[39m.\u001b[39mtime()\n\u001b[1;32m    605\u001b[0m \u001b[39mtry\u001b[39;00m:\n\u001b[0;32m--> 606\u001b[0m     result \u001b[39m=\u001b[39m _thread_context\u001b[39m.\u001b[39;49msession\u001b[39m.\u001b[39;49mrequest(\n\u001b[1;32m    607\u001b[0m         method,\n\u001b[1;32m    608\u001b[0m         abs_url,\n\u001b[1;32m    609\u001b[0m         headers\u001b[39m=\u001b[39;49mheaders,\n\u001b[1;32m    610\u001b[0m         data\u001b[39m=\u001b[39;49mdata,\n\u001b[1;32m    611\u001b[0m         files\u001b[39m=\u001b[39;49mfiles,\n\u001b[1;32m    612\u001b[0m         stream\u001b[39m=\u001b[39;49mstream,\n\u001b[1;32m    613\u001b[0m         timeout\u001b[39m=\u001b[39;49mrequest_timeout \u001b[39mif\u001b[39;49;00m request_timeout \u001b[39melse\u001b[39;49;00m TIMEOUT_SECS,\n\u001b[1;32m    614\u001b[0m         proxies\u001b[39m=\u001b[39;49m_thread_context\u001b[39m.\u001b[39;49msession\u001b[39m.\u001b[39;49mproxies,\n\u001b[1;32m    615\u001b[0m     )\n\u001b[1;32m    616\u001b[0m \u001b[39mexcept\u001b[39;00m requests\u001b[39m.\u001b[39mexceptions\u001b[39m.\u001b[39mTimeout \u001b[39mas\u001b[39;00m e:\n\u001b[1;32m    617\u001b[0m     \u001b[39mraise\u001b[39;00m error\u001b[39m.\u001b[39mTimeout(\u001b[39m\"\u001b[39m\u001b[39mRequest timed out: \u001b[39m\u001b[39m{}\u001b[39;00m\u001b[39m\"\u001b[39m\u001b[39m.\u001b[39mformat(e)) \u001b[39mfrom\u001b[39;00m \u001b[39me\u001b[39;00m\n",
      "File \u001b[0;32m~/miniconda/envs/hack4good/lib/python3.11/site-packages/requests/sessions.py:529\u001b[0m, in \u001b[0;36mSession.request\u001b[0;34m(self, method, url, params, data, headers, cookies, files, auth, timeout, allow_redirects, proxies, hooks, stream, verify, cert, json)\u001b[0m\n\u001b[1;32m    524\u001b[0m send_kwargs \u001b[39m=\u001b[39m {\n\u001b[1;32m    525\u001b[0m     \u001b[39m'\u001b[39m\u001b[39mtimeout\u001b[39m\u001b[39m'\u001b[39m: timeout,\n\u001b[1;32m    526\u001b[0m     \u001b[39m'\u001b[39m\u001b[39mallow_redirects\u001b[39m\u001b[39m'\u001b[39m: allow_redirects,\n\u001b[1;32m    527\u001b[0m }\n\u001b[1;32m    528\u001b[0m send_kwargs\u001b[39m.\u001b[39mupdate(settings)\n\u001b[0;32m--> 529\u001b[0m resp \u001b[39m=\u001b[39m \u001b[39mself\u001b[39;49m\u001b[39m.\u001b[39;49msend(prep, \u001b[39m*\u001b[39;49m\u001b[39m*\u001b[39;49msend_kwargs)\n\u001b[1;32m    531\u001b[0m \u001b[39mreturn\u001b[39;00m resp\n",
      "File \u001b[0;32m~/miniconda/envs/hack4good/lib/python3.11/site-packages/requests/sessions.py:645\u001b[0m, in \u001b[0;36mSession.send\u001b[0;34m(self, request, **kwargs)\u001b[0m\n\u001b[1;32m    642\u001b[0m start \u001b[39m=\u001b[39m preferred_clock()\n\u001b[1;32m    644\u001b[0m \u001b[39m# Send the request\u001b[39;00m\n\u001b[0;32m--> 645\u001b[0m r \u001b[39m=\u001b[39m adapter\u001b[39m.\u001b[39;49msend(request, \u001b[39m*\u001b[39;49m\u001b[39m*\u001b[39;49mkwargs)\n\u001b[1;32m    647\u001b[0m \u001b[39m# Total elapsed time of the request (approximately)\u001b[39;00m\n\u001b[1;32m    648\u001b[0m elapsed \u001b[39m=\u001b[39m preferred_clock() \u001b[39m-\u001b[39m start\n",
      "File \u001b[0;32m~/miniconda/envs/hack4good/lib/python3.11/site-packages/requests/adapters.py:440\u001b[0m, in \u001b[0;36mHTTPAdapter.send\u001b[0;34m(self, request, stream, timeout, verify, cert, proxies)\u001b[0m\n\u001b[1;32m    438\u001b[0m \u001b[39mtry\u001b[39;00m:\n\u001b[1;32m    439\u001b[0m     \u001b[39mif\u001b[39;00m \u001b[39mnot\u001b[39;00m chunked:\n\u001b[0;32m--> 440\u001b[0m         resp \u001b[39m=\u001b[39m conn\u001b[39m.\u001b[39;49murlopen(\n\u001b[1;32m    441\u001b[0m             method\u001b[39m=\u001b[39;49mrequest\u001b[39m.\u001b[39;49mmethod,\n\u001b[1;32m    442\u001b[0m             url\u001b[39m=\u001b[39;49murl,\n\u001b[1;32m    443\u001b[0m             body\u001b[39m=\u001b[39;49mrequest\u001b[39m.\u001b[39;49mbody,\n\u001b[1;32m    444\u001b[0m             headers\u001b[39m=\u001b[39;49mrequest\u001b[39m.\u001b[39;49mheaders,\n\u001b[1;32m    445\u001b[0m             redirect\u001b[39m=\u001b[39;49m\u001b[39mFalse\u001b[39;49;00m,\n\u001b[1;32m    446\u001b[0m             assert_same_host\u001b[39m=\u001b[39;49m\u001b[39mFalse\u001b[39;49;00m,\n\u001b[1;32m    447\u001b[0m             preload_content\u001b[39m=\u001b[39;49m\u001b[39mFalse\u001b[39;49;00m,\n\u001b[1;32m    448\u001b[0m             decode_content\u001b[39m=\u001b[39;49m\u001b[39mFalse\u001b[39;49;00m,\n\u001b[1;32m    449\u001b[0m             retries\u001b[39m=\u001b[39;49m\u001b[39mself\u001b[39;49m\u001b[39m.\u001b[39;49mmax_retries,\n\u001b[1;32m    450\u001b[0m             timeout\u001b[39m=\u001b[39;49mtimeout\n\u001b[1;32m    451\u001b[0m         )\n\u001b[1;32m    453\u001b[0m     \u001b[39m# Send the request.\u001b[39;00m\n\u001b[1;32m    454\u001b[0m     \u001b[39melse\u001b[39;00m:\n\u001b[1;32m    455\u001b[0m         \u001b[39mif\u001b[39;00m \u001b[39mhasattr\u001b[39m(conn, \u001b[39m'\u001b[39m\u001b[39mproxy_pool\u001b[39m\u001b[39m'\u001b[39m):\n",
      "File \u001b[0;32m~/miniconda/envs/hack4good/lib/python3.11/site-packages/urllib3/connectionpool.py:703\u001b[0m, in \u001b[0;36mHTTPConnectionPool.urlopen\u001b[0;34m(self, method, url, body, headers, retries, redirect, assert_same_host, timeout, pool_timeout, release_conn, chunked, body_pos, **response_kw)\u001b[0m\n\u001b[1;32m    700\u001b[0m     \u001b[39mself\u001b[39m\u001b[39m.\u001b[39m_prepare_proxy(conn)\n\u001b[1;32m    702\u001b[0m \u001b[39m# Make the request on the httplib connection object.\u001b[39;00m\n\u001b[0;32m--> 703\u001b[0m httplib_response \u001b[39m=\u001b[39m \u001b[39mself\u001b[39;49m\u001b[39m.\u001b[39;49m_make_request(\n\u001b[1;32m    704\u001b[0m     conn,\n\u001b[1;32m    705\u001b[0m     method,\n\u001b[1;32m    706\u001b[0m     url,\n\u001b[1;32m    707\u001b[0m     timeout\u001b[39m=\u001b[39;49mtimeout_obj,\n\u001b[1;32m    708\u001b[0m     body\u001b[39m=\u001b[39;49mbody,\n\u001b[1;32m    709\u001b[0m     headers\u001b[39m=\u001b[39;49mheaders,\n\u001b[1;32m    710\u001b[0m     chunked\u001b[39m=\u001b[39;49mchunked,\n\u001b[1;32m    711\u001b[0m )\n\u001b[1;32m    713\u001b[0m \u001b[39m# If we're going to release the connection in ``finally:``, then\u001b[39;00m\n\u001b[1;32m    714\u001b[0m \u001b[39m# the response doesn't need to know about the connection. Otherwise\u001b[39;00m\n\u001b[1;32m    715\u001b[0m \u001b[39m# it will also try to release it and we'll have a double-release\u001b[39;00m\n\u001b[1;32m    716\u001b[0m \u001b[39m# mess.\u001b[39;00m\n\u001b[1;32m    717\u001b[0m response_conn \u001b[39m=\u001b[39m conn \u001b[39mif\u001b[39;00m \u001b[39mnot\u001b[39;00m release_conn \u001b[39melse\u001b[39;00m \u001b[39mNone\u001b[39;00m\n",
      "File \u001b[0;32m~/miniconda/envs/hack4good/lib/python3.11/site-packages/urllib3/connectionpool.py:449\u001b[0m, in \u001b[0;36mHTTPConnectionPool._make_request\u001b[0;34m(self, conn, method, url, timeout, chunked, **httplib_request_kw)\u001b[0m\n\u001b[1;32m    444\u001b[0m             httplib_response \u001b[39m=\u001b[39m conn\u001b[39m.\u001b[39mgetresponse()\n\u001b[1;32m    445\u001b[0m         \u001b[39mexcept\u001b[39;00m \u001b[39mBaseException\u001b[39;00m \u001b[39mas\u001b[39;00m e:\n\u001b[1;32m    446\u001b[0m             \u001b[39m# Remove the TypeError from the exception chain in\u001b[39;00m\n\u001b[1;32m    447\u001b[0m             \u001b[39m# Python 3 (including for exceptions like SystemExit).\u001b[39;00m\n\u001b[1;32m    448\u001b[0m             \u001b[39m# Otherwise it looks like a bug in the code.\u001b[39;00m\n\u001b[0;32m--> 449\u001b[0m             six\u001b[39m.\u001b[39;49mraise_from(e, \u001b[39mNone\u001b[39;49;00m)\n\u001b[1;32m    450\u001b[0m \u001b[39mexcept\u001b[39;00m (SocketTimeout, BaseSSLError, SocketError) \u001b[39mas\u001b[39;00m e:\n\u001b[1;32m    451\u001b[0m     \u001b[39mself\u001b[39m\u001b[39m.\u001b[39m_raise_timeout(err\u001b[39m=\u001b[39me, url\u001b[39m=\u001b[39murl, timeout_value\u001b[39m=\u001b[39mread_timeout)\n",
      "File \u001b[0;32m<string>:3\u001b[0m, in \u001b[0;36mraise_from\u001b[0;34m(value, from_value)\u001b[0m\n",
      "File \u001b[0;32m~/miniconda/envs/hack4good/lib/python3.11/site-packages/urllib3/connectionpool.py:444\u001b[0m, in \u001b[0;36mHTTPConnectionPool._make_request\u001b[0;34m(self, conn, method, url, timeout, chunked, **httplib_request_kw)\u001b[0m\n\u001b[1;32m    441\u001b[0m \u001b[39mexcept\u001b[39;00m \u001b[39mTypeError\u001b[39;00m:\n\u001b[1;32m    442\u001b[0m     \u001b[39m# Python 3\u001b[39;00m\n\u001b[1;32m    443\u001b[0m     \u001b[39mtry\u001b[39;00m:\n\u001b[0;32m--> 444\u001b[0m         httplib_response \u001b[39m=\u001b[39m conn\u001b[39m.\u001b[39;49mgetresponse()\n\u001b[1;32m    445\u001b[0m     \u001b[39mexcept\u001b[39;00m \u001b[39mBaseException\u001b[39;00m \u001b[39mas\u001b[39;00m e:\n\u001b[1;32m    446\u001b[0m         \u001b[39m# Remove the TypeError from the exception chain in\u001b[39;00m\n\u001b[1;32m    447\u001b[0m         \u001b[39m# Python 3 (including for exceptions like SystemExit).\u001b[39;00m\n\u001b[1;32m    448\u001b[0m         \u001b[39m# Otherwise it looks like a bug in the code.\u001b[39;00m\n\u001b[1;32m    449\u001b[0m         six\u001b[39m.\u001b[39mraise_from(e, \u001b[39mNone\u001b[39;00m)\n",
      "File \u001b[0;32m~/miniconda/envs/hack4good/lib/python3.11/http/client.py:1378\u001b[0m, in \u001b[0;36mHTTPConnection.getresponse\u001b[0;34m(self)\u001b[0m\n\u001b[1;32m   1376\u001b[0m \u001b[39mtry\u001b[39;00m:\n\u001b[1;32m   1377\u001b[0m     \u001b[39mtry\u001b[39;00m:\n\u001b[0;32m-> 1378\u001b[0m         response\u001b[39m.\u001b[39;49mbegin()\n\u001b[1;32m   1379\u001b[0m     \u001b[39mexcept\u001b[39;00m \u001b[39mConnectionError\u001b[39;00m:\n\u001b[1;32m   1380\u001b[0m         \u001b[39mself\u001b[39m\u001b[39m.\u001b[39mclose()\n",
      "File \u001b[0;32m~/miniconda/envs/hack4good/lib/python3.11/http/client.py:318\u001b[0m, in \u001b[0;36mHTTPResponse.begin\u001b[0;34m(self)\u001b[0m\n\u001b[1;32m    316\u001b[0m \u001b[39m# read until we get a non-100 response\u001b[39;00m\n\u001b[1;32m    317\u001b[0m \u001b[39mwhile\u001b[39;00m \u001b[39mTrue\u001b[39;00m:\n\u001b[0;32m--> 318\u001b[0m     version, status, reason \u001b[39m=\u001b[39m \u001b[39mself\u001b[39;49m\u001b[39m.\u001b[39;49m_read_status()\n\u001b[1;32m    319\u001b[0m     \u001b[39mif\u001b[39;00m status \u001b[39m!=\u001b[39m CONTINUE:\n\u001b[1;32m    320\u001b[0m         \u001b[39mbreak\u001b[39;00m\n",
      "File \u001b[0;32m~/miniconda/envs/hack4good/lib/python3.11/http/client.py:279\u001b[0m, in \u001b[0;36mHTTPResponse._read_status\u001b[0;34m(self)\u001b[0m\n\u001b[1;32m    278\u001b[0m \u001b[39mdef\u001b[39;00m \u001b[39m_read_status\u001b[39m(\u001b[39mself\u001b[39m):\n\u001b[0;32m--> 279\u001b[0m     line \u001b[39m=\u001b[39m \u001b[39mstr\u001b[39m(\u001b[39mself\u001b[39m\u001b[39m.\u001b[39mfp\u001b[39m.\u001b[39mreadline(_MAXLINE \u001b[39m+\u001b[39m \u001b[39m1\u001b[39m), \u001b[39m\"\u001b[39m\u001b[39miso-8859-1\u001b[39m\u001b[39m\"\u001b[39m)\n\u001b[1;32m    280\u001b[0m     \u001b[39mif\u001b[39;00m \u001b[39mlen\u001b[39m(line) \u001b[39m>\u001b[39m _MAXLINE:\n\u001b[1;32m    281\u001b[0m         \u001b[39mraise\u001b[39;00m LineTooLong(\u001b[39m\"\u001b[39m\u001b[39mstatus line\u001b[39m\u001b[39m\"\u001b[39m)\n",
      "File \u001b[0;32m~/miniconda/envs/hack4good/lib/python3.11/socket.py:706\u001b[0m, in \u001b[0;36mSocketIO.readinto\u001b[0;34m(self, b)\u001b[0m\n\u001b[1;32m    704\u001b[0m \u001b[39mwhile\u001b[39;00m \u001b[39mTrue\u001b[39;00m:\n\u001b[1;32m    705\u001b[0m     \u001b[39mtry\u001b[39;00m:\n\u001b[0;32m--> 706\u001b[0m         \u001b[39mreturn\u001b[39;00m \u001b[39mself\u001b[39;49m\u001b[39m.\u001b[39;49m_sock\u001b[39m.\u001b[39;49mrecv_into(b)\n\u001b[1;32m    707\u001b[0m     \u001b[39mexcept\u001b[39;00m timeout:\n\u001b[1;32m    708\u001b[0m         \u001b[39mself\u001b[39m\u001b[39m.\u001b[39m_timeout_occurred \u001b[39m=\u001b[39m \u001b[39mTrue\u001b[39;00m\n",
      "File \u001b[0;32m~/miniconda/envs/hack4good/lib/python3.11/ssl.py:1311\u001b[0m, in \u001b[0;36mSSLSocket.recv_into\u001b[0;34m(self, buffer, nbytes, flags)\u001b[0m\n\u001b[1;32m   1307\u001b[0m     \u001b[39mif\u001b[39;00m flags \u001b[39m!=\u001b[39m \u001b[39m0\u001b[39m:\n\u001b[1;32m   1308\u001b[0m         \u001b[39mraise\u001b[39;00m \u001b[39mValueError\u001b[39;00m(\n\u001b[1;32m   1309\u001b[0m           \u001b[39m\"\u001b[39m\u001b[39mnon-zero flags not allowed in calls to recv_into() on \u001b[39m\u001b[39m%s\u001b[39;00m\u001b[39m\"\u001b[39m \u001b[39m%\u001b[39m\n\u001b[1;32m   1310\u001b[0m           \u001b[39mself\u001b[39m\u001b[39m.\u001b[39m\u001b[39m__class__\u001b[39m)\n\u001b[0;32m-> 1311\u001b[0m     \u001b[39mreturn\u001b[39;00m \u001b[39mself\u001b[39;49m\u001b[39m.\u001b[39;49mread(nbytes, buffer)\n\u001b[1;32m   1312\u001b[0m \u001b[39melse\u001b[39;00m:\n\u001b[1;32m   1313\u001b[0m     \u001b[39mreturn\u001b[39;00m \u001b[39msuper\u001b[39m()\u001b[39m.\u001b[39mrecv_into(buffer, nbytes, flags)\n",
      "File \u001b[0;32m~/miniconda/envs/hack4good/lib/python3.11/ssl.py:1167\u001b[0m, in \u001b[0;36mSSLSocket.read\u001b[0;34m(self, len, buffer)\u001b[0m\n\u001b[1;32m   1165\u001b[0m \u001b[39mtry\u001b[39;00m:\n\u001b[1;32m   1166\u001b[0m     \u001b[39mif\u001b[39;00m buffer \u001b[39mis\u001b[39;00m \u001b[39mnot\u001b[39;00m \u001b[39mNone\u001b[39;00m:\n\u001b[0;32m-> 1167\u001b[0m         \u001b[39mreturn\u001b[39;00m \u001b[39mself\u001b[39;49m\u001b[39m.\u001b[39;49m_sslobj\u001b[39m.\u001b[39;49mread(\u001b[39mlen\u001b[39;49m, buffer)\n\u001b[1;32m   1168\u001b[0m     \u001b[39melse\u001b[39;00m:\n\u001b[1;32m   1169\u001b[0m         \u001b[39mreturn\u001b[39;00m \u001b[39mself\u001b[39m\u001b[39m.\u001b[39m_sslobj\u001b[39m.\u001b[39mread(\u001b[39mlen\u001b[39m)\n",
      "\u001b[0;31mKeyboardInterrupt\u001b[0m: "
     ]
    }
   ],
   "source": [
    "from langchain.chains.openai_functions import create_structured_output_runnable\n",
    "import json\n",
    "\n",
    "def get_all_document_sections(document):\n",
    "    sections = []\n",
    "\n",
    "    if subsections := document.subsections:\n",
    "        for subsection in subsections:\n",
    "            sections.append(subsection)\n",
    "            if s := get_all_document_sections(subsection):\n",
    "                sections.extend(s)\n",
    "\n",
    "    return sections\n",
    "\n",
    "\n",
    "all_sections = get_all_document_sections(document)\n",
    "\n",
    "runnable = create_structured_output_runnable(SectionSummaryOutput, llm, prompt_template_structured)\n",
    "\n",
    "section_summaries = []\n",
    "\n",
    "for section in all_sections:\n",
    "    title, text = section.title, \"\\n\".join([p.text for p in section.paragraphs])\n",
    "\n",
    "    if len(text) > 0:\n",
    "        # Response now has no content, it's the pydantic object instead\n",
    "        response = runnable.invoke({\"section_title\": title, \"section_text\": text})\n",
    "        pretty_resp = json.dumps(response.dict(), indent=2)\n",
    "\n",
    "        section_summaries.append((section, response))\n",
    "\n",
    "        print(section.section_type, section.title, section.starting_page, section.id)\n",
    "        print(pretty_resp)\n",
    "        print(\"\\n\\n\")\n",
    "    else:\n",
    "        section_summaries.append((section, SectionSummaryOutput(summary=None)))\n",
    "        print(\"Not querying section with no text:\", section.title)\n",
    "        print(\"Saved summary as None\")\n",
    "        print(\"\\n\\n\")\n"
   ]
  },
  {
   "cell_type": "code",
   "execution_count": 21,
   "metadata": {},
   "outputs": [
    {
     "name": "stdout",
     "output_type": "stream",
     "text": [
      "Essential Digital Skills Methodology\n",
      "Sample\n",
      "Fieldwork dates\n",
      "Fieldwork methodology\n",
      "Caveats to changing framework\n",
      "•\n",
      "•\n",
      "•\n",
      "•\n",
      "•\n",
      "•\n",
      "•\n",
      "•\n",
      "•\n",
      "•\n",
      "•\n",
      "UK Representivity and Population Estimates\n",
      "https://www.ons.gov.uk/employmentandlabourmarket/peopleinwork/employmentandemployeetypes/datasets/summary\n",
      "https://www.ons.gov.uk/peoplepopulationandcommunity/populationandmigration/populationestimates/bulletins/annual midyearpopulationestimates/mid2020\n",
      "oflabourmarketstatistics\n",
      "Impairment classification\n",
      "Ethnicity classification\n",
      "Employment classification\n",
      "Internet access question\n",
      "Impact of higher cost of living question\n",
      "A new question was asked to participants in the 2022 survey to understand how they perceive that the ongoing cost of living crisis in the UK has impacted their use of the internet and other online activities:\n",
      "Given the increasing cost of living in the UK driven by higher prices on goods and services such as food, energy and fuel, which of the following apply to you?\n",
      "1. I will have to give up internet or mobile data to be able to afford my other bills\n",
      "2. I will have to look for cheaper internet or mobile data plans to be able to afford my other bills\n",
      "3. I have already taken steps to reduce costs associated with internet or mobile data usage to allow me to continue to afford my other bills\n",
      "4. I will have to make more use of public Wi-Fi hotspots to save my mobile data\n",
      "5. I will need to rely more heavily on libraries or community centres for device usage or free Wi-Fi\n",
      "6. I will not be able to afford to start using an internet or mobile data plan of my own\n",
      "7. The rising cost of living has no impact on my ability to go online\n",
      "In the report, \"NET: The rising cost-of-living will impact my ability to go online\" is a combination of codes 1-6.\n",
      "Essential Digital Skills 2022 Tasks\n",
      "The Foundation Level\n",
      "•\n",
      "•\n",
      "•\n",
      "•\n",
      "•\n",
      "•\n",
      "•\n",
      "•\n",
      "EDS for Life\n",
      "•\n",
      "•\n",
      "•\n",
      "•\n",
      "•\n",
      "•\n",
      "•\n",
      "•\n",
      "•\n",
      "•\n",
      "•\n",
      "•\n",
      "•\n",
      "•\n",
      "•\n",
      "•\n",
      "•\n",
      "•\n",
      "•\n",
      "•\n",
      "•\n",
      "•\n",
      "•\n",
      "•\n",
      "•\n",
      "•\n",
      "EDS for Work\n",
      "•\n",
      "•\n",
      "•\n",
      "•\n",
      "•\n",
      "•\n",
      "•\n",
      "•\n",
      "•\n",
      "•\n",
      "•\n",
      "•\n",
      "•\n",
      "•\n",
      "•\n",
      "•\n",
      "•\n",
      "•\n",
      "•\n",
      "• You can be careful with what you share online as you know that online activity produces a permanent record that can be accessed by others (e.g. publicly shared photos, forums, personal information or opinions)\n",
      "Please contact us at (<mailto:digitalskillsinclusion@lloydsbanking.com>)digitalskillsinclusion@lloydsbanking.com for more details on the Essential Digital Skills 2022 survey.\n",
      "Essential Digital Skills Survey Unweighted Sample Size\n",
      "Sensory (vision or hearing) n=476\n",
      "Physical n=748\n",
      "Learning or memory n=541\n",
      "Mental health n=440\n",
      "Impairment (net) n=1362\n",
      "No impairment n=2682\n",
      "Digitally Disengaged (0 tasks for\n",
      "Foundation)\n",
      "n=llO\n",
      "On the cusp (6-7 Foundation Level\n",
      "tasks) n=370\n",
      "On the cusp of EDS for Life (22-25\n",
      "tasks) n=1233\n",
      "Can do 1-15 Life tasks n=309\n",
      "Cannot do any 26 Life tasks n=119\n",
      "Can do all 26 Life tasks n=2029\n",
      "Unemployed group n=531\n",
      "UK Labour Force group n=2981\n",
      "Foundation and Life EDS total:\n",
      "n=4,099\n",
      "Work EDS total n=2,891\n",
      "Foundation and Life EDS by\n",
      "region:\n",
      "East Midlands n=271\n",
      "East England n=366\n",
      "London n=488\n",
      "North East: n=141\n",
      "North West n=436\n",
      "South East n=552\n",
      "South West n=305\n",
      "West Midlands n=324\n",
      "Yorkshire and the Humber n=323\n",
      "Scotland n=467\n",
      "Walesn=248\n",
      "England n=3206\n",
      "Northern Ireland n=178\n",
      "Work EDS by region:\n",
      "East Midlands n=207\n",
      "East England n=266\n",
      "London n=409\n",
      "North East n=102\n",
      "North West n=326\n",
      "South East n=388\n",
      "South West n=203\n",
      "West Midlands n=253\n",
      "Yorkshire and the Humber n=224\n",
      "Scotland n=318\n",
      "Walesn=145\n",
      "England n=2378\n",
      "Northern Ireland n=140\n",
      "Essential Digital Skills Population Estimates Confidence Intervals Data within EDS 2022 ReQort -based on ONS 2020 mid-Łear stats for the UK 18+\n",
      "|    | Reference                                                                                                                                                                      | Percentage  results     |   Estimated  Grossed Figure  (millions)   |   Lower  Confidence  Interval  (millions)   |   Unnamed: 4 |   Upper  Confidence  Interval  (millions)  I   |\n",
      "|---:|:-------------------------------------------------------------------------------------------------------------------------------------------------------------------------------|:------------------------|------------------------------------------:|--------------------------------------------:|-------------:|-----------------------------------------------:|\n",
      "|  0 | The Foundation Level (8 Foundation tasks)                                                                                                                                      | 80%                     |                                      42.7 |                                         nan |         41.8 |                                           43.1 |\n",
      "|  1 | Without The Foundation Level (0-7 Foundation  tasks)                                                                                                                           | 20%                     |                                      10.2 |                                         nan |          9.8 |                                           11.1 |\n",
      "|  2 | No Foundation (0 Foundation tasks)                                                                                                                                             | 4%                      |                                       2.4 |                                         nan |          2.1 |                                            2.7 |\n",
      "|  3 | Those on the cusp (6-7 Foundation tasks)                                                                                                                                       | 9%                      |                                       4.8 |                                         nan |          4.5 |                                            5.5 |\n",
      "|  4 | Partial Foundation Level (1-7 Foundation tasks)                                                                                                                                | 15%                     |                                       7.8 |                                         nan |          7.5 |                                            8.6 |\n",
      "|  5 | I can turn on the device and enter any account  login information as required                                                                                                  | 92%                     |                                      48.4 |                                         nan |         48   |                                           48.9 |\n",
      "|  6 | I can use the available controls on my device (e.g.  mouse, keyboard, touchscreen, trackpad)                                                                                   | 93%                     |                                      49   |                                         nan |         48.6 |                                           49.5 |\n",
      "|  7 | I can use the different settings on my device to  make it easier to use (e.g. adjust font size, volume  settings, brightness of screen, voice activation or  screen readers)   | 90%                     |                                      47.6 |                                         nan |         47.1 |                                           48   |\n",
      "|  8 | I can find and open different applications  /programmes/platforms on my devices (e.g  opening a web browser, messaging applications)                                           | 90%                     |                                      47.9 |                                         nan |         47.4 |                                           48.3 |\n",
      "|  9 | I can set up connection to a Wi-Fi network on my  devices (e.g when at home, work, out in public or  visiting family and friends)                                              | 87%                     |                                      46.1 |                                         nan |         45.6 |                                           46.7 |\n",
      "| 10 | I can open an internet browser to find and use  websites (e.g Safari, Google Chrome, Mozilla  Firefox, Microsoft Edge)                                                         | 92%                     |                                      48.6 |                                         nan |         48.2 |                                           49   |\n",
      "| 11 | I can keep my login information and passwords for  a device and any accounts secure (e.g not shared  with anyone or written down or left prominently  near a device)           | 90%                     |                                      47.6 |                                         nan |         47.1 |                                           48   |\n",
      "| 12 | I can update and change my password when  prompted to do so                                                                                                                    | 91%                     |                                      47.9 |                                         nan |         47.4 |                                           48.4 |\n",
      "| 13 | I cannot turn on the device and enter any account login information as required                                                                                                | 8%                      |                                       4.5 |                                         nan |          4   |                                            4.9 |\n",
      "| 14 | I cannot use the available controls on my device  (e.g mouse, keyboard, touchscreen, trackpad)                                                                                 | 7%                      |                                       3.9 |                                         nan |          3.4 |                                            4.3 |\n",
      "| 15 | I cannot use the different settings on my device to  make it easier to use (e.g adjust font size, volume  settings, brightness of screen, voice activation or  screen readers) | 10%                     |                                       5.3 |                                         nan |          4.9 |                                            5.8 |\n",
      "| 16 | I cannot find and open different applications  /programmes/platforms on my devices (e.g.  opening a web browser, messaging applications)                                       | 10%                     |                                       5   |                                         nan |          4.6 |                                            5.5 |\n",
      "| 17 | I cannot set up connection to a Wi-Fi network on my devices (e.g. when at home, work, out in public  or visiting family and friends)                                           | 13%                     |                                       6.7 |                                         nan |          6.2 |                                            7.2 |\n",
      "| 18 | I cannot open an internet browser to find and use  websites (e.g. Safari, Google Chrome, Mozilla  Firefox, Microsoft Edge)                                                     | 8%                      |                                       4.3 |                                         nan |          3.9 |                                            4.7 |\n",
      "| 19 | I cannot keep my login information and passwords  for a device and any accounts secure (e.g. not  shared with anyone or written down or left  prominently near a device)       | 10%                     |                                       5.3 |                                         nan |          4.8 |                                            5.8 |\n",
      "| 20 | I cannot update and change my password when  prompted to do so                                                                                                                 | 9%                      |                                       5   |                                         nan |          4.5 |                                            5.5 |\n",
      "|    | Digitally Disengaged (0 Foundation tasks)                | 4%     |   2.4   |   2.1   |   2.7   |\n",
      "|---:|:---------------------------------------------------------|:-------|--------:|--------:|--------:|\n",
      "|  0 | Those on the cusp (6-7 Foundation tasks tasks)           | 9%     |     4.8 |     4.5 |     5.5 |\n",
      "|  1 | Life EDS (5 Life skills)                                 | 88%    |    46.5 |    46   |    47.1 |\n",
      "|  2 | Without Life EDS (0-4 Life skills)                       | 12%    |     6.4 |     5.8 |     6.8 |\n",
      "|  3 | Zero Life Skills                                         | 5%     |     2.7 |     2.2 |     3   |\n",
      "|  4 | Partial Life Skills (1-4 Life skills)                    | 7%     |     3.7 |     3.3 |     4.1 |\n",
      "|  5 | Those who cannot do any 26 Life Tasks                    | 5%     |     2.7 |     2.2 |     3   |\n",
      "|  6 | Those who can do all 26 Life Tasks                       | 47%    |    25.1 |    24.2 |    25.8 |\n",
      "|  7 | Work EDS (5 Work skills)                                 | 78%    |    31.6 |    30.8 |    31.8 |\n",
      "|  8 | Without Work EDS (0-4 Work skills)                       | 22%    |     8.6 |     8.4 |     9.4 |\n",
      "|  9 | Zero Work Skills                                         | 8%     |     3.2 |     3   |     3.6 |\n",
      "| 10 | Partial Work Skills (1-4 Work skills)                    | 14%    |     5.4 |     5.1 |     6.1 |\n",
      "| 11 | Those not employed and have the Foundation  Level        | 78%    |     6   |     5.7 |     6.2 |\n",
      "| 12 | Those not employed and do not have the  Foundation Level | 22%    |     1.6 |     1.4 |     1.9 |\n",
      "| 13 | UK Average and have the Foundation Level                 | 80%    |    42.7 |    41.8 |    43.1 |\n",
      "| 14 | UK Average and do not have the Foundation Level          | 20%    |    10.2 |     9.8 |    11.1 |\n",
      "| 15 | Those employed and have the Foundation Level             | 90%    |    29.7 |    29.1 |    29.9 |\n",
      "| 16 | Those employed and do not have the Foundation  Level     | 10%    |     2.9 |     2.7 |     3.5 |\n",
      "| 17 | Those not employed and have Life EDS                     | 86%    |     6.5 |     6.3 |     6.8 |\n",
      "| 18 | Those not employed and do not have Life EDS              | 14%    |     1.1 |     0.8 |     1.3 |\n",
      "| 19 | UK Average and have Life EDS                             | 88%    |    46.5 |    46   |    47.1 |\n",
      "| 20 | UK Average and do not have Life EDS                      | 12%    |     6.4 |     5.8 |     6.8 |\n",
      "| 21 | Those employed and have Life EDS                         | 95%    |    30.9 |    30.5 |    31.1 |\n",
      "| 22 | Those employed and do not have Life EDS                  | 5%     |     1.7 |     1.5 |     2.1 |\n",
      "| 23 | Those not employed and have Work EDS                     | 60%    |     4.6 |     4.2 |     4.9 |\n",
      "| 24 | Those not employed and do not have Work EDS              | 40%    |     3   |     2.7 |     3.4 |\n",
      "| 25 | Those employed and have Work EDS                         | 82%    |    27   |    25.8 |    27.8 |\n",
      "| 26 | Those employed and do not have Work EDS                  | 18%    |     5.6 |     4.7 |     6.8 |\n",
      "| 27 | Those not employed and do not have the  Foundation Level | 22%    |     1.6 |     1.4 |     1.9 |\n",
      "|    | Those not employed and cannot do any  Foundation tasks     | 4%     |   0.3   |   0.2   |   0.4   |\n",
      "|---:|:-----------------------------------------------------------|:-------|--------:|--------:|--------:|\n",
      "|  0 | Those not employed and do not have Life EDS                | 14%    |     1.1 |     0.8 |     1.3 |\n",
      "|  1 | Those not employed and can do all 20 Work Tasks            | 33%    |     2.5 |     2.2 |     2.8 |\n",
      "|  2 | Those not employed and cannot do any Work  Tasks           | 20%    |     1.6 |     1.3 |     1.8 |\n",
      "Data within EDS 2022 Ai;mendix -based on ONS 2020 mid-11ear stats for the UK 18+\n",
      "|    | Reference                                                                                                                                                                                              | Percentage  results     |   Estimated  Grossed Figure  (millions)   |   Lower  Confidence  Interval   |   Upper  Confidence  Interval  I   |\n",
      "|---:|:-------------------------------------------------------------------------------------------------------------------------------------------------------------------------------------------------------|:------------------------|------------------------------------------:|--------------------------------:|-----------------------------------:|\n",
      "|  0 | Has Communicating Skill (Life)                                                                                                                                                                         | 94%                     |                                      49.5 |                            49.2 |                               49.9 |\n",
      "|  1 | Has Handling Information and Content Skill (Life)                                                                                                                                                      | 93%                     |                                      49.3 |                            49   |                               49.8 |\n",
      "|  2 | Has Transacting Skill (Life)                                                                                                                                                                           | 92%                     |                                      48.5 |                            48.1 |                               48.9 |\n",
      "|  3 | Has Problem Solving Skill (Life)                                                                                                                                                                       | 90%                     |                                      47.4 |                            47   |                               48   |\n",
      "|  4 | Has Being Safe and Legal Online Skill (Life)                                                                                                                                                           | 94%                     |                                      49.6 |                            49.3 |                               50   |\n",
      "|  5 | Does not have Communicating Skill (Life)                                                                                                                                                               | 6%                      |                                       3.4 |                             3   |                                3.7 |\n",
      "|  6 | Does not have Handling Information and Content Skill  (Life)                                                                                                                                           | 7%                      |                                       3.5 |                             3   |                                3.9 |\n",
      "|  7 | Does not have Transacting Skill (Life)                                                                                                                                                                 | 8%                      |                                       4.4 |                             4   |                                4.8 |\n",
      "|  8 | Does not have Problem Solving Skill (Life)                                                                                                                                                             | 10%                     |                                       5.5 |                             4.9 |                                5.9 |\n",
      "|  9 | Does not have Being Safe and Legal Online Skill (Life)                                                                                                                                                 | 6%                      |                                       3.3 |                             2.9 |                                3.6 |\n",
      "| 10 | I can set up accounts which help me communicate  online (e.g. email, social media, forums)                                                                                                             | 85%                     |                                      45.2 |                            44.6 |                               45.7 |\n",
      "| 11 | I can communicate with others digitally using email or other messaging applications (e.g. WhatsApp or  Messenger, direct messaging on social media such as  lnstagram, Facebook etc)                   | 91%                     |                                      48.3 |                            47.9 |                               48.8 |\n",
      "| 12 | I can use software to create, write or edit documents  (e.g. Microsoft Word/ Google docs/ Pages for a  CV/letter)                                                                                      | 80%                     |                                      42.3 |                            41.7 |                               43   |\n",
      "| 13 | I can share files or links with others by attaching to an  email, uploading to a website or an application (e.g.  proof of address/ identity, sharing an image, or link via  WhatsApp)                 | 85%                     |                                      44.7 |                            44.2 |                               45.4 |\n",
      "| 14 | I can make and receive video calls (e.g. Facetime, Zoom,  Facebook Portal or WhatsApp call)                                                                                                            | 86%                     |                                      45.7 |                            45.2 |                               46.2 |\n",
      "| 15 | I can post messages, photographs, videos or biogs on  social media platforms (e.g. Facebook, lnstagram, Tik  Tok, Twitter or Snapchat)                                                                 | 80%                     |                                      42.2 |                            41.6 |                               42.9 |\n",
      "| 16 | I can recognise what information or content online may,  or may not, be trustworthy (e.g. fact checked  information, \"fake news\" or assess the trustworthiness of a company based on customer reviews) | 85%                     |                                      44.9 |                            44.2 |                               45.3 |\n",
      "| 17 | I can use search engines to find information I'm looking  for (e.g. search for news, the weather, train times)                                                                                         | 92%                     |                                      48.4 |                            47.9 |                               48.9 |\n",
      "| 18 | I can store and back up photos, messages, documents or  other information (e.g. iCloud, Google Drive, Dropbox,  OneDrive, desktop or storage drive)                                                    | 82%                     |                                      43.4 |                            42.6 |                               43.9 |\n",
      "|    | I can use the cloud to access content from different  devices (e.g. smartphone, tablet, laptop and desktop)                                                                                                                                                    | 72%     |   38.2   |   37.4   |   38.9   |\n",
      "|---:|:---------------------------------------------------------------------------------------------------------------------------------------------------------------------------------------------------------------------------------------------------------------|:--------|---------:|---------:|---------:|\n",
      "|  0 | I can use the internet to stream or download  entertainment content (e.g. films, TV series, music, games or books through services like You Tube, Spotify,  Netflix, BBC iPlayer)                                                                              | 85%     |     44.9 |     44.2 |     45.3 |\n",
      "|  1 | I can set up an account online that enables me to buy  goods or services (e.g. Amazon, eBay, supermarkets or  other retailers)                                                                                                                                 | 87%     |     46   |     45.4 |     46.4 |\n",
      "|  2 | I can fill in forms online to access the services I need (e.g.  Voting registration, ordering repeat prescriptions,  booking doctor appointments, booking train tickets or  beauty appointments)                                                               | 86%     |     45.6 |     45   |     46.2 |\n",
      "|  3 | I can buy goods/services online using online payments  (e.g. Debit/ credit card, PayPal, Apple Pay, Google Pay,  Worldpay)                                                                                                                                     | 87%     |     46.2 |     45.6 |     46.7 |\n",
      "|  4 | I can manage my money and transactions online (e.g.  View balance or transfer funds via internet or transfer  funds via internet or mobile banking app, manage  spending through PayPal account, manage payments  on finance plan)                             | 84%     |     44.8 |     44   |     45.2 |\n",
      "|  5 | I can use the internet to find information that helps me  solve problems (e.g. by using search engines, web chat,  FAQs and forums)                                                                                                                            | 88%     |     46.2 |     45.8 |     46.8 |\n",
      "|  6 | I can use the internet to improve my skills and ability to  do new things (e.g. using online tutorials, learning  platforms and how-to guides)                                                                                                                 | 82%     |     43.6 |     43   |     44.2 |\n",
      "|  7 | I can act with caution online and understand that there  are risks and threats involved in carrying out activities  online (e.g. use anti-virus software, classify and share  information securely or avoid certain types of websites such as piracy websites) | 89%     |     47   |     46.4 |     47.5 |\n",
      "|  8 | I can set privacy and marketing settings for websites and  my accounts (e.g. managing social media privacy  settings, managing cookie settings, updating contact  preferences)                                                                                 | 78%     |     41.6 |     40.8 |     42.1 |\n",
      "|  9 | I can follow data protection guidelines online (e.g.  following data storage and retention guidelines, not sharing or using other people's data or media such as  movies or music without their consent)                                                       | 85%     |     44.8 |     44.1 |     45.3 |\n",
      "| 10 | I can respond to requests for authentication for online  accounts (e.g. resetting my password when I've  forgotten it, two factor authentication, using a remote  access key or an authenticator app)                                                          | 85%     |     45.2 |     44.6 |     45.7 |\n",
      "| 11 | I can identify secure websites (e.g. by looking for the  padlock and 'https' in the address bar)                                                                                                                                                               | 83%     |     43.9 |     43.4 |     44.5 |\n",
      "| 12 | I can recognise suspicious links and know that clicking  on these links or downloading unfamiliar attachments is  a risk (e.g. spam/ phishing emails, texts, pop ups)                                                                                          | 89%     |     47   |     46.4 |     47.5 |\n",
      "| 13 | I can update my device software/ operating systems  when necessary to prevent viruses and other risks (e.g.  enabling automatic updates, or installing when  prompted to do so)                                                                                | 85%     |     44.9 |     44.2 |     45.4 |\n",
      "| 14 | I can identify secure Wi-Fi networks to connect to (e.g.  Wi-Fi networks where a unique password is required,  trusted source or padlock next to Wi-Fi network)                                                                                                | 83%     |     43.8 |     43   |     44.3 |\n",
      "| 15 | I can be careful with what I share online as I know that  online activity produces a permanent record that can be  accessed by others (e.g. publicly shared photos, forums, personal information or opinions)                                                  | 89%     |     47   |     46.5 |     47.5 |\n",
      "| 16 | I cannot set up accounts which help me communicate  online (e.g. email, social media, forums)                                                                                                                                                                  | 15%     |      7.7 |      7.2 |      8.3 |\n",
      "|    | I cannot communicate with others digitally using email  or other messaging applications (e.g. WhatsApp or Messenger, direct messaging on social media such as  lnstagram, Facebook etc)                                                                            | Unnamed: 1   | 9%     |   Unnamed: 3 |   4.6   |   Unnamed: 5 |   4.0   |   5.0   |\n",
      "|---:|:-------------------------------------------------------------------------------------------------------------------------------------------------------------------------------------------------------------------------------------------------------------------|:-------------|:-------|-------------:|--------:|-------------:|--------:|--------:|\n",
      "|  0 | I cannot use software to create, write or edit documents  (e.g. Microsoft Word/ Google docs/ Pages for a  CV/letter)                                                                                                                                               | nan          | 20%    |        nan   |    10.5 |        nan   |     9.9 |    11.2 |\n",
      "|  1 | I cannot share files or links with others by attaching to an  email, uploading to a website or an application (e.g.  proof of address/ identity, sharing an image, or link via  WhatsApp)                                                                          | 15%          | nan    |          8.1 |   nan   |          7.5 |   nan   |     8.7 |\n",
      "|  2 | I cannot make and receive video calls (e.g. Facetime,  Zoom, Facebook Portal or WhatsApp call)                                                                                                                                                                     | 14%          | nan    |          7.1 |   nan   |          6.7 |   nan   |     7.7 |\n",
      "|  3 | I cannot post messages, photographs, videos or biogs on  social media platforms (e.g. Facebook, lnstagram, Tik  Tok, Twitter or Snapchat)                                                                                                                          | 20%          | nan    |         10.7 |   nan   |         10   |   nan   |    11.3 |\n",
      "|  4 | I cannot recognise what information or content online  may, or may not, be trustworthy (e.g. fact checked  information, \"fake news\" or assess the trustworthiness of  a company based on customer reviews)                                                         | 15%          | nan    |          8   |   nan   |          7.6 |   nan   |     8.7 |\n",
      "|  5 | I cannot use search engines to find information I'm  looking for (e.g. search for news, the weather, train  times)                                                                                                                                                 | 9%           | nan    |          4.5 |   nan   |          4   |   nan   |     4.9 |\n",
      "|  6 | I cannot store and back up photos, messages,  documents or other information (e.g. iCloud, Google  Drive, Dropbox, OneDrive, desktop or storage drive)                                                                                                             | 18%          | nan    |          9.5 |   nan   |          9   |   nan   |    10.3 |\n",
      "|  7 | I cannot use the cloud to access content from different  devices (e.g. smartphone, tablet, laptop and desktop)                                                                                                                                                     | 28%          | nan    |         14.7 |   nan   |         14   |   nan   |    15.4 |\n",
      "|  8 | I cannot use the internet to stream or download  entertainment content (e.g. films, TV series, music,  games or books through services like You Tube, Spotify,  Netflix, BBC iPlayer)                                                                              | 15%          | nan    |          8   |   nan   |          7.6 |   nan   |     8.7 |\n",
      "|  9 | I cannot set up an account online that enables me to buy  goods or services (e.g. Amazon, eBay, supermarkets or  other retailers)                                                                                                                                  | 13%          | nan    |          6.9 |   nan   |          6.4 |   nan   |     7.5 |\n",
      "| 10 | I cannot fill in forms online to access the services I need  (e.g. Voting registration, ordering repeat prescriptions,  booking doctor appointments, booking train tickets or beauty appointments)                                                                 | 14%          | nan    |          7.3 |   nan   |          6.7 |   nan   |     7.9 |\n",
      "| 11 | I cannot buy goods/services online using online  payments (e.g. Debit/ credit card, PayPal, Apple Pay,  Google Pay, Worldpay)                                                                                                                                      | 13%          | nan    |          6.7 |   nan   |          6.2 |   nan   |     7.3 |\n",
      "| 12 | I cannot manage my money and transactions online  (e.g. View balance or transfer funds via internet or  transfer funds via internet or mobile banking app,  manage spending through PayPal account, manage  payments on finance plan)                              | 16%          | nan    |          8.1 |   nan   |          7.7 |   nan   |     8.9 |\n",
      "| 13 | I cannot use the internet to find information that helps  me solve problems (e.g. by using search engines, web  chat, FAQs and forums)                                                                                                                             | 12%          | nan    |          6.7 |   nan   |          6.1 |   nan   |     7.1 |\n",
      "| 14 | I cannot use the internet to improve my skills and ability  to do new things (e.g. using online tutorials, learning  platforms and how-to guides)                                                                                                                  | 18%          | nan    |          9.3 |   nan   |          8.7 |   nan   |     9.9 |\n",
      "| 15 | I cannot act with caution online and understand that  there are risks and threats involved in carrying out  activities online (e.g. use anti-virus software, classify and  share information securely or avoid certain types of  websites such as piracy websites) | 11%          | nan    |          5.9 |   nan   |          5.4 |   nan   |     6.4 |\n",
      "| 16 | I cannot set privacy and marketing settings for websites  and my accounts (e.g. managing social media privacy  settings, managing cookie settings, updating contact  preferences)                                                                                  | 22%          | nan    |         11.3 |   nan   |         10.7 |   nan   |    12.1 |\n",
      "|    | I cannot follow data protection guidelines online (e.g.  following data storage and retention guidelines, not  sharing or using other people's data or media such as  movies or music without their consent)      | 16%     |   8.1   |   7.6   |   8.8   |\n",
      "|---:|:------------------------------------------------------------------------------------------------------------------------------------------------------------------------------------------------------------------|:--------|--------:|--------:|--------:|\n",
      "|  0 | I cannot respond to requests for authentication for  online accounts (e.g. resetting my password when I've forgotten it, two factor authentication, using a remote  access key or an authenticator app)           | 15%     |     7.7 |     7.1 |     8.3 |\n",
      "|  1 | I cannot identify secure websites (e.g. by looking for the padlock and 'https' in the address bar)                                                                                                                | 17%     |     8.9 |     8.4 |     9.5 |\n",
      "|  2 | I cannot recognise suspicious links and know that  clicking on these links or downloading unfamiliar  attachments is a risk (e.g. spam/ phishing emails, texts,  pop ups)                                         | 11%     |     5.9 |     5.4 |     6.5 |\n",
      "|  3 | I cannot update my device software/ operating systems when necessary to prevent viruses and other risks (e.g.  enabling automatic updates, or installing when  prompted to do so)                                 | 15%     |     8   |     7.5 |     8.7 |\n",
      "|  4 | I cannot identify secure Wi-Fi networks to connect to  (e.g. Wi-Fi networks where a unique password is  required, trusted source or padlock next to Wi-Fi  network)                                               | 17%     |     9.1 |     8.6 |     9.9 |\n",
      "|  5 | I cannot be careful with what I share online as I know  that online activity produces a permanent record that  can be accessed by others (e.g. publicly shared photos,  forums, personal information or opinions) | 11%     |     5.9 |     5.4 |     6.4 |\n",
      "\n"
     ]
    }
   ],
   "source": [
    "for line in document.text.split(\"\\n\"):\n",
    "    print(line)"
   ]
  },
  {
   "cell_type": "markdown",
   "metadata": {},
   "source": [
    "### PDFTriage style OpenAI functions\n",
    "\n",
    "1. initial prompt question (context=document section hierarchy + summaries)\n",
    "\n",
    "\n",
    "the following is an impl of openai functions with langchain (https://python.langchain.com/docs/modules/chains/how_to/openai_functions#getting-structured-outputs):"
   ]
  },
  {
   "cell_type": "code",
   "execution_count": 12,
   "metadata": {},
   "outputs": [],
   "source": [
    "from typing import Optional\n",
    "\n",
    "from langchain.chains.openai_functions import (\n",
    "    create_openai_fn_chain,\n",
    "    create_openai_fn_runnable,\n",
    "    create_structured_output_chain,\n",
    "    create_structured_output_runnable,\n",
    ")\n",
    "from langchain.chat_models import ChatOpenAI\n",
    "from langchain.prompts import ChatPromptTemplate\n",
    "from langchain.pydantic_v1 import BaseModel, Field"
   ]
  },
  {
   "cell_type": "code",
   "execution_count": 67,
   "metadata": {},
   "outputs": [],
   "source": [
    "class Person(BaseModel):\n",
    "    \"\"\"Identifying information about a person.\"\"\"\n",
    "\n",
    "    name: str = Field(..., description=\"The person's name\")\n",
    "    age: int = Field(..., description=\"The person's age\")\n",
    "    fav_food: Optional[str] = Field(None, description=\"The person's favorite food\")\n",
    "\n",
    "# If we pass in a model explicitly, we need to make sure it supports the OpenAI function-calling API.\n",
    "prompt = ChatPromptTemplate.from_messages(\n",
    "    [\n",
    "        (\n",
    "            \"system\",\n",
    "            \"You are a world class algorithm for extracting information in structured formats.\",\n",
    "        ),\n",
    "        (\n",
    "            \"human\",\n",
    "            \"Use the given format to extract information from the following input: {input}\",\n",
    "        ),\n",
    "        (\"human\", \"Tip: Make sure to answer in the correct format\"),\n",
    "    ]\n",
    ")\n",
    "\n",
    "runnable = create_structured_output_runnable(Person, llm, prompt)\n",
    "runnable.invoke({\"input\": \"Sally is 13\"})"
   ]
  },
  {
   "cell_type": "code",
   "execution_count": 15,
   "metadata": {},
   "outputs": [
    {
     "data": {
      "text/plain": [
       "People(people=[Person(name='Sally', age=13, fav_food=None), Person(name='Joey', age=12, fav_food='spinach'), Person(name='Caroline', age=23, fav_food=None)])"
      ]
     },
     "execution_count": 15,
     "metadata": {},
     "output_type": "execute_result"
    }
   ],
   "source": [
    "from typing import Sequence\n",
    "\n",
    "\n",
    "class People(BaseModel):\n",
    "    \"\"\"Identifying information about all people in a text.\"\"\"\n",
    "\n",
    "    people: Sequence[Person] = Field(..., description=\"The people in the text\")\n",
    "\n",
    "\n",
    "runnable = create_structured_output_runnable(People, llm, prompt)\n",
    "runnable.invoke(\n",
    "    {\n",
    "        \"input\": \"Sally is 13, Joey just turned 12 and loves spinach. Caroline is 10 years older than Sally.\"\n",
    "    }\n",
    ")"
   ]
  },
  {
   "cell_type": "markdown",
   "metadata": {},
   "source": [
    "## Tools as OpenAI Functions\n",
    "\n",
    "https://python.langchain.com/docs/modules/agents/tools/tools_as_openai_functions"
   ]
  },
  {
   "cell_type": "code",
   "execution_count": 100,
   "metadata": {},
   "outputs": [
    {
     "data": {
      "text/plain": [
       "HumanMessagePromptTemplate(prompt=PromptTemplate(input_variables=['document_structural_metadata', 'question'], template='\\n<< Question >>\\n{question}\\n\\n<< Document >>\\n{document_structural_metadata}\\n'))"
      ]
     },
     "execution_count": 100,
     "metadata": {},
     "output_type": "execute_result"
    }
   ],
   "source": [
    "from langchain.schema import HumanMessage\n",
    "from langchain.tools import format_tool_to_openai_function, BaseTool\n",
    "from typing import Type, Sequence\n",
    "from langchain.prompts import HumanMessagePromptTemplate, SystemMessagePromptTemplate\n",
    "from langchain.callbacks.manager import (\n",
    "    AsyncCallbackManagerForToolRun,\n",
    "    CallbackManagerForToolRun,\n",
    ")\n",
    "\n",
    "\n",
    "# Fetch Section tool\n",
    "class FetchSectionsSchema(BaseModel):\n",
    "    reasoning: str = Field(description=\"the reasoning behind the selection of a section to fetch\")\n",
    "    section_ids: Sequence[str] = Field(description=\"the exact ID(s) of the section(s) to fetch\")\n",
    "\n",
    "class FetchSectionsTool(BaseTool):\n",
    "    name = \"fetch_sections\"\n",
    "    description = \"fetches an entire section or sections from a document that might contain an answer to the question\"\n",
    "    args_schema: Type[FetchSectionsSchema] = FetchSectionsSchema\n",
    "\n",
    "    def _run(\n",
    "        self,\n",
    "        reasoning: str,\n",
    "        section_ids: Sequence[str],\n",
    "        run_manager: Optional[CallbackManagerForToolRun] = None,\n",
    "        **kwargs,\n",
    "    ) -> Sequence[str]:\n",
    "        \"\"\"Use the tool.\"\"\"\n",
    "        sections = []\n",
    "        # get full section text from document\n",
    "        for section, _ in section_summaries:\n",
    "            if section.id in section_ids:\n",
    "                result = {\n",
    "                    \"title\": section.title_clean,\n",
    "                    \"id\": section.id,\n",
    "                    \"text\": \"\\n\".join([p.text for p in section.paragraphs])\n",
    "                }\n",
    "                sections.append(result)\n",
    "        return sections\n",
    "\n",
    "\n",
    "# Fetch pages tool\n",
    "class FetchPagesSchema(BaseModel):\n",
    "    page_numbers: Sequence[int] = Field(description=\"the page numbers to fetch\")\n",
    "\n",
    "class FetchPagesTool(BaseTool):\n",
    "    name = \"fetch_pages\"\n",
    "    description = \"useful when you need to fetch specific pages from a document, for example to fetch multiple sections at a time\"\n",
    "    args_schema: Type[FetchPagesSchema] = FetchPagesSchema\n",
    "\n",
    "# Create langchain tools\n",
    "tools = [\n",
    "    FetchSectionsTool(),\n",
    "    #FetchPagesTool()\n",
    "]\n",
    "# Transform to openai functions\n",
    "openai_functions = [format_tool_to_openai_function(t) for t in tools]\n",
    "\n",
    "\"\"\"\n",
    "<< Example structure of the document >>\n",
    "```json\n",
    "{{\n",
    "    \"document\": {{\n",
    "        \"title\": <title of the document>,\n",
    "        \"sections\": [\n",
    "            {{\n",
    "                \"title\": <title of the section>,\n",
    "                \"pages\": <list of page numbers this section spans over>,\n",
    "                \"summary\": <brief summary of the section>,\n",
    "                \"sections\": <list of nested sections in this section, same structure as above>\n",
    "            }}\n",
    "        ]\n",
    "    }}\n",
    "}}\n",
    "```\n",
    "\n",
    "\"\"\"\n",
    "# Structured metadata prompt (initial for most questions)\n",
    "structured_metadata_system_prompt = SystemMessagePromptTemplate.from_template(\n",
    "\"\"\"\n",
    "You're an expert policy analyst that needs to find the appropriate sections of an economic policy document that answers the given question.\n",
    "Your task is to look at the summaries in the following structural metadata json and find the appropriate section IDs of the document that might contain the answer.\n",
    "\n",
    "Strictly adhere to these rules under all circumstances:\n",
    "1. if you can't find the answer from the summaries, just fetch the most relevant sections to the question\n",
    "2. for questions that are similar to \"what is the document about?\" or \"what is the summary of the document?\": try to fetch initial or final sections with \"summary\" or \"conclusion\" in their title.\n",
    "3. always make sure to return all sections or subsections that might be relevant to the question as their respective IDs\n",
    "\"\"\")\n",
    "\n",
    "structured_metadata_prompt = HumanMessagePromptTemplate.from_template(\"\"\"\n",
    "<< Question >>\n",
    "{question}\n",
    "\n",
    "<< Document >>\n",
    "{document_structural_metadata}\n",
    "\"\"\")\n",
    "structured_metadata_prompt"
   ]
  },
  {
   "cell_type": "code",
   "execution_count": 101,
   "metadata": {},
   "outputs": [
    {
     "name": "stdout",
     "output_type": "stream",
     "text": [
      "{\n",
      "  \"document\": {\n",
      "    \"title\": null,\n",
      "    \"sections\": [\n",
      "      {\n",
      "        \"title\": \"CONTENTS\",\n",
      "        \"id\": \"1\",\n",
      "        \"pages\": [\n",
      "          2\n",
      "        ],\n",
      "        \"summary\": \"table of contents\"\n",
      "      },\n",
      "      {\n",
      "        \"title\": \"EXECUTIVE SUMMARY\",\n",
      "        \"id\": \"2\",\n",
      "        \"pages\": [\n",
      "          4,\n",
      "          5,\n",
      "          6\n",
      "        ],\n",
      "        \"summary\": \"The section discusses the government's goal of creating a modern class of technicians to address skills shortages and the aging workforce in the UK economy. It investigates the role of technicians in the space industry, their duties, required skills, and how employers obtain them. The report focuses on the space sector's upstream and downstream activities, highlighting the sector's significant contribution to the UK GDP and employment. It also emphasizes the rapid growth and high labor productivity of the space sector. The data collected indicates that most technicians are employed by upstream manufacturers and possess qualifications such as HNC in engineering. The report highlights the shift towards in-house training and apprenticeships to meet the growing demand for technicians. It discusses the advantages of apprenticeship training, the qualifications apprentices are studying for, and the challenges faced by employers in establishing apprenticeship programs. Additionally, it addresses ongoing training for established technicians, including re-certification requirements for certain roles. The report suggests that policy-makers should explore incentives for further education colleges to offer the required training and ways for smaller organizations to participate in established apprentice training schemes.\"\n",
      "      },\n",
      "      {\n",
      "        \"title\": \" INTRODUCTION1\",\n",
      "        \"id\": \"3\",\n",
      "        \"pages\": [\n",
      "          8,\n",
      "          9\n",
      "        ],\n",
      "        \"summary\": \"The section discusses the recent policy statements emphasizing the importance of increasing the status and numbers of technicians in the UK economy. The goal is to create a 'modern class of technicians' to address increasing concerns about skills shortages at the technician level. Ambitious targets have been set for increasing the number of apprentice technicians, and a Technician Council has been established to recognize the contribution of technicians and increase career development opportunities. The paper aims to contribute to understanding the nature of technician work, demand for technician skills, and the training of technicians in the UK Space Sector. The space industry is considered vital to the future of UK manufacturing, and policy-makers seek to increase the number of apprentices in training. A growth strategy for the space industry specifies a target of doubling the number of apprentices by January 2015. The research project aims to shed light on the use and acquisition of technicians in the space industry, focusing on roles, qualifications, acquisition by employers, skills shortages, and ongoing training. The report structure includes an overview of the UK Space industry, research methodology, presentation of study findings, and a summary of the discussion.\"\n",
      "      },\n",
      "      {\n",
      "        \"title\": \"THE UK SPACE INDUSTRY:AN OVERVIEW\",\n",
      "        \"id\": \"4\",\n",
      "        \"pages\": [\n",
      "          10\n",
      "        ],\n",
      "        \"summary\": \"The section provides an overview of the UK space industry, highlighting its significance in everyday life. It emphasizes the impact of space-derived data and services on ordinary people, including satellite television, mobile telephone services, weather forecasts, and GPS navigation. The sector encompasses a complex value chain, involving the manufacturing of space hardware, satellite operators, and ground system operators. The industry is divided into upstream and downstream parts, with upstream firms providing technology for space exploitation and downstream companies offering space-enabled services. The text also mentions the reliance of governments on space-based data for monitoring climate change, managing air traffic, and providing emergency services and national defense. The figure illustrates the structure of the space industry, depicting the flow of goods and services between different parts of the sector.\",\n",
      "        \"sections\": [\n",
      "          {\n",
      "            \"title\": \"FIGURE 1:THE STRUCTURE OF THE SPACE SECTOR\",\n",
      "            \"id\": \"4.1\",\n",
      "            \"pages\": [\n",
      "              11,\n",
      "              12,\n",
      "              13,\n",
      "              14\n",
      "            ],\n",
      "            \"summary\": \"The section provides an overview of the structure of the space sector, detailing the upstream and downstream segments. The upstream segment involves the design, manufacture, and launch of satellites, including the supply of various sub-systems, components, and ground systems. It emphasizes the advanced manufacturing nature of the space industry, with a focus on high-value products and quality assurance procedures. The downstream segment focuses on the exploitation of satellites to provide telecommunications, broadcasting, earth observation, and positioning/navigation services. The global space economy is estimated to be worth around $260 billion, with impressive growth rates in the commercial sector. The UK accounts for 6-9% of the global space economy and has a highly qualified workforce. The sector is projected to experience continued rapid growth, with the UK aiming to increase its share of the global space market to 10% by 2030, leading to significant turnover and job creation.\"\n",
      "          }\n",
      "        ]\n",
      "      },\n",
      "      {\n",
      "        \"title\": \" RESEARCH METHODOLOGY\",\n",
      "        \"id\": \"5\",\n",
      "        \"pages\": [\n",
      "          15,\n",
      "          16\n",
      "        ],\n",
      "        \"summary\": \"The section discusses the research methodology adopted for studying the duties, skills, and training of technicians in the space industry. The methodology involved two main stages of data collection, including interviews with sector-level organizations and the use of secondary sources such as reports and policy documents. A total of 32 employers from the space sector were invited to participate, with 25 agreeing to be involved. The case study organizations covered both upstream and downstream parts of the space industry, with a focus on various types of organizations, including component/sub-system manufacturers, consultancies, space primes/system integrators, satellite operators, and IT/software engineering service providers. The research included 32 semi-structured interviews with a total of 34 interviewees, and data collection was carried out between July 2011 and March 2012. The study revealed that 20 case study organizations are in the private sector, while five are in the public sector. The average size of the space-related workforce in the case studies was 240 employees, with an average of 380 when including organizations involved in non-space work. The section does not explicitly mention any future need for specific skills or technologies related to Advanced Computing, Battery Technologies, Semiconductors, or Clean Energy.\"\n",
      "      },\n",
      "      {\n",
      "        \"title\": \" RESULTS I:THE CURRENT TECHNICIAN WORKFORCE: SIZE, ROLES, QUALIFICATIONS,AND ORIGINS\",\n",
      "        \"id\": \"6\",\n",
      "        \"pages\": [\n",
      "          17\n",
      "        ],\n",
      "        \"summary\": \"table of contents\",\n",
      "        \"sections\": [\n",
      "          {\n",
      "            \"title\": \"THE SIZE OF THE TECHNICIAN WORKFORCE\",\n",
      "            \"id\": \"6.1\",\n",
      "            \"pages\": [\n",
      "              17,\n",
      "              18\n",
      "            ],\n",
      "            \"summary\": \"The section discusses the employment of technicians in the space sector, particularly in upstream manufacturing roles. It highlights that technicians account for around 20% of the total workforce in space primes and specialist upstream manufacturers, while in organizations combining upstream manufacturing with downstream services, the share of technicians is much smaller, averaging under 5% of the total workforce. The study indicates that downstream firms and satellite operators accounted for fewer than 5% of the total number of technicians employed. The highly demanding and specialized nature of work in software, IT engineering services, and consultancy implies a preference for hiring individuals with at least a degree level qualification. Exceptions include a small number of vocationally educated IT technicians in database management and front-line helpdesk roles. The report suggests that the industry relies heavily on technicians in upstream manufacturing roles, and downstream firms and satellite operators employ a relatively small number of technicians. The need for technicians in the space sector is likely to remain focused on upstream manufacturing roles, with a small fraction employed in downstream organizations. The report indicates a future need for individuals with specialized qualifications in software, IT engineering, and consultancy services within the space sector.\"\n",
      "          },\n",
      "          {\n",
      "            \"title\": \" TYPES OF TECHNICIAN AND THE NATURE OF TECHNICAL SUPPORT\",\n",
      "            \"id\": \"6.2\",\n",
      "            \"pages\": [\n",
      "              18,\n",
      "              19\n",
      "            ],\n",
      "            \"summary\": \"The section discusses the various types of technician roles within the space industry, emphasizing that not all organizations employ these roles. It notes that the descriptions provided are ideal types and may not cover all variations found in real technician roles. The text also highlights that technicians may perform a combination of duties and that their skills and competences may exceed their formal qualifications. Overall, the section aims to provide an initial overview of the roles occupied by technicians in the space industry and the associated qualifications.\",\n",
      "            \"sections\": [\n",
      "              {\n",
      "                \"title\": \": Mechanical Engineering Technicians\",\n",
      "                \"id\": \"6.2.1\",\n",
      "                \"pages\": [\n",
      "                  19\n",
      "                ],\n",
      "                \"summary\": \"The section is a specific description of the role of mechanical engineering technicians in the space sector. It highlights their involvement in manufacturing, assembling, and testing mechanical components and assemblies for satellites. The text does not mention any specific technologies, skills, capabilities, investments, policy initiatives, funding, or future skill needs related to Advanced Computing, Battery Technologies, Semiconductors, or Clean Energy.\",\n",
      "                \"sections\": [\n",
      "                  {\n",
      "                    \"title\": \" (a) Machinists\",\n",
      "                    \"id\": \"6.2.1.1\",\n",
      "                    \"pages\": [\n",
      "                      19,\n",
      "                      20\n",
      "                    ],\n",
      "                    \"summary\": \"The section discusses the prominent task of machining carried out by mechanical engineering technicians in the space industry. It involves manual and CNC milling, turning, and drilling to produce components and sub-assemblies for satellites, including aluminum and composite panels, optical components, and parts for scientific instruments. The technicians must work with fine tolerances and may use 3-D CAD drawings for CNC machines. Machinists are found in organizations involved in manufacturing components and sub-assemblies for satellites, and they typically have manufacturing engineering apprenticeships at level 3 or qualifications at level 4 or 5. In some cases, technicians may have input into the design of novel instruments, requiring a higher level of expertise. Larger organizations may have dedicated roles for machinists, while in other cases, machining is combined with other duties to form multi-dimensional roles. The section emphasizes the importance of mechanical assembly as another task carried out by workers with mechanical engineering skills.\",\n",
      "                    \"sections\": [\n",
      "                      {\n",
      "                        \"title\": \" (b) Mechanical Assembly Technician\",\n",
      "                        \"id\": \"6.2.1.1.1\",\n",
      "                        \"pages\": [\n",
      "                          20,\n",
      "                          21\n",
      "                        ],\n",
      "                        \"summary\": \"The section discusses the role of mechanical assembly technicians in combining mechanical components to form larger sub-assemblies or assemblies, with examples from satellite sub-assembly manufacturers and a system integrator. It highlights the importance of adhering to high standards of cleanliness, especially in temperature- and humidity-controlled clean rooms, to avoid contamination of space hardware. The text emphasizes the need for formal qualifications, such as level 3 qualifications in larger organizations and HNC or HND qualifications in smaller organizations, particularly in precision manufacturing. It also mentions the requirement for precision-cleaning of parts to avoid contamination that might affect the reliability of sub-assemblies or assemblies. The section does not mention any specific future needs for skills or technologies, nor does it discuss funding, investments, or budget allocations.\",\n",
      "                        \"sections\": [\n",
      "                          {\n",
      "                            \"title\": \" (c) Composites Laminators\",\n",
      "                            \"id\": \"6.2.1.1.1.1\",\n",
      "                            \"pages\": [\n",
      "                              21\n",
      "                            ],\n",
      "                            \"summary\": \"The section discusses a smaller group of workers with level 3 qualifications in mechanical engineering who are specialized laminators. These laminators use techniques such as filament winding and carbon pre-preg laminating to make composite parts for satellites, including carbon fiber cores, solar array panels, and smaller items like camera casings and covers for microsat wheels. The text does not mention any specific future needs for skills or technologies, nor does it discuss policy initiatives, funding, or investments related to advanced computing, battery technologies, semiconductors, or clean energy.\"\n",
      "                          },\n",
      "                          {\n",
      "                            \"title\": \" (d) Manufacturing or Production Engineers\",\n",
      "                            \"id\": \"6.2.1.1.1.2\",\n",
      "                            \"pages\": [\n",
      "                              21,\n",
      "                              22\n",
      "                            ],\n",
      "                            \"summary\": \"The section discusses the roles of production engineers, manufacturing engineers, and draughtsmen, often occupied by technicians with level 4/5 vocational qualifications. These roles involve writing work instructions, overseeing manufacturing activities, and preparing quality assurance paperwork. Manufacturing engineers also advise chartered engineers on component and module design, using 3-D CAD packages to create detailed designs. They may also be involved in designing jigs and fixtures for production and testing. Similarly, drawing office technicians or draughtsmen assist technicians by drafting drawings and instructions, exercising discretion in realizing the engineer's designs. The roles closely resemble those of manufacturing engineers and draughtsmen, with occupants typically qualified to at least level 4/5, possessing HNCs, HNDs, and Foundation degrees in mechanical engineering. There is sometimes a blurring of boundaries between technician-level and graduate-level roles in manufacturing engineering.\"\n",
      "                          },\n",
      "                          {\n",
      "                            \"title\": \" Electrical and Electronics Engineering Technicians\",\n",
      "                            \"id\": \"6.2.1.1.1.3\",\n",
      "                            \"pages\": [\n",
      "                              22\n",
      "                            ],\n",
      "                            \"summary\": \"The section discusses roles related to electrical and electronics engineering, specifically focusing on workers who assemble and test electrical and electronic components, sub-assemblies, and assemblies. These roles were found in 16 case study organizations, all of which are upstream. The text acknowledges the potential overlap between mechanical and electrical/electronic roles. The discussion does not mention any specific future needs for skills or technologies, funding, investments, or budget allocations.\"\n",
      "                          },\n",
      "                          {\n",
      "                            \"title\": \" (a) PCB (Electronics) Assembly and Inspection Technician\",\n",
      "                            \"id\": \"6.2.1.1.1.4\",\n",
      "                            \"pages\": [\n",
      "                              23\n",
      "                            ],\n",
      "                            \"summary\": \"The section discusses the role of PCB (electronics) assembly technicians in upstream organizations, particularly in the space industry. These technicians are responsible for populating printed circuit boards (PCBs) with components, carrying out micro-soldering, epoxy- and wire-bonding, and adhering to clean room protocols. They also inspect and test electronic devices using non-destructive testing methods to ensure flightworthy components. The technicians are typically apprentice-trained in electronics, often to level 4 (HNC), and are required to be ESA-certificated, involving training courses to maintain high standards of work. Retraining every two years is necessary to retain ESA certification. The section emphasizes the importance of high-quality products in driving training in the sector and highlights the role of ESA certification in signaling a skilled workforce to potential customers, aiding in winning contracts for space-related work.\"\n",
      "                          }\n",
      "                        ]\n",
      "                      },\n",
      "                      {\n",
      "                        \"title\": \" (b) Electronics and Electrical Assembly Technicians\",\n",
      "                        \"id\": \"6.2.1.1.2\",\n",
      "                        \"pages\": [\n",
      "                          24,\n",
      "                          25\n",
      "                        ],\n",
      "                        \"summary\": \"The section discusses the role of Electronics and Electrical Assembly Technicians in the space sector, highlighting their involvement in assembling various electronic and electrical components for sub-systems and detectors, scientific instruments, RF signaling, test equipment, batteries, and power and propulsion sub-systems. It also emphasizes the importance of clean room conditions and the need for technicians to be familiar with the rules governing work in such an environment. The qualifications for these technicians range from HNC in electrical and/or electronics engineering to ESA certification in soldering, crimping, and wiring. Additionally, the section mentions the role of Electrical/Electronics Engineer/Draughtsman/Component Engineer in contributing to the design of electronic and electrical assemblies and sub-assemblies. It emphasizes the responsibility of these engineers in preparing documentation for quality assurance procedures and dealing with routine problems. The section also highlights the role of technicians in augmenting the contribution made by chartered design engineers in the design of assemblies and sub-assemblies. The technicians are responsible for completing the creation of PCBs, identifying and procuring individual components, and participating in design reviews. The qualifications for higher-level technician roles are typically at least HNC or HND level, and these roles may also be occupied by more practically inclined graduates.\",\n",
      "                        \"sections\": [\n",
      "                          {\n",
      "                            \"title\": \" Test Technicians and Engineers\",\n",
      "                            \"id\": \"6.2.1.1.2.1\",\n",
      "                            \"pages\": [\n",
      "                              26\n",
      "                            ],\n",
      "                            \"summary\": \"The section discusses the rigorous testing regime in the space industry for space hardware. It emphasizes the testing of components, sub-systems, and assemblies to ensure reliable performance in extreme conditions during launch and in orbit. The testing process includes mechanical vibration, acoustic and shock tests, thermal vacuum tests, and radiation tests to simulate launch and orbital environments. The need for formal documentation of test results is highlighted. The section does not mention any specific technologies, skills, investments, or policy initiatives related to Advanced Computing, Battery Technologies, Semiconductors, or Clean Energy.\"\n",
      "                          },\n",
      "                          {\n",
      "                            \"title\": \" (a) Test technicians\",\n",
      "                            \"id\": \"6.2.1.1.2.2\",\n",
      "                            \"pages\": [\n",
      "                              26\n",
      "                            ],\n",
      "                            \"summary\": \"The section discusses the role of test technicians in carrying out various tests, including basic functional inspection, specialized testing, and clean room working procedures. It mentions that some technicians carry out vibration, thermal vacuum, and radiation testing, while others specialize in non-destructive testing or destructive physical analysis of individual components. The technicians typically have level three qualifications, such as City and Guilds or BTECs, or HNCs in mechanical and/or electrical and electronic engineering. Additionally, it notes that some organizations have graduates carrying out all testing. The section emphasizes the need for technicians, whether vocationally educated or graduates, to be familiar with clean room working procedures. There is no explicit mention of funding, investments, or future needs for specific skills or technologies.\"\n",
      "                          }\n",
      "                        ]\n",
      "                      },\n",
      "                      {\n",
      "                        \"title\": \" (b) Test engineers\",\n",
      "                        \"id\": \"6.2.1.1.3\",\n",
      "                        \"pages\": [\n",
      "                          26,\n",
      "                          27\n",
      "                        ],\n",
      "                        \"summary\": \"The section discusses the role of test engineers, also known as test systems engineers, who are responsible for writing test procedures, supervising hands-on work, and ensuring compliance with quality standards. The text mentions that these roles are typically filled by individuals qualified to HNC, HND, Foundation degree, or degree level. There is no explicit mention of advanced computing, battery technologies, semiconductors, or clean energy. The section does not discuss policy initiatives related to inclusion, health, digital, or green resilience. There is no mention of funding, investments, or budget allocations. The text does not indicate a future need for specific skills or technologies.\"\n",
      "                      }\n",
      "                    ]\n",
      "                  }\n",
      "                ]\n",
      "              }\n",
      "            ]\n",
      "          },\n",
      "          {\n",
      "            \"title\": \" QUALIFICATIONS\",\n",
      "            \"id\": \"6.3\",\n",
      "            \"pages\": [\n",
      "              27\n",
      "            ],\n",
      "            \"summary\": \"The section discusses the qualifications typically possessed by technicians working in the space industry. It highlights that the technician workforce in the space industry is highly qualified, with most technicians possessing an HNC qualification. However, there are exceptions in larger organizations and some manufacturers of electronics components where technicians may have qualifications only up to level 3. Despite these exceptions, the modal technician qualification in the space industry is an HNC, reflecting the industry's emphasis on high-integrity manufacturing of bespoke products and the need for a highly skilled technician workforce.\"\n",
      "          },\n",
      "          {\n",
      "            \"title\": \" DIVISION OF KNOWLEDGE AND EXPERTISE BETWEEN TECHNICIANS AND GRADUATES\",\n",
      "            \"id\": \"6.4\",\n",
      "            \"pages\": [\n",
      "              27,\n",
      "              28\n",
      "            ],\n",
      "            \"summary\": \"The section discusses the division of knowledge and expertise between technicians and graduates, highlighting the distinct but complementary skills, knowledge, and expertise possessed by each group. It emphasizes the importance of technicians in roles such as manufacturing or production engineer, where they contribute hands-on technical knowledge to bring projects to successful conclusions. The text addresses the issue of technicians' low social standing relative to their significant contribution, and the potential for technician registration schemes to raise their status and esteem. There is no explicit mention of advanced computing, battery technologies, semiconductors, or clean energy in this section.\"\n",
      "          },\n",
      "          {\n",
      "            \"title\": \" SOURCES OF TECHNICIANS\",\n",
      "            \"id\": \"6.5\",\n",
      "            \"pages\": [\n",
      "              28,\n",
      "              29,\n",
      "              30,\n",
      "              31\n",
      "            ],\n",
      "            \"summary\": \"The section discusses the sources of technicians in the space sector, focusing on recruitment, apprentice training, and upgrade training. It highlights the reliance on upgrade training and recruitment from the external labor market, with limited use of apprenticeships. The need for upgrade training is emphasized due to the specialized skills required for space manufacturing. The discussion also mentions the recruitment of technicians from the armed forces and aerospace/defense industries. Additionally, it outlines a shift towards a greater reliance on apprenticeships, with some organizations already taking on apprentices and others planning to establish apprenticeship schemes in the near future. The use of contractors is also addressed, with some organizations hiring contractors to deal with recruitment challenges and cyclical peaks in work. The section indicates a growing interest in apprenticeship training, especially among organizations facing difficulties in recruiting permanent staff.\"\n",
      "          }\n",
      "        ]\n",
      "      },\n",
      "      {\n",
      "        \"title\": \" RESULTS II:THE FUTURE TECHNICIAN WORKFORCE\",\n",
      "        \"id\": \"7\",\n",
      "        \"pages\": [\n",
      "          32\n",
      "        ],\n",
      "        \"summary\": \"The section discusses the future need for technicians in space companies and the workforce planning strategies adopted by these organizations. It highlights the challenges in recruiting experienced technicians and the potential unsustainability of the recruitment-plus-upgrading approach. The growth of space companies, both in business value and total employment, is driving an increasing demand for technicians. As these companies expand, there is a shift towards employing specialist technicians due to the volume of business undertaken. The section emphasizes the growing importance of specialist technicians as space companies transition from small-scale batch manufacturing to building more standardized products.\",\n",
      "        \"sections\": [\n",
      "          {\n",
      "            \"title\": \" RECRUITMENT\",\n",
      "            \"id\": \"7.1\",\n",
      "            \"pages\": [\n",
      "              32,\n",
      "              33\n",
      "            ],\n",
      "            \"summary\": \"The section discusses the challenges faced by space manufacturers in recruiting experienced mechanical and electrical/electronics technicians. While larger space primes find it relatively easy to recruit due to higher wages and local labor market conditions, smaller manufacturers struggle to find experienced technicians. The difficulty in recruitment is particularly pronounced for firms engaged in upstream manufacturing activities, with nine out of eleven expressing the challenge of hiring and upgrading technicians. The shortage of experienced technicians is described as the biggest issue faced by firms in their expansion efforts. As a result, some firms have resorted to using contractors to manage standard business volumes, while others are increasingly turning towards apprenticeship training. The section emphasizes the scarcity of skilled technicians and the growing need for recruitment and training initiatives to address this challenge.\"\n",
      "          },\n",
      "          {\n",
      "            \"title\": \" APPRENTICESHIP\",\n",
      "            \"id\": \"7.2\",\n",
      "            \"pages\": [],\n",
      "            \"summary\": null,\n",
      "            \"sections\": [\n",
      "              {\n",
      "                \"title\": \" Definition and involvement\",\n",
      "                \"id\": \"7.2.1\",\n",
      "                \"pages\": [\n",
      "                  33,\n",
      "                  34\n",
      "                ],\n",
      "                \"summary\": \"The section discusses the definition and involvement of apprenticeship training, emphasizing the increasing involvement of manufacturers of space hardware in such training. It highlights the internal and external factors driving this involvement, including the growth of firms and the scarcity of experienced technicians. The text provides a detailed overview of the current situation, indicating that many organizations are either running apprenticeship schemes, setting up new ones, or planning to do so to address the need for skilled technicians. The evidence presented challenges previous reports and claims, suggesting a higher level of involvement in apprenticeship training within the UK space industry. The section does not mention specific technologies, skills, or investments related to Advanced Computing, Battery Technologies, Semiconductors, or Clean Energy. There is no explicit discussion of funding, investments, or budget allocations. The text does not indicate a future need for specific skills or technologies.\"\n",
      "              },\n",
      "              {\n",
      "                \"title\": \" Rationale\",\n",
      "                \"id\": \"7.2.2\",\n",
      "                \"pages\": [\n",
      "                  34\n",
      "                ],\n",
      "                \"summary\": \"The section discusses the rationale behind organizations taking on apprenticeships, with a focus on the need to acquire specialist technician skills due to a declining availability of such skills in the external labor market. It highlights the use of apprenticeships for meeting medium-term skills needs, workforce planning, and addressing recruitment problems. Additionally, it emphasizes the role of apprenticeships in planning for the orderly succession of an aging technician workforce. The text also mentions the need for more training and apprenticeships to fill jobs arising from planned growth in manufacturing and services, as indicated in a recent report on the space sector. Furthermore, the advantage of apprenticeship training is noted as an opportunity for employers to socialize young people into the organization's culture, shaping their habits and modes of thought. The section emphasizes the value of starting with individuals who have no preconceptions about specific tasks and standards, as they can be molded to fit the industry's requirements. Overall, the text underscores the importance of apprenticeships in addressing skills needs, workforce planning, and cultural integration within organizations.\"\n",
      "              },\n",
      "              {\n",
      "                \"title\": \" Organisation\",\n",
      "                \"id\": \"7.2.3\",\n",
      "                \"pages\": [\n",
      "                  35,\n",
      "                  36,\n",
      "                  37\n",
      "                ],\n",
      "                \"summary\": \"The section discusses the organisation of apprenticeship training programmes in eight organizations, seven downstream and one upstream, under the government's Advanced Apprenticeship programme. The apprentices are recruited and trained under the auspices of the programme, with formal responsibility for organizing the apprenticeship delegated to external training providers. These providers hold the apprenticeship training contract with the Skills Funding Agency and receive government training subsidies. The apprentices are studying qualifications in mechanical, electrical, and electronics engineering, with a focus on reaching at least level 4 qualifications. Some apprenticeship schemes have been approved by professional bodies, leading to EngTech awards upon completion. Larger organizations distinguish between apprenticeship schemes targeting level 4/5 qualifications and those targeting level 3 qualifications, with the former focusing more on electrical/electronic engineering. One components manufacturer has become involved in a Higher Apprenticeship scheme, aiming to fill roles requiring project leadership. There are variations in the annual intake of apprentices across organizations, with different entry requirements and acceptable completion rates. Upstream manufacturers are also planning to set up apprenticeship schemes, primarily to address the difficulty of recruiting experienced technicians with specific skills. These organizations specialize in supplying electronics/electrical components and sub-assemblies to the space industry, with a focus on electronics engineering and, in some cases, elements of electrical and mechanical engineering.\"\n",
      "              },\n",
      "              {\n",
      "                \"title\": \" Impediments to the use apprenticeships\",\n",
      "                \"id\": \"7.2.4\",\n",
      "                \"pages\": [\n",
      "                  38,\n",
      "                  39\n",
      "                ],\n",
      "                \"summary\": \"The section discusses the challenges faced by organizations in implementing apprenticeship programs, particularly in finding suitable off-the-job training and assessment providers. Specific issues include problems with FE colleges, such as incorrect technical certificates, inadequate support from NVQ assessors, and concerns about the quality of practical training. Some employers in rural areas struggle to find colleges offering the desired courses due to low student numbers and funding constraints. Despite concerns about apprentices leaving after training, employers value apprenticeships as a way to signal the organization's commitment to young people and provide career development opportunities. Notably, a large employer highlighted that over 80% of trained apprentices remain with the organization, indicating the effectiveness of apprenticeships in building loyalty and reducing turnover. The section emphasizes the importance of complementing apprenticeships with HR practices for continued training and career progression to retain apprentices and ensure a positive return on investment in training.\"\n",
      "              }\n",
      "            ]\n",
      "          },\n",
      "          {\n",
      "            \"title\": \" CAREERS: ONGOING TRAINING AND PROFESSIONAL DEVELOPMENT\",\n",
      "            \"id\": \"7.3\",\n",
      "            \"pages\": [\n",
      "              39,\n",
      "              40\n",
      "            ],\n",
      "            \"summary\": \"The section discusses the ongoing training and professional development for technicians in the space industry. It highlights various forms of training, including support for Foundation Degrees or full honours degrees, informal uncertificated training, and retraining for ESA-certified operators. There is a growing interest among policymakers and professional bodies in creating opportunities for technicians to progress to higher levels of formal qualifications and professional recognition. Some organizations have had their apprenticeship schemes accredited by professional bodies, while others cite a lack of awareness or interest among their technicians as reasons for not pursuing technician registration. The Technician Council is identified as having considerable work to do in raising the profile of technician registration in the space industry.\"\n",
      "          }\n",
      "        ]\n",
      "      },\n",
      "      {\n",
      "        \"title\": \" CONCLUSIONS\",\n",
      "        \"id\": \"8\",\n",
      "        \"pages\": [\n",
      "          41,\n",
      "          42\n",
      "        ],\n",
      "        \"summary\": \"The section discusses the roles, qualifications, acquisition, and ongoing training of technicians in the UK space industry. It highlights the majority of technicians being employed in the upstream sector, with qualifications typically at level 4, and the common route of entry being vocational education and training. The evidence suggests a growing imbalance between supply and demand for technicians, leading to an increasing reliance on apprenticeship programs for in-house training. The report also emphasizes the need for government policy to guarantee sufficient training and apprenticeship schemes to meet the industry's demand for technicians. Employers are encouraged to invest in the career development of their technicians, but there are concerns about the quality of off-the-job training and the lack of technician registration. Overall, there is a significant and expanding role for technicians in the space industry, with a need for more in-house training and potential for increased popularity of technician registration.\"\n",
      "      },\n",
      "      {\n",
      "        \"title\": \"REFERENCES\",\n",
      "        \"id\": \"9\",\n",
      "        \"pages\": [\n",
      "          43,\n",
      "          44,\n",
      "          45\n",
      "        ],\n",
      "        \"summary\": \"references\"\n",
      "      }\n",
      "    ]\n",
      "  }\n",
      "}\n"
     ]
    }
   ],
   "source": [
    "def document_to_structured_metadata(section):\n",
    "    \"\"\"Convert document to structured metadata\"\"\"\n",
    "    # Check if the document is the root node\n",
    "    if section.section_type == \"document\":\n",
    "        return {\n",
    "            \"document\": {\n",
    "                \"title\": document.title,\n",
    "                \"sections\": [\n",
    "                    document_to_structured_metadata(section) for section in document.subsections\n",
    "                ]\n",
    "            }\n",
    "        }\n",
    "    else:\n",
    "        # find section from section summaries\n",
    "        section, summary_response = next(filter(lambda x: x[0] == section, section_summaries))\n",
    "        result = {\n",
    "            \"title\": section.title_clean,\n",
    "            \"id\": section.id,\n",
    "            \"pages\": sorted(section.pages),\n",
    "            \"summary\": summary_response.summary\n",
    "        }\n",
    "        if subsections := [document_to_structured_metadata(subsection) for subsection in section.subsections]:\n",
    "            result[\"sections\"] = subsections\n",
    "\n",
    "        return result\n",
    "\n",
    "\n",
    "print(json.dumps(document_to_structured_metadata(document), indent=2))\n"
   ]
  },
  {
   "cell_type": "code",
   "execution_count": 102,
   "metadata": {},
   "outputs": [],
   "source": [
    "from langchain.agents.output_parsers import OpenAIFunctionsAgentOutputParser\n",
    "\n",
    "llm_with_fns = ChatOpenAI(model=\"gpt-3.5-turbo-1106\", temperature=0, request_timeout=15)\n",
    "llm_with_fns.bind(functions=openai_functions)\n",
    "\n",
    "fns_prompt = ChatPromptTemplate.from_messages(\n",
    "    [\n",
    "        structured_metadata_system_prompt,\n",
    "        structured_metadata_prompt,\n",
    "    ]\n",
    ")\n",
    "\n",
    "fns_agent = (\n",
    "    fns_prompt\n",
    "    | llm_with_fns\n",
    ")\n",
    "\n",
    "# fns_agent.invoke({\n",
    "#     \"document_structural_metadata\": document_to_structured_metadata(document),\n",
    "#     \"question\": \"Which section of the document mentions funding?\"\n",
    "# })"
   ]
  },
  {
   "cell_type": "code",
   "execution_count": 103,
   "metadata": {},
   "outputs": [],
   "source": [
    "# This works fairly well\n",
    "question = \"Does the document discuss specific degrees, qualifications or professions with regard to Advanced Computing, if so, how?\"\n",
    "fns_response_message = llm.predict_messages(\n",
    "    [\n",
    "        structured_metadata_system_prompt.format(),\n",
    "        structured_metadata_prompt.format(\n",
    "            document_structural_metadata=document_to_structured_metadata(document),\n",
    "            question=question\n",
    "        )\n",
    "    ],\n",
    "    functions=openai_functions,\n",
    ")\n",
    "\n",
    "llm.invoke"
   ]
  },
  {
   "cell_type": "code",
   "execution_count": 104,
   "metadata": {},
   "outputs": [
    {
     "data": {
      "text/plain": [
       "AIMessage(content='', additional_kwargs={'function_call': {'name': 'fetch_sections', 'arguments': '{\"reasoning\":\"The document discusses the qualifications and roles of technicians in the UK space industry, particularly in the upstream and downstream segments. The section \\'RESULTS I: THE CURRENT TECHNICIAN WORKFORCE: SIZE, ROLES, QUALIFICATIONS, AND ORIGINS\\' provides detailed information about the qualifications possessed by technicians and the types of technician roles within the space industry. Additionally, the section \\'QUALIFICATIONS\\' discusses the qualifications typically possessed by technicians working in the space industry. These sections are likely to contain information about specific degrees, qualifications, or professions with regard to Advanced Computing.\",\"section_ids\":[\"6\",\"6.1\",\"6.2\",\"6.3\"]}'}})"
      ]
     },
     "execution_count": 104,
     "metadata": {},
     "output_type": "execute_result"
    }
   ],
   "source": [
    "fns_response_message"
   ]
  },
  {
   "cell_type": "code",
   "execution_count": 105,
   "metadata": {},
   "outputs": [],
   "source": [
    "import json\n",
    "\n",
    "# Refine all sections into one answer if there are more than 1 section returned by the chain above\n",
    "def parse_function_output(response) -> str:\n",
    "    # Get the function call\n",
    "    fn_call = response.additional_kwargs.get(\"function_call\")\n",
    "\n",
    "    # Check if the response content is empty and that there is a function call\n",
    "    if response.content == \"\" and fn_call is not None:\n",
    "        # Get the attributes of the function call\n",
    "        tool_name = fn_call[\"name\"]\n",
    "        tool_args = json.loads(fn_call[\"arguments\"])\n",
    "        # Get the correct tool from the tools list\n",
    "        tool = next(filter(lambda x: x.name == tool_name, tools))\n",
    "        fn_output = tool._run(**tool_args)\n",
    "        return fn_output\n",
    "    else:\n",
    "        # Otherwise return the content\n",
    "        return response.content\n",
    "\n",
    "# Fetched sections\n",
    "fetched_sections = parse_function_output(fns_response_message)"
   ]
  },
  {
   "cell_type": "code",
   "execution_count": 106,
   "metadata": {},
   "outputs": [
    {
     "data": {
      "text/plain": [
       "[{'title': ' RESULTS I:THE CURRENT TECHNICIAN WORKFORCE: SIZE, ROLES, QUALIFICATIONS,AND ORIGINS',\n",
       "  'id': '6',\n",
       "  'text': 'This section of the report outlines what the research carried out for this project reveals about issues such as: the size of the technician workforce; the types of roles that are typically undertaken by technicians in the space industry and the kinds of duties that are associated with those roles; the kind (level, and subject-matter) of qualifications those technicians typically possess; and how organisations in the space industry have until now gone about satisfying their need for technicians, in particular the balance they have struck between recruitment and (various forms of) training as a means of acquiring the technicians they need.'},\n",
       " {'title': 'THE SIZE OF THE TECHNICIAN WORKFORCE',\n",
       "  'id': '6.1',\n",
       "  'text': 'The evidence gathered for this study indicates that the vast majority of the technicians who are employed in the case study organisations work on upstream manufacturing projects. All 16 of the organisations that are involved, in whole or part, in upstream manufacturing activities – namely, the 11 manufacturers of components and sub-systems, the two space primes, and the three other organisations that combine upstream manufacturing with some downstream service provision – employ technicians. On average, in the space primes and specialist upstream manufacturers, technicians account for around 20% of the total workforce (see Table 1). In the organisations that combine upstream manufacturing with the provision of downstream services, the share of technicians is much smaller, averaging under 5% of the total workforce.The employment of technicians is confined in all these cases exclusively to upstream manufacturing roles; neither of the space primes employs technicians to work in its ground stations or in its downstream operations; while none of the three organisations that combine upstream manufacturing with downstream service provision has technicians who contribute directly to their downstream work.Technicians occupying upstream manufacturing roles account for over 95% of the total number of technicians employed across the 25 organisations visited for this study.\\nThe highly demanding and specialised nature of the work undertaken both by the three organisations that supply software and IT engineering services to the space sector, and also by the consultancy that provides advice to firms operating in the upstream segment, implies that when they are filling technical roles they only hire people who are qualified to at least degree level.The one exception is to be found in one of the consultancies, which employs a small handful – amounting to well under 10% of its space workforce - of vocationally educated IT technicians in database management and front-line helpdesk roles.The picture is similar in the case of the two specialist satellite operators: one employs no technicians whatsoever; the other employs a small number of IT technicians, once more amounting to well under 10% of its total workforce, and again primarily in front-line technical support roles. Finally, only one of the three specialist downstream organisations in the sample has any technicians, employing a very small number to manage its databases and to do some simple coding.The other two specialist downstream organisations employ no technicians whatsoever, the highly technical nature of the work undertaken by these organisations militating heavily in favour of employing people with degrees or postgraduate qualifications.The upshot is that downstream firms and satellite operators accounted for fewer than 5% of the total number of technicians employed by the 25 firms visited for this study.\\nIf the sample of employers visited for this project is representative of the space sector as a whole, the overall picture that emerges, is – perhaps unsurprisingly – of an industry in which technicians form a relatively small fraction of the workforce, probably no more than one fifth, and in which the vast majority of those technicians are employed in upstream manufacturing roles. In the next section of the report, we shall focus on the upstream manufacturing part of the industry and describe in more details the kinds of roles that are filled by technicians.'},\n",
       " {'title': ' TYPES OF TECHNICIAN AND THE NATURE OF TECHNICAL SUPPORT',\n",
       "  'id': '6.2',\n",
       "  'text': 'A number of different types of technician work within the organisations that make up the space industry. In what follows, a range of typical technician roles will be described in order to provide the reader with a sense of the kinds of duties undertaken by those technicians. Before proceeding, three related qualifications to what follows should be noted.\\nFirst, none of the technician roles distinguished below are to be found in every organisation. As noted above, most of the organisations that specialise in providing services based on earth observation data, along with firms offering high-level software and systems engineering support for both upstream and downstream activities, simply do not employ technicians. In addition, few of the upstream manufacturers who employ the vast majority of the technicians found in the space industry employ all the types of technician listed below. For example, specialist composites technicians tend to found only in the larger space primes, while firms supplying electronics components tend not to employ mechanical assembly technicians. In the role descriptions that follow, an attempt will be made to provide a sense of the kind of organisation(s) in which particular technician roles are commonly found.\\nSecond, far from offering an exhaustive account of all the nuances and variations that arise in the case of real technician roles, the descriptions provided below portray ‘ideal types’ that are intended only to set out the broad features of the different kinds of technician found in the space industry. As a result, there may well be cases where the technicians employed by one particular firm are allocated a set of duties that combines elements of more than one of the roles described below, as for example: when the same technicians machine, assemble and test particular items; or when electrical and mechanical assembly duties are carried out by the same person; or where the boundaries between the roles occupied by more experienced technician and those occupied by less experienced and/or more practically inclined graduates become blurred. Such cases are only to be expected in an industry where the small size of many firms impedes the elaborate division of labour required for the creation of specialised technician roles. (This is a point which we shall return in Section 5 below.)\\nThird, over time a combination of accumulated experience and informal on-the-job training may lead to a situation where the performance and contribution made by a particular worker exceeds what is specified in his/her particular job role. Often, of course, this will be recognised through promotion to a new role. But the worker’s enhanced skills and competences may not be formally certificated, so the links between roles and formal qualifications may not always be as clear cut as it sometimes indicated below.\\nNotwithstanding these caveats, the following account should provide a reasonably accurate initial overview of the kind of roles occupied by people qualified to technician level in the space industry, and of the qualifications associated with each role.'},\n",
       " {'title': ' QUALIFICATIONS',\n",
       "  'id': '6.3',\n",
       "  'text': 'This section draws out and summarises the findings concerning the qualifications typically possessed by technicians working in the space industry.The evidence presented above indicates that the technician workforce in the space industry is highly qualified, with technicians typically possessing an HNC.The main exceptions to this broad finding are to be found in: two of the larger organisations considered for this study – one a space prime, the other a manufacturer of components and sub-assemblies – both of which employ mechanical technicians who are qualified only to level 3; and also in some of the manufacturers of electronics components, some of whose PCB technicians have no more than a level 3 qualification. Notwithstanding these exceptions, the modal technician qualification in the space industry appears to be an HNC, a finding that reflects the way in which the industry’s emphasis on the high-integrity manufacturing of bespoke products implies a need for a highly skilled technician workforce as well as a high proportion of graduates.'}]"
      ]
     },
     "execution_count": 106,
     "metadata": {},
     "output_type": "execute_result"
    }
   ],
   "source": [
    "fetched_sections"
   ]
  },
  {
   "cell_type": "markdown",
   "metadata": {},
   "source": [
    "### Map re-rank chain"
   ]
  },
  {
   "cell_type": "code",
   "execution_count": 62,
   "metadata": {},
   "outputs": [],
   "source": [
    "# Map re-rank all sections into one answer and return the id of the sections\n",
    "from langchain.chat_models import ChatOpenAI\n",
    "from langchain.output_parsers.openai_functions import PydanticOutputFunctionsParser\n",
    "from langchain.prompts import PromptTemplate\n",
    "from langchain.pydantic_v1 import BaseModel, Field\n",
    "from langchain.schema.prompt_template import format_document\n",
    "from langchain.utils.openai_functions import convert_pydantic_to_openai_function\n",
    "\n",
    "# Chain to apply to each individual document. Chain\n",
    "# provides an answer to the question based on the document\n",
    "# and scores it's confidence in the answer.\n",
    "map_prompt = PromptTemplate.from_template(\n",
    "    \"You're a world class policy analyst that is analyzing an economic policy document. Your goal is to answer the question based on the given context. \"\n",
    "    \"\\n\\n<< Context >>:\\n\\n{context}\\n\\n<<Question>>: {question}\"\n",
    ")\n",
    "\n",
    "\n",
    "class AnswerAndScore(BaseModel):\n",
    "    \"\"\"Return the answer to the question and a relevance score.\"\"\"\n",
    "\n",
    "    answer: str = Field(\n",
    "        description=\"The answer to the question, which is based ONLY on the provided context.\"\n",
    "    )\n",
    "    score: float = Field(\n",
    "        decsription=\"A 0.0-1.0 relevance score, where 1.0 indicates the provided context answers the question completely and 0.0 indicates the provided context does not answer the question at all.\"\n",
    "    )\n",
    "\n",
    "\n",
    "function = convert_pydantic_to_openai_function(AnswerAndScore)\n",
    "map_chain = (\n",
    "    map_prompt\n",
    "    | ChatOpenAI().bind(\n",
    "        temperature=0, functions=[function], function_call={\"name\": \"AnswerAndScore\"}\n",
    "    )\n",
    "    | PydanticOutputFunctionsParser(pydantic_schema=AnswerAndScore)\n",
    ").with_config(run_name=\"Map\")\n",
    "\n",
    "# Final chain, which after answer and scoring based on\n",
    "# each doc return the answer with the highest score\n",
    "def top_answer(scored_answers):\n",
    "    return max(scored_answers, key=lambda x: x.score).answer\n",
    "\n",
    "\n",
    "document_prompt = PromptTemplate.from_template(\"{page_content}\")\n",
    "map_rerank_chain = (\n",
    "    (\n",
    "        lambda x: [\n",
    "            {\n",
    "                \"context\": section_json_str,\n",
    "                \"question\": x[\"question\"],\n",
    "            }\n",
    "            for section_json_str in x[\"fetched_sections\"]\n",
    "        ]\n",
    "    )\n",
    "    | map_chain.map()\n",
    "    | top_answer\n",
    ").with_config(run_name=\"Map rerank\")"
   ]
  },
  {
   "cell_type": "code",
   "execution_count": 63,
   "metadata": {},
   "outputs": [
    {
     "data": {
      "text/plain": [
       "'Section 6.2.1.1 talks about Machinists.'"
      ]
     },
     "execution_count": 63,
     "metadata": {},
     "output_type": "execute_result"
    }
   ],
   "source": [
    "# Runs the map-rerank chain\n",
    "# map_rerank_chain.invoke({\"fetched_sections\": fetched_sections, \"question\": question})"
   ]
  },
  {
   "cell_type": "markdown",
   "metadata": {},
   "source": [
    "### Refine chain\n",
    "\n",
    "Recursive summary with intermediate steps over all the answers while keeping the relevant sections"
   ]
  },
  {
   "cell_type": "code",
   "execution_count": 111,
   "metadata": {},
   "outputs": [
    {
     "name": "stdout",
     "output_type": "stream",
     "text": [
      "intermediate_answer='The document discusses the qualifications possessed by technicians in the space industry, including the level and subject-matter of qualifications. It does not specifically mention degrees or professions related to Advanced Computing.' section_ids=['6']\n",
      "intermediate_answer='The document discusses the qualifications possessed by technicians in the space industry, including the level and subject-matter of qualifications. It does not specifically mention degrees or professions related to Advanced Computing. The evidence gathered for this study indicates that the vast majority of the technicians who are employed in the case study organisations work on upstream manufacturing projects. All 16 of the organisations that are involved, in whole or part, in upstream manufacturing activities – namely, the 11 manufacturers of components and sub-systems, the two space primes, and the three other organisations that combine upstream manufacturing with some downstream service provision – employ technicians. On average, in the space primes and specialist upstream manufacturers, technicians account for around 20% of the total workforce (see Table 1). In the organisations that combine upstream manufacturing with the provision of downstream services, the share of technicians is much smaller, averaging under 5% of the total workforce.The employment of technicians is confined in all these cases exclusively to upstream manufacturing roles; neither of the space primes employs technicians to work in its ground stations or in its downstream operations; while none of the three organisations that combine upstream manufacturing with downstream service provision has technicians who contribute directly to their downstream work.Technicians occupying upstream manufacturing roles account for over 95% of the total number of technicians employed across the 25 organisations visited for this study.\\nThe highly demanding and specialised nature of the work undertaken both by the three organisations that supply software and IT engineering services to the space sector, and also by the consultancy that provides advice to firms operating in the upstream segment, implies that when they are filling technical roles they only hire people who are qualified to at least degree level.The one exception is to be found in one of the consultancies, which employs a small handful – amounting to well under 10% of its space workforce - of vocationally educated IT technicians in database management and front-line helpdesk roles.The picture is similar in the case of the two specialist satellite operators: one employs no technicians whatsoever; the other employs a small number of IT technicians, once more amounting to well under 10% of its total workforce, and again primarily in front-line technical support roles. Finally, only one of the three specialist downstream organisations in the sample has any technicians, employing a very small number to manage its databases and to do some simple coding.The other two specialist downstream organisations employ no technicians whatsoever, the highly technical nature of the work undertaken by these organisations militating heavily in favour of employing people with degrees or postgraduate qualifications.The upshot is that downstream firms and satellite operators accounted for fewer than 5% of the total number of technicians employed by the 25 firms visited for this study.\\nIf the sample of employers visited for this project is representative of the space sector as a whole, the overall picture that emerges, is – perhaps unsurprisingly – of an industry in which technicians form a relatively small fraction of the workforce, probably no more than one fifth, and in which the vast majority of those technicians are employed in upstream manufacturing roles. In the next section of the report, we shall focus on the upstream manufacturing part of the industry and describe in more details the kinds of roles that are filled by technicians.' section_ids=['6', '6.1']\n",
      "intermediate_answer='The document discusses the qualifications possessed by technicians in the space industry, including the level and subject-matter of qualifications. It does not specifically mention degrees or professions related to Advanced Computing. The evidence gathered for this study indicates that the vast majority of the technicians who are employed in the case study organisations work on upstream manufacturing projects. All 16 of the organisations that are involved, in whole or part, in upstream manufacturing activities \\\\\\\\u2013 namely, the 11 manufacturers of components and sub-systems, the two space primes, and the three other organisations that combine upstream manufacturing with some downstream service provision \\\\\\\\u2013 employ technicians. On average, in the space primes and specialist upstream manufacturers, technicians account for around 20% of the total workforce (see Table 1). In the organisations that combine upstream manufacturing with the provision of downstream services, the share of technicians is much smaller, averaging under 5% of the total workforce.The employment of technicians is confined in all these cases exclusively to upstream manufacturing roles; neither of the space primes employs technicians to work in its ground stations or in its downstream operations; while none of the three organisations that combine upstream manufacturing with downstream service provision has technicians who contribute directly to their downstream work.Technicians occupying upstream manufacturing roles account for over 95% of the total number of technicians employed across the 25 organisations visited for this study.\\\\nThe highly demanding and specialised nature of the work undertaken both by the three organisations that supply software and IT engineering services to the space sector, and also by the consultancy that provides advice to firms operating in the upstream segment, implies that when they are filling technical roles they only hire people who are qualified to at least degree level.The one exception is to be found in one of the consultancies, which employs a small handful \\\\\\\\u2013 amounting to well under 10% of its space workforce - of vocationally educated IT technicians in database management and front-line helpdesk roles.The picture is similar in the case of the two specialist satellite operators: one employs no technicians whatsoever; the other employs a small number of IT technicians, once more amounting to well under 10% of its total workforce, and again primarily in front-line technical support roles. Finally, only one of the three specialist downstream organisations in the sample has any technicians, employing a very small number to manage its databases and to do some simple coding.The other two specialist downstream organisations employ no technicians whatsoever, the highly technical nature of the work undertaken by these organisations militating heavily in favour of employing people with degrees or postgraduate qualifications.The upshot is that downstream firms and satellite operators accounted for fewer than 5% of the total number of technicians employed by the 25 firms visited for this study.\\\\nIf the sample of employers visited for this project is representative of the space sector as a whole, the overall picture that emerges, is \\\\\\\\u2013 perhaps unsurprisingly \\\\\\\\u2013 of an industry in which technicians form a relatively small fraction of the workforce, probably no more than one fifth, and in which the vast majority of those technicians are employed in upstream manufacturing roles. In the next section of the report, we shall focus on the upstream manufacturing part of the industry and describe in more details the kinds of roles that are filled by technicians.' section_ids=['6', '6.1']\n",
      "intermediate_answer='The document discusses the qualifications possessed by technicians in the space industry, including the level and subject-matter of qualifications. It does not specifically mention degrees or professions related to Advanced Computing. The evidence gathered for this study indicates that the vast majority of the technicians who are employed in the case study organisations work on upstream manufacturing projects. All 16 of the organisations that are involved, in whole or part, in upstream manufacturing activities \\\\\\\\u2013 namely, the 11 manufacturers of components and sub-systems, the two space primes, and the three other organisations that combine upstream manufacturing with some downstream service provision \\\\\\\\u2013 employ technicians. On average, in the space primes and specialist upstream manufacturers, technicians account for around 20% of the total workforce (see Table 1). In the organisations that combine upstream manufacturing with the provision of downstream services, the share of technicians is much smaller, averaging under 5% of the total workforce.The employment of technicians is confined in all these cases exclusively to upstream manufacturing roles; neither of the space primes employs technicians to work in its ground stations or in its downstream operations; while none of the three organisations that combine upstream manufacturing with downstream service provision has technicians who contribute directly to their downstream work.Technicians occupying upstream manufacturing roles account for over 95% of the total number of technicians employed across the 25 organisations visited for this study.\\\\nThe highly demanding and specialised nature of the work undertaken both by the three organisations that supply software and IT engineering services to the space sector, and also by the consultancy that provides advice to firms operating in the upstream segment, implies that when they are filling technical roles they only hire people who are qualified to at least degree level.The one exception is to be found in one of the consultancies, which employs a small handful \\\\\\\\u2013 amounting to well under 10% of its space workforce - of vocationally educated IT technicians in database management and front-line helpdesk roles.The picture is similar in the case of the two specialist satellite operators: one employs no technicians whatsoever; the other employs a small number of IT technicians, once more amounting to well under 10% of its total workforce, and again primarily in front-line technical support roles. Finally, only one of the three specialist downstream organisations in the sample has any technicians, employing a very small number to manage its databases and to do some simple coding.The other two specialist downstream organisations employ no technicians whatsoever, the highly technical nature of the work undertaken by these organisations militating heavily in favour of employing people with degrees or postgraduate qualifications.The upshot is that downstream firms and satellite operators accounted for fewer than 5% of the total number of technicians employed by the 25 firms visited for this study.\\\\nIf the sample of employers visited for this project is representative of the space sector as a whole, the overall picture that emerges, is \\\\\\\\u2013 perhaps unsurprisingly \\\\\\\\u2013 of an industry in which technicians form a relatively small fraction of the workforce, probably no more than one fifth, and in which the vast majority of those technicians are employed in upstream manufacturing roles. In the next section of the report, we shall focus on the upstream manufacturing part of the industry and describe in more details the kinds of roles that are filled by technicians.' section_ids=['6', '6.1', '6.3']\n"
     ]
    }
   ],
   "source": [
    "class RefineIO(BaseModel):\n",
    "    intermediate_answer: str = Field(description=\"your previous intermediate answer that might need to be refined with the additional context\")\n",
    "    section_ids: Sequence[str] = Field(description=\"the exact ID(s) of the sections that were used to generate the intermediate answer\")\n",
    "\n",
    "refine_prompt = ChatPromptTemplate.from_messages(\n",
    "    [\n",
    "        (\n",
    "            \"system\",\n",
    "            \"\"\"\n",
    "            You're a world class policy analyst that is analyzing an economic policy document by going section over section. Your goal is to answer the question based on the given section text and intermediate_answer.\n",
    "\n",
    "            \"\"\"\n",
    "        ),\n",
    "        (\n",
    "            \"human\",\n",
    "            \"\"\"\n",
    "            Here is the intermediate_answer you generated along with the section IDs that were used to generate it: \\n{refine_io}\n",
    "            Use the given format to refine your previous intermediate_answer with the following section: \\n{section}\n",
    "            Here is the question that you need to answer in intermediate_answer: {question}\n",
    "            \"\"\"\n",
    "        ),\n",
    "        (\"human\", \"Tip: Make sure to answer in the correct format\"),\n",
    "    ]\n",
    ")\n",
    "\n",
    "\n",
    "refine_runnable = create_structured_output_runnable(RefineIO, llm, refine_prompt)\n",
    "\n",
    "# Run the refine runnable for each fetched section while feeding the previous answer as the intermediate answer\n",
    "initial_refine_io = RefineIO(intermediate_answer=\"\", section_ids=[])\n",
    "for section in fetched_sections:\n",
    "    refine_io = refine_runnable.invoke({\n",
    "        \"refine_io\": initial_refine_io.json(),\n",
    "        \"section\": section,\n",
    "        \"question\": question\n",
    "    })\n",
    "    print(refine_io)\n",
    "    initial_refine_io = refine_io\n",
    "\n",
    "refine_result = initial_refine_io"
   ]
  },
  {
   "cell_type": "code",
   "execution_count": 112,
   "metadata": {},
   "outputs": [
    {
     "name": "stdout",
     "output_type": "stream",
     "text": [
      "Original question:  Does the document discuss specific degrees, qualifications or professions with regard to Advanced Computing, if so, how?\n",
      "Final text output The document discusses the qualifications possessed by technicians in the space industry, including the level and subject-matter of qualifications. It does not specifically mention degrees or professions related to Advanced Computing. The evidence gathered for this study indicates that the vast majority of the technicians who are employed in the case study organisations work on upstream manufacturing projects. All 16 of the organisations that are involved, in whole or part, in upstream manufacturing activities \\\\u2013 namely, the 11 manufacturers of components and sub-systems, the two space primes, and the three other organisations that combine upstream manufacturing with some downstream service provision \\\\u2013 employ technicians. On average, in the space primes and specialist upstream manufacturers, technicians account for around 20% of the total workforce (see Table 1). In the organisations that combine upstream manufacturing with the provision of downstream services, the share of technicians is much smaller, averaging under 5% of the total workforce.The employment of technicians is confined in all these cases exclusively to upstream manufacturing roles; neither of the space primes employs technicians to work in its ground stations or in its downstream operations; while none of the three organisations that combine upstream manufacturing with downstream service provision has technicians who contribute directly to their downstream work.Technicians occupying upstream manufacturing roles account for over 95% of the total number of technicians employed across the 25 organisations visited for this study.\\nThe highly demanding and specialised nature of the work undertaken both by the three organisations that supply software and IT engineering services to the space sector, and also by the consultancy that provides advice to firms operating in the upstream segment, implies that when they are filling technical roles they only hire people who are qualified to at least degree level.The one exception is to be found in one of the consultancies, which employs a small handful \\\\u2013 amounting to well under 10% of its space workforce - of vocationally educated IT technicians in database management and front-line helpdesk roles.The picture is similar in the case of the two specialist satellite operators: one employs no technicians whatsoever; the other employs a small number of IT technicians, once more amounting to well under 10% of its total workforce, and again primarily in front-line technical support roles. Finally, only one of the three specialist downstream organisations in the sample has any technicians, employing a very small number to manage its databases and to do some simple coding.The other two specialist downstream organisations employ no technicians whatsoever, the highly technical nature of the work undertaken by these organisations militating heavily in favour of employing people with degrees or postgraduate qualifications.The upshot is that downstream firms and satellite operators accounted for fewer than 5% of the total number of technicians employed by the 25 firms visited for this study.\\nIf the sample of employers visited for this project is representative of the space sector as a whole, the overall picture that emerges, is \\\\u2013 perhaps unsurprisingly \\\\u2013 of an industry in which technicians form a relatively small fraction of the workforce, probably no more than one fifth, and in which the vast majority of those technicians are employed in upstream manufacturing roles. In the next section of the report, we shall focus on the upstream manufacturing part of the industry and describe in more details the kinds of roles that are filled by technicians.\n",
      "Identified relevant sections IDs:  ['6', '6.1', '6.3']\n"
     ]
    }
   ],
   "source": [
    "print(\"Original question: \", question)\n",
    "print(\"Final text output\", refine_result.intermediate_answer)\n",
    "print(\"Identified relevant sections IDs: \", refine_result.section_ids)"
   ]
  },
  {
   "cell_type": "markdown",
   "metadata": {},
   "source": [
    "---\n",
    "#### Utils"
   ]
  },
  {
   "cell_type": "code",
   "execution_count": 240,
   "metadata": {},
   "outputs": [
    {
     "name": "stdout",
     "output_type": "stream",
     "text": [
      "Having discussed the origins of the case study organisations’ current technicians, we move on now to consider how the organisations in question propose to satisfy their future need for technicians.That is to say, we shall consider in this section the workforce planning strategies adopted by those space companies that employ technicians.This is an interesting and important issue, for a number of reasons.The first is that, as noted above, the increasingly difficulty of recruiting experienced technicians means that the approach most commonly adopted hitherto, namely recruitment-plus-upgrading, may not be as sustainable in the future as it was in the past. Second, many of the case study organisations, including seven of the 12 who are either currently training apprentices or are planning to do so – are growing, often very rapidly, and require increasing numbers of technicians. Of course, this reflects the more general point – made above – that the space industry is growing rapidly, both in terms of the value of its business and also in terms of total employment. It is also worth noting in this context a point made by three firms in particular, namely that as these firms grow the number of technicians may rise as a share of their total employment.The reason is as follows.The firms in question are currently rather small, both in terms of the volume of business they have and also in terms of total employment.Their small size is significant, because it means that in the past they had little or no scope to employ specialist technicians, simply because they have not had enough technician-type work to warrant employing a specialist of that kind. (Typically, the technician-type work has instead been done by graduates.11)  However, as the volume of business undertaken by the firms expands, there arises a point at which it becomes worthwhile for the firms in question to employ specialist technicians in some parts of their business.There is some reason to think, therefore, that as at least some space companies move from very small-scale batch manufacturing of bespoke commercial satellites to building (somewhat) more standardised products, the number of specialist technicians employed will grow as a share of the manufacturing workforce.\n",
      "\n"
     ]
    }
   ],
   "source": [
    "for section, _ in section_summaries:\n",
    "    if section.title == \"5. RESULTS II:THE FUTURE TECHNICIAN WORKFORCE\":\n",
    "        for para in section.paragraphs:\n",
    "            print(para.text)\n",
    "            print()"
   ]
  },
  {
   "cell_type": "code",
   "execution_count": 113,
   "metadata": {},
   "outputs": [
    {
     "name": "stdout",
     "output_type": "stream",
     "text": [
      "2023-11-19 17:29:36.521 app.preprocessing.adobe.manager INFO     Calling Adobe Extract API\n",
      "Error processing file: UK_86.pdf\n",
      "\n",
      "2023-11-19 17:29:43.015 app.preprocessing.adobe.parser WARNING  Unknown element path: /L[5]/LI/L/LI/Lbl in data/interim/000-adobe-extract/UK_87.zip\n"
     ]
    },
    {
     "name": "stderr",
     "output_type": "stream",
     "text": [
      "WARNING:app.preprocessing.adobe.parser:Unknown element path: /L[5]/LI/L/LI/Lbl in data/interim/000-adobe-extract/UK_87.zip\n"
     ]
    },
    {
     "name": "stdout",
     "output_type": "stream",
     "text": [
      "2023-11-19 17:29:43.016 app.preprocessing.adobe.parser WARNING  Unknown element path: /L[5]/LI/L/LI/LBody in data/interim/000-adobe-extract/UK_87.zip\n"
     ]
    },
    {
     "name": "stderr",
     "output_type": "stream",
     "text": [
      "WARNING:app.preprocessing.adobe.parser:Unknown element path: /L[5]/LI/L/LI/LBody in data/interim/000-adobe-extract/UK_87.zip\n"
     ]
    },
    {
     "name": "stdout",
     "output_type": "stream",
     "text": [
      "2023-11-19 17:29:43.016 app.preprocessing.adobe.parser WARNING  Unknown element path: /L[5]/LI/L/LI[2]/Lbl in data/interim/000-adobe-extract/UK_87.zip\n"
     ]
    },
    {
     "name": "stderr",
     "output_type": "stream",
     "text": [
      "WARNING:app.preprocessing.adobe.parser:Unknown element path: /L[5]/LI/L/LI[2]/Lbl in data/interim/000-adobe-extract/UK_87.zip\n"
     ]
    },
    {
     "name": "stdout",
     "output_type": "stream",
     "text": [
      "2023-11-19 17:29:43.016 app.preprocessing.adobe.parser WARNING  Unknown element path: /L[5]/LI/L/LI[2]/LBody in data/interim/000-adobe-extract/UK_87.zip\n"
     ]
    },
    {
     "name": "stderr",
     "output_type": "stream",
     "text": [
      "WARNING:app.preprocessing.adobe.parser:Unknown element path: /L[5]/LI/L/LI[2]/LBody in data/interim/000-adobe-extract/UK_87.zip\n"
     ]
    },
    {
     "name": "stdout",
     "output_type": "stream",
     "text": [
      "2023-11-19 17:29:43.017 app.preprocessing.adobe.parser WARNING  Unknown element path: /L[5]/LI/L/LI[3]/Lbl in data/interim/000-adobe-extract/UK_87.zip\n"
     ]
    },
    {
     "name": "stderr",
     "output_type": "stream",
     "text": [
      "WARNING:app.preprocessing.adobe.parser:Unknown element path: /L[5]/LI/L/LI[3]/Lbl in data/interim/000-adobe-extract/UK_87.zip\n"
     ]
    },
    {
     "name": "stdout",
     "output_type": "stream",
     "text": [
      "2023-11-19 17:29:43.017 app.preprocessing.adobe.parser WARNING  Unknown element path: /L[5]/LI/L/LI[3]/LBody in data/interim/000-adobe-extract/UK_87.zip\n"
     ]
    },
    {
     "name": "stderr",
     "output_type": "stream",
     "text": [
      "WARNING:app.preprocessing.adobe.parser:Unknown element path: /L[5]/LI/L/LI[3]/LBody in data/interim/000-adobe-extract/UK_87.zip\n"
     ]
    },
    {
     "name": "stdout",
     "output_type": "stream",
     "text": [
      "2023-11-19 17:29:43.017 app.preprocessing.adobe.parser WARNING  Unknown element path: /L[5]/LI/L/LI[4]/Lbl in data/interim/000-adobe-extract/UK_87.zip\n"
     ]
    },
    {
     "name": "stderr",
     "output_type": "stream",
     "text": [
      "WARNING:app.preprocessing.adobe.parser:Unknown element path: /L[5]/LI/L/LI[4]/Lbl in data/interim/000-adobe-extract/UK_87.zip\n"
     ]
    },
    {
     "name": "stdout",
     "output_type": "stream",
     "text": [
      "2023-11-19 17:29:43.018 app.preprocessing.adobe.parser WARNING  Unknown element path: /L[5]/LI/L/LI[4]/LBody in data/interim/000-adobe-extract/UK_87.zip\n"
     ]
    },
    {
     "name": "stderr",
     "output_type": "stream",
     "text": [
      "WARNING:app.preprocessing.adobe.parser:Unknown element path: /L[5]/LI/L/LI[4]/LBody in data/interim/000-adobe-extract/UK_87.zip\n"
     ]
    },
    {
     "name": "stdout",
     "output_type": "stream",
     "text": [
      "2023-11-19 17:29:43.018 app.preprocessing.adobe.parser WARNING  Unknown element path: /L[5]/LI/L/LI[5]/Lbl in data/interim/000-adobe-extract/UK_87.zip\n"
     ]
    },
    {
     "name": "stderr",
     "output_type": "stream",
     "text": [
      "WARNING:app.preprocessing.adobe.parser:Unknown element path: /L[5]/LI/L/LI[5]/Lbl in data/interim/000-adobe-extract/UK_87.zip\n"
     ]
    },
    {
     "name": "stdout",
     "output_type": "stream",
     "text": [
      "2023-11-19 17:29:43.018 app.preprocessing.adobe.parser WARNING  Unknown element path: /L[5]/LI/L/LI[5]/LBody in data/interim/000-adobe-extract/UK_87.zip\n"
     ]
    },
    {
     "name": "stderr",
     "output_type": "stream",
     "text": [
      "WARNING:app.preprocessing.adobe.parser:Unknown element path: /L[5]/LI/L/LI[5]/LBody in data/interim/000-adobe-extract/UK_87.zip\n"
     ]
    },
    {
     "name": "stdout",
     "output_type": "stream",
     "text": [
      "2023-11-19 17:29:43.019 app.preprocessing.adobe.parser WARNING  Unknown element path: /L[5]/LI/L/LI[6]/Lbl in data/interim/000-adobe-extract/UK_87.zip\n"
     ]
    },
    {
     "name": "stderr",
     "output_type": "stream",
     "text": [
      "WARNING:app.preprocessing.adobe.parser:Unknown element path: /L[5]/LI/L/LI[6]/Lbl in data/interim/000-adobe-extract/UK_87.zip\n"
     ]
    },
    {
     "name": "stdout",
     "output_type": "stream",
     "text": [
      "2023-11-19 17:29:43.019 app.preprocessing.adobe.parser WARNING  Unknown element path: /L[5]/LI/L/LI[6]/LBody in data/interim/000-adobe-extract/UK_87.zip\n"
     ]
    },
    {
     "name": "stderr",
     "output_type": "stream",
     "text": [
      "WARNING:app.preprocessing.adobe.parser:Unknown element path: /L[5]/LI/L/LI[6]/LBody in data/interim/000-adobe-extract/UK_87.zip\n"
     ]
    },
    {
     "name": "stdout",
     "output_type": "stream",
     "text": [
      "2023-11-19 17:29:43.019 app.preprocessing.adobe.parser WARNING  Unknown element path: /L[5]/LI/L/LI[7]/Lbl in data/interim/000-adobe-extract/UK_87.zip\n"
     ]
    },
    {
     "name": "stderr",
     "output_type": "stream",
     "text": [
      "WARNING:app.preprocessing.adobe.parser:Unknown element path: /L[5]/LI/L/LI[7]/Lbl in data/interim/000-adobe-extract/UK_87.zip\n"
     ]
    },
    {
     "name": "stdout",
     "output_type": "stream",
     "text": [
      "2023-11-19 17:29:43.020 app.preprocessing.adobe.parser WARNING  Unknown element path: /L[5]/LI/L/LI[7]/LBody in data/interim/000-adobe-extract/UK_87.zip\n"
     ]
    },
    {
     "name": "stderr",
     "output_type": "stream",
     "text": [
      "WARNING:app.preprocessing.adobe.parser:Unknown element path: /L[5]/LI/L/LI[7]/LBody in data/interim/000-adobe-extract/UK_87.zip\n"
     ]
    },
    {
     "name": "stdout",
     "output_type": "stream",
     "text": [
      "2023-11-19 17:29:43.020 app.preprocessing.adobe.parser WARNING  Unknown element path: /L[5]/LI/L/LI[8]/Lbl in data/interim/000-adobe-extract/UK_87.zip\n"
     ]
    },
    {
     "name": "stderr",
     "output_type": "stream",
     "text": [
      "WARNING:app.preprocessing.adobe.parser:Unknown element path: /L[5]/LI/L/LI[8]/Lbl in data/interim/000-adobe-extract/UK_87.zip\n"
     ]
    },
    {
     "name": "stdout",
     "output_type": "stream",
     "text": [
      "2023-11-19 17:29:43.021 app.preprocessing.adobe.parser WARNING  Unknown element path: /L[5]/LI/L/LI[8]/LBody in data/interim/000-adobe-extract/UK_87.zip\n"
     ]
    },
    {
     "name": "stderr",
     "output_type": "stream",
     "text": [
      "WARNING:app.preprocessing.adobe.parser:Unknown element path: /L[5]/LI/L/LI[8]/LBody in data/interim/000-adobe-extract/UK_87.zip\n"
     ]
    },
    {
     "name": "stdout",
     "output_type": "stream",
     "text": [
      "2023-11-19 17:29:43.021 app.preprocessing.adobe.parser WARNING  Unknown element path: /L[5]/LI/L/LI[9]/Lbl in data/interim/000-adobe-extract/UK_87.zip\n"
     ]
    },
    {
     "name": "stderr",
     "output_type": "stream",
     "text": [
      "WARNING:app.preprocessing.adobe.parser:Unknown element path: /L[5]/LI/L/LI[9]/Lbl in data/interim/000-adobe-extract/UK_87.zip\n"
     ]
    },
    {
     "name": "stdout",
     "output_type": "stream",
     "text": [
      "2023-11-19 17:29:43.021 app.preprocessing.adobe.parser WARNING  Unknown element path: /L[5]/LI/L/LI[9]/LBody in data/interim/000-adobe-extract/UK_87.zip\n"
     ]
    },
    {
     "name": "stderr",
     "output_type": "stream",
     "text": [
      "WARNING:app.preprocessing.adobe.parser:Unknown element path: /L[5]/LI/L/LI[9]/LBody in data/interim/000-adobe-extract/UK_87.zip\n"
     ]
    },
    {
     "name": "stdout",
     "output_type": "stream",
     "text": [
      "2023-11-19 17:29:43.022 app.preprocessing.adobe.parser WARNING  Unknown element path: /L[5]/LI/L/LI[10]/Lbl in data/interim/000-adobe-extract/UK_87.zip\n"
     ]
    },
    {
     "name": "stderr",
     "output_type": "stream",
     "text": [
      "WARNING:app.preprocessing.adobe.parser:Unknown element path: /L[5]/LI/L/LI[10]/Lbl in data/interim/000-adobe-extract/UK_87.zip\n"
     ]
    },
    {
     "name": "stdout",
     "output_type": "stream",
     "text": [
      "2023-11-19 17:29:43.022 app.preprocessing.adobe.parser WARNING  Unknown element path: /L[5]/LI/L/LI[10]/LBody in data/interim/000-adobe-extract/UK_87.zip\n"
     ]
    },
    {
     "name": "stderr",
     "output_type": "stream",
     "text": [
      "WARNING:app.preprocessing.adobe.parser:Unknown element path: /L[5]/LI/L/LI[10]/LBody in data/interim/000-adobe-extract/UK_87.zip\n"
     ]
    },
    {
     "name": "stdout",
     "output_type": "stream",
     "text": [
      "2023-11-19 17:29:43.023 app.preprocessing.adobe.parser WARNING  Unknown element path: /L[5]/LI/L/LI[10]/LBody in data/interim/000-adobe-extract/UK_87.zip\n"
     ]
    },
    {
     "name": "stderr",
     "output_type": "stream",
     "text": [
      "WARNING:app.preprocessing.adobe.parser:Unknown element path: /L[5]/LI/L/LI[10]/LBody in data/interim/000-adobe-extract/UK_87.zip\n"
     ]
    },
    {
     "name": "stdout",
     "output_type": "stream",
     "text": [
      "2023-11-19 17:29:43.023 app.preprocessing.adobe.parser WARNING  Unknown element path: /L[5]/LI/L/LI[10]/LBody in data/interim/000-adobe-extract/UK_87.zip\n"
     ]
    },
    {
     "name": "stderr",
     "output_type": "stream",
     "text": [
      "WARNING:app.preprocessing.adobe.parser:Unknown element path: /L[5]/LI/L/LI[10]/LBody in data/interim/000-adobe-extract/UK_87.zip\n"
     ]
    },
    {
     "name": "stdout",
     "output_type": "stream",
     "text": [
      "2023-11-19 17:29:43.024 app.preprocessing.adobe.parser WARNING  Unknown element path: /L[5]/LI/L/LI[11]/Lbl in data/interim/000-adobe-extract/UK_87.zip\n"
     ]
    },
    {
     "name": "stderr",
     "output_type": "stream",
     "text": [
      "WARNING:app.preprocessing.adobe.parser:Unknown element path: /L[5]/LI/L/LI[11]/Lbl in data/interim/000-adobe-extract/UK_87.zip\n"
     ]
    },
    {
     "name": "stdout",
     "output_type": "stream",
     "text": [
      "2023-11-19 17:29:43.024 app.preprocessing.adobe.parser WARNING  Unknown element path: /L[5]/LI/L/LI[11]/LBody in data/interim/000-adobe-extract/UK_87.zip\n"
     ]
    },
    {
     "name": "stderr",
     "output_type": "stream",
     "text": [
      "WARNING:app.preprocessing.adobe.parser:Unknown element path: /L[5]/LI/L/LI[11]/LBody in data/interim/000-adobe-extract/UK_87.zip\n"
     ]
    },
    {
     "name": "stdout",
     "output_type": "stream",
     "text": [
      "2023-11-19 17:29:43.024 app.preprocessing.adobe.parser WARNING  Unknown element path: /L[5]/LI/L/LI[11]/LBody in data/interim/000-adobe-extract/UK_87.zip\n"
     ]
    },
    {
     "name": "stderr",
     "output_type": "stream",
     "text": [
      "WARNING:app.preprocessing.adobe.parser:Unknown element path: /L[5]/LI/L/LI[11]/LBody in data/interim/000-adobe-extract/UK_87.zip\n"
     ]
    },
    {
     "name": "stdout",
     "output_type": "stream",
     "text": [
      "2023-11-19 17:29:43.025 app.preprocessing.adobe.parser WARNING  Unknown element path: /L[5]/LI/L/LI[12]/Lbl in data/interim/000-adobe-extract/UK_87.zip\n"
     ]
    },
    {
     "name": "stderr",
     "output_type": "stream",
     "text": [
      "WARNING:app.preprocessing.adobe.parser:Unknown element path: /L[5]/LI/L/LI[12]/Lbl in data/interim/000-adobe-extract/UK_87.zip\n"
     ]
    },
    {
     "name": "stdout",
     "output_type": "stream",
     "text": [
      "2023-11-19 17:29:43.025 app.preprocessing.adobe.parser WARNING  Unknown element path: /L[5]/LI/L/LI[12]/LBody in data/interim/000-adobe-extract/UK_87.zip\n"
     ]
    },
    {
     "name": "stderr",
     "output_type": "stream",
     "text": [
      "WARNING:app.preprocessing.adobe.parser:Unknown element path: /L[5]/LI/L/LI[12]/LBody in data/interim/000-adobe-extract/UK_87.zip\n"
     ]
    },
    {
     "name": "stdout",
     "output_type": "stream",
     "text": [
      "2023-11-19 17:29:43.026 app.preprocessing.adobe.parser WARNING  Unknown element path: /L[5]/LI/L/LI[13]/Lbl in data/interim/000-adobe-extract/UK_87.zip\n"
     ]
    },
    {
     "name": "stderr",
     "output_type": "stream",
     "text": [
      "WARNING:app.preprocessing.adobe.parser:Unknown element path: /L[5]/LI/L/LI[13]/Lbl in data/interim/000-adobe-extract/UK_87.zip\n"
     ]
    },
    {
     "name": "stdout",
     "output_type": "stream",
     "text": [
      "2023-11-19 17:29:43.026 app.preprocessing.adobe.parser WARNING  Unknown element path: /L[5]/LI/L/LI[13]/LBody in data/interim/000-adobe-extract/UK_87.zip\n"
     ]
    },
    {
     "name": "stderr",
     "output_type": "stream",
     "text": [
      "WARNING:app.preprocessing.adobe.parser:Unknown element path: /L[5]/LI/L/LI[13]/LBody in data/interim/000-adobe-extract/UK_87.zip\n"
     ]
    },
    {
     "name": "stdout",
     "output_type": "stream",
     "text": [
      "2023-11-19 17:29:43.027 app.preprocessing.adobe.parser WARNING  Unknown element path: /L[5]/LI/L/LI[14]/Lbl in data/interim/000-adobe-extract/UK_87.zip\n"
     ]
    },
    {
     "name": "stderr",
     "output_type": "stream",
     "text": [
      "WARNING:app.preprocessing.adobe.parser:Unknown element path: /L[5]/LI/L/LI[14]/Lbl in data/interim/000-adobe-extract/UK_87.zip\n"
     ]
    },
    {
     "name": "stdout",
     "output_type": "stream",
     "text": [
      "2023-11-19 17:29:43.027 app.preprocessing.adobe.parser WARNING  Unknown element path: /L[5]/LI/L/LI[14]/LBody in data/interim/000-adobe-extract/UK_87.zip\n"
     ]
    },
    {
     "name": "stderr",
     "output_type": "stream",
     "text": [
      "WARNING:app.preprocessing.adobe.parser:Unknown element path: /L[5]/LI/L/LI[14]/LBody in data/interim/000-adobe-extract/UK_87.zip\n"
     ]
    },
    {
     "name": "stdout",
     "output_type": "stream",
     "text": [
      "2023-11-19 17:29:43.027 app.preprocessing.adobe.parser WARNING  Unknown element path: /L[5]/LI/L/LI[15]/Lbl in data/interim/000-adobe-extract/UK_87.zip\n"
     ]
    },
    {
     "name": "stderr",
     "output_type": "stream",
     "text": [
      "WARNING:app.preprocessing.adobe.parser:Unknown element path: /L[5]/LI/L/LI[15]/Lbl in data/interim/000-adobe-extract/UK_87.zip\n"
     ]
    },
    {
     "name": "stdout",
     "output_type": "stream",
     "text": [
      "2023-11-19 17:29:43.028 app.preprocessing.adobe.parser WARNING  Unknown element path: /L[5]/LI/L/LI[15]/LBody in data/interim/000-adobe-extract/UK_87.zip\n"
     ]
    },
    {
     "name": "stderr",
     "output_type": "stream",
     "text": [
      "WARNING:app.preprocessing.adobe.parser:Unknown element path: /L[5]/LI/L/LI[15]/LBody in data/interim/000-adobe-extract/UK_87.zip\n"
     ]
    },
    {
     "name": "stdout",
     "output_type": "stream",
     "text": [
      "2023-11-19 17:29:43.028 app.preprocessing.adobe.parser WARNING  Unknown element path: /L[5]/LI/L/LI[16]/Lbl in data/interim/000-adobe-extract/UK_87.zip\n"
     ]
    },
    {
     "name": "stderr",
     "output_type": "stream",
     "text": [
      "WARNING:app.preprocessing.adobe.parser:Unknown element path: /L[5]/LI/L/LI[16]/Lbl in data/interim/000-adobe-extract/UK_87.zip\n"
     ]
    },
    {
     "name": "stdout",
     "output_type": "stream",
     "text": [
      "2023-11-19 17:29:43.029 app.preprocessing.adobe.parser WARNING  Unknown element path: /L[5]/LI/L/LI[16]/LBody in data/interim/000-adobe-extract/UK_87.zip\n"
     ]
    },
    {
     "name": "stderr",
     "output_type": "stream",
     "text": [
      "WARNING:app.preprocessing.adobe.parser:Unknown element path: /L[5]/LI/L/LI[16]/LBody in data/interim/000-adobe-extract/UK_87.zip\n"
     ]
    },
    {
     "name": "stdout",
     "output_type": "stream",
     "text": [
      "2023-11-19 17:29:43.029 app.preprocessing.adobe.parser WARNING  Unknown element path: /L[5]/LI/L/LI[17]/Lbl in data/interim/000-adobe-extract/UK_87.zip\n"
     ]
    },
    {
     "name": "stderr",
     "output_type": "stream",
     "text": [
      "WARNING:app.preprocessing.adobe.parser:Unknown element path: /L[5]/LI/L/LI[17]/Lbl in data/interim/000-adobe-extract/UK_87.zip\n"
     ]
    },
    {
     "name": "stdout",
     "output_type": "stream",
     "text": [
      "2023-11-19 17:29:43.029 app.preprocessing.adobe.parser WARNING  Unknown element path: /L[5]/LI/L/LI[17]/LBody in data/interim/000-adobe-extract/UK_87.zip\n"
     ]
    },
    {
     "name": "stderr",
     "output_type": "stream",
     "text": [
      "WARNING:app.preprocessing.adobe.parser:Unknown element path: /L[5]/LI/L/LI[17]/LBody in data/interim/000-adobe-extract/UK_87.zip\n"
     ]
    },
    {
     "name": "stdout",
     "output_type": "stream",
     "text": [
      "2023-11-19 17:29:43.030 app.preprocessing.adobe.parser WARNING  Unknown element path: /L[5]/LI/L/LI[18]/Lbl in data/interim/000-adobe-extract/UK_87.zip\n"
     ]
    },
    {
     "name": "stderr",
     "output_type": "stream",
     "text": [
      "WARNING:app.preprocessing.adobe.parser:Unknown element path: /L[5]/LI/L/LI[18]/Lbl in data/interim/000-adobe-extract/UK_87.zip\n"
     ]
    },
    {
     "name": "stdout",
     "output_type": "stream",
     "text": [
      "2023-11-19 17:29:43.030 app.preprocessing.adobe.parser WARNING  Unknown element path: /L[5]/LI/L/LI[18]/LBody in data/interim/000-adobe-extract/UK_87.zip\n"
     ]
    },
    {
     "name": "stderr",
     "output_type": "stream",
     "text": [
      "WARNING:app.preprocessing.adobe.parser:Unknown element path: /L[5]/LI/L/LI[18]/LBody in data/interim/000-adobe-extract/UK_87.zip\n"
     ]
    },
    {
     "name": "stdout",
     "output_type": "stream",
     "text": [
      "Processed file: UK_87.pdf\n",
      "Processed file: UK_88.pdf\n",
      "2023-11-19 17:29:43.062 app.preprocessing.adobe.parser WARNING  Unknown element path: /H2[5]/Figure in data/interim/000-adobe-extract/UK_89.zip\n"
     ]
    },
    {
     "name": "stderr",
     "output_type": "stream",
     "text": [
      "WARNING:app.preprocessing.adobe.parser:Unknown element path: /H2[5]/Figure in data/interim/000-adobe-extract/UK_89.zip\n"
     ]
    },
    {
     "name": "stdout",
     "output_type": "stream",
     "text": [
      "2023-11-19 17:29:43.063 app.preprocessing.adobe.parser WARNING  Unknown element path: /H2[6]/Figure in data/interim/000-adobe-extract/UK_89.zip\n"
     ]
    },
    {
     "name": "stderr",
     "output_type": "stream",
     "text": [
      "WARNING:app.preprocessing.adobe.parser:Unknown element path: /H2[6]/Figure in data/interim/000-adobe-extract/UK_89.zip\n"
     ]
    },
    {
     "name": "stdout",
     "output_type": "stream",
     "text": [
      "Error processing file: UK_89.pdf\n",
      "'NoneType' object has no attribute 'endswith'\n",
      "2023-11-19 17:29:43.070 app.preprocessing.adobe.parser WARNING  Unknown element path: /H2[37]/Figure in data/interim/000-adobe-extract/UK_90.zip\n"
     ]
    },
    {
     "name": "stderr",
     "output_type": "stream",
     "text": [
      "WARNING:app.preprocessing.adobe.parser:Unknown element path: /H2[37]/Figure in data/interim/000-adobe-extract/UK_90.zip\n"
     ]
    },
    {
     "name": "stdout",
     "output_type": "stream",
     "text": [
      "2023-11-19 17:29:43.072 app.preprocessing.adobe.parser WARNING  Unknown element path: /H2[60]/Figure in data/interim/000-adobe-extract/UK_90.zip\n"
     ]
    },
    {
     "name": "stderr",
     "output_type": "stream",
     "text": [
      "WARNING:app.preprocessing.adobe.parser:Unknown element path: /H2[60]/Figure in data/interim/000-adobe-extract/UK_90.zip\n"
     ]
    },
    {
     "name": "stdout",
     "output_type": "stream",
     "text": [
      "Error processing file: UK_90.pdf\n",
      "unsupported operand type(s) for +: 'NoneType' and 'str'\n",
      "Processed file: UK_91.pdf\n",
      "2023-11-19 17:29:43.105 app.preprocessing.adobe.parser WARNING  Unknown element path: /P[125]/Sub[3]/Figure in data/interim/000-adobe-extract/UK_92.zip\n"
     ]
    },
    {
     "name": "stderr",
     "output_type": "stream",
     "text": [
      "WARNING:app.preprocessing.adobe.parser:Unknown element path: /P[125]/Sub[3]/Figure in data/interim/000-adobe-extract/UK_92.zip\n"
     ]
    },
    {
     "name": "stdout",
     "output_type": "stream",
     "text": [
      "Processed file: UK_92.pdf\n",
      "2023-11-19 17:29:43.134 app.preprocessing.adobe.parser WARNING  Unknown element path: /TOC/TOCI[9] in data/interim/000-adobe-extract/UK_93.zip\n"
     ]
    },
    {
     "name": "stderr",
     "output_type": "stream",
     "text": [
      "WARNING:app.preprocessing.adobe.parser:Unknown element path: /TOC/TOCI[9] in data/interim/000-adobe-extract/UK_93.zip\n"
     ]
    },
    {
     "name": "stdout",
     "output_type": "stream",
     "text": [
      "2023-11-19 17:29:43.136 app.preprocessing.adobe.parser WARNING  Unknown element path: /TOC/TOCI[16] in data/interim/000-adobe-extract/UK_93.zip\n"
     ]
    },
    {
     "name": "stderr",
     "output_type": "stream",
     "text": [
      "WARNING:app.preprocessing.adobe.parser:Unknown element path: /TOC/TOCI[16] in data/interim/000-adobe-extract/UK_93.zip\n"
     ]
    },
    {
     "name": "stdout",
     "output_type": "stream",
     "text": [
      "2023-11-19 17:29:43.137 app.preprocessing.adobe.parser WARNING  Unknown element path: /TOC[2]/TOCI[2] in data/interim/000-adobe-extract/UK_93.zip\n"
     ]
    },
    {
     "name": "stderr",
     "output_type": "stream",
     "text": [
      "WARNING:app.preprocessing.adobe.parser:Unknown element path: /TOC[2]/TOCI[2] in data/interim/000-adobe-extract/UK_93.zip\n"
     ]
    },
    {
     "name": "stdout",
     "output_type": "stream",
     "text": [
      "2023-11-19 17:29:43.137 app.preprocessing.adobe.parser WARNING  Unknown element path: /TOC[2]/TOCI[20] in data/interim/000-adobe-extract/UK_93.zip\n"
     ]
    },
    {
     "name": "stderr",
     "output_type": "stream",
     "text": [
      "WARNING:app.preprocessing.adobe.parser:Unknown element path: /TOC[2]/TOCI[20] in data/interim/000-adobe-extract/UK_93.zip\n"
     ]
    },
    {
     "name": "stdout",
     "output_type": "stream",
     "text": [
      "2023-11-19 17:29:43.138 app.preprocessing.adobe.parser WARNING  Unknown element path: /TOC[2]/TOCI[26] in data/interim/000-adobe-extract/UK_93.zip\n"
     ]
    },
    {
     "name": "stderr",
     "output_type": "stream",
     "text": [
      "WARNING:app.preprocessing.adobe.parser:Unknown element path: /TOC[2]/TOCI[26] in data/interim/000-adobe-extract/UK_93.zip\n"
     ]
    },
    {
     "name": "stdout",
     "output_type": "stream",
     "text": [
      "2023-11-19 17:29:43.138 app.preprocessing.adobe.parser WARNING  Unknown element path: /TOC[2]/TOCI[30] in data/interim/000-adobe-extract/UK_93.zip\n"
     ]
    },
    {
     "name": "stderr",
     "output_type": "stream",
     "text": [
      "WARNING:app.preprocessing.adobe.parser:Unknown element path: /TOC[2]/TOCI[30] in data/interim/000-adobe-extract/UK_93.zip\n"
     ]
    },
    {
     "name": "stdout",
     "output_type": "stream",
     "text": [
      "Processed file: UK_93.pdf\n",
      "2023-11-19 17:29:43.172 app.preprocessing.adobe.manager INFO     Calling Adobe Extract API\n"
     ]
    },
    {
     "name": "stderr",
     "output_type": "stream",
     "text": [
      "INFO:app.preprocessing.adobe.manager:Calling Adobe Extract API\n"
     ]
    },
    {
     "name": "stdout",
     "output_type": "stream",
     "text": [
      "Processed file: UK_94.pdf\n",
      "Error processing file: UK_95.pdf\n",
      "[Errno 2] No such file or directory: '/Users/dvdblk/Downloads/pdf_files_complete/UK_95.pdf'\n",
      "Error processing file: UK_96.pdf\n",
      "[Errno 2] No such file or directory: '/Users/dvdblk/Downloads/pdf_files_complete/UK_96.pdf'\n",
      "Processed file: UK_97.pdf\n",
      "Processed file: UK_98.pdf\n",
      "Processed file: UK_99.pdf\n",
      "Processed file: UK_100.pdf\n",
      "Processed file: UK_101.pdf\n",
      "Processed file: UK_102.pdf\n",
      "Processed file: UK_103.pdf\n",
      "Error processing file: UK_104.pdf\n",
      "[Errno 2] No such file or directory: '/Users/dvdblk/Downloads/pdf_files_complete/UK_104.pdf'\n",
      "2023-11-19 17:31:12.973 app.preprocessing.adobe.parser WARNING  Unknown element path: /Title/Sub in data/interim/000-adobe-extract/UK_105.zip\n"
     ]
    },
    {
     "name": "stderr",
     "output_type": "stream",
     "text": [
      "WARNING:app.preprocessing.adobe.parser:Unknown element path: /Title/Sub in data/interim/000-adobe-extract/UK_105.zip\n"
     ]
    },
    {
     "name": "stdout",
     "output_type": "stream",
     "text": [
      "2023-11-19 17:31:12.974 app.preprocessing.adobe.parser WARNING  Unknown element path: /Title/Sub[2] in data/interim/000-adobe-extract/UK_105.zip\n"
     ]
    },
    {
     "name": "stderr",
     "output_type": "stream",
     "text": [
      "WARNING:app.preprocessing.adobe.parser:Unknown element path: /Title/Sub[2] in data/interim/000-adobe-extract/UK_105.zip\n"
     ]
    },
    {
     "name": "stdout",
     "output_type": "stream",
     "text": [
      "Processed file: UK_105.pdf\n",
      "2023-11-19 17:31:12.976 app.preprocessing.adobe.manager INFO     Calling Adobe Extract API\n"
     ]
    },
    {
     "name": "stderr",
     "output_type": "stream",
     "text": [
      "INFO:app.preprocessing.adobe.manager:Calling Adobe Extract API\n"
     ]
    },
    {
     "name": "stdout",
     "output_type": "stream",
     "text": [
      "2023-11-19 17:31:30.907 app.preprocessing.adobe.parser WARNING  Unknown element path: /Footnote/Figure in data/interim/000-adobe-extract/UK_106.zip\n"
     ]
    },
    {
     "name": "stderr",
     "output_type": "stream",
     "text": [
      "WARNING:app.preprocessing.adobe.parser:Unknown element path: /Footnote/Figure in data/interim/000-adobe-extract/UK_106.zip\n"
     ]
    },
    {
     "name": "stdout",
     "output_type": "stream",
     "text": [
      "Processed file: UK_106.pdf\n",
      "Error processing file: UK_107.pdf\n",
      "[Errno 2] No such file or directory: '/Users/dvdblk/Downloads/pdf_files_complete/UK_107.pdf'\n",
      "Error processing file: UK_108.pdf\n",
      "[Errno 2] No such file or directory: '/Users/dvdblk/Downloads/pdf_files_complete/UK_108.pdf'\n",
      "Error processing file: UK_109.pdf\n",
      "[Errno 2] No such file or directory: '/Users/dvdblk/Downloads/pdf_files_complete/UK_109.pdf'\n",
      "Processed file: UK_110.pdf\n",
      "Processed file: UK_111.pdf\n",
      "2023-11-19 17:31:30.947 app.preprocessing.adobe.parser WARNING  Unknown element path: /H1[3]/Figure in data/interim/000-adobe-extract/UK_112.zip\n"
     ]
    },
    {
     "name": "stderr",
     "output_type": "stream",
     "text": [
      "WARNING:app.preprocessing.adobe.parser:Unknown element path: /H1[3]/Figure in data/interim/000-adobe-extract/UK_112.zip\n"
     ]
    },
    {
     "name": "stdout",
     "output_type": "stream",
     "text": [
      "Processed file: UK_112.pdf\n",
      "Error processing file: UK_113.pdf\n",
      "Error tokenizing data. C error: Expected 4 fields in line 3, saw 5\n",
      "\n",
      "Error processing file: UK_114.pdf\n",
      "unsupported operand type(s) for +: 'NoneType' and 'str'\n",
      "Error processing file: UK_115.pdf\n",
      "Error tokenizing data. C error: Expected 2 fields in line 5, saw 3\n",
      "\n",
      "2023-11-19 17:31:31.032 app.preprocessing.adobe.parser WARNING  Unknown element path: /H1[8]/Figure in data/interim/000-adobe-extract/UK_116.zip\n"
     ]
    },
    {
     "name": "stderr",
     "output_type": "stream",
     "text": [
      "WARNING:app.preprocessing.adobe.parser:Unknown element path: /H1[8]/Figure in data/interim/000-adobe-extract/UK_116.zip\n"
     ]
    },
    {
     "name": "stdout",
     "output_type": "stream",
     "text": [
      "2023-11-19 17:31:31.033 app.preprocessing.adobe.parser WARNING  Unknown element path: /H1[9]/Figure in data/interim/000-adobe-extract/UK_116.zip\n"
     ]
    },
    {
     "name": "stderr",
     "output_type": "stream",
     "text": [
      "WARNING:app.preprocessing.adobe.parser:Unknown element path: /H1[9]/Figure in data/interim/000-adobe-extract/UK_116.zip\n"
     ]
    },
    {
     "name": "stdout",
     "output_type": "stream",
     "text": [
      "2023-11-19 17:31:31.035 app.preprocessing.adobe.parser WARNING  Unknown element path: /H1[12]/Figure in data/interim/000-adobe-extract/UK_116.zip\n"
     ]
    },
    {
     "name": "stderr",
     "output_type": "stream",
     "text": [
      "WARNING:app.preprocessing.adobe.parser:Unknown element path: /H1[12]/Figure in data/interim/000-adobe-extract/UK_116.zip\n"
     ]
    },
    {
     "name": "stdout",
     "output_type": "stream",
     "text": [
      "2023-11-19 17:31:31.036 app.preprocessing.adobe.parser WARNING  Unknown element path: /H1[13]/Figure in data/interim/000-adobe-extract/UK_116.zip\n"
     ]
    },
    {
     "name": "stderr",
     "output_type": "stream",
     "text": [
      "WARNING:app.preprocessing.adobe.parser:Unknown element path: /H1[13]/Figure in data/interim/000-adobe-extract/UK_116.zip\n"
     ]
    },
    {
     "name": "stdout",
     "output_type": "stream",
     "text": [
      "2023-11-19 17:31:31.036 app.preprocessing.adobe.parser WARNING  Unknown element path: /H1[14]/Figure in data/interim/000-adobe-extract/UK_116.zip\n"
     ]
    },
    {
     "name": "stderr",
     "output_type": "stream",
     "text": [
      "WARNING:app.preprocessing.adobe.parser:Unknown element path: /H1[14]/Figure in data/interim/000-adobe-extract/UK_116.zip\n"
     ]
    },
    {
     "name": "stdout",
     "output_type": "stream",
     "text": [
      "2023-11-19 17:31:31.037 app.preprocessing.adobe.parser WARNING  Unknown element path: /H1[15]/Figure in data/interim/000-adobe-extract/UK_116.zip\n"
     ]
    },
    {
     "name": "stderr",
     "output_type": "stream",
     "text": [
      "WARNING:app.preprocessing.adobe.parser:Unknown element path: /H1[15]/Figure in data/interim/000-adobe-extract/UK_116.zip\n"
     ]
    },
    {
     "name": "stdout",
     "output_type": "stream",
     "text": [
      "Processed file: UK_116.pdf\n",
      "2023-11-19 17:31:31.057 app.preprocessing.adobe.manager INFO     Calling Adobe Extract API\n"
     ]
    },
    {
     "name": "stderr",
     "output_type": "stream",
     "text": [
      "INFO:app.preprocessing.adobe.manager:Calling Adobe Extract API\n"
     ]
    },
    {
     "name": "stdout",
     "output_type": "stream",
     "text": [
      "Error processing file: UK_117.pdf\n",
      "Service returned a usage error with description: description =Either quota for this operation is not available or Free Tier quota is exhausted. Please visit (www.adobe.com/go/pdftoolsapi_home) to start using Free Tier quota or (www.adobe.com/go/pdftoolsapi_err_quota) to upgrade to paid credentials.; requestTrackingId=f7505c74-fd92-4508-92e7-f390cdd058cd; statusCode=429; errorCode=UNKNOWN\n",
      "2023-11-19 17:31:34.380 app.preprocessing.adobe.parser WARNING  Unknown element path: /L[23]/H3 in data/interim/000-adobe-extract/UK_118.zip\n"
     ]
    },
    {
     "name": "stderr",
     "output_type": "stream",
     "text": [
      "WARNING:app.preprocessing.adobe.parser:Unknown element path: /L[23]/H3 in data/interim/000-adobe-extract/UK_118.zip\n"
     ]
    },
    {
     "name": "stdout",
     "output_type": "stream",
     "text": [
      "Processed file: UK_118.pdf\n",
      "Error processing file: UK_119.pdf\n",
      "'NoneType' object has no attribute 'endswith'\n",
      "2023-11-19 17:31:34.404 app.preprocessing.adobe.manager INFO     Calling Adobe Extract API\n"
     ]
    },
    {
     "name": "stderr",
     "output_type": "stream",
     "text": [
      "INFO:app.preprocessing.adobe.manager:Calling Adobe Extract API\n"
     ]
    },
    {
     "name": "stdout",
     "output_type": "stream",
     "text": [
      "Error processing file: UK_120.pdf\n",
      "Service returned a usage error with description: description =Either quota for this operation is not available or Free Tier quota is exhausted. Please visit (www.adobe.com/go/pdftoolsapi_home) to start using Free Tier quota or (www.adobe.com/go/pdftoolsapi_err_quota) to upgrade to paid credentials.; requestTrackingId=f75575bf-57e2-48ce-9c70-f2b32bd7d63d; statusCode=429; errorCode=UNKNOWN\n",
      "Processed file: UK_121.pdf\n",
      "Processed file: UK_122.pdf\n",
      "Processed file: UK_123.pdf\n",
      "Processed file: UK_124.pdf\n"
     ]
    }
   ],
   "source": [
    "from pathlib import Path\n",
    "\n",
    "input_pdfs = [f\"UK_{i:02}.pdf\" for i in range(86, 125)]\n",
    "\n",
    "\n",
    "for input_pdf in input_pdfs:\n",
    "    try:\n",
    "        doc = adobe_manager.get_document(\n",
    "            os.path.join(\"/Users/dvdblk/Downloads/pdf_files_complete/\", input_pdf)\n",
    "        )\n",
    "\n",
    "        # Convert to text\n",
    "        document_text = doc.text\n",
    "\n",
    "        # write document_text to processed dir\n",
    "        output_basename = Path(input_pdf).stem + \".txt\"\n",
    "        output_dir = \"data/processed/adobe-extract/\"\n",
    "\n",
    "        # create dir if not exists\n",
    "        os.makedirs(output_dir, exist_ok=True)\n",
    "\n",
    "        with open(os.path.join(output_dir, output_basename), \"w\") as f:\n",
    "            f.write(document_text)\n",
    "\n",
    "        print(f\"Processed file: {input_pdf}\")\n",
    "    except Exception as e:\n",
    "        print(f\"Error processing file: {input_pdf}\")\n",
    "        print(e)"
   ]
  },
  {
   "cell_type": "code",
   "execution_count": null,
   "metadata": {},
   "outputs": [],
   "source": []
  }
 ],
 "metadata": {
  "kernelspec": {
   "display_name": "hack4good",
   "language": "python",
   "name": "python3"
  },
  "language_info": {
   "codemirror_mode": {
    "name": "ipython",
    "version": 3
   },
   "file_extension": ".py",
   "mimetype": "text/x-python",
   "name": "python",
   "nbconvert_exporter": "python",
   "pygments_lexer": "ipython3",
   "version": "3.11.5"
  }
 },
 "nbformat": 4,
 "nbformat_minor": 2
}
