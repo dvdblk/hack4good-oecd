{
 "cells": [
  {
   "cell_type": "markdown",
   "metadata": {},
   "source": [
    "# Structured Chunking\n",
    "\n",
    "from https://blog.langchain.dev/a-chunk-by-any-other-name/"
   ]
  },
  {
   "cell_type": "code",
   "execution_count": 1,
   "metadata": {},
   "outputs": [],
   "source": [
    "from dotenv import load_dotenv"
   ]
  },
  {
   "cell_type": "markdown",
   "metadata": {},
   "source": [
    "### Workaround for local package imports\n",
    "\n",
    "To import from app.preprocessing package in the root of the repo we need to CD into the root.\n",
    "\n",
    "Note: this code is only necessary in a Jupyter notebook. In a regular python script, the imports work fine."
   ]
  },
  {
   "cell_type": "code",
   "execution_count": 2,
   "metadata": {},
   "outputs": [
    {
     "name": "stdout",
     "output_type": "stream",
     "text": [
      "app/ dir and/or .env not found in current working directory, changing CWD to assumed repo root.\n"
     ]
    },
    {
     "data": {
      "text/plain": [
       "True"
      ]
     },
     "execution_count": 2,
     "metadata": {},
     "output_type": "execute_result"
    }
   ],
   "source": [
    "import os\n",
    "import sys\n",
    "\n",
    "# This assumes your working directory is in the experiments/<name>/ dir\n",
    "repo_root = os.path.abspath(os.path.join(os.getcwd(), \"..\", \"..\"))\n",
    "\n",
    "# Check if app/ dir exists in current working directory along with .env (to make this cell re-runnable)\n",
    "if os.path.exists(os.path.join(os.getcwd(), \"app\")) and os.path.exists(os.path.join(os.getcwd(), \".env\")):\n",
    "    app_path = os.path.join(os.getcwd(), \"app\")\n",
    "    sys.path.append(app_path)\n",
    "    print(\"app/ dir and .env found in current working directory, keeping CWD as is.\")\n",
    "else:\n",
    "    os.chdir(repo_root)\n",
    "    print(\"app/ dir and/or .env not found in current working directory, changing CWD to assumed repo root.\")\n",
    "\n",
    "# Load .env\n",
    "load_dotenv()"
   ]
  },
  {
   "cell_type": "markdown",
   "metadata": {},
   "source": [
    "## Load structured document \n",
    "\n",
    "Steps to get `Document` object from a pdf path:\n",
    "1. create `AdobeExtractAPIManager` instance\n",
    "2. call `doc = extract_document` method with path to document\n",
    "3. call `AdobeDocumentSplitter().document_to_chunks(doc)` "
   ]
  },
  {
   "cell_type": "code",
   "execution_count": 3,
   "metadata": {},
   "outputs": [
    {
     "name": "stdout",
     "output_type": "stream",
     "text": [
      "2023-11-17 18:32:19.560 app.preprocessing.adobe.manager INFO     Initialized AdobeExtractAPIManager (with extract_dir_path=data/interim/000-adobe-extract/)\n"
     ]
    }
   ],
   "source": [
    "from app.preprocessing.adobe.manager import AdobeExtractAPIManager\n",
    "\n",
    "adobe_manager = AdobeExtractAPIManager(\n",
    "    os.getenv(\"ADOBE_CLIENT_ID\"),\n",
    "    os.getenv(\"ADOBE_CLIENT_SECRET\"),\n",
    "    extract_dir_path=\"data/interim/000-adobe-extract/\"\n",
    ")\n",
    "\n",
    "####\n",
    "# Edit the path below to point to a PDF file on your local machine\n",
    "####\n",
    "document = adobe_manager.get_document(\n",
    "    \"/Users/dvdblk/Downloads/pdf_files_complete/UK_47.pdf\"\n",
    ")"
   ]
  },
  {
   "cell_type": "markdown",
   "metadata": {},
   "source": [
    "#### Visualize the sections of the document"
   ]
  },
  {
   "cell_type": "code",
   "execution_count": 14,
   "metadata": {},
   "outputs": [
    {
     "name": "stdout",
     "output_type": "stream",
     "text": [
      "H1 CONTENTS 2\n",
      "H1 EXECUTIVE SUMMARY 4\n",
      "H1 1. INTRODUCTION1 8\n",
      "H1 2.THE UK SPACE INDUSTRY:AN OVERVIEW 10\n",
      "\t H2 FIGURE 1:THE STRUCTURE OF THE SPACE SECTOR 11\n",
      "H1 3. RESEARCH METHODOLOGY 15\n",
      "H1 4. RESULTS I:THE CURRENT TECHNICIAN WORKFORCE: SIZE, ROLES, QUALIFICATIONS,AND ORIGINS 17\n",
      "\t H2 4.1.THE SIZE OF THE TECHNICIAN WORKFORCE 17\n",
      "\t H2 4.2 TYPES OF TECHNICIAN AND THE NATURE OF TECHNICAL SUPPORT 18\n",
      "\t\t H3 4.2.1: Mechanical Engineering Technicians 19\n",
      "\t H2 4.3 QUALIFICATIONS 27\n",
      "\t H2 4.4 DIVISION OF KNOWLEDGE AND EXPERTISE BETWEEN TECHNICIANS AND GRADUATES 27\n",
      "\t H2 4.5 SOURCES OF TECHNICIANS 28\n",
      "H1 5. RESULTS II:THE FUTURE TECHNICIAN WORKFORCE 32\n",
      "\t H2 5.1 RECRUITMENT 32\n",
      "\t H2 5.2 APPRENTICESHIP None\n",
      "\t\t H3 5.2.1 Definition and involvement 33\n",
      "\t\t H3 5.2.2 Rationale 34\n",
      "\t\t H3 5.2.3 Organisation 35\n",
      "\t\t H3 5.2.4 Impediments to the use apprenticeships 38\n",
      "\t H2 5.3 CAREERS: ONGOING TRAINING AND PROFESSIONAL DEVELOPMENT 39\n",
      "H1 6. CONCLUSIONS 41\n",
      "H1 REFERENCES 43\n"
     ]
    }
   ],
   "source": [
    "def get_starting_page_nr(section):\n",
    "    if pages := sorted(section.pages):\n",
    "        return pages[0]\n",
    "    else:\n",
    "        return None\n",
    "\n",
    "# Print document section title hierarchy\n",
    "for section in document.subsections:\n",
    "    print(section.section_type, section.title, get_starting_page_nr(section))\n",
    "    for subsection in section.subsections:\n",
    "        print(\"\\t\", subsection.section_type, subsection.title, get_starting_page_nr(subsection))\n",
    "        for subsubsection in subsection.subsections:\n",
    "            print(\"\\t\\t\", subsubsection.section_type, subsubsection.title, get_starting_page_nr(subsubsection))"
   ]
  },
  {
   "cell_type": "markdown",
   "metadata": {},
   "source": [
    "## Create chunks from sections"
   ]
  },
  {
   "cell_type": "code",
   "execution_count": 5,
   "metadata": {},
   "outputs": [],
   "source": [
    "from app.preprocessing.splitter import AdobeDocumentSplitter\n",
    "\n",
    "# Get chunks\n",
    "docs = AdobeDocumentSplitter().document_to_chunks(document)"
   ]
  },
  {
   "cell_type": "code",
   "execution_count": 6,
   "metadata": {},
   "outputs": [
    {
     "data": {
      "text/plain": [
       "3863.242424242424"
      ]
     },
     "execution_count": 6,
     "metadata": {},
     "output_type": "execute_result"
    }
   ],
   "source": [
    "# Print avg chunk length\n",
    "avg_chunk_len = sum([len(doc.page_content) for doc in docs]) / len(docs)\n",
    "avg_chunk_len"
   ]
  },
  {
   "cell_type": "markdown",
   "metadata": {},
   "source": [
    "## Structured chunking methods below"
   ]
  },
  {
   "cell_type": "code",
   "execution_count": 7,
   "metadata": {},
   "outputs": [],
   "source": [
    "def print_result(response_obj):\n",
    "    print(\"SOURCES: \\n\")\n",
    "    cnt = 1\n",
    "    for source_doc in response_obj[\"source_documents\"]:\n",
    "        print(f\"Chunk #{cnt}\")\n",
    "        cnt += 1\n",
    "        print(\"Source Metadata: \", source_doc.metadata)\n",
    "        print(\"Source Text:\")\n",
    "        print(source_doc.page_content)\n",
    "        print(\"\\n\")\n",
    "    print(\"RESULT: \\n\")\n",
    "    print(response_obj[\"result\"] + \"\\n\\n\")"
   ]
  },
  {
   "cell_type": "code",
   "execution_count": 8,
   "metadata": {},
   "outputs": [],
   "source": [
    "from langchain.vectorstores import FAISS\n",
    "from langchain.embeddings import OpenAIEmbeddings\n",
    "from langchain.chat_models import ChatOpenAI\n",
    "from langchain.chains import RetrievalQA\n",
    "\n",
    "\n",
    "llm = ChatOpenAI(model=\"gpt-3.5-turbo-1106\", temperature=0, request_timeout=15)\n",
    "\n",
    "embeddings = OpenAIEmbeddings()\n",
    "vectorstore = FAISS.from_documents(docs, embedding=embeddings)\n",
    "retriever = RetrievalQA.from_chain_type(\n",
    "    llm=llm,\n",
    "    chain_type=\"stuff\",\n",
    "    retriever=vectorstore.as_retriever(),\n",
    "    return_source_documents=True\n",
    ")"
   ]
  },
  {
   "cell_type": "code",
   "execution_count": 9,
   "metadata": {},
   "outputs": [
    {
     "name": "stdout",
     "output_type": "stream",
     "text": [
      "SOURCES: \n",
      "\n",
      "Chunk #1\n",
      "Source Metadata:  {'H1': '4. RESULTS I:THE CURRENT TECHNICIAN WORKFORCE: SIZE, ROLES, QUALIFICATIONS,AND ORIGINS'}\n",
      "Source Text:\n",
      "This section of the report outlines what the research carried out for this project reveals about issues such as: the size of the technician workforce; the types of roles that are typically undertaken by technicians in the space industry and the kinds of duties that are associated with those roles; the kind (level, and subject-matter) of qualifications those technicians typically possess; and how organisations in the space industry have until now gone about satisfying their need for technicians, in particular the balance they have struck between recruitment and (various forms of) training as a means of acquiring the technicians they need.\n",
      "\n",
      "\n",
      "Chunk #2\n",
      "Source Metadata:  {'H1': 'REFERENCES'}\n",
      "Source Text:\n",
      "ADS Group (2012). ‘Apprenticeships: Written Evidence Submitted by ADS Group Limited.’  House of Commons Select Committee on Business, Innovation and Skills. Available online at:(<http://www.publications.parliament.uk/pa/cm201012/cmselect/cmbis/writev/1843/app095.htm>) http://www.publications.parliament.uk/pa/cm201012/cmselect/cmbis/ (<http://www.publications.parliament.uk/pa/cm201012/cmselect/cmbis/writev/1843/app095.htm>)writev/1843/app095.htm. Accessed 24th April 2012.\n",
      "Barley, S.R. and B.A. Bechky (1994). ‘In the Backrooms of Science:The Work of Technicians in Science Labs.’ Work and Occupations, 21: 85-126.\n",
      "BIS (2009). Skills for Growth:The National Skills Strategy. Cm 7641. London:TSO.\n",
      "BIS (2010a). Skills for Sustainable Growth: Strategy Document. London: Department of Business, Innovation and Skills.\n",
      "BIS (2010b). The Space Economy in the UK:An Economic Analysis of the Sector and the Role of Policy. BIS Economics Paper No. 3. London: Department of Business, Innovation & Skills. Available online at:(<http://www.bis.gov.uk/assets/biscore/economics-and-statistics/docs/10-624-bis-economics-paper-03>) http://www.bis.gov.uk/assets/biscore/economics-and-statistics/docs/10-(<http://www.bis.gov.uk/assets/biscore/economics-and-statistics/docs/10-624-bis-economics-paper-03>)624-bis-economics-paper-03. Accessed 30th January 2012.\n",
      "BIS (2010c). Manufacturing in the UK:An Economic Analysis of the Sector. London: Department of Business, Innovation and Skills.\n",
      "Bishop, C. (2008). SPACE:The Skills Need. Leicester : British National Space Centre.\n",
      "HM Treasury and Department of Business, Innovation and Skills (2010). The path to strong, sustainable and balanced growth. London: HM Treasury and BIS. Available online at:(<http://www.bis.gov.uk/assets/biscore/corporate/docs/p/10-1296-path-to-strong-sustainable-and-balanced-growth.pdf>) http://www.bis.gov.uk/assets/biscore/corporate/docs/p/10-1296-path-to-strong-(<http://www.bis.gov.uk/assets/biscore/corporate/docs/p/10-1296-path-to-strong-sustainable-and-balanced-growth.pdf>)sustainable-and-balanced-growth.pdf. Accessed 24th April 2012.\n",
      "HM Treasury and Department of Business, Innovation and Skills (2011). The Plan for Growth. London: HM Treasury and BIS. Available online at:(<http://cdn.hm-treasury.gov.uk/2011budget_growth.pdf>) http://cdn.hm-treasury.gov. (<http://cdn.hm-treasury.gov.uk/2011budget_growth.pdf>)uk/2011budget_growth.pdf. Accessed 24th April 2012.\n",
      "Hogarth,T., L. Gambin and C. Hasluck (2012). ‘Apprenticeships: Where Next?’ Journal of Vocational Education and Training, 64: 41-55.\n",
      "House of Commons Library (2011). ‘Apprenticeships Policy.’ Standard Note SN/EP 3-052. Updated 04 November 2011. London: House of Commons.\n",
      "Jagger, N., M. Sigla and F. Sumption (2010). SET Based Technicians: Lessons from the UK and European Labour Force Surveys. Report 475. Brighton: Institute for Employment Studies.\n",
      "Lewis, P. (2012). Flying High? A Study of Technician Duties, Skills, and Training in the UK Aerospace Industry. London:The Gatsby Charitable Foundation.\n",
      "Lewis, P. and Gospel, H. (2011). Technicians under the Microscope:A Study of the Skills and Training of University Laboratory and Engineering Workshop Technicians, London:The Gatsby Charitable Foundation. Available online at:(<http://www.kcl.ac.uk/sspp/departments/management/people/academic/lewisgatsbyreport.pdf>) http://www.kcl.ac.uk/sspp/departments/ (<http://www.kcl.ac.uk/sspp/departments/management/people/academic/lewisgatsbyreport.pdf>)management/people/academic/lewisgatsbyreport.pdf\n",
      "Lewis, P., P. Ryan and H. Gospel (2008). ‘A Hard Sell? The Prospects for Apprentice Training in British Retailing.’ Human Resource Management Journal, 18: 3-19.\n",
      "NSTSG (2011). A National Space Technology Strategy for the UK. Swindon: National Space Technology Strategy Group.\n",
      "OECD (2004). Space 2030: Exploring the Future of Space Applications. Paris: Organisation for Economic Cooperation and Development. Available online at:(<http://www.space-library.com/0404OECD_Space2030-1_2To1.pdf>) http://www.space-(<http://www.space-library.com/0404OECD_Space2030-1_2To1.pdf>)library.com/0404OECD_Space2030-1_2To1.pdf. Accessed 30th January 2012.\n",
      "OECD (2011). The Space Economy at a Glance. Paris: Organisation for Economic Cooperation and Development.\n",
      "Oxford Economics (2009).The Case for Space:The Impact of Space Derived Services and Data. Oxford: Oxford Economics. Available online at:(<http://www.stfc.ac.uk/resources/pdf/case-for-space.pdf>) http://www.stfc.ac.uk/resources/ (<http://www.stfc.ac.uk/resources/pdf/case-for-space.pdf>)pdf/case-for-space.pdf. Accessed 5th February 2012.\n",
      "Rolls Royce (2012). ‘Apprenticeships: Written Evidence Submitted by Rolls Royce.’  House of Commons Select Committee on Business, Innovation and Skills. Available online at: (<http://www.publications.parliament.uk/pa/cm201012/cmselect/cmbis/writev/1843/app040.htm>)http://www.publications.parliament.uk/pa/cm201012/cmselect/cmbis/writev/1843/app040. (<http://www.publications.parliament.uk/pa/cm201012/cmselect/cmbis/writev/1843/app040.htm>)htm. Accessed 24th May 2012.\n",
      "Ryan, P., P.A. Lewis and H. Gospel (2006). ‘Educational and Contractual Attributes of the Apprenticeship Programmes of Large British Employers.’ Journal of Vocational Education and Training, 58: 359-83. (With H. Gospel and P. Ryan.)\n",
      "Ryan, P., P.A. Lewis and H. Gospel (2007). ‘Large Employers and Apprenticeship Training in the UK.’ British Journal of Industrial Relations, 45: 127-53.\n",
      "Science Council (2011). Science Technicians in the Workforce: Supporting their Development Needs. London:The Science Council. Available online at:(<http://www.sciencecouncil.org/sites/default/files/Science%20technicians%20in%20the%20workforce%20-%20FINAL.pdf>) http://www.sciencecouncil.org/ (<http://www.sciencecouncil.org/sites/default/files/Science%20technicians%20in%20the%20workforce%20-%20FINAL.pdf>)sites/default/files/Science%20technicians%20in%20the%20workforce%20-%20FINAL.pdf. Accessed 26th April 2012.\n",
      "SEMTA (2009). Skills and the Future of Advanced Manufacturing:A Summary Skills Assessment for the SSC Advanced Manufacturing Cluster. Available online at (<http://www.semta.org.uk/pdf/ADVMFG%20Report%20Mar10.pdf>)http://www. (<http://www.semta.org.uk/pdf/ADVMFG%20Report%20Mar10.pdf>)semta.org.uk/pdf/ADVMFG%20Report%20Mar10.pdf Accessed 23rd May 2011.\n",
      "SEMTA (2011). Apprenticeship Framework: Higher Apprenticeship in Engineering Technology. Watford: SEMTA.\n",
      "Sennett, R. (2008). The Craftsman. London: Penguin Books.\n",
      "Shapin, S. (1989). ‘The Invisible Technician.’ American Scientist, 77: 554-63.\n",
      "Skills Commission (2011). Technicians and Progression. London: Policy Connect. (<http://www.policyconnect.org.uk/sites/default/files/Technicians%20and%20Progression%20-colour%20final(2).pdf>)http://www.policyconnect.org.uk/sites/default/files/Technicians%20and%20Progression%20 (<http://www.policyconnect.org.uk/sites/default/files/Technicians%20and%20Progression%20-colour%20final(2).pdf>)-colour%20final(2).pdf. Accessed 28th April 2012.\n",
      "Smith, A. (2011). ‘The New Space Economy:Vision for the Future.’ Available online via (<http://www.intellectuk.org/component/docman/>)http://www.intellectuk.org/component/docman/. Accessed 12th February 2012.\n",
      "Space IGS (2010a). A UK Space Innovation and Growth Strategy 2010 to 2030. Executive Summary and Recommendations. Swindon: UK Space Agency. Available online at: (<http://www.bis.gov.uk/assets/bispartners/ukspaceagency/docs/igs/space-igs-exec-summary-and- recomm.pdf>)http://www.bis.gov.uk/assets/bispartners/ukspaceagency/docs/igs/space-igs-exec-(<http://www.bis.gov.uk/assets/bispartners/ukspaceagency/docs/igs/space-igs-exec-summary-and- recomm.pdf>)summary-and- recomm.pdf. Accessed 29th January 2012.\n",
      "Space IGS (2010b). Markets and Wealth Creation. Swindon: UK Space Agency. Available online at:(<http://www.bis.gov.uk/assets/bispartners/ukspaceagency/docs/igs/s-igs-wg1-markets-and-wealth-creation-volume3.pdf>) http://www.bis.gov.uk/assets/bispartners/ukspaceagency/docs/igs/s-igs-wg1-(<http://www.bis.gov.uk/assets/bispartners/ukspaceagency/docs/igs/s-igs-wg1-markets-and-wealth-creation-volume3.pdf>)markets-and-wealth-creation-volume3.pdf. Accessed 12th February 2012.\n",
      "Spilsbury, M. and R. Garrett (2011). ‘The Future Demand for Technicians and Underlying STEM Skills.’  London:The Gatsby Foundation. Available online at (<http://www.gatsby.org.uk/pdfs/Technical_Education_21C/The%20future%20demand%20for%20technicians.pdf>)http://www.gatsby.org. (<http://www.gatsby.org.uk/pdfs/Technical_Education_21C/The%20future%20demand%20for%20technicians.pdf>)uk/pdfs/Technical_Education_21C/The%20future%20demand%20for%20technicians.pdf . Accessed 13th June 2011.\n",
      "Steedman, H., H. Gospel and P. Ryan (1998). Apprenticeship:A Strategy for Growth. London: Centre for Economic Performance, LSE. Available online at:(<http://eprints.lse.ac.uk/20248/1/Apprenticeship_A_Strategy_For_Growth.pdf>) http://eprints.lse. (<http://eprints.lse.ac.uk/20248/1/Apprenticeship_A_Strategy_For_Growth.pdf>)ac.uk/20248/1/Apprenticeship_A_Strategy_For_Growth.pdf. Accessed 22nd April 2012.\n",
      "Technician Council Technician Council (2011). ‘The Technician Council’. Available online at (<http://www.techniciancouncil.org.uk/>)http://www.techniciancouncil.org.uk/. Accessed 4th November 2011.\n",
      "Technician Council Technician Council (2012). ‘Professional Technician.’ Available online at: (<http://www.professional-technician.org.uk/about.php>)http://www.professional-technician.org.uk/about.php. Accessed 24th April 2012.\n",
      "Unwin, L. and A. Fuller (2004). National Modern Apprenticeship Task Force Employers:Their Perspectives on Modern Apprenticeships. University of Leicester : Centre for Labour Market Studies.\n",
      "UK Space Agency (2010). The Size and Heath of the UK Space Industry. Swindon: UK Space Agency. Available online at:(<http://www.bis.gov.uk/assets/bispartners/ukspaceagency/docs/10-1195-size-and-health-uk-space-industry-2010>) http://www.bis.gov.uk/assets/bispartners/ (<http://www.bis.gov.uk/assets/bispartners/ukspaceagency/docs/10-1195-size-and-health-uk-space-industry-2010>)ukspaceagency/docs/10-1195-size-and-health-uk-space-industry-2010. Accessed 30th January 2012.\n",
      "UK Space Agency (2011). UK Space Agency Education, Skills and Outreach Strategy. Swindon: UK Space Agency. Available online at:(<http://www.bis.gov.uk/assets/bispartners/ukspaceagency/docs/strategy/uk-space-agency-education-strategy-march-2011.pdf>) http://www.bis.gov.uk/assets/bispartners/ (<http://www.bis.gov.uk/assets/bispartners/ukspaceagency/docs/strategy/uk-space-agency-education-strategy-march-2011.pdf>)ukspaceagency/docs/strategy/uk-space-agency-education-strategy-march-2011.pdf. Accessed 13th February 2012.\n",
      "UKCES (2010a). Skills for Jobs:Today and Tomorrow.Volume 1: Key Findings. Wath-upon-Dearne: UKCES. Available online at:(<http://www.ukces.org.uk/assets/ukces/docs/publications/national-strategic-skills-audit-for-england-2010-volume-1-key-findings.pdf>) http://www.ukces.org.uk/assets/ukces/docs/ (<http://www.ukces.org.uk/assets/ukces/docs/publications/national-strategic-skills-audit-for-england-2010-volume-1-key-findings.pdf>)publications/national-strategic-skills-audit-for-england-2010-volume-1-key-findings.pdf. Accessed 24th April 2012\n",
      "UKCES (2010b). Skills for Jobs:Today and Tomorrow.Volume 2: the Evidence Report. Wath-upon-Dearne: UKCES. Available online at:(<http://www.ukces.org.uk/assets/ukces/docs/publications/national-strategic-skills-audit-for-england-2010-volume-1-key-findings.pdf>) http://www.ukces.org.uk/assets/ukces/docs/ (<http://www.ukces.org.uk/assets/ukces/docs/publications/national-strategic-skills-audit-for-england-2010-volume-1-key-findings.pdf>)publications/national-strategic-skills-audit-for-england-2010-volume-2-the-evidence-(<http://www.ukces.org.uk/assets/ukces/docs/publications/national-strategic-skills-audit-for-england-2010-volume-1-key-findings.pdf>)report.pdf\n",
      "Wolf, A. (2011). Review of Vocational Education – The Wolf Report. London: Department for Education.\n",
      "\n",
      "\n",
      "Chunk #3\n",
      "Source Metadata:  {'H1': '1. INTRODUCTION1'}\n",
      "Source Text:\n",
      "Recent policy statements issued by the Coalition government have emphasised the importance of increasing both the status and also the numbers of technicians in the UK economy.Technicians may be defined as ‘highly productive people who apply proven techniques and procedures to the solution of practical problems.They carry supervisory or technical responsibility and competently deliver their skills and creativity in the fields of science, engineering and technology’ (Technician Council 2012). Current practice in UK policy-making circles is for the term ‘technician’ to be used to describe people occupying technical roles that require level 3 skills (e.g. advanced apprenticeship), and which are therefore categorised as ‘skilled trades’, as well as those whose job requires them to have level 4/5 skills and who therefore fall into the category of ‘associate professional/technical’ workers (e.g. HNC/HND, Foundation degree) (BIS 2010a: 7; Jagger et al., 2010;Technician Council 2011, 2012).\n",
      "The goal of policy, stated in two recent White Papers, is to create a ‘modern class of technicians’ (BIS 2009: 18, 2010a: 7, 18).The background against which this goal has been adopted is one in which there is increasing concern about skills shortages at the technician level (UKCES 2010a, 2010b; HM Treasury and Department of Business, Innovation and Skills 2011: 85; Spilsbury and Garrett 2011). Accordingly, ambitious targets have been set for increasing the number of apprentice technicians (BIS 2010a: 7, 15; HM Treasury and Department of Business, Innovation and Skills 2010: 18-19; House of Commons Library 2011: 4-6). In addition, a Technician Council has been established in an attempt to ensure that the significant contribution made by technicians to the organisations in which they work, and thereby to society at large, is more widely recognised than hitherto, to increase the opportunities for career development open to technicians, and to increase the number of technicians being trained in the UK (BIS 2009, 2010a: 18; HM Treasury and Department of Business, Innovation and Skills 2011: 89; Technician Council 2011, 2012: 2, 5).\n",
      "The policy goals of increased technician numbers and enhanced status will be achieved only if the nature of technician work, and the demand for and supply of technician skills, are well understood. It is towards the goal of achieving such an understanding that the current paper aims to contribute. It does so by exploring the duties, skills, and training, of one important, but hitherto largely unstudied, group of technicians, namely those who work in the UK Space Sector.The space industry, along with the aerospace sector of which it forms a part, is viewed by policy-makers as one of the key advanced manufacturing sectors upon which the future of UK manufacturing hinges. As a rapidly growing, advanced manufacturing industry, space is naturally of interest to policy-makers who – like the current government – are seeking to increase the number of apprentices in training (BIS 2010b, 2010c; SEMTA 2009: 11-18).This is because, in the words of a recent report on technicians, ‘the level and type of skills that technicians have are vital to emerging markets in the UK, such as [the] advanced manufacturing and engineering industries. Becoming more production and export-led means becoming more technician led’ (Skills Commission 2011: 16). In keeping with such remarks, a recent report outlining an overall growth strategy for the space industry, penned by a group representing both the commercial and academic arms of the space sector as well as government, specified a target of doubling the number of apprentices in the space industry by January 2015\n",
      "(albeit without specifying how many apprentices are currently being trained by space firms) (Space IGS 2010a: 45).\n",
      "The goal of the research project described in this paper is to inform policy by shedding light on the use, and acquisition by employers, of technicians in the space industry. More specifically, the paper focuses on five sets of questions. First, in what roles are technicians employed in the UK space industry and what are their principal duties? Second, what qualifications do those technicians typically possess? Third, to the extent that they need technicians, how do organisations in the space industry acquire them? In particular, what balance do employers strike between recruitment and (different forms of) training in satisfying their need for suitably skilled technicians? Fourth, are there skills shortages at the technician level in the space industry? And, if there are, is government policy helping to alleviate them? Fifth, and finally, what provision do employers make for the ongoing training and career development of their technicians?\n",
      "The structure of the report is as follows. Section 2 provides an overview of UK Space industry, in order to provide background information and context for the ensuing discussion of technician duties, skills and training. Section 3 briefly outlines the research methodology adopted in this study. Section 4 begins the presentation of the study’s findings, focusing in particular on the types of space firms that employ technicians, the kind of roles those technicians fill, their qualifications, and the route through which they came to be employed in the space industry. Section 5 continues with the presentation of the results, focusing in particular on the way in which the current state of the technician labour market is affecting employers’ decisions about the appropriate balance to strike between recruitment and, in particular, apprenticeship training.This section also considers the ongoing training provided for established technicians. Section 6 summarises the discussion.\n",
      "\n",
      "\n",
      "Chunk #4\n",
      "Source Metadata:  {'H1': 'EXECUTIVE SUMMARY'}\n",
      "Source Text:\n",
      "1. The Coalition government has set itself the goal of creating ‘a modern class of technicians.’Technicians are highly productive people who apply proven techniques and procedures to the solution of practical problems.They carry supervisory or technical responsibility and competently deliver their skills and creativity in the fields of science, engineering and technology.There are currently concerns both about skills shortages at the technician level and also about the age of the technician workforce.The government is attempting to address these concerns by adopting policies that are intended to increase both the status and also the numbers of technicians in the UK economy.\n",
      "2. This report investigates the role of technicians in an important part of the advanced manufacturing sector of the UK economy, namely the space industry. The space sector is comprised of all the public and private sector actors involved in the producing of goods and services via the exploration, understanding and utilisation of space. It has two main parts: the ‘upstream’ consists of organisations that manufacture (parts of) satellites; the downstream companies use satellites to provide telecommunications and broadcasting, weather-forecasting, and location and navigational services. In 2008-09, the space sector had a turnover of about £7.5 billion, adding £3.6 billion of value to UK GDP and directly employing around 25,000 people. It accounts for a little under 10% of the global space economy. Labour productivity in the sector is about 2¾ times greater than the average for UK manufacturing and 3½ times the average for the economy as a whole.The sector grew at around 9-10% per annum in real terms throughout the first decade of the twenty-first century.\n",
      "3. The aim of the project on which this report is based was to inform government policy towards technicians by investigating their duties, the skills they are required to have, and how employers obtain them, in the space sector.The project forms part of a wider programme of research into technician duties, skills and training in various strategically important sectors of the economy, including – in addition to space – the aerospace, composites, chemicals, and nuclear sectors.\n",
      "4. More specifically, the research reported here focused on five sets of questions.\n",
      "•\n",
      "In what roles are technicians employed in the UK space industry and what are their principal duties?\n",
      "•\n",
      "What qualifications do those technicians typically possess?\n",
      "•\n",
      "How do organisations in the space sector acquire the technicians they need?\n",
      "•\n",
      "Are there skills shortages at the technician level in the space industry?\n",
      "•\n",
      "What provision do employers make for the ongoing training and career development of their technicians?\n",
      "5. Data was collected via interviews with 15 sector-level organisations, including government departments, learned societies, and trade bodies, and through case studies of 25 space sector employers (12 upstream, eight downstream, and five involved in both upstream and downstream activities).The case study organisations included component and sub-system manufacturers, space primes, satellite operators, IT and software engineering companies, and downstream service providers. Case studies included both public- and private-sector organisations.\n",
      "6. The data indicate that the vast majority of the technicians who work in the sector are employed by upstream manufacturers, where they account for around 20% of the total workforce. Few – in many cases, no - technicians are employed by satellite operators, by the organisations that specialise provide software and engineering support for the space industry, and by downstream service providers. The reason is that, given the technical demands of the work carried out in such organisations, technical roles must be filled by people who are qualified at least to degree level.\n",
      "7. The roles filled by the technicians who work in organisations involved in upstream manufacturing activities include the following: machinist; mechanical assembly technician; production/manufacturing engineer; electronics assembly and integration technician; electronic/component engineer; test technician; and test engineer.The most common qualification possessed by technicians is an HNC in some form of engineering.\n",
      "8. Only a minority of the upstream manufacturers and space primes that employ technicians have had apprenticeship schemes in place long enough for them to make a significant contribution to their technician workforce. Until very recently, most of the organisations involved in upstream manufacturing obtained their technicians in one of two main ways: either by hiring people who already work in the space industry from the external labour market; or by recruiting people who have done an apprenticeship and worked for some time in a different industry and then providing them with the extra training – concerning the exacting tolerances to which work must be completed and the quality assurance procedures that must be followed – that they need to be able to work in space manufacturing (‘upgrade training’).\n",
      "9. However, there is evidence that organisations involved in manufacturing for the space sector are beginning to move away from this reliance on a combination of recruitment and upgrade training towards a greater use of in-house training and, in particular, apprenticeships, as a means of satisfying their need for technicians. Several such organisations have either recently set up an apprenticeship scheme or are in the process of doing so.The reasons for this are twofold. First, it is becoming increasingly difficult to recruit experienced technicians – whether they be ‘space ready’ or technicians from other industries who can be ‘upgraded’ for work in the space industry – from the external labour market. Second, in keeping with the rapid growth of the space sector as a whole, many firms are growing and therefore increasing the size of their workforce in general and their technician workforce in particular (the latter point reflecting the fact that – as the firms in question expand and adopt a more elaborate division of labour – there is more scope for specialist technician roles to be used).\n",
      "10.\n",
      "Apprenticeship training is also said to bring three other advantages. First, it helps organisations in their efforts to plan for the orderly succession of an ageing technician workforce. Second, it affords employers an opportunity to take young people and socialise them into the relevant organisational culture, so that they acquire the values and habits – concerning the exceptionally high standards of work required, and the importance of adhering rigidly to the relevant procedures – insisted upon by space manufacturers.Third, the provision of apprentice training can signal to young people that they are valued by their employer, who will support them and give them the opportunity to develop their career within that organisation, thereby helping to build apprentices’ loyalty and commitment to the employer that initially trained them.\n",
      "11.\n",
      "Apprentices are typically studying for qualifications in mechanical and electronic/ electrical engineering, with a view to achieving an HNC or (less commonly) an HND by the end of their apprenticeship.Apprentice numbers tend to be relatively small, reflecting the small size of most employers in the space sector. Only three organisations recruit more than 10 apprentices per annum (and, in one of those cases, some of the apprentices are likely to be destined for the organisation’s non-space related business). In the case of the other organisations that take apprentices, or are considering doing so, the employers in question are typically looking to recruit just one or two apprentices per year at present.\n",
      "12.\n",
      "Employers face a number of impediments to their efforts to establish apprenticeship training programmes. Some have had difficulty finding a further education college that is willing to offer the kind of off-the-job training they want their apprentices to have (in particular, HNCs in electronics). Several have been disappointed by the quality of the support provided by FE colleges once their training schemes have been set up.\n",
      "13.\n",
      "So far as ongoing training for more established technicians is concerned, most of the organisations that employ technicians are willing to support them to do part-time Foundation Degrees or full honours degrees, usually in physics or engineering.Those electrical and electronics assembly technicians who are certified by the European Space Agency must re-trained every two years if they are to retain their status. Uncertificated ongoing training in technical matters is also often provided either in-house by more experienced staff or delivered externally by equipment suppliers, and is an important source of skills development. Only a small minority of organisations currently support their technicians for professional registration (i.e., EngTech).\n",
      "14.\n",
      "In view of the fact that more and more organisations in the upstream, manufacturing part of the space sector are looking towards apprenticeship training, but are finding it difficult to discover high-quality provision, it would be worthwhile for policy-makers to explore (i) whether the incentives currently confronting further education colleges provide sufficient encouragement for them to offer off-the-job training (‘technical certificates’) of the kind needed by space manufacturers, and (ii) whether there is a way for the smaller organisations that wish to take apprentices to ‘piggy back’ on the established apprentice training schemes already being offered by one or two of the larger space organisations.\n",
      "\n",
      "\n",
      "RESULT: \n",
      "\n",
      "Yes, the report mentions the skills and qualifications possessed by technicians in the space industry. It discusses the types of qualifications that technicians typically possess, such as HNCs in engineering, and the ongoing training provided for established technicians. Additionally, it highlights the skills shortages at the technician level in the space industry and the need for apprenticeship training to address these shortages. However, it does not delve into specific technologies used by technicians in the space industry.\n",
      "\n",
      "\n"
     ]
    }
   ],
   "source": [
    "query = \"Are there any mentions of skills or technologies?\"\n",
    "response = retriever({\"query\": query})\n",
    "print_result(response)"
   ]
  },
  {
   "cell_type": "code",
   "execution_count": 48,
   "metadata": {},
   "outputs": [],
   "source": [
    "from langchain.prompts import PromptTemplate\n",
    "\n",
    "\n",
    "prompt_template = PromptTemplate.from_template(\n",
    "    \"\"\"\n",
    "    You're an expert policy analyst that is analyzing an economic policy document. Your goal is to summarize a given section text of a document in 15-20 sentences.\n",
    "\n",
    "    The section text will be given to you in the following json format:\n",
    "    ```json\n",
    "    {{\n",
    "        \"section\": {{\n",
    "            \"title\": \"<section title>\",\n",
    "            \"text\": \"<section text to summarize>\"\n",
    "        }}\n",
    "    }}\n",
    "    ```\n",
    "\n",
    "    Make sure to follow these rules while summarizing (as if your life depended on it):\n",
    "    1. absolutely make sure that you don't skip any mentions of technologies, skills, capabilities or investments related to any of these topics: Advanced Computing, Battery Technologies, Semiconductors, Clean Energy.\n",
    "    2. pay attention to the intention of the section especially with regards to sentiment towards adoption or promotion of any skills.\n",
    "    3. if the text mentions or discusses policy initiatives related to inclusion, health, digital, green resilience make sure to include them in the summary.\n",
    "    4. mention any discussion of funding, investments or budget allocations.\n",
    "    5. in the summary, make sure to mention whether there is a certain future need for any skills or technologies\n",
    "    6. mention any explicit skill needs that are mentioned in the text.\n",
    "    7. if the section is a table of contents or an index, only mention the keywords related to the rules above in the summary or \"table of contents\" as the summary\n",
    "    8. if the vast majority of the section is about references or sources, don't summarize it just return \"references\" as the summary.\n",
    "\n",
    "    Your answer will be exactly in the following format:\n",
    "    ```json\n",
    "    {{\n",
    "        \"summary\": \"<your summary here>\"\n",
    "    }}\n",
    "    ```\n",
    "\n",
    "    Here is the section json of a document to summarize:\n",
    "    ```json\n",
    "    {{\n",
    "        \"section\": {{\n",
    "            \"title\": {section_title},\n",
    "            \"text\": {section_text}\n",
    "        }}\n",
    "    }}\n",
    "    ```\n",
    "    \"\"\"\n",
    ")\n",
    "\n",
    "\n",
    "selected_section = document.subsections[0]\n",
    "title, text = selected_section.title, \"\\n\".join([p.text for p in selected_section.paragraphs])\n",
    "prompt = prompt_template.format(section_title=title, section_text=text)"
   ]
  },
  {
   "cell_type": "code",
   "execution_count": 69,
   "metadata": {},
   "outputs": [
    {
     "data": {
      "text/plain": [
       "{'summary': 'table of contents'}"
      ]
     },
     "execution_count": 69,
     "metadata": {},
     "output_type": "execute_result"
    }
   ],
   "source": [
    "#llm.invoke(prompt).content\n",
    "import json\n",
    "\n",
    "def get_summary(llm_response_content):\n",
    "    \"\"\"Remove markdown and return summary json\"\"\"\n",
    "    return json.loads(llm_response_content.replace(\"```json\", \"\").replace(\"```\", \"\"))"
   ]
  },
  {
   "cell_type": "code",
   "execution_count": 70,
   "metadata": {},
   "outputs": [
    {
     "name": "stdout",
     "output_type": "stream",
     "text": [
      "H1 REFERENCES\n"
     ]
    },
    {
     "ename": "NameError",
     "evalue": "name 'pretty_resp' is not defined",
     "output_type": "error",
     "traceback": [
      "\u001b[0;31m---------------------------------------------------------------------------\u001b[0m",
      "\u001b[0;31mNameError\u001b[0m                                 Traceback (most recent call last)",
      "\u001b[1;32m/Users/dvdblk/Documents/Code/_projects/hack4good-oecd/experiments/alex/structured-querying.ipynb Cell 18\u001b[0m line \u001b[0;36m2\n\u001b[1;32m     <a href='vscode-notebook-cell:/Users/dvdblk/Documents/Code/_projects/hack4good-oecd/experiments/alex/structured-querying.ipynb#X40sZmlsZQ%3D%3D?line=19'>20</a>\u001b[0m prety_resp \u001b[39m=\u001b[39m json\u001b[39m.\u001b[39mdumps(get_summary(llm\u001b[39m.\u001b[39minvoke(prompt)\u001b[39m.\u001b[39mcontent), indent\u001b[39m=\u001b[39m\u001b[39m2\u001b[39m)\n\u001b[1;32m     <a href='vscode-notebook-cell:/Users/dvdblk/Documents/Code/_projects/hack4good-oecd/experiments/alex/structured-querying.ipynb#X40sZmlsZQ%3D%3D?line=20'>21</a>\u001b[0m \u001b[39mprint\u001b[39m(section\u001b[39m.\u001b[39msection_type, section\u001b[39m.\u001b[39mtitle)\n\u001b[0;32m---> <a href='vscode-notebook-cell:/Users/dvdblk/Documents/Code/_projects/hack4good-oecd/experiments/alex/structured-querying.ipynb#X40sZmlsZQ%3D%3D?line=21'>22</a>\u001b[0m \u001b[39mprint\u001b[39m(pretty_resp)\n\u001b[1;32m     <a href='vscode-notebook-cell:/Users/dvdblk/Documents/Code/_projects/hack4good-oecd/experiments/alex/structured-querying.ipynb#X40sZmlsZQ%3D%3D?line=22'>23</a>\u001b[0m \u001b[39mprint\u001b[39m(\u001b[39m\"\u001b[39m\u001b[39m\\n\u001b[39;00m\u001b[39m\\n\u001b[39;00m\u001b[39m\"\u001b[39m)\n",
      "\u001b[0;31mNameError\u001b[0m: name 'pretty_resp' is not defined"
     ]
    }
   ],
   "source": [
    "\n",
    "def get_all_document_sections(document):\n",
    "    sections = []\n",
    "\n",
    "    if subsections := document.subsections:\n",
    "        for subsection in subsections:\n",
    "            sections.append(subsection)\n",
    "            if s := get_all_document_sections(subsection):\n",
    "                sections.extend(s)\n",
    "\n",
    "    return sections\n",
    "\n",
    "\n",
    "all_sections = get_all_document_sections(document)\n",
    "# for sec in all_sections:\n",
    "#     print(sec.title)\n",
    "\n",
    "for sec in all_sections:\n",
    "    title, text = sec.title, \"\\n\".join([p.text for p in sec.paragraphs])\n",
    "    prompt = prompt_template.format(section_title=title, section_text=text)\n",
    "    pretty_resp = json.dumps(get_summary(llm.invoke(prompt).content), indent=2)\n",
    "    print(section.section_type, section.title)\n",
    "    print(pretty_resp)\n",
    "    print(\"\\n\\n\")"
   ]
  },
  {
   "cell_type": "code",
   "execution_count": null,
   "metadata": {},
   "outputs": [],
   "source": []
  }
 ],
 "metadata": {
  "kernelspec": {
   "display_name": "hack4good",
   "language": "python",
   "name": "python3"
  },
  "language_info": {
   "codemirror_mode": {
    "name": "ipython",
    "version": 3
   },
   "file_extension": ".py",
   "mimetype": "text/x-python",
   "name": "python",
   "nbconvert_exporter": "python",
   "pygments_lexer": "ipython3",
   "version": "3.11.5"
  }
 },
 "nbformat": 4,
 "nbformat_minor": 2
}
