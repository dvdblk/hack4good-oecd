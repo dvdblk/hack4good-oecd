{
  "cells": [
    {
      "cell_type": "markdown",
      "metadata": {
        "colab_type": "text",
        "id": "view-in-github"
      },
      "source": [
        "<a href=\"https://colab.research.google.com/github/dvdblk/hack4good-oecd/blob/main/langchain_example.ipynb\" target=\"_parent\"><img src=\"https://colab.research.google.com/assets/colab-badge.svg\" alt=\"Open In Colab\"/></a>"
      ]
    },
    {
      "cell_type": "markdown",
      "metadata": {
        "id": "XRU69muMwPXy"
      },
      "source": [
        "# Imports"
      ]
    },
    {
      "cell_type": "code",
      "execution_count": 2,
      "metadata": {
        "id": "Yq1wrbOLwR8w"
      },
      "outputs": [
        {
          "name": "stdout",
          "output_type": "stream",
          "text": [
            "Requirement already satisfied: langchain in /Users/dvdblk/miniconda/envs/hack4good/lib/python3.11/site-packages (0.0.327)\n",
            "Requirement already satisfied: chromadb in /Users/dvdblk/miniconda/envs/hack4good/lib/python3.11/site-packages (0.4.15)\n",
            "Requirement already satisfied: openai in /Users/dvdblk/miniconda/envs/hack4good/lib/python3.11/site-packages (0.28.1)\n",
            "Requirement already satisfied: tiktoken in /Users/dvdblk/miniconda/envs/hack4good/lib/python3.11/site-packages (0.5.1)\n",
            "Requirement already satisfied: lark in /Users/dvdblk/miniconda/envs/hack4good/lib/python3.11/site-packages (1.1.8)\n",
            "Requirement already satisfied: faiss-cpu in /Users/dvdblk/miniconda/envs/hack4good/lib/python3.11/site-packages (1.7.4)\n",
            "Collecting InstructorEmbedding\n",
            "  Obtaining dependency information for InstructorEmbedding from https://files.pythonhosted.org/packages/6c/fc/64375441f43cc9ddc81f76a1a8f516e6d63f5b6ecb67fffdcddc0445f0d3/InstructorEmbedding-1.0.1-py2.py3-none-any.whl.metadata\n",
            "  Downloading InstructorEmbedding-1.0.1-py2.py3-none-any.whl.metadata (20 kB)\n",
            "Collecting sentence_transformers\n",
            "  Using cached sentence-transformers-2.2.2.tar.gz (85 kB)\n",
            "  Preparing metadata (setup.py) ... \u001b[?25ldone\n",
            "\u001b[?25hRequirement already satisfied: PyYAML>=5.3 in /Users/dvdblk/miniconda/envs/hack4good/lib/python3.11/site-packages (from langchain) (6.0.1)\n",
            "Requirement already satisfied: SQLAlchemy<3,>=1.4 in /Users/dvdblk/miniconda/envs/hack4good/lib/python3.11/site-packages (from langchain) (2.0.22)\n",
            "Requirement already satisfied: aiohttp<4.0.0,>=3.8.3 in /Users/dvdblk/miniconda/envs/hack4good/lib/python3.11/site-packages (from langchain) (3.8.6)\n",
            "Requirement already satisfied: anyio<4.0 in /Users/dvdblk/miniconda/envs/hack4good/lib/python3.11/site-packages (from langchain) (3.7.1)\n",
            "Requirement already satisfied: dataclasses-json<0.7,>=0.5.7 in /Users/dvdblk/miniconda/envs/hack4good/lib/python3.11/site-packages (from langchain) (0.6.1)\n",
            "Requirement already satisfied: jsonpatch<2.0,>=1.33 in /Users/dvdblk/miniconda/envs/hack4good/lib/python3.11/site-packages (from langchain) (1.33)\n",
            "Requirement already satisfied: langsmith<0.1.0,>=0.0.52 in /Users/dvdblk/miniconda/envs/hack4good/lib/python3.11/site-packages (from langchain) (0.0.56)\n",
            "Requirement already satisfied: numpy<2,>=1 in /Users/dvdblk/miniconda/envs/hack4good/lib/python3.11/site-packages (from langchain) (1.26.1)\n",
            "Requirement already satisfied: pydantic<3,>=1 in /Users/dvdblk/miniconda/envs/hack4good/lib/python3.11/site-packages (from langchain) (2.4.2)\n",
            "Requirement already satisfied: requests<3,>=2 in /Users/dvdblk/miniconda/envs/hack4good/lib/python3.11/site-packages (from langchain) (2.31.0)\n",
            "Requirement already satisfied: tenacity<9.0.0,>=8.1.0 in /Users/dvdblk/miniconda/envs/hack4good/lib/python3.11/site-packages (from langchain) (8.2.3)\n",
            "Requirement already satisfied: chroma-hnswlib==0.7.3 in /Users/dvdblk/miniconda/envs/hack4good/lib/python3.11/site-packages (from chromadb) (0.7.3)\n",
            "Requirement already satisfied: fastapi>=0.95.2 in /Users/dvdblk/miniconda/envs/hack4good/lib/python3.11/site-packages (from chromadb) (0.104.1)\n",
            "Requirement already satisfied: uvicorn[standard]>=0.18.3 in /Users/dvdblk/miniconda/envs/hack4good/lib/python3.11/site-packages (from chromadb) (0.23.2)\n",
            "Requirement already satisfied: posthog>=2.4.0 in /Users/dvdblk/miniconda/envs/hack4good/lib/python3.11/site-packages (from chromadb) (3.0.2)\n",
            "Requirement already satisfied: typing-extensions>=4.5.0 in /Users/dvdblk/miniconda/envs/hack4good/lib/python3.11/site-packages (from chromadb) (4.8.0)\n",
            "Requirement already satisfied: pulsar-client>=3.1.0 in /Users/dvdblk/miniconda/envs/hack4good/lib/python3.11/site-packages (from chromadb) (3.3.0)\n",
            "Requirement already satisfied: onnxruntime>=1.14.1 in /Users/dvdblk/miniconda/envs/hack4good/lib/python3.11/site-packages (from chromadb) (1.16.1)\n",
            "Requirement already satisfied: opentelemetry-api>=1.2.0 in /Users/dvdblk/miniconda/envs/hack4good/lib/python3.11/site-packages (from chromadb) (1.20.0)\n",
            "Requirement already satisfied: opentelemetry-exporter-otlp-proto-grpc>=1.2.0 in /Users/dvdblk/miniconda/envs/hack4good/lib/python3.11/site-packages (from chromadb) (1.20.0)\n",
            "Requirement already satisfied: opentelemetry-sdk>=1.2.0 in /Users/dvdblk/miniconda/envs/hack4good/lib/python3.11/site-packages (from chromadb) (1.20.0)\n",
            "Requirement already satisfied: tokenizers>=0.13.2 in /Users/dvdblk/miniconda/envs/hack4good/lib/python3.11/site-packages (from chromadb) (0.14.1)\n",
            "Requirement already satisfied: pypika>=0.48.9 in /Users/dvdblk/miniconda/envs/hack4good/lib/python3.11/site-packages (from chromadb) (0.48.9)\n",
            "Requirement already satisfied: tqdm>=4.65.0 in /Users/dvdblk/miniconda/envs/hack4good/lib/python3.11/site-packages (from chromadb) (4.66.1)\n",
            "Requirement already satisfied: overrides>=7.3.1 in /Users/dvdblk/miniconda/envs/hack4good/lib/python3.11/site-packages (from chromadb) (7.4.0)\n",
            "Requirement already satisfied: importlib-resources in /Users/dvdblk/miniconda/envs/hack4good/lib/python3.11/site-packages (from chromadb) (6.1.0)\n",
            "Requirement already satisfied: grpcio>=1.58.0 in /Users/dvdblk/miniconda/envs/hack4good/lib/python3.11/site-packages (from chromadb) (1.59.2)\n",
            "Requirement already satisfied: bcrypt>=4.0.1 in /Users/dvdblk/miniconda/envs/hack4good/lib/python3.11/site-packages (from chromadb) (4.0.1)\n",
            "Requirement already satisfied: typer>=0.9.0 in /Users/dvdblk/miniconda/envs/hack4good/lib/python3.11/site-packages (from chromadb) (0.9.0)\n",
            "Requirement already satisfied: kubernetes>=28.1.0 in /Users/dvdblk/miniconda/envs/hack4good/lib/python3.11/site-packages (from chromadb) (28.1.0)\n",
            "Requirement already satisfied: regex>=2022.1.18 in /Users/dvdblk/miniconda/envs/hack4good/lib/python3.11/site-packages (from tiktoken) (2023.10.3)\n",
            "Requirement already satisfied: transformers<5.0.0,>=4.6.0 in /Users/dvdblk/miniconda/envs/hack4good/lib/python3.11/site-packages (from sentence_transformers) (4.34.1)\n",
            "Requirement already satisfied: torch>=1.6.0 in /Users/dvdblk/miniconda/envs/hack4good/lib/python3.11/site-packages (from sentence_transformers) (2.1.0)\n",
            "Requirement already satisfied: torchvision in /Users/dvdblk/miniconda/envs/hack4good/lib/python3.11/site-packages (from sentence_transformers) (0.16.0)\n",
            "Requirement already satisfied: scikit-learn in /Users/dvdblk/miniconda/envs/hack4good/lib/python3.11/site-packages (from sentence_transformers) (1.3.2)\n",
            "Requirement already satisfied: scipy in /Users/dvdblk/miniconda/envs/hack4good/lib/python3.11/site-packages (from sentence_transformers) (1.11.3)\n",
            "Requirement already satisfied: nltk in /Users/dvdblk/miniconda/envs/hack4good/lib/python3.11/site-packages (from sentence_transformers) (3.8.1)\n",
            "Requirement already satisfied: sentencepiece in /Users/dvdblk/miniconda/envs/hack4good/lib/python3.11/site-packages (from sentence_transformers) (0.1.99)\n",
            "Requirement already satisfied: huggingface-hub>=0.4.0 in /Users/dvdblk/miniconda/envs/hack4good/lib/python3.11/site-packages (from sentence_transformers) (0.17.3)\n",
            "Requirement already satisfied: attrs>=17.3.0 in /Users/dvdblk/miniconda/envs/hack4good/lib/python3.11/site-packages (from aiohttp<4.0.0,>=3.8.3->langchain) (23.1.0)\n",
            "Requirement already satisfied: charset-normalizer<4.0,>=2.0 in /Users/dvdblk/miniconda/envs/hack4good/lib/python3.11/site-packages (from aiohttp<4.0.0,>=3.8.3->langchain) (3.3.1)\n",
            "Requirement already satisfied: multidict<7.0,>=4.5 in /Users/dvdblk/miniconda/envs/hack4good/lib/python3.11/site-packages (from aiohttp<4.0.0,>=3.8.3->langchain) (6.0.4)\n",
            "Requirement already satisfied: async-timeout<5.0,>=4.0.0a3 in /Users/dvdblk/miniconda/envs/hack4good/lib/python3.11/site-packages (from aiohttp<4.0.0,>=3.8.3->langchain) (4.0.3)\n",
            "Requirement already satisfied: yarl<2.0,>=1.0 in /Users/dvdblk/miniconda/envs/hack4good/lib/python3.11/site-packages (from aiohttp<4.0.0,>=3.8.3->langchain) (1.9.2)\n",
            "Requirement already satisfied: frozenlist>=1.1.1 in /Users/dvdblk/miniconda/envs/hack4good/lib/python3.11/site-packages (from aiohttp<4.0.0,>=3.8.3->langchain) (1.4.0)\n",
            "Requirement already satisfied: aiosignal>=1.1.2 in /Users/dvdblk/miniconda/envs/hack4good/lib/python3.11/site-packages (from aiohttp<4.0.0,>=3.8.3->langchain) (1.3.1)\n",
            "Requirement already satisfied: idna>=2.8 in /Users/dvdblk/miniconda/envs/hack4good/lib/python3.11/site-packages (from anyio<4.0->langchain) (3.4)\n",
            "Requirement already satisfied: sniffio>=1.1 in /Users/dvdblk/miniconda/envs/hack4good/lib/python3.11/site-packages (from anyio<4.0->langchain) (1.3.0)\n",
            "Requirement already satisfied: marshmallow<4.0.0,>=3.18.0 in /Users/dvdblk/miniconda/envs/hack4good/lib/python3.11/site-packages (from dataclasses-json<0.7,>=0.5.7->langchain) (3.20.1)\n",
            "Requirement already satisfied: typing-inspect<1,>=0.4.0 in /Users/dvdblk/miniconda/envs/hack4good/lib/python3.11/site-packages (from dataclasses-json<0.7,>=0.5.7->langchain) (0.9.0)\n",
            "Requirement already satisfied: starlette<0.28.0,>=0.27.0 in /Users/dvdblk/miniconda/envs/hack4good/lib/python3.11/site-packages (from fastapi>=0.95.2->chromadb) (0.27.0)\n",
            "Requirement already satisfied: filelock in /Users/dvdblk/miniconda/envs/hack4good/lib/python3.11/site-packages (from huggingface-hub>=0.4.0->sentence_transformers) (3.13.0)\n",
            "Requirement already satisfied: fsspec in /Users/dvdblk/miniconda/envs/hack4good/lib/python3.11/site-packages (from huggingface-hub>=0.4.0->sentence_transformers) (2023.10.0)\n",
            "Requirement already satisfied: packaging>=20.9 in /Users/dvdblk/miniconda/envs/hack4good/lib/python3.11/site-packages (from huggingface-hub>=0.4.0->sentence_transformers) (23.2)\n",
            "Requirement already satisfied: jsonpointer>=1.9 in /Users/dvdblk/miniconda/envs/hack4good/lib/python3.11/site-packages (from jsonpatch<2.0,>=1.33->langchain) (2.4)\n",
            "Requirement already satisfied: certifi>=14.05.14 in /Users/dvdblk/miniconda/envs/hack4good/lib/python3.11/site-packages (from kubernetes>=28.1.0->chromadb) (2023.7.22)\n",
            "Requirement already satisfied: six>=1.9.0 in /Users/dvdblk/miniconda/envs/hack4good/lib/python3.11/site-packages (from kubernetes>=28.1.0->chromadb) (1.16.0)\n",
            "Requirement already satisfied: python-dateutil>=2.5.3 in /Users/dvdblk/miniconda/envs/hack4good/lib/python3.11/site-packages (from kubernetes>=28.1.0->chromadb) (2.8.2)\n",
            "Requirement already satisfied: google-auth>=1.0.1 in /Users/dvdblk/miniconda/envs/hack4good/lib/python3.11/site-packages (from kubernetes>=28.1.0->chromadb) (2.23.4)\n",
            "Requirement already satisfied: websocket-client!=0.40.0,!=0.41.*,!=0.42.*,>=0.32.0 in /Users/dvdblk/miniconda/envs/hack4good/lib/python3.11/site-packages (from kubernetes>=28.1.0->chromadb) (1.6.4)\n",
            "Requirement already satisfied: requests-oauthlib in /Users/dvdblk/miniconda/envs/hack4good/lib/python3.11/site-packages (from kubernetes>=28.1.0->chromadb) (1.3.1)\n",
            "Requirement already satisfied: oauthlib>=3.2.2 in /Users/dvdblk/miniconda/envs/hack4good/lib/python3.11/site-packages (from kubernetes>=28.1.0->chromadb) (3.2.2)\n",
            "Requirement already satisfied: urllib3<2.0,>=1.24.2 in /Users/dvdblk/miniconda/envs/hack4good/lib/python3.11/site-packages (from kubernetes>=28.1.0->chromadb) (1.26.18)\n",
            "Requirement already satisfied: coloredlogs in /Users/dvdblk/miniconda/envs/hack4good/lib/python3.11/site-packages (from onnxruntime>=1.14.1->chromadb) (15.0.1)\n",
            "Requirement already satisfied: flatbuffers in /Users/dvdblk/miniconda/envs/hack4good/lib/python3.11/site-packages (from onnxruntime>=1.14.1->chromadb) (23.5.26)\n",
            "Requirement already satisfied: protobuf in /Users/dvdblk/miniconda/envs/hack4good/lib/python3.11/site-packages (from onnxruntime>=1.14.1->chromadb) (4.24.4)\n",
            "Requirement already satisfied: sympy in /Users/dvdblk/miniconda/envs/hack4good/lib/python3.11/site-packages (from onnxruntime>=1.14.1->chromadb) (1.12)\n",
            "Requirement already satisfied: deprecated>=1.2.6 in /Users/dvdblk/miniconda/envs/hack4good/lib/python3.11/site-packages (from opentelemetry-api>=1.2.0->chromadb) (1.2.14)\n",
            "Requirement already satisfied: importlib-metadata<7.0,>=6.0 in /Users/dvdblk/miniconda/envs/hack4good/lib/python3.11/site-packages (from opentelemetry-api>=1.2.0->chromadb) (6.8.0)\n",
            "Requirement already satisfied: backoff<3.0.0,>=1.10.0 in /Users/dvdblk/miniconda/envs/hack4good/lib/python3.11/site-packages (from opentelemetry-exporter-otlp-proto-grpc>=1.2.0->chromadb) (2.2.1)\n",
            "Requirement already satisfied: googleapis-common-protos~=1.52 in /Users/dvdblk/miniconda/envs/hack4good/lib/python3.11/site-packages (from opentelemetry-exporter-otlp-proto-grpc>=1.2.0->chromadb) (1.61.0)\n",
            "Requirement already satisfied: opentelemetry-exporter-otlp-proto-common==1.20.0 in /Users/dvdblk/miniconda/envs/hack4good/lib/python3.11/site-packages (from opentelemetry-exporter-otlp-proto-grpc>=1.2.0->chromadb) (1.20.0)\n",
            "Requirement already satisfied: opentelemetry-proto==1.20.0 in /Users/dvdblk/miniconda/envs/hack4good/lib/python3.11/site-packages (from opentelemetry-exporter-otlp-proto-grpc>=1.2.0->chromadb) (1.20.0)\n",
            "Requirement already satisfied: opentelemetry-semantic-conventions==0.41b0 in /Users/dvdblk/miniconda/envs/hack4good/lib/python3.11/site-packages (from opentelemetry-sdk>=1.2.0->chromadb) (0.41b0)\n",
            "Requirement already satisfied: monotonic>=1.5 in /Users/dvdblk/miniconda/envs/hack4good/lib/python3.11/site-packages (from posthog>=2.4.0->chromadb) (1.6)\n",
            "Requirement already satisfied: annotated-types>=0.4.0 in /Users/dvdblk/miniconda/envs/hack4good/lib/python3.11/site-packages (from pydantic<3,>=1->langchain) (0.6.0)\n",
            "Requirement already satisfied: pydantic-core==2.10.1 in /Users/dvdblk/miniconda/envs/hack4good/lib/python3.11/site-packages (from pydantic<3,>=1->langchain) (2.10.1)\n",
            "Requirement already satisfied: networkx in /Users/dvdblk/miniconda/envs/hack4good/lib/python3.11/site-packages (from torch>=1.6.0->sentence_transformers) (3.2)\n",
            "Requirement already satisfied: jinja2 in /Users/dvdblk/miniconda/envs/hack4good/lib/python3.11/site-packages (from torch>=1.6.0->sentence_transformers) (3.1.2)\n",
            "Requirement already satisfied: safetensors>=0.3.1 in /Users/dvdblk/miniconda/envs/hack4good/lib/python3.11/site-packages (from transformers<5.0.0,>=4.6.0->sentence_transformers) (0.4.0)\n",
            "Requirement already satisfied: click<9.0.0,>=7.1.1 in /Users/dvdblk/miniconda/envs/hack4good/lib/python3.11/site-packages (from typer>=0.9.0->chromadb) (8.1.7)\n",
            "Requirement already satisfied: h11>=0.8 in /Users/dvdblk/miniconda/envs/hack4good/lib/python3.11/site-packages (from uvicorn[standard]>=0.18.3->chromadb) (0.14.0)\n",
            "Requirement already satisfied: httptools>=0.5.0 in /Users/dvdblk/miniconda/envs/hack4good/lib/python3.11/site-packages (from uvicorn[standard]>=0.18.3->chromadb) (0.6.1)\n",
            "Requirement already satisfied: python-dotenv>=0.13 in /Users/dvdblk/miniconda/envs/hack4good/lib/python3.11/site-packages (from uvicorn[standard]>=0.18.3->chromadb) (1.0.0)\n",
            "Requirement already satisfied: uvloop!=0.15.0,!=0.15.1,>=0.14.0 in /Users/dvdblk/miniconda/envs/hack4good/lib/python3.11/site-packages (from uvicorn[standard]>=0.18.3->chromadb) (0.19.0)\n",
            "Requirement already satisfied: watchfiles>=0.13 in /Users/dvdblk/miniconda/envs/hack4good/lib/python3.11/site-packages (from uvicorn[standard]>=0.18.3->chromadb) (0.21.0)\n",
            "Requirement already satisfied: websockets>=10.4 in /Users/dvdblk/miniconda/envs/hack4good/lib/python3.11/site-packages (from uvicorn[standard]>=0.18.3->chromadb) (12.0)\n",
            "Requirement already satisfied: joblib in /Users/dvdblk/miniconda/envs/hack4good/lib/python3.11/site-packages (from nltk->sentence_transformers) (1.3.2)\n",
            "Requirement already satisfied: threadpoolctl>=2.0.0 in /Users/dvdblk/miniconda/envs/hack4good/lib/python3.11/site-packages (from scikit-learn->sentence_transformers) (3.2.0)\n",
            "Requirement already satisfied: pillow!=8.3.*,>=5.3.0 in /Users/dvdblk/miniconda/envs/hack4good/lib/python3.11/site-packages (from torchvision->sentence_transformers) (10.0.1)\n",
            "Requirement already satisfied: wrapt<2,>=1.10 in /Users/dvdblk/miniconda/envs/hack4good/lib/python3.11/site-packages (from deprecated>=1.2.6->opentelemetry-api>=1.2.0->chromadb) (1.15.0)\n",
            "Requirement already satisfied: cachetools<6.0,>=2.0.0 in /Users/dvdblk/miniconda/envs/hack4good/lib/python3.11/site-packages (from google-auth>=1.0.1->kubernetes>=28.1.0->chromadb) (5.3.2)\n",
            "Requirement already satisfied: pyasn1-modules>=0.2.1 in /Users/dvdblk/miniconda/envs/hack4good/lib/python3.11/site-packages (from google-auth>=1.0.1->kubernetes>=28.1.0->chromadb) (0.3.0)\n",
            "Requirement already satisfied: rsa<5,>=3.1.4 in /Users/dvdblk/miniconda/envs/hack4good/lib/python3.11/site-packages (from google-auth>=1.0.1->kubernetes>=28.1.0->chromadb) (4.9)\n",
            "Requirement already satisfied: zipp>=0.5 in /Users/dvdblk/miniconda/envs/hack4good/lib/python3.11/site-packages (from importlib-metadata<7.0,>=6.0->opentelemetry-api>=1.2.0->chromadb) (3.17.0)\n",
            "Requirement already satisfied: mypy-extensions>=0.3.0 in /Users/dvdblk/miniconda/envs/hack4good/lib/python3.11/site-packages (from typing-inspect<1,>=0.4.0->dataclasses-json<0.7,>=0.5.7->langchain) (1.0.0)\n",
            "Requirement already satisfied: humanfriendly>=9.1 in /Users/dvdblk/miniconda/envs/hack4good/lib/python3.11/site-packages (from coloredlogs->onnxruntime>=1.14.1->chromadb) (10.0)\n",
            "Requirement already satisfied: MarkupSafe>=2.0 in /Users/dvdblk/miniconda/envs/hack4good/lib/python3.11/site-packages (from jinja2->torch>=1.6.0->sentence_transformers) (2.1.3)\n",
            "Requirement already satisfied: mpmath>=0.19 in /Users/dvdblk/miniconda/envs/hack4good/lib/python3.11/site-packages (from sympy->onnxruntime>=1.14.1->chromadb) (1.3.0)\n",
            "Requirement already satisfied: pyasn1<0.6.0,>=0.4.6 in /Users/dvdblk/miniconda/envs/hack4good/lib/python3.11/site-packages (from pyasn1-modules>=0.2.1->google-auth>=1.0.1->kubernetes>=28.1.0->chromadb) (0.5.0)\n",
            "Downloading InstructorEmbedding-1.0.1-py2.py3-none-any.whl (19 kB)\n",
            "Building wheels for collected packages: sentence_transformers\n",
            "  Building wheel for sentence_transformers (setup.py) ... \u001b[?25ldone\n",
            "\u001b[?25h  Created wheel for sentence_transformers: filename=sentence_transformers-2.2.2-py3-none-any.whl size=125923 sha256=940034410df56e2813c38e9c8801d0a85be2e503534a53c62e68ec59af45e97d\n",
            "  Stored in directory: /Users/dvdblk/Library/Caches/pip/wheels/ff/27/bf/ffba8b318b02d7f691a57084ee154e26ed24d012b0c7805881\n",
            "Successfully built sentence_transformers\n",
            "Installing collected packages: InstructorEmbedding, sentence_transformers\n",
            "Successfully installed InstructorEmbedding-1.0.1 sentence_transformers-2.2.2\n"
          ]
        }
      ],
      "source": [
        "!pip install langchain chromadb openai tiktoken lark faiss-cpu InstructorEmbedding sentence_transformers"
      ]
    },
    {
      "cell_type": "code",
      "execution_count": 15,
      "metadata": {
        "id": "a6OmYGTaxGNK"
      },
      "outputs": [],
      "source": [
        "from langchain.text_splitter import RecursiveCharacterTextSplitter\n",
        "from langchain.llms import OpenAI\n",
        "from langchain.retrievers.self_query.base import SelfQueryRetriever\n",
        "from langchain.chains.query_constructor.base import AttributeInfo\n",
        "from langchain.chains import RetrievalQA\n",
        "from langchain.chat_models import ChatOpenAI\n",
        "from langchain.embeddings import OpenAIEmbeddings\n",
        "from langchain.vectorstores import Chroma\n",
        "import re, os\n",
        "import openai, lark"
      ]
    },
    {
      "cell_type": "markdown",
      "metadata": {
        "id": "r1RJ1FCYwSVq"
      },
      "source": [
        "# Set Up"
      ]
    },
    {
      "cell_type": "code",
      "execution_count": 16,
      "metadata": {
        "id": "m94CwGUjuywy"
      },
      "outputs": [],
      "source": [
        "# Define our text splitter\n",
        "from langchain.document_loaders import TextLoader\n",
        "\n",
        "loader = TextLoader(\"../../data/interim/01-clean/UK_01.txt\")\n",
        "documents = loader.load()\n",
        "\n",
        "chunk_size = 2000\n",
        "chunk_overlap = 0\n",
        "text_splitter = RecursiveCharacterTextSplitter(\n",
        "    chunk_size=chunk_size, chunk_overlap=chunk_overlap\n",
        ")\n",
        "all_splits = text_splitter.split_documents(documents)"
      ]
    },
    {
      "cell_type": "code",
      "execution_count": 3,
      "metadata": {
        "id": "eG_zU18q8_58"
      },
      "outputs": [],
      "source": [
        "from operator import itemgetter\n",
        "\n",
        "from langchain.prompts import ChatPromptTemplate\n",
        "from langchain.chat_models import ChatOpenAI\n",
        "from langchain.llms import Ollama\n",
        "from langchain.callbacks.manager import CallbackManager\n",
        "from langchain.callbacks.streaming_stdout import StreamingStdOutCallbackHandler\n",
        "from langchain.embeddings import HuggingFaceInstructEmbeddings\n",
        "from langchain.schema.output_parser import StrOutputParser\n",
        "from langchain.schema.runnable import RunnablePassthrough, RunnableLambda\n",
        "from langchain.vectorstores import FAISS"
      ]
    },
    {
      "cell_type": "markdown",
      "metadata": {
        "id": "3DpAosVJ8-5B"
      },
      "source": [
        "# Simplest (Free) Implementation"
      ]
    },
    {
      "cell_type": "code",
      "execution_count": 17,
      "metadata": {
        "id": "yBTiHZJ69Dm1"
      },
      "outputs": [
        {
          "name": "stdout",
          "output_type": "stream",
          "text": [
            "load INSTRUCTOR_Transformer\n",
            "max_seq_length  512\n"
          ]
        }
      ],
      "source": [
        "# Use instructor-xl for embeddings instead of OAI\n",
        "embeddings = HuggingFaceInstructEmbeddings(model_name=\"hkunlp/instructor-large\")\n",
        "vectorstore = FAISS.from_documents(all_splits, embedding=embeddings)\n",
        "retriever = vectorstore.as_retriever()"
      ]
    },
    {
      "cell_type": "code",
      "execution_count": 18,
      "metadata": {},
      "outputs": [],
      "source": [
        "# This requires `ollama serve` to be running\n",
        "llm = Ollama(base_url=\"http://localhost:11434\", model=\"llama2\")"
      ]
    },
    {
      "cell_type": "code",
      "execution_count": 19,
      "metadata": {},
      "outputs": [
        {
          "data": {
            "text/plain": [
              "\"\\nUnderstood! Is there anything else you'd like to chat about or ask? I'm here to help with any questions you may have.\""
            ]
          },
          "execution_count": 19,
          "metadata": {},
          "output_type": "execute_result"
        }
      ],
      "source": [
        "llm(\"This is just a test bro\")"
      ]
    },
    {
      "cell_type": "code",
      "execution_count": 20,
      "metadata": {
        "id": "Arnb-ITj-HRE"
      },
      "outputs": [],
      "source": [
        "# query = \"Which topics is the document most about: General economy, Semiconductors, Quantum Technology, Skills, AI, Lifelong Learning, Digital, or None Of The Above?\"\n",
        "# query = \"Which entity, person or organization wrote this document or was its main sponsor?\" # Reply with just the name\"\n",
        "query = \"Does the document talk about future needs in skills?\""
      ]
    },
    {
      "cell_type": "code",
      "execution_count": 21,
      "metadata": {
        "colab": {
          "base_uri": "https://localhost:8080/",
          "height": 52
        },
        "id": "rnM9-1y09Nej",
        "outputId": "28253ad3-9f8e-4e0a-8203-f0676bd73507"
      },
      "outputs": [
        {
          "data": {
            "text/plain": [
              "'Yes, the document discusses future needs in skills. According to the text, there is a need for more skilled technicians in various fields, particularly in areas related to emerging technologies such as artificial intelligence, robotics, and data science. The document highlights that there is a shortage of skilled technicians in the UK, with evidence suggesting that the share of the workforce with technician or intermediate-level skills is lower in the UK than in major competitors. Additionally, the document notes that graduates often quickly become dissatisfied with their roles due to the mundane nature of much technician work and the relatively low wages they earn, leading to high labour turnover amongst graduates in technician-level roles. To address these issues, the document proposes the development of connections between employers and providers of vocational education and training to keep pace with advances in technology and provide training programs that meet the needs of emerging technologies.'"
            ]
          },
          "execution_count": 21,
          "metadata": {},
          "output_type": "execute_result"
        }
      ],
      "source": [
        "qa_chain = RetrievalQA.from_chain_type(llm, retriever=retriever)\n",
        "qa_chain.run(query)"
      ]
    },
    {
      "cell_type": "markdown",
      "metadata": {
        "id": "fMZi3SYPVXG9"
      },
      "source": [
        "# Improvement 1? optimize text for retrieval"
      ]
    },
    {
      "cell_type": "code",
      "execution_count": 108,
      "metadata": {
        "id": "w7bRHbtAVXXl"
      },
      "outputs": [],
      "source": [
        "# standard text splitter\n",
        "# loader = TextLoader(\"./UK_01.txt\")\n",
        "# documents = loader.load()\n",
        "\n",
        "# chunk_size = 2000\n",
        "# chunk_overlap = 0\n",
        "# text_splitter = RecursiveCharacterTextSplitter(\n",
        "#     chunk_size=chunk_size, chunk_overlap=chunk_overlap\n",
        "# )\n",
        "\n",
        "# all_splits = text_splitter.split_documents(documents)\n",
        "\n",
        "splits2 = []\n",
        "for idx, splt in enumerate(all_splits):\n",
        "    metadata = {'source': splt.metadata['source'], 'idx': idx}\n",
        "    splits2.append(Document(page_content=splt.page_content, metadata=metadata))\n",
        "\n",
        "all_splits = splits2"
      ]
    },
    {
      "cell_type": "code",
      "execution_count": 109,
      "metadata": {
        "colab": {
          "base_uri": "https://localhost:8080/"
        },
        "id": "aKC837j_Vqc4",
        "outputId": "16c2c9f5-2ae2-495d-f242-eb4e33f9b5b5"
      },
      "outputs": [
        {
          "name": "stderr",
          "output_type": "stream",
          "text": [
            "[nltk_data] Downloading package punkt to /root/nltk_data...\n",
            "[nltk_data]   Package punkt is already up-to-date!\n",
            "[nltk_data] Downloading package stopwords to /root/nltk_data...\n",
            "[nltk_data]   Package stopwords is already up-to-date!\n"
          ]
        }
      ],
      "source": [
        "import nltk\n",
        "from nltk.corpus import stopwords\n",
        "from nltk.tokenize import word_tokenize\n",
        "from nltk.tokenize.treebank import TreebankWordDetokenizer\n",
        "\n",
        "nltk.download('punkt')\n",
        "\n",
        "nltk.download('stopwords')\n",
        "stop_engl = stopwords.words('english')\n"
      ]
    },
    {
      "cell_type": "code",
      "execution_count": 110,
      "metadata": {
        "id": "726cn3ILbY3y"
      },
      "outputs": [],
      "source": [
        "def preprocess(line, stopwords=None):\n",
        "\n",
        "    tokens = word_tokenize(line)\n",
        "\n",
        "    if stopwords is None:\n",
        "        return tokens\n",
        "\n",
        "    stopwords = set(stopwords)\n",
        "    cleaned = []\n",
        "    for tok in tokens:\n",
        "        if tok.lower() in stopwords:\n",
        "            continue\n",
        "        cleaned.append(tok)\n",
        "\n",
        "    string = TreebankWordDetokenizer().detokenize(cleaned)\n",
        "\n",
        "    return string"
      ]
    },
    {
      "cell_type": "code",
      "execution_count": 111,
      "metadata": {
        "colab": {
          "base_uri": "https://localhost:8080/",
          "height": 35
        },
        "id": "fJFxxW_1bDF5",
        "outputId": "511a7e2c-c1f0-4e23-953b-2df316b3df17"
      },
      "outputs": [
        {
          "data": {
            "application/vnd.google.colaboratory.intrinsic+json": {
              "type": "string"
            },
            "text/plain": [
              "\"Oh, evil sentence .n't want tokenized\""
            ]
          },
          "execution_count": 111,
          "metadata": {},
          "output_type": "execute_result"
        }
      ],
      "source": [
        "preprocess(\"Oh no, I am an evil sentence. I don't want to be tokenized\", stop_engl)"
      ]
    },
    {
      "cell_type": "code",
      "execution_count": 112,
      "metadata": {
        "id": "sNr-mA4CXIkZ"
      },
      "outputs": [],
      "source": [
        "from langchain.schema.document import Document\n",
        "\n",
        "embedding_splits = []\n",
        "for idx, splt in enumerate(all_splits):\n",
        "    cleaned = preprocess(splt.page_content, stop_engl)\n",
        "    embedding_splits.append(Document(page_content=cleaned, metadata=splt.metadata))"
      ]
    },
    {
      "cell_type": "code",
      "execution_count": 113,
      "metadata": {
        "id": "hWMVjJz7c1vI"
      },
      "outputs": [],
      "source": [
        "clean_vectorstore = vectorstore = FAISS.from_documents(embedding_splits, embedding=OpenAIEmbeddings())\n",
        "clean_retriever = vectorstore.as_retriever()"
      ]
    },
    {
      "cell_type": "code",
      "execution_count": 119,
      "metadata": {
        "colab": {
          "base_uri": "https://localhost:8080/"
        },
        "id": "6jIZU1AUeVhp",
        "outputId": "9f231a8a-f445-452b-eb6f-6498d99f8140"
      },
      "outputs": [
        {
          "name": "stdout",
          "output_type": "stream",
          "text": [
            "Same result:\n",
            "22organisations involved vocational education training supply adequate numbers skilled technicians innovation system said failed providing firms right quantity, blend, practical theoretical knowledge make best use new technologies . 5.3.2 Systems failures UK: case technician skills emerging technologiesThere evidence coordination problems kind described case technician skills training emerging technologies advanced manufacturing UK . Employers seeking deploy new technologies space industry, advanced therapies, industries make use composite materials, industrial biotechnology report significant difficulties obtaining skilled technician labour need deploy new technologies effectively . example, noted, space firms struggle hire experienced, high-quality manufacturing technicians, employers industrial biotechnology advanced therapies industry (Lewis 2012b: 25-26; 2016a: 34-35). Employers aerospace automotive industries wish make greater use composite parts find hard recruit technician skilled working material (Lewis 2012a: 21-22, 2013b: 33-35).10 shortages impose limits absorptive capacity firms.\n",
            "type analysis arguably leads view scope public policy ought extend beyond focus supply skills towards concern skills deployed workplace, relation, employers ’ demand skills . impact increase skills innovation contingent practices adopted firms, organise work whether adopt low skill/low cost/low value business strategy, competing principally basis price, high skill/high cost/high value one, competing basis quality, might argued government ought encourage business strategies forms work organisation mobilise high levels skill high value added (Finegold Soskice 1988; Ramstad 2009; Campbell 2012: 33-35; Keep Mayhew 2014; Keep 2013; Sung Ashton 2015). 5.3 . TECHNICAL EDUCATION SYSTEM FAILURESIn section draw notion, outlined, ‘ system failure ’ analyse problems arise organisations rules governing provision vocational education training fail disseminate information resources, coordinate activities, required develop technician workforce needed make good use new technologies.\n",
            "18 Also see http: //www.aplu.org/projects-and-initiatives/economic-development-and-community-engagement/Aligning-Technology-and-Talent-Development/Index.html . 19 Bonvillian Singer (2018: 225) make similar point regard USA ’ Manufacturing Institutes . Like Catapults, organisations responsible facilitating development emerging technologies . Unlike Catapults, taken board principle workforce development must go hand-in-hand technology development . Bonvillian Singer put, “ [E] ducation training programmes sideline rather key part technology development dissemination effort ” (p. 225; also see pp . 232-36). Also see LIFT (2017).20 See https: //ct.catapult.org.uk/news-media/general-news/cgt-catapult-announces-major-uk-investment-skills-and-capabilities https: //ct.catapult.org.uk/news-media/general-news/addressing-sector-skills-gap-first-apprenticeship-programme-advanced . Accessed 12th March 2019.21 failure put technician training par R & arguably symptomatic continued influence old, linear view innovation, which—as seen—emphasises importance high-level scientific research neglects importance influences development diffusion new technologies, including associated work technicians (Lundvall 2007: 104; Toner 2011: 8; CIPD 2014: 7, 24-26; Filippetti Guy 2016: 506-07, 515; also see Jensen et al . 2007: 690).\n",
            "findings suggest UK education system arguably producing wrong mix skills, many graduates technicians educated STEM disciplines . recent report House Lords Report economics post-school education described situation, “ skills mismatch UK: despite record numbers population undergraduate degree businesses reporting shortage people technical skills … Rather need STEM graduates … greater shortages today appear people sub-degree qualifications … acute shortage technician-level STEM skills (House Lords 2018: 15, 22; also see pp . 5-8, 23-27, 42-53, National Audit Office 2016: 8, 18, 23-26, OECD 2017).12 noted, kind mismatch symptomatic system failure, involving firms suffering reduced absorptive capacity arising case rules governing provision different kinds post-school education UK encouraged great focus graduates compared technicians.\n",
            "required successfully exploit new technologies.\n",
            "10 background general evidence shortages skilled technicians (UKCES 2010a, 2010b, 2015: 66-71; Adonis 2014: 6-9; HM Government 2017: 37-38, 48; OECD 2017: 26-27). Evidence indicates share workforce technician intermediate-level skills significantly lower UK major competitors (HM Treasury Department Business, Innovation Skills 2011: 36; BIS 2015: 17).11 Evidence indicates problem over-qualification significant absolute terms, somewhere region one quarter one third UK employees falling category (Chevalier Lindley 2009; Green Zhou 2010; UKCES 2015: 7, 57), also scale problem worse UK European nations (OECD 2013: 171; Holmes Mayhew 2015: 25-28). 23particular skills . (Holmes Mayhew 2015: 12; also see UKCES 2015: 46 Jones Grimshaw 2016: 109 .) Second, graduates often quickly become dissatisfied, often mundane, highly routinised nature much technician work also relatively low wages earn roles, often leave relatively soon joining employer . combination two problems—a lack practical skills, implies graduates require on-the-job training practical skills, high labour turnover amongst graduates technician-level roles—is especially frustrating employers, spent time effort equipping graduates practical skills required technician roles, see leave firm enjoys return investment.\n",
            "Involving Catapult Centres technician skills training also holds prospect solution problems bedevil technician skills training emerging industries, namely firms industries often small, unfamiliar apprenticeships, highly truncated time horizons . First, many firms developing deploying emerging technologies SMEs may deterred taking apprentices lack familiarity apprenticeships precise requirements apprenticeship training programmes . may especially problematic many firms lack large HR team master process taking training apprentices . firms may therefore simply decide easier hire over-qualified graduates fill technician roles rather fight way UK least rather labyrinthine apprenticeship system . Second, firms also often said short-time horizons, preoccupied immediate demands running developing business looking far enough ahead contemplate need fill technician roles two three years time (Sims et al . 2000: 1; Lewis 2014c: 505; NASEM 2017: 77). problem, course, firms look far ahead, given long lead time involved technician training, workers question available needed.\n",
            "shortage technicians, skills tailored requirements specific role, lack good grounding relevant theoretical knowledge, technician workforce ill-equipped adapt new technologies exploit potential full . cases, firms poor absorptive capacity, suffering deficient capability innovate enough appropriately trained educated technicians make best use new technologies . examples kinds problems arise include following: • Difficulties technician workforce past made hard firms UK automotive industry respond advent new technology demands created restructuring supply chains, leading slower innovation lower productivity competitiveness would otherwise case (Mason Wagner 2005). • Matched-plant studies shown historically British engineering firms slower German counterparts use new equipment, tended use simpler models, deficiencies skills technician workforce mean managers confident workers ’ ability make good use new technology . firms suffer deficient capacity absorb new knowledge innovative technologies, leading slower innovation lower productivity competitiveness (Prais 1995). • Firms advanced manufacturing sector wish shift use metallic composite components struggled recruit workers skilled working composite materials, hampering efforts make effective use innovative, composite-based methods production (Lewis 2012a: 21-22, 38, 2013b: 33-35). • Similarly, organisations variety industries seeking replace\n",
            "author suggests important step change required drive innovation UK improve quality technician training, currently often fails provide firms workforce possessing right quantity, blend, practical theoretical knowledge make best use new technologies . One reasons technician training neglected over-supply graduates masked technician shortages, graduates unlikely practical experience skills critical technician role . 5The report goes suggest centres innovation, Catapults, forefront technology development, play role training technicians centres could make significant contribution training innovation working training providers ensure understand skills requirements emerging technologies enabling access training latest equipment facilities . report concludes following recommendations:) Greater consideration given importance technicians innovation system firstly ensuring funding regime discourage colleges providers offering technician training courses; secondly requiring Catapults include workforce planning alongside technology development within remit b) Centres excellence, possibly new Institutes Technology, work Catapults develop courses emerging technologies could also delivered distance learning c) Policymakers ensure apprenticeships forms technician training develop broad occupational competence underpinning knowledge technicians assist deployment development new technologies involved innovation) research conducted explore high-performance\n",
            "5.3.1 Education training organisations, ‘ skills systematisation ’ coordination failuresStandard human capital theory, economic analysis vocational education training based, typically assumes education training providers alter offerings seamlessly availability new technologies, however novel, automatically offer right kind training enable firms build absorptive capacity exploit (Nelson Phelps 1966; DBIS 2014: 22-23). therefore ignores possibility organisations involved education training may fail adjust offerings appropriately, thereby hindering adoption technology question, detrimental consequences innovation, productivity economic growth (Andreoni 2014: 58, 60; Vona Consoli 2014: 1394-95, 1400). Recent work attempted fill gap considering explicitly role educational organisations—such schools, universities training providers—in facilitating, hampering, development skills required realise fully potential new technologies (Vona Consoli 2014). Instead simply assuming organisations seamlessly adjust offerings match requirements new methods production, literature examines effectiveness organisations, rules governing behaviour, facilitating hampering development workforce required successful diffusion new technology . two researchers developed approach put, goal “ articulate detail link emergence new skills closely tied radical new technology adjustments made formal education reap potential benefits innovation ” (Vona Consoli 2014: 1393; also see p. 1397).\n"
          ]
        }
      ],
      "source": [
        "query_2 = \"Is the document optimistic or pessimistic regarding the future need for techology related skills?\"\n",
        "TOP_K = 10\n",
        "\n",
        "clean_embedded_docs = clean_vectorstore.similarity_search(query_2,k=TOP_K)\n",
        "\n",
        "clean_docs = []\n",
        "clean_ids = []\n",
        "for sim in clean_embedded_docs:\n",
        "    clean_docs.append(all_splits[sim.metadata['idx']])\n",
        "    clean_ids.append(sim.metadata['idx'])\n",
        "\n",
        "\n",
        "standard = vectorstore.similarity_search(query_2,k=TOP_K)\n",
        "standard_ids = []\n",
        "for doc in standard:\n",
        "    standard_ids.append(doc.metadata['idx'])\n",
        "\n",
        "if clean_ids == standard_ids:\n",
        "    print(\"Same result:\")\n",
        "    for doc in standard:\n",
        "        print(doc.page_content)\n",
        "\n",
        "else:\n",
        "    # common elements in both lists\n",
        "    common_elements = list(set(clean_ids) & set(standard_ids))\n",
        "\n",
        "    clean_ids_remainder = list(set(clean_ids) - set(standard_ids))\n",
        "    standard_ids_remainder = list(set(standard_ids) - set(clean_ids))\n",
        "\n",
        "    print(\"QUERY: \", query_2)\n",
        "    print(\"-\"*100)\n",
        "\n",
        "    print(\"BOTH HAVE:\")\n",
        "    for doc in clean_docs:\n",
        "        if doc.metadata['idx'] in common_elements:\n",
        "            print(doc.metadata['idx'], doc.page_content)\n",
        "\n",
        "    print(\"-\"*100)\n",
        "    print(\"ONLY IN CLEANED: \")\n",
        "    for doc in clean_docs:\n",
        "        if doc.metadata['idx'] in clean_ids_remainder:\n",
        "            print(doc.metadata['idx'], doc.page_content)\n",
        "    print(\"-\"*100)\n",
        "    print(\"ONLY IN STANDARD EMBEDS: \")\n",
        "    for doc in standard:\n",
        "        if doc.metadata['idx'] in standard_ids_remainder:\n",
        "            print(doc.metadata['idx'], doc.page_content)"
      ]
    }
  ],
  "metadata": {
    "colab": {
      "authorship_tag": "ABX9TyPo2k9WngMpt/WX0iPZA/lq",
      "include_colab_link": true,
      "provenance": []
    },
    "kernelspec": {
      "display_name": "Python 3",
      "name": "python3"
    },
    "language_info": {
      "codemirror_mode": {
        "name": "ipython",
        "version": 3
      },
      "file_extension": ".py",
      "mimetype": "text/x-python",
      "name": "python",
      "nbconvert_exporter": "python",
      "pygments_lexer": "ipython3",
      "version": "3.11.5"
    }
  },
  "nbformat": 4,
  "nbformat_minor": 0
}
