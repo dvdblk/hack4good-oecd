{
 "cells": [
  {
   "cell_type": "markdown",
   "metadata": {},
   "source": [
    "# PDFTriage explorer"
   ]
  },
  {
   "cell_type": "code",
   "execution_count": 22,
   "metadata": {},
   "outputs": [],
   "source": [
    "# load Adobe Extract API json result\n",
    "from adobe.pdfservices.operation.auth.credentials import Credentials\n",
    "from adobe.pdfservices.operation.execution_context import ExecutionContext\n",
    "from adobe.pdfservices.operation.io.file_ref import FileRef\n",
    "from adobe.pdfservices.operation.pdfops.extract_pdf_operation import ExtractPDFOperation\n",
    "from adobe.pdfservices.operation.pdfops.options.extractpdf.extract_pdf_options import (\n",
    "    ExtractPDFOptions,\n",
    ")\n",
    "from adobe.pdfservices.operation.pdfops.options.extractpdf.extract_element_type import (\n",
    "    ExtractElementType,\n",
    ")\n",
    "\n",
    "import os.path\n",
    "import zipfile\n",
    "import json\n",
    "\n",
    "client_id = \"\"\n",
    "client_secret = \"\"\n",
    "\n",
    "input_pdf = \"UK_08.pdf\"\n",
    "input_pdf_dir = \"/Users/dvdblk/Downloads/pdf_files_complete/\"\n",
    "input_pdf_path = os.path.join(input_pdf_dir, input_pdf)\n",
    "zip_file = \"./ExtractTextInfoFromPDF.zip\"\n",
    "\n",
    "if os.path.isfile(zip_file):\n",
    "    os.remove(zip_file)\n",
    "\n",
    "# Initial setup, create credentials instance.\n",
    "credentials = (\n",
    "    Credentials.service_principal_credentials_builder()\n",
    "    .with_client_id(client_id)\n",
    "    .with_client_secret(client_secret)\n",
    "    .build()\n",
    ")\n",
    "\n",
    "# Create an ExecutionContext using credentials and create a new operation instance.\n",
    "execution_context = ExecutionContext.create(credentials)\n",
    "extract_pdf_operation = ExtractPDFOperation.create_new()\n",
    "\n",
    "# Set operation input from a source file.\n",
    "source = FileRef.create_from_local_file(input_pdf_path)\n",
    "extract_pdf_operation.set_input(source)\n",
    "\n",
    "# Build ExtractPDF options and set them into the operation\n",
    "extract_pdf_options: ExtractPDFOptions = (\n",
    "    ExtractPDFOptions.builder().with_element_to_extract(ExtractElementType.TEXT).build()\n",
    ")\n",
    "extract_pdf_operation.set_options(extract_pdf_options)\n",
    "\n",
    "# Execute the operation.\n",
    "result: FileRef = extract_pdf_operation.execute(execution_context)\n",
    "\n",
    "# Save the result to the specified location.\n",
    "# result.save_as(zip_file)\n"
   ]
  },
  {
   "cell_type": "code",
   "execution_count": 30,
   "metadata": {},
   "outputs": [
    {
     "data": {
      "text/plain": [
       "adobe.pdfservices.operation.internal.io.file_ref_impl.FileRefImpl"
      ]
     },
     "execution_count": 30,
     "metadata": {},
     "output_type": "execute_result"
    }
   ],
   "source": [
    "type(result)"
   ]
  },
  {
   "cell_type": "code",
   "execution_count": 26,
   "metadata": {},
   "outputs": [
    {
     "ename": "SdkException",
     "evalue": "description =Output file /var/folders/4h/h6d42y495rs8f3kkx8zmbdfh0000gn/T/tmp8piz7371 exists, requestTrackingId=None",
     "output_type": "error",
     "traceback": [
      "\u001b[0;31m---------------------------------------------------------------------------\u001b[0m",
      "\u001b[0;31mSdkException\u001b[0m                              Traceback (most recent call last)",
      "\u001b[1;32m/Users/dvdblk/Documents/Code/_projects/hack4good-oecd/experiments/alex/pdftriage.ipynb Cell 4\u001b[0m line \u001b[0;36m4\n\u001b[1;32m      <a href='vscode-notebook-cell:/Users/dvdblk/Documents/Code/_projects/hack4good-oecd/experiments/alex/pdftriage.ipynb#X22sZmlsZQ%3D%3D?line=0'>1</a>\u001b[0m \u001b[39mimport\u001b[39;00m \u001b[39mtempfile\u001b[39;00m\n\u001b[1;32m      <a href='vscode-notebook-cell:/Users/dvdblk/Documents/Code/_projects/hack4good-oecd/experiments/alex/pdftriage.ipynb#X22sZmlsZQ%3D%3D?line=2'>3</a>\u001b[0m \u001b[39mwith\u001b[39;00m tempfile\u001b[39m.\u001b[39mNamedTemporaryFile() \u001b[39mas\u001b[39;00m temp_file:\n\u001b[0;32m----> <a href='vscode-notebook-cell:/Users/dvdblk/Documents/Code/_projects/hack4good-oecd/experiments/alex/pdftriage.ipynb#X22sZmlsZQ%3D%3D?line=3'>4</a>\u001b[0m     result\u001b[39m.\u001b[39;49msave_as(temp_file\u001b[39m.\u001b[39;49mname)\n\u001b[1;32m      <a href='vscode-notebook-cell:/Users/dvdblk/Documents/Code/_projects/hack4good-oecd/experiments/alex/pdftriage.ipynb#X22sZmlsZQ%3D%3D?line=4'>5</a>\u001b[0m     archive \u001b[39m=\u001b[39m zipfile\u001b[39m.\u001b[39mZipFile(temp_file, \u001b[39m\"\u001b[39m\u001b[39mr\u001b[39m\u001b[39m\"\u001b[39m)\n\u001b[1;32m      <a href='vscode-notebook-cell:/Users/dvdblk/Documents/Code/_projects/hack4good-oecd/experiments/alex/pdftriage.ipynb#X22sZmlsZQ%3D%3D?line=5'>6</a>\u001b[0m     jsonentry \u001b[39m=\u001b[39m archive\u001b[39m.\u001b[39mopen(\u001b[39m\"\u001b[39m\u001b[39mstructuredData.json\u001b[39m\u001b[39m\"\u001b[39m)\n",
      "File \u001b[0;32m~/miniconda/envs/hack4good/lib/python3.11/site-packages/adobe/pdfservices/operation/internal/io/file_ref_impl.py:50\u001b[0m, in \u001b[0;36mFileRefImpl.save_as\u001b[0;34m(self, destination_file_path)\u001b[0m\n\u001b[1;32m     48\u001b[0m         os\u001b[39m.\u001b[39mrename(\u001b[39mself\u001b[39m\u001b[39m.\u001b[39m_file_path, abs_path)\n\u001b[1;32m     49\u001b[0m         \u001b[39mreturn\u001b[39;00m\n\u001b[0;32m---> 50\u001b[0m     \u001b[39mraise\u001b[39;00m SdkException(\u001b[39m\"\u001b[39m\u001b[39mOutput file \u001b[39m\u001b[39m{file}\u001b[39;00m\u001b[39m exists\u001b[39m\u001b[39m\"\u001b[39m\u001b[39m.\u001b[39mformat(file\u001b[39m=\u001b[39mdestination_file_path))\n\u001b[1;32m     51\u001b[0m \u001b[39melse\u001b[39;00m:\n\u001b[1;32m     52\u001b[0m     \u001b[39mself\u001b[39m\u001b[39m.\u001b[39m_logger\u001b[39m.\u001b[39merror(\n\u001b[1;32m     53\u001b[0m         \u001b[39m\"\u001b[39m\u001b[39mInvalid use of save_as(). Method invoked on FileRef instance which does not point to an operation \u001b[39m\u001b[39m\"\u001b[39m\n\u001b[1;32m     54\u001b[0m         \u001b[39m\"\u001b[39m\u001b[39mresult\u001b[39m\u001b[39m\"\u001b[39m)\n",
      "\u001b[0;31mSdkException\u001b[0m: description =Output file /var/folders/4h/h6d42y495rs8f3kkx8zmbdfh0000gn/T/tmp8piz7371 exists, requestTrackingId=None"
     ]
    }
   ],
   "source": [
    "import tempfile\n",
    "\n",
    "with tempfile.NamedTemporaryFile() as temp_file:\n",
    "    result.save_as(temp_file.name)\n",
    "    archive = zipfile.ZipFile(temp_file, \"r\")\n",
    "    jsonentry = archive.open(\"structuredData.json\")\n",
    "    jsondata = jsonentry.read()\n",
    "    data = json.loads(jsondata)\n",
    "    from pathlib import Path\n",
    "\n",
    "    with open(Path(input_pdf).stem + \".json\", \"w\", encoding=\"utf-8\") as f:\n",
    "        json.dump(data, f, indent=4)"
   ]
  },
  {
   "cell_type": "code",
   "execution_count": 25,
   "metadata": {},
   "outputs": [
    {
     "ename": "ValueError",
     "evalue": "I/O operation on closed file.",
     "output_type": "error",
     "traceback": [
      "\u001b[0;31m---------------------------------------------------------------------------\u001b[0m",
      "\u001b[0;31mValueError\u001b[0m                                Traceback (most recent call last)",
      "\u001b[1;32m/Users/dvdblk/Documents/Code/_projects/hack4good-oecd/experiments/alex/pdftriage.ipynb Cell 4\u001b[0m line \u001b[0;36m8\n\u001b[1;32m      <a href='vscode-notebook-cell:/Users/dvdblk/Documents/Code/_projects/hack4good-oecd/experiments/alex/pdftriage.ipynb#X14sZmlsZQ%3D%3D?line=5'>6</a>\u001b[0m \u001b[39m# Now you can work with the zip file in memory\u001b[39;00m\n\u001b[1;32m      <a href='vscode-notebook-cell:/Users/dvdblk/Documents/Code/_projects/hack4good-oecd/experiments/alex/pdftriage.ipynb#X14sZmlsZQ%3D%3D?line=6'>7</a>\u001b[0m \u001b[39mimport\u001b[39;00m \u001b[39mzipfile\u001b[39;00m\n\u001b[0;32m----> <a href='vscode-notebook-cell:/Users/dvdblk/Documents/Code/_projects/hack4good-oecd/experiments/alex/pdftriage.ipynb#X14sZmlsZQ%3D%3D?line=7'>8</a>\u001b[0m \u001b[39mwith\u001b[39;00m zipfile\u001b[39m.\u001b[39;49mZipFile(result_zip_membuf, \u001b[39m'\u001b[39;49m\u001b[39mr\u001b[39;49m\u001b[39m'\u001b[39;49m) \u001b[39mas\u001b[39;00m zip_file:\n\u001b[1;32m      <a href='vscode-notebook-cell:/Users/dvdblk/Documents/Code/_projects/hack4good-oecd/experiments/alex/pdftriage.ipynb#X14sZmlsZQ%3D%3D?line=8'>9</a>\u001b[0m     \u001b[39m# Extract the structuredData.json file from the zip\u001b[39;00m\n\u001b[1;32m     <a href='vscode-notebook-cell:/Users/dvdblk/Documents/Code/_projects/hack4good-oecd/experiments/alex/pdftriage.ipynb#X14sZmlsZQ%3D%3D?line=9'>10</a>\u001b[0m     \u001b[39mwith\u001b[39;00m zip_file\u001b[39m.\u001b[39mopen(\u001b[39m'\u001b[39m\u001b[39mstructuredData.json\u001b[39m\u001b[39m'\u001b[39m) \u001b[39mas\u001b[39;00m json_file:\n\u001b[1;32m     <a href='vscode-notebook-cell:/Users/dvdblk/Documents/Code/_projects/hack4good-oecd/experiments/alex/pdftriage.ipynb#X14sZmlsZQ%3D%3D?line=10'>11</a>\u001b[0m         \u001b[39m# Read and work with the content of structuredData.json\u001b[39;00m\n\u001b[1;32m     <a href='vscode-notebook-cell:/Users/dvdblk/Documents/Code/_projects/hack4good-oecd/experiments/alex/pdftriage.ipynb#X14sZmlsZQ%3D%3D?line=11'>12</a>\u001b[0m         json_data \u001b[39m=\u001b[39m json_file\u001b[39m.\u001b[39mread()\n",
      "File \u001b[0;32m~/miniconda/envs/hack4good/lib/python3.11/zipfile.py:1302\u001b[0m, in \u001b[0;36mZipFile.__init__\u001b[0;34m(self, file, mode, compression, allowZip64, compresslevel, strict_timestamps, metadata_encoding)\u001b[0m\n\u001b[1;32m   1300\u001b[0m \u001b[39mtry\u001b[39;00m:\n\u001b[1;32m   1301\u001b[0m     \u001b[39mif\u001b[39;00m mode \u001b[39m==\u001b[39m \u001b[39m'\u001b[39m\u001b[39mr\u001b[39m\u001b[39m'\u001b[39m:\n\u001b[0;32m-> 1302\u001b[0m         \u001b[39mself\u001b[39;49m\u001b[39m.\u001b[39;49m_RealGetContents()\n\u001b[1;32m   1303\u001b[0m     \u001b[39melif\u001b[39;00m mode \u001b[39min\u001b[39;00m (\u001b[39m'\u001b[39m\u001b[39mw\u001b[39m\u001b[39m'\u001b[39m, \u001b[39m'\u001b[39m\u001b[39mx\u001b[39m\u001b[39m'\u001b[39m):\n\u001b[1;32m   1304\u001b[0m         \u001b[39m# set the modified flag so central directory gets written\u001b[39;00m\n\u001b[1;32m   1305\u001b[0m         \u001b[39m# even if no files are added to the archive\u001b[39;00m\n\u001b[1;32m   1306\u001b[0m         \u001b[39mself\u001b[39m\u001b[39m.\u001b[39m_didModify \u001b[39m=\u001b[39m \u001b[39mTrue\u001b[39;00m\n",
      "File \u001b[0;32m~/miniconda/envs/hack4good/lib/python3.11/zipfile.py:1365\u001b[0m, in \u001b[0;36mZipFile._RealGetContents\u001b[0;34m(self)\u001b[0m\n\u001b[1;32m   1363\u001b[0m fp \u001b[39m=\u001b[39m \u001b[39mself\u001b[39m\u001b[39m.\u001b[39mfp\n\u001b[1;32m   1364\u001b[0m \u001b[39mtry\u001b[39;00m:\n\u001b[0;32m-> 1365\u001b[0m     endrec \u001b[39m=\u001b[39m _EndRecData(fp)\n\u001b[1;32m   1366\u001b[0m \u001b[39mexcept\u001b[39;00m \u001b[39mOSError\u001b[39;00m:\n\u001b[1;32m   1367\u001b[0m     \u001b[39mraise\u001b[39;00m BadZipFile(\u001b[39m\"\u001b[39m\u001b[39mFile is not a zip file\u001b[39m\u001b[39m\"\u001b[39m)\n",
      "File \u001b[0;32m~/miniconda/envs/hack4good/lib/python3.11/zipfile.py:292\u001b[0m, in \u001b[0;36m_EndRecData\u001b[0;34m(fpin)\u001b[0m\n\u001b[1;32m    286\u001b[0m \u001b[39m\u001b[39m\u001b[39m\"\"\"Return data from the \"End of Central Directory\" record, or None.\u001b[39;00m\n\u001b[1;32m    287\u001b[0m \n\u001b[1;32m    288\u001b[0m \u001b[39mThe data is a list of the nine items in the ZIP \"End of central dir\"\u001b[39;00m\n\u001b[1;32m    289\u001b[0m \u001b[39mrecord followed by a tenth item, the file seek offset of this record.\"\"\"\u001b[39;00m\n\u001b[1;32m    291\u001b[0m \u001b[39m# Determine file size\u001b[39;00m\n\u001b[0;32m--> 292\u001b[0m fpin\u001b[39m.\u001b[39;49mseek(\u001b[39m0\u001b[39;49m, \u001b[39m2\u001b[39;49m)\n\u001b[1;32m    293\u001b[0m filesize \u001b[39m=\u001b[39m fpin\u001b[39m.\u001b[39mtell()\n\u001b[1;32m    295\u001b[0m \u001b[39m# Check to see if this is ZIP file with no archive comment (the\u001b[39;00m\n\u001b[1;32m    296\u001b[0m \u001b[39m# \"end of central directory\" structure should be the last item in the\u001b[39;00m\n\u001b[1;32m    297\u001b[0m \u001b[39m# file if this is the case).\u001b[39;00m\n",
      "\u001b[0;31mValueError\u001b[0m: I/O operation on closed file."
     ]
    }
   ],
   "source": [
    "import io\n",
    "\n",
    "result_zip_membuf = io.BytesIO()\n",
    "result.write_to_stream(result_zip_membuf)\n",
    "\n",
    "# Now you can work with the zip file in memory\n",
    "import zipfile\n",
    "with zipfile.ZipFile(result_zip_membuf, 'r') as zip_file:\n",
    "    # Extract the structuredData.json file from the zip\n",
    "    with zip_file.open('structuredData.json') as json_file:\n",
    "        # Read and work with the content of structuredData.json\n",
    "        json_data = json_file.read()\n",
    "        # Parse the JSON data if needed\n",
    "        # json_data = json.loads(json_data)\n",
    "        print(json_data)\n",
    "\n",
    "# Now you can work with the JSON data from structuredData.json\n",
    "# json_data is the content of structuredData.json as bytes"
   ]
  },
  {
   "cell_type": "code",
   "execution_count": 3,
   "metadata": {},
   "outputs": [
    {
     "ename": "AttributeError",
     "evalue": "'FileRefImpl' object has no attribute 'seek'",
     "output_type": "error",
     "traceback": [
      "\u001b[0;31m---------------------------------------------------------------------------\u001b[0m",
      "\u001b[0;31mAttributeError\u001b[0m                            Traceback (most recent call last)",
      "\u001b[1;32m/Users/dvdblk/Documents/Code/_projects/hack4good-oecd/experiments/alex/pdftriage.ipynb Cell 4\u001b[0m line \u001b[0;36m1\n\u001b[0;32m----> <a href='vscode-notebook-cell:/Users/dvdblk/Documents/Code/_projects/hack4good-oecd/experiments/alex/pdftriage.ipynb#X11sZmlsZQ%3D%3D?line=0'>1</a>\u001b[0m archive \u001b[39m=\u001b[39m zipfile\u001b[39m.\u001b[39;49mZipFile(result, \u001b[39m\"\u001b[39;49m\u001b[39mr\u001b[39;49m\u001b[39m\"\u001b[39;49m)\n\u001b[1;32m      <a href='vscode-notebook-cell:/Users/dvdblk/Documents/Code/_projects/hack4good-oecd/experiments/alex/pdftriage.ipynb#X11sZmlsZQ%3D%3D?line=1'>2</a>\u001b[0m jsonentry \u001b[39m=\u001b[39m archive\u001b[39m.\u001b[39mopen(\u001b[39m\"\u001b[39m\u001b[39mstructuredData.json\u001b[39m\u001b[39m\"\u001b[39m)\n\u001b[1;32m      <a href='vscode-notebook-cell:/Users/dvdblk/Documents/Code/_projects/hack4good-oecd/experiments/alex/pdftriage.ipynb#X11sZmlsZQ%3D%3D?line=2'>3</a>\u001b[0m jsondata \u001b[39m=\u001b[39m jsonentry\u001b[39m.\u001b[39mread()\n",
      "File \u001b[0;32m~/miniconda/envs/hack4good/lib/python3.11/zipfile.py:1302\u001b[0m, in \u001b[0;36mZipFile.__init__\u001b[0;34m(self, file, mode, compression, allowZip64, compresslevel, strict_timestamps, metadata_encoding)\u001b[0m\n\u001b[1;32m   1300\u001b[0m \u001b[39mtry\u001b[39;00m:\n\u001b[1;32m   1301\u001b[0m     \u001b[39mif\u001b[39;00m mode \u001b[39m==\u001b[39m \u001b[39m'\u001b[39m\u001b[39mr\u001b[39m\u001b[39m'\u001b[39m:\n\u001b[0;32m-> 1302\u001b[0m         \u001b[39mself\u001b[39;49m\u001b[39m.\u001b[39;49m_RealGetContents()\n\u001b[1;32m   1303\u001b[0m     \u001b[39melif\u001b[39;00m mode \u001b[39min\u001b[39;00m (\u001b[39m'\u001b[39m\u001b[39mw\u001b[39m\u001b[39m'\u001b[39m, \u001b[39m'\u001b[39m\u001b[39mx\u001b[39m\u001b[39m'\u001b[39m):\n\u001b[1;32m   1304\u001b[0m         \u001b[39m# set the modified flag so central directory gets written\u001b[39;00m\n\u001b[1;32m   1305\u001b[0m         \u001b[39m# even if no files are added to the archive\u001b[39;00m\n\u001b[1;32m   1306\u001b[0m         \u001b[39mself\u001b[39m\u001b[39m.\u001b[39m_didModify \u001b[39m=\u001b[39m \u001b[39mTrue\u001b[39;00m\n",
      "File \u001b[0;32m~/miniconda/envs/hack4good/lib/python3.11/zipfile.py:1365\u001b[0m, in \u001b[0;36mZipFile._RealGetContents\u001b[0;34m(self)\u001b[0m\n\u001b[1;32m   1363\u001b[0m fp \u001b[39m=\u001b[39m \u001b[39mself\u001b[39m\u001b[39m.\u001b[39mfp\n\u001b[1;32m   1364\u001b[0m \u001b[39mtry\u001b[39;00m:\n\u001b[0;32m-> 1365\u001b[0m     endrec \u001b[39m=\u001b[39m _EndRecData(fp)\n\u001b[1;32m   1366\u001b[0m \u001b[39mexcept\u001b[39;00m \u001b[39mOSError\u001b[39;00m:\n\u001b[1;32m   1367\u001b[0m     \u001b[39mraise\u001b[39;00m BadZipFile(\u001b[39m\"\u001b[39m\u001b[39mFile is not a zip file\u001b[39m\u001b[39m\"\u001b[39m)\n",
      "File \u001b[0;32m~/miniconda/envs/hack4good/lib/python3.11/zipfile.py:292\u001b[0m, in \u001b[0;36m_EndRecData\u001b[0;34m(fpin)\u001b[0m\n\u001b[1;32m    286\u001b[0m \u001b[39m\u001b[39m\u001b[39m\"\"\"Return data from the \"End of Central Directory\" record, or None.\u001b[39;00m\n\u001b[1;32m    287\u001b[0m \n\u001b[1;32m    288\u001b[0m \u001b[39mThe data is a list of the nine items in the ZIP \"End of central dir\"\u001b[39;00m\n\u001b[1;32m    289\u001b[0m \u001b[39mrecord followed by a tenth item, the file seek offset of this record.\"\"\"\u001b[39;00m\n\u001b[1;32m    291\u001b[0m \u001b[39m# Determine file size\u001b[39;00m\n\u001b[0;32m--> 292\u001b[0m fpin\u001b[39m.\u001b[39;49mseek(\u001b[39m0\u001b[39m, \u001b[39m2\u001b[39m)\n\u001b[1;32m    293\u001b[0m filesize \u001b[39m=\u001b[39m fpin\u001b[39m.\u001b[39mtell()\n\u001b[1;32m    295\u001b[0m \u001b[39m# Check to see if this is ZIP file with no archive comment (the\u001b[39;00m\n\u001b[1;32m    296\u001b[0m \u001b[39m# \"end of central directory\" structure should be the last item in the\u001b[39;00m\n\u001b[1;32m    297\u001b[0m \u001b[39m# file if this is the case).\u001b[39;00m\n",
      "\u001b[0;31mAttributeError\u001b[0m: 'FileRefImpl' object has no attribute 'seek'"
     ]
    }
   ],
   "source": [
    "archive = zipfile.ZipFile(result, \"r\")\n",
    "jsonentry = archive.open(\"structuredData.json\")\n",
    "jsondata = jsonentry.read()\n",
    "data = json.loads(jsondata)\n",
    "from pathlib import Path\n",
    "\n",
    "with open(Path(input_pdf).stem + \".json\", \"w\", encoding=\"utf-8\") as f:\n",
    "    json.dump(data, f, indent=4)"
   ]
  },
  {
   "cell_type": "code",
   "execution_count": null,
   "metadata": {},
   "outputs": [],
   "source": []
  }
 ],
 "metadata": {
  "kernelspec": {
   "display_name": "hack4good",
   "language": "python",
   "name": "python3"
  },
  "language_info": {
   "codemirror_mode": {
    "name": "ipython",
    "version": 3
   },
   "file_extension": ".py",
   "mimetype": "text/x-python",
   "name": "python",
   "nbconvert_exporter": "python",
   "pygments_lexer": "ipython3",
   "version": "3.11.5"
  }
 },
 "nbformat": 4,
 "nbformat_minor": 2
}
